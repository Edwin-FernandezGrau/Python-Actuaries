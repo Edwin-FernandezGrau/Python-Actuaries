{
 "cells": [
  {
   "cell_type": "markdown",
   "id": "spatial-planet",
   "metadata": {},
   "source": [
    "\n",
    "# <span style='color:midnightblue'> Python para Actuarios Vida   </span>\n",
    "\n",
    "![ADRISK](Imagenes/KN.png)\n",
    "\n",
    "\n",
    "## <span style='color:midnightblue'> Sesión 03 : Tablas de mortalidad  </span>"
   ]
  },
  {
   "cell_type": "markdown",
   "id": "naughty-tunnel",
   "metadata": {},
   "source": [
    "[...] una herramienta estadística actuarial que permite estimar cuántos años vivirá una persona en promedio dado que alcanzó cierta edad. Con esta herramienta, en el caso de las rentas vitalicias del SPP, se exige a las compañías de seguros que guarden los recursos necesarios para asegurar el pago de la pensión de jubilación, de supervivencia o de invalidez, hasta el\n",
    "último día de la vida de la persona. La actualización de las tablas de mortalidad permiten que la estimación de esos recursos sea lo más exacta posible, y está acorde con las mejores prácticas internacionales ...\n",
    "[Tablas de Mortalidad SBS](https://www.sbs.gob.pe/Portals/0/tmortalidad/documento_metodologico.pdf)"
   ]
  },
  {
   "cell_type": "markdown",
   "id": "classical-infrastructure",
   "metadata": {},
   "source": [
    "### 1. Vida Futura Aleatoria"
   ]
  },
  {
   "cell_type": "markdown",
   "id": "dental-gabriel",
   "metadata": {},
   "source": [
    " \n",
    "- **(x)** denota un individuo de edad **x** en este momento, con **x ≥ 0**.\n",
    "- La variable aleatoria $T_{x}$ es la vida futura de **(x)**.\n",
    "- Por tanto, la edad de fallecimiento de **(x)** es **x + T**.\n"
   ]
  },
  {
   "cell_type": "markdown",
   "id": "elder-bernard",
   "metadata": {},
   "source": [
    "### Tablas de Mortalidad en Python\n",
    "\n",
    "**Human Mortality Database** (HMD, www.mortality.org).\n",
    "\n"
   ]
  },
  {
   "cell_type": "markdown",
   "id": "friendly-evolution",
   "metadata": {},
   "source": [
    "**life_table** contiene la tabla de mortalidad de Belgica ( 2013 - hombres)"
   ]
  },
  {
   "cell_type": "code",
   "execution_count": 1,
   "id": "expired-union",
   "metadata": {},
   "outputs": [],
   "source": [
    "import pandas as pd\n",
    "import numpy as np"
   ]
  },
  {
   "cell_type": "code",
   "execution_count": 2,
   "id": "lucky-berkeley",
   "metadata": {},
   "outputs": [
    {
     "data": {
      "text/html": [
       "<div>\n",
       "<style scoped>\n",
       "    .dataframe tbody tr th:only-of-type {\n",
       "        vertical-align: middle;\n",
       "    }\n",
       "\n",
       "    .dataframe tbody tr th {\n",
       "        vertical-align: top;\n",
       "    }\n",
       "\n",
       "    .dataframe thead th {\n",
       "        text-align: right;\n",
       "    }\n",
       "</style>\n",
       "<table border=\"1\" class=\"dataframe\">\n",
       "  <thead>\n",
       "    <tr style=\"text-align: right;\">\n",
       "      <th></th>\n",
       "      <th>age</th>\n",
       "      <th>qx</th>\n",
       "      <th>lx</th>\n",
       "      <th>ex</th>\n",
       "      <th>dx</th>\n",
       "    </tr>\n",
       "  </thead>\n",
       "  <tbody>\n",
       "    <tr>\n",
       "      <th>0</th>\n",
       "      <td>0</td>\n",
       "      <td>0.00382</td>\n",
       "      <td>100000</td>\n",
       "      <td>77.95</td>\n",
       "      <td>382</td>\n",
       "    </tr>\n",
       "    <tr>\n",
       "      <th>1</th>\n",
       "      <td>1</td>\n",
       "      <td>0.00047</td>\n",
       "      <td>99618</td>\n",
       "      <td>77.25</td>\n",
       "      <td>47</td>\n",
       "    </tr>\n",
       "    <tr>\n",
       "      <th>2</th>\n",
       "      <td>2</td>\n",
       "      <td>0.00019</td>\n",
       "      <td>99572</td>\n",
       "      <td>76.28</td>\n",
       "      <td>19</td>\n",
       "    </tr>\n",
       "    <tr>\n",
       "      <th>3</th>\n",
       "      <td>3</td>\n",
       "      <td>0.00015</td>\n",
       "      <td>99552</td>\n",
       "      <td>75.30</td>\n",
       "      <td>15</td>\n",
       "    </tr>\n",
       "    <tr>\n",
       "      <th>4</th>\n",
       "      <td>4</td>\n",
       "      <td>0.00013</td>\n",
       "      <td>99538</td>\n",
       "      <td>74.31</td>\n",
       "      <td>13</td>\n",
       "    </tr>\n",
       "    <tr>\n",
       "      <th>...</th>\n",
       "      <td>...</td>\n",
       "      <td>...</td>\n",
       "      <td>...</td>\n",
       "      <td>...</td>\n",
       "      <td>...</td>\n",
       "    </tr>\n",
       "    <tr>\n",
       "      <th>106</th>\n",
       "      <td>106</td>\n",
       "      <td>0.52076</td>\n",
       "      <td>15</td>\n",
       "      <td>1.38</td>\n",
       "      <td>8</td>\n",
       "    </tr>\n",
       "    <tr>\n",
       "      <th>107</th>\n",
       "      <td>107</td>\n",
       "      <td>0.53591</td>\n",
       "      <td>7</td>\n",
       "      <td>1.33</td>\n",
       "      <td>4</td>\n",
       "    </tr>\n",
       "    <tr>\n",
       "      <th>108</th>\n",
       "      <td>108</td>\n",
       "      <td>0.54984</td>\n",
       "      <td>3</td>\n",
       "      <td>1.29</td>\n",
       "      <td>2</td>\n",
       "    </tr>\n",
       "    <tr>\n",
       "      <th>109</th>\n",
       "      <td>109</td>\n",
       "      <td>0.56257</td>\n",
       "      <td>2</td>\n",
       "      <td>1.26</td>\n",
       "      <td>1</td>\n",
       "    </tr>\n",
       "    <tr>\n",
       "      <th>110</th>\n",
       "      <td>110</td>\n",
       "      <td>1.00000</td>\n",
       "      <td>1</td>\n",
       "      <td>1.24</td>\n",
       "      <td>1</td>\n",
       "    </tr>\n",
       "  </tbody>\n",
       "</table>\n",
       "<p>111 rows × 5 columns</p>\n",
       "</div>"
      ],
      "text/plain": [
       "     age       qx      lx     ex   dx\n",
       "0      0  0.00382  100000  77.95  382\n",
       "1      1  0.00047   99618  77.25   47\n",
       "2      2  0.00019   99572  76.28   19\n",
       "3      3  0.00015   99552  75.30   15\n",
       "4      4  0.00013   99538  74.31   13\n",
       "..   ...      ...     ...    ...  ...\n",
       "106  106  0.52076      15   1.38    8\n",
       "107  107  0.53591       7   1.33    4\n",
       "108  108  0.54984       3   1.29    2\n",
       "109  109  0.56257       2   1.26    1\n",
       "110  110  1.00000       1   1.24    1\n",
       "\n",
       "[111 rows x 5 columns]"
      ]
     },
     "execution_count": 2,
     "metadata": {},
     "output_type": "execute_result"
    }
   ],
   "source": [
    "life_table = pd.read_excel(\"life_table.xlsx\",engine='openpyxl') \n",
    "life_table"
   ]
  },
  {
   "cell_type": "code",
   "execution_count": 3,
   "id": "silver-presentation",
   "metadata": {},
   "outputs": [
    {
     "data": {
      "text/html": [
       "<div>\n",
       "<style scoped>\n",
       "    .dataframe tbody tr th:only-of-type {\n",
       "        vertical-align: middle;\n",
       "    }\n",
       "\n",
       "    .dataframe tbody tr th {\n",
       "        vertical-align: top;\n",
       "    }\n",
       "\n",
       "    .dataframe thead th {\n",
       "        text-align: right;\n",
       "    }\n",
       "</style>\n",
       "<table border=\"1\" class=\"dataframe\">\n",
       "  <thead>\n",
       "    <tr style=\"text-align: right;\">\n",
       "      <th></th>\n",
       "      <th>Year</th>\n",
       "      <th>Age</th>\n",
       "      <th>mx</th>\n",
       "      <th>qx</th>\n",
       "      <th>ax</th>\n",
       "      <th>lx</th>\n",
       "      <th>dx</th>\n",
       "      <th>Lx</th>\n",
       "      <th>Tx</th>\n",
       "      <th>ex</th>\n",
       "    </tr>\n",
       "  </thead>\n",
       "  <tbody>\n",
       "    <tr>\n",
       "      <th>0</th>\n",
       "      <td>1841</td>\n",
       "      <td>0</td>\n",
       "      <td>0.18652</td>\n",
       "      <td>0.16496</td>\n",
       "      <td>0.30</td>\n",
       "      <td>100000</td>\n",
       "      <td>16496</td>\n",
       "      <td>88439</td>\n",
       "      <td>4031618</td>\n",
       "      <td>40.32</td>\n",
       "    </tr>\n",
       "    <tr>\n",
       "      <th>1</th>\n",
       "      <td>1841</td>\n",
       "      <td>1</td>\n",
       "      <td>0.07413</td>\n",
       "      <td>0.07148</td>\n",
       "      <td>0.50</td>\n",
       "      <td>83504</td>\n",
       "      <td>5969</td>\n",
       "      <td>80520</td>\n",
       "      <td>3943179</td>\n",
       "      <td>47.22</td>\n",
       "    </tr>\n",
       "    <tr>\n",
       "      <th>2</th>\n",
       "      <td>1841</td>\n",
       "      <td>2</td>\n",
       "      <td>0.03983</td>\n",
       "      <td>0.03905</td>\n",
       "      <td>0.50</td>\n",
       "      <td>77536</td>\n",
       "      <td>3028</td>\n",
       "      <td>76022</td>\n",
       "      <td>3862659</td>\n",
       "      <td>49.82</td>\n",
       "    </tr>\n",
       "    <tr>\n",
       "      <th>3</th>\n",
       "      <td>1841</td>\n",
       "      <td>3</td>\n",
       "      <td>0.02333</td>\n",
       "      <td>0.02306</td>\n",
       "      <td>0.50</td>\n",
       "      <td>74508</td>\n",
       "      <td>1718</td>\n",
       "      <td>73648</td>\n",
       "      <td>3786638</td>\n",
       "      <td>50.82</td>\n",
       "    </tr>\n",
       "    <tr>\n",
       "      <th>4</th>\n",
       "      <td>1841</td>\n",
       "      <td>4</td>\n",
       "      <td>0.01707</td>\n",
       "      <td>0.01693</td>\n",
       "      <td>0.50</td>\n",
       "      <td>72789</td>\n",
       "      <td>1232</td>\n",
       "      <td>72173</td>\n",
       "      <td>3712989</td>\n",
       "      <td>51.01</td>\n",
       "    </tr>\n",
       "    <tr>\n",
       "      <th>...</th>\n",
       "      <td>...</td>\n",
       "      <td>...</td>\n",
       "      <td>...</td>\n",
       "      <td>...</td>\n",
       "      <td>...</td>\n",
       "      <td>...</td>\n",
       "      <td>...</td>\n",
       "      <td>...</td>\n",
       "      <td>...</td>\n",
       "      <td>...</td>\n",
       "    </tr>\n",
       "    <tr>\n",
       "      <th>19753</th>\n",
       "      <td>2018</td>\n",
       "      <td>106</td>\n",
       "      <td>0.67756</td>\n",
       "      <td>0.50610</td>\n",
       "      <td>0.50</td>\n",
       "      <td>30</td>\n",
       "      <td>15</td>\n",
       "      <td>22</td>\n",
       "      <td>42</td>\n",
       "      <td>1.43</td>\n",
       "    </tr>\n",
       "    <tr>\n",
       "      <th>19754</th>\n",
       "      <td>2018</td>\n",
       "      <td>107</td>\n",
       "      <td>0.70705</td>\n",
       "      <td>0.52238</td>\n",
       "      <td>0.50</td>\n",
       "      <td>15</td>\n",
       "      <td>8</td>\n",
       "      <td>11</td>\n",
       "      <td>20</td>\n",
       "      <td>1.37</td>\n",
       "    </tr>\n",
       "    <tr>\n",
       "      <th>19755</th>\n",
       "      <td>2018</td>\n",
       "      <td>108</td>\n",
       "      <td>0.73490</td>\n",
       "      <td>0.53742</td>\n",
       "      <td>0.50</td>\n",
       "      <td>7</td>\n",
       "      <td>4</td>\n",
       "      <td>5</td>\n",
       "      <td>9</td>\n",
       "      <td>1.33</td>\n",
       "    </tr>\n",
       "    <tr>\n",
       "      <th>19756</th>\n",
       "      <td>2018</td>\n",
       "      <td>109</td>\n",
       "      <td>0.76099</td>\n",
       "      <td>0.55125</td>\n",
       "      <td>0.50</td>\n",
       "      <td>3</td>\n",
       "      <td>2</td>\n",
       "      <td>2</td>\n",
       "      <td>4</td>\n",
       "      <td>1.30</td>\n",
       "    </tr>\n",
       "    <tr>\n",
       "      <th>19757</th>\n",
       "      <td>2018</td>\n",
       "      <td>110+</td>\n",
       "      <td>0.78527</td>\n",
       "      <td>1.00000</td>\n",
       "      <td>1.27</td>\n",
       "      <td>1</td>\n",
       "      <td>1</td>\n",
       "      <td>2</td>\n",
       "      <td>2</td>\n",
       "      <td>1.27</td>\n",
       "    </tr>\n",
       "  </tbody>\n",
       "</table>\n",
       "<p>19758 rows × 10 columns</p>\n",
       "</div>"
      ],
      "text/plain": [
       "       Year   Age       mx       qx    ax      lx     dx     Lx       Tx  \\\n",
       "0      1841     0  0.18652  0.16496  0.30  100000  16496  88439  4031618   \n",
       "1      1841     1  0.07413  0.07148  0.50   83504   5969  80520  3943179   \n",
       "2      1841     2  0.03983  0.03905  0.50   77536   3028  76022  3862659   \n",
       "3      1841     3  0.02333  0.02306  0.50   74508   1718  73648  3786638   \n",
       "4      1841     4  0.01707  0.01693  0.50   72789   1232  72173  3712989   \n",
       "...     ...   ...      ...      ...   ...     ...    ...    ...      ...   \n",
       "19753  2018   106  0.67756  0.50610  0.50      30     15     22       42   \n",
       "19754  2018   107  0.70705  0.52238  0.50      15      8     11       20   \n",
       "19755  2018   108  0.73490  0.53742  0.50       7      4      5        9   \n",
       "19756  2018   109  0.76099  0.55125  0.50       3      2      2        4   \n",
       "19757  2018  110+  0.78527  1.00000  1.27       1      1      2        2   \n",
       "\n",
       "          ex  \n",
       "0      40.32  \n",
       "1      47.22  \n",
       "2      49.82  \n",
       "3      50.82  \n",
       "4      51.01  \n",
       "...      ...  \n",
       "19753   1.43  \n",
       "19754   1.37  \n",
       "19755   1.33  \n",
       "19756   1.30  \n",
       "19757   1.27  \n",
       "\n",
       "[19758 rows x 10 columns]"
      ]
     },
     "execution_count": 3,
     "metadata": {},
     "output_type": "execute_result"
    }
   ],
   "source": [
    "life_table_m = pd.read_csv(\"mltper_1x1.txt\",header = 1, delimiter= '\\s+') \n",
    "life_table_m\n"
   ]
  },
  {
   "cell_type": "code",
   "execution_count": 4,
   "id": "provincial-grace",
   "metadata": {},
   "outputs": [
    {
     "data": {
      "text/plain": [
       "Index(['age', 'qx', 'lx', 'ex', 'dx'], dtype='object')"
      ]
     },
     "execution_count": 4,
     "metadata": {},
     "output_type": "execute_result"
    }
   ],
   "source": [
    "#trabajaremos con life_table\n",
    "#primero conoceremos la data\n",
    "life_table.head()\n",
    "life_table.tail()\n",
    "life_table.sum\n",
    "life_table.columns"
   ]
  },
  {
   "cell_type": "markdown",
   "id": "undefined-parking",
   "metadata": {},
   "source": [
    "### Tasas de mortalidad y probabilidades de supervivencia"
   ]
  },
  {
   "cell_type": "markdown",
   "id": "loved-favor",
   "metadata": {},
   "source": [
    "La probabilidad de morir en un año es :   $q_{x} =  Pr (T_{x}≤ 1) $\n",
    "\n",
    "- $q_{x}$ es la tasa de mortalidad a la edad **x**.\n",
    "\n",
    "La probabilidad de sobrevivir un año es :   $p_{x} =  Pr (T_{x}> 1) $\n",
    "\n",
    "- Por lo tanto, $p_{x}$ es  a  $(1- q_{x})$.\n"
   ]
  },
  {
   "cell_type": "code",
   "execution_count": 5,
   "id": "threatened-samba",
   "metadata": {},
   "outputs": [],
   "source": [
    "#cuando el nombre de la columna no tiene espacio se le puede con tabla[\"nombrecolumna\"] o tabla.nombrecolumna"
   ]
  },
  {
   "cell_type": "code",
   "execution_count": 6,
   "id": "injured-practice",
   "metadata": {
    "scrolled": true
   },
   "outputs": [
    {
     "data": {
      "text/plain": [
       "0      0.00382\n",
       "1      0.00047\n",
       "2      0.00019\n",
       "3      0.00015\n",
       "4      0.00013\n",
       "        ...   \n",
       "106    0.52076\n",
       "107    0.53591\n",
       "108    0.54984\n",
       "109    0.56257\n",
       "110    1.00000\n",
       "Name: qx, Length: 111, dtype: float64"
      ]
     },
     "execution_count": 6,
     "metadata": {},
     "output_type": "execute_result"
    }
   ],
   "source": [
    "life_table.qx"
   ]
  },
  {
   "cell_type": "code",
   "execution_count": 7,
   "id": "chicken-banks",
   "metadata": {},
   "outputs": [
    {
     "data": {
      "text/plain": [
       "0      0.00382\n",
       "1      0.00047\n",
       "2      0.00019\n",
       "3      0.00015\n",
       "4      0.00013\n",
       "        ...   \n",
       "106    0.52076\n",
       "107    0.53591\n",
       "108    0.54984\n",
       "109    0.56257\n",
       "110    1.00000\n",
       "Name: qx, Length: 111, dtype: float64"
      ]
     },
     "execution_count": 7,
     "metadata": {},
     "output_type": "execute_result"
    }
   ],
   "source": [
    "life_table[\"qx\"]"
   ]
  },
  {
   "cell_type": "code",
   "execution_count": 8,
   "id": "eleven-spoke",
   "metadata": {},
   "outputs": [],
   "source": [
    "# Renombramos  el acceso a las columnas para faciliarnos\n",
    "qx =life_table.qx\n",
    "age = life_table.age\n",
    "ex = life_table.ex\n",
    "lx = life_table.lx\n",
    "dx = life_table.dx\n",
    "px = 1-qx"
   ]
  },
  {
   "cell_type": "code",
   "execution_count": 9,
   "id": "subsequent-elite",
   "metadata": {},
   "outputs": [
    {
     "data": {
      "text/plain": [
       "0      0.00382\n",
       "1      0.00047\n",
       "2      0.00019\n",
       "3      0.00015\n",
       "4      0.00013\n",
       "        ...   \n",
       "106    0.52076\n",
       "107    0.53591\n",
       "108    0.54984\n",
       "109    0.56257\n",
       "110    1.00000\n",
       "Name: qx, Length: 111, dtype: float64"
      ]
     },
     "execution_count": 9,
     "metadata": {},
     "output_type": "execute_result"
    }
   ],
   "source": [
    "qx"
   ]
  },
  {
   "cell_type": "markdown",
   "id": "satellite-night",
   "metadata": {},
   "source": [
    "### Ejercicio 01\n",
    "Romelu Lukaku es un futbolista belga que juega como delantero en el Inter de Milán y tiene 27 años"
   ]
  },
  {
   "cell_type": "code",
   "execution_count": 10,
   "id": "supreme-brunei",
   "metadata": {},
   "outputs": [
    {
     "data": {
      "text/plain": [
       "27    0.00062\n",
       "Name: qx, dtype: float64"
      ]
     },
     "execution_count": 10,
     "metadata": {},
     "output_type": "execute_result"
    }
   ],
   "source": [
    "#forma uno filtrar la edad\n",
    "qx [age == 27]"
   ]
  },
  {
   "cell_type": "code",
   "execution_count": 11,
   "id": "logical-sample",
   "metadata": {},
   "outputs": [
    {
     "data": {
      "text/plain": [
       "0.00062"
      ]
     },
     "execution_count": 11,
     "metadata": {},
     "output_type": "execute_result"
    }
   ],
   "source": [
    "#filtrar el index dado que es igual la edad\n",
    "qx [27]"
   ]
  },
  {
   "cell_type": "markdown",
   "id": "mediterranean-dictionary",
   "metadata": {},
   "source": [
    "### Ejercicio 02\n",
    "Eddy Merckx es un ciclista belga que ganó el Tour de Francia 5 veces y 72"
   ]
  },
  {
   "cell_type": "code",
   "execution_count": 12,
   "id": "several-token",
   "metadata": {},
   "outputs": [
    {
     "data": {
      "text/plain": [
       "72    0.02703\n",
       "Name: qx, dtype: float64"
      ]
     },
     "execution_count": 12,
     "metadata": {},
     "output_type": "execute_result"
    }
   ],
   "source": [
    "#forma uno filtrar la edad\n",
    "qx[age == 72]"
   ]
  },
  {
   "cell_type": "code",
   "execution_count": 13,
   "id": "sized-monitoring",
   "metadata": {},
   "outputs": [
    {
     "data": {
      "text/plain": [
       "0.02703"
      ]
     },
     "execution_count": 13,
     "metadata": {},
     "output_type": "execute_result"
    }
   ],
   "source": [
    "#filtrar el index dado que es igual la edad\n",
    "qx [72]"
   ]
  },
  {
   "cell_type": "markdown",
   "id": "large-service",
   "metadata": {},
   "source": [
    "### Graficamos las tasas de mortalidad belgas  $q_{x}$ en Python"
   ]
  },
  {
   "cell_type": "code",
   "execution_count": 14,
   "id": "fundamental-latest",
   "metadata": {},
   "outputs": [
    {
     "data": {
      "image/png": "[encoded data removed]",
      "text/plain": [
       "<Figure size 432x288 with 1 Axes>"
      ]
     },
     "metadata": {
      "needs_background": "light"
     },
     "output_type": "display_data"
    }
   ],
   "source": [
    "import matplotlib.pyplot as plt  # podemos colocarlo al inicio\n",
    "\n",
    "\n",
    "## Graficamos el ratio de mortalidad por año\n",
    "\n",
    "plt.plot(age,qx, color = \"red\", linestyle = \"--\")\n",
    "\n",
    "## Add labels\n",
    "plt.xlabel(\"Age X\")            \n",
    "plt.ylabel(\"Mortality rate $q_{x}$\" )    #plt.ylabel(\"Mortality rate q[x]\" )\n",
    "#   $q_{x}$  para que el x se exprese como subindice\n",
    "\n",
    "plt.title(\"Mortality rates (Belgium, males, 2013)\")\n",
    "\n",
    "# show plot\n",
    "plt.show()"
   ]
  },
  {
   "cell_type": "markdown",
   "id": "collectible-seller",
   "metadata": {},
   "source": [
    "### Graficamos el log de  las tasas de mortalidad belgas  $q_{x}$ en Python"
   ]
  },
  {
   "cell_type": "code",
   "execution_count": 15,
   "id": "guided-dealer",
   "metadata": {},
   "outputs": [
    {
     "data": {
      "image/png": "[encoded data removed]",
      "text/plain": [
       "<Figure size 432x288 with 1 Axes>"
      ]
     },
     "metadata": {
      "needs_background": "light"
     },
     "output_type": "display_data"
    }
   ],
   "source": [
    "plt.plot(age,np.log(qx), color = \"blue\", linestyle = \"--\")\n",
    "\n",
    "## Add labels\n",
    "plt.xlabel(\"Age X\")            \n",
    "plt.ylabel(\"Log Mortality rate $q_{x}$\" )    #plt.ylabel(\"Mortality rate q[x]\" )\n",
    "#   $q_{x}$  para que el x se exprese como subindice\n",
    "\n",
    "plt.title(\"Log Mortality rates (Belgium, males, 2013)\")\n",
    "\n",
    "# show plot\n",
    "plt.show()"
   ]
  },
  {
   "cell_type": "markdown",
   "id": "stupid-motion",
   "metadata": {},
   "source": [
    "**Nótese:**\n",
    "1. Mortalidad infantil\n",
    "2. incremento por accidentes\n",
    "3. proceso de envejecimiento"
   ]
  },
  {
   "cell_type": "code",
   "execution_count": 16,
   "id": "downtown-actress",
   "metadata": {},
   "outputs": [
    {
     "data": {
      "image/png": "[encoded data removed]",
      "text/plain": [
       "<Figure size 432x288 with 1 Axes>"
      ]
     },
     "metadata": {
      "needs_background": "light"
     },
     "output_type": "display_data"
    }
   ],
   "source": [
    "## Graficamos el qx y px\n",
    "\n",
    "plt.plot(age,qx, color = \"red\", linestyle = \"--\")\n",
    "plt.plot(age,px, color = \"blue\", linestyle = \"--\")\n",
    "\n",
    "## Add labels\n",
    "plt.xlabel(\"Age X\")            \n",
    "plt.ylabel(\"Mortality rate $q_{x}$\" )    #plt.ylabel(\"Mortality rate q[x]\" )\n",
    "#   $q_{x}$  para que el x se exprese como subindice\n",
    "\n",
    "plt.title(\"Mortality rates (Belgium, males, 2013)\")\n",
    "\n",
    "# show plot\n",
    "plt.show()"
   ]
  },
  {
   "cell_type": "markdown",
   "id": "neutral-benefit",
   "metadata": {},
   "source": [
    "### La esperanza de vida\n",
    "\n",
    "La esperanza de vida futura (completa) de $(x)$ es $E [T_{x}] $\n",
    "\n",
    "Para Romelu Lukaku, quien tiene 27 años, es :"
   ]
  },
  {
   "cell_type": "code",
   "execution_count": 17,
   "id": "dutch-profile",
   "metadata": {},
   "outputs": [
    {
     "data": {
      "text/plain": [
       "51.74"
      ]
     },
     "execution_count": 17,
     "metadata": {},
     "output_type": "execute_result"
    }
   ],
   "source": [
    "ex[27]"
   ]
  },
  {
   "cell_type": "code",
   "execution_count": 18,
   "id": "instant-addiction",
   "metadata": {},
   "outputs": [
    {
     "data": {
      "text/plain": [
       "27    51.74\n",
       "Name: ex, dtype: float64"
      ]
     },
     "execution_count": 18,
     "metadata": {},
     "output_type": "execute_result"
    }
   ],
   "source": [
    "ex[age == 27]"
   ]
  },
  {
   "cell_type": "markdown",
   "id": "prerequisite-greene",
   "metadata": {},
   "source": [
    "Para Eddy Merckx, quien tiene 72 años, es :"
   ]
  },
  {
   "cell_type": "code",
   "execution_count": 19,
   "id": "victorian-nitrogen",
   "metadata": {},
   "outputs": [
    {
     "data": {
      "text/plain": [
       "72    12.67\n",
       "Name: ex, dtype: float64"
      ]
     },
     "execution_count": 19,
     "metadata": {},
     "output_type": "execute_result"
    }
   ],
   "source": [
    "ex[72]\n",
    "ex[age == 72]"
   ]
  },
  {
   "cell_type": "markdown",
   "id": "experienced-geometry",
   "metadata": {},
   "source": [
    "### Graficando a esperanza de vida en Python"
   ]
  },
  {
   "cell_type": "code",
   "execution_count": 20,
   "id": "leading-paragraph",
   "metadata": {},
   "outputs": [
    {
     "data": {
      "image/png": "[encoded data removed]",
      "text/plain": [
       "<Figure size 432x288 with 1 Axes>"
      ]
     },
     "metadata": {
      "needs_background": "light"
     },
     "output_type": "display_data"
    }
   ],
   "source": [
    "## Graficamos el ratio de mortalidad por año y exp vida con ejes y doble\n",
    "\n",
    "plt.plot(age,ex, color = \"green\", linestyle = \"--\")\n",
    "## Add labels\n",
    "plt.xlabel(\"Age X\")            \n",
    "plt.ylabel(\" $e_{x}$\" )    \n",
    "\n",
    "plt.title(\"Esperanza de vida (Belgium, males, 2013)\")\n",
    "\n",
    "# show plot\n",
    "plt.show()\n"
   ]
  },
  {
   "cell_type": "code",
   "execution_count": 21,
   "id": "recorded-martin",
   "metadata": {},
   "outputs": [
    {
     "data": {
      "image/png": "[encoded data removed]",
      "text/plain": [
       "<Figure size 432x288 with 2 Axes>"
      ]
     },
     "metadata": {
      "needs_background": "light"
     },
     "output_type": "display_data"
    }
   ],
   "source": [
    "## Graficamos el ratio de mortalidad por año y exp vida con ejes y doble\n",
    "\n",
    "fig, ax1 = plt.subplots()\n",
    "ax2 = ax1.twinx()\n",
    "\n",
    "curve1 = ax1.plot( age,qx, label=\"qx\",color = \"red\")\n",
    "curve2 = ax2.plot(age,ex, label=\"ex\",color = \"green\")\n",
    "curves = [curve1, curve2]\n",
    "\n",
    "ax1.legend(loc='upper right')\n",
    "ax2.legend(loc='upper left')\n",
    "#ax1.legend(loc='upper center', shadow=True, fontsize='x-large')\n",
    "          \n",
    "plt.title(\"Mortality rates and ex (Belgium, males, 2013)\")\n",
    "plt.show()"
   ]
  },
  {
   "cell_type": "markdown",
   "id": "pretty-rachel",
   "metadata": {},
   "source": [
    "### Experimentos binomiales"
   ]
  },
  {
   "cell_type": "markdown",
   "id": "mounted-motorcycle",
   "metadata": {},
   "source": [
    "### Un experimento binomial: sobrevivir un año.   \n",
    "El número de supervivientes hasta la edad $(x + 1)$ sigue un $BIN (ℓ_{x}, p_{x})$."
   ]
  },
  {
   "cell_type": "code",
   "execution_count": 22,
   "id": "green-kelly",
   "metadata": {},
   "outputs": [
    {
     "data": {
      "text/plain": [
       "100000"
      ]
     },
     "execution_count": 22,
     "metadata": {},
     "output_type": "execute_result"
    }
   ],
   "source": [
    "lx[0]\n"
   ]
  },
  {
   "cell_type": "code",
   "execution_count": 23,
   "id": "declared-picking",
   "metadata": {},
   "outputs": [
    {
     "data": {
      "text/plain": [
       "0    100000\n",
       "Name: lx, dtype: int64"
      ]
     },
     "execution_count": 23,
     "metadata": {},
     "output_type": "execute_result"
    }
   ],
   "source": [
    "lx[age==0]\n"
   ]
  },
  {
   "cell_type": "code",
   "execution_count": 24,
   "id": "original-edward",
   "metadata": {},
   "outputs": [
    {
     "data": {
      "text/plain": [
       "73991"
      ]
     },
     "execution_count": 24,
     "metadata": {},
     "output_type": "execute_result"
    }
   ],
   "source": [
    "lx [72]"
   ]
  },
  {
   "cell_type": "code",
   "execution_count": 25,
   "id": "congressional-athens",
   "metadata": {},
   "outputs": [
    {
     "data": {
      "text/plain": [
       "72    73991\n",
       "Name: lx, dtype: int64"
      ]
     },
     "execution_count": 25,
     "metadata": {},
     "output_type": "execute_result"
    }
   ],
   "source": [
    "lx[age==72]"
   ]
  },
  {
   "cell_type": "code",
   "execution_count": 26,
   "id": "charged-fortune",
   "metadata": {},
   "outputs": [
    {
     "data": {
      "text/plain": [
       "0.97297"
      ]
     },
     "execution_count": 26,
     "metadata": {},
     "output_type": "execute_result"
    }
   ],
   "source": [
    "px [72]"
   ]
  },
  {
   "cell_type": "code",
   "execution_count": 27,
   "id": "motivated-acceptance",
   "metadata": {},
   "outputs": [
    {
     "data": {
      "text/plain": [
       "71991.02327"
      ]
     },
     "execution_count": 27,
     "metadata": {},
     "output_type": "execute_result"
    }
   ],
   "source": [
    "px[72]*lx[72]"
   ]
  },
  {
   "cell_type": "code",
   "execution_count": 28,
   "id": "noted-uncertainty",
   "metadata": {},
   "outputs": [],
   "source": [
    "from scipy.stats import binom\n"
   ]
  },
  {
   "cell_type": "code",
   "execution_count": 29,
   "id": "young-converter",
   "metadata": {},
   "outputs": [
    {
     "name": "stdout",
     "output_type": "stream",
     "text": [
      "[1 1 1 ... 1 1 1]\n",
      "71940\n"
     ]
    }
   ],
   "source": [
    "sim0 = binom.rvs(n = 1 , p = px[72] , size = lx [72])   #rvs : Random variates.\n",
    "\n",
    "print(sim0)\n",
    "print(sum(sim0))"
   ]
  },
  {
   "cell_type": "code",
   "execution_count": null,
   "id": "radio-nerve",
   "metadata": {
    "scrolled": true
   },
   "outputs": [],
   "source": []
  },
  {
   "cell_type": "code",
   "execution_count": 30,
   "id": "decreased-apartment",
   "metadata": {},
   "outputs": [
    {
     "name": "stdout",
     "output_type": "stream",
     "text": [
      "[1 1 1 ... 1 1 1]\n",
      "71952\n"
     ]
    }
   ],
   "source": [
    " # metodo 2\n",
    "sim1 = np.random.binomial(n = 1 , p = px[72] , size = lx [72])\n",
    "print(sim1)\n",
    "print(sum(sim1))"
   ]
  },
  {
   "cell_type": "markdown",
   "id": "external-representation",
   "metadata": {},
   "source": [
    "### Un experimento binomial: sobrevivir k años \n",
    "\n",
    "El número de supervivientes de 1 año sigue un $BIN (ℓ_{x}, p_{x})$.   \n",
    "Valor esperado:   \n",
    "        $ℓ_{x +1} = ℓ_{x} ⋅ p_{x}$   \n",
    "\n",
    "El número de supervivientes de k años sigue un $BIN (ℓ_{k}, _{k}p_{x})$.    \n",
    "Valor esperado:   \n",
    "        $ℓ_{x +k} = ℓ_{x} ⋅ _{k}p_{x}$    \n",
    "\n",
    "Por lo tanto:    \n",
    "        $_{k}p_{x} = ℓ_{x +k} \\div ℓ_{x} $   \n",
    "        \n",
    "\n",
    "\n",
    "El número de muertes sigue a un $BIN (ℓ_{x}, q_{x})$.   \n",
    "\n",
    "\n",
    "Valor esperado:   \n",
    "    $d_{x} = ℓ_{x} ⋅ q_{x}$    \n",
    "    $d_{x} = ℓ_{x} ⋅(1- p_{x})$    \n",
    "     $d_{x} = ℓ_{x} -  ℓ_{x+1}$\n",
    "\n"
   ]
  },
  {
   "cell_type": "code",
   "execution_count": 31,
   "id": "other-beijing",
   "metadata": {},
   "outputs": [
    {
     "data": {
      "text/plain": [
       "2000"
      ]
     },
     "execution_count": 31,
     "metadata": {},
     "output_type": "execute_result"
    }
   ],
   "source": [
    "dx[72]\n"
   ]
  },
  {
   "cell_type": "code",
   "execution_count": 32,
   "id": "artistic-picking",
   "metadata": {},
   "outputs": [
    {
     "data": {
      "text/plain": [
       "72    2000\n",
       "Name: dx, dtype: int64"
      ]
     },
     "execution_count": 32,
     "metadata": {},
     "output_type": "execute_result"
    }
   ],
   "source": [
    "dx[age==72]\n"
   ]
  },
  {
   "cell_type": "code",
   "execution_count": 33,
   "id": "south-morrison",
   "metadata": {},
   "outputs": [
    {
     "data": {
      "text/plain": [
       "2000"
      ]
     },
     "execution_count": 33,
     "metadata": {},
     "output_type": "execute_result"
    }
   ],
   "source": [
    "lx[72] - lx[73]"
   ]
  },
  {
   "cell_type": "markdown",
   "id": "professional-equity",
   "metadata": {},
   "source": [
    "Calcule  $_{5}p_{65} = ℓ_{70}/ℓ_{65}$"
   ]
  },
  {
   "cell_type": "code",
   "execution_count": 34,
   "id": "dominant-omega",
   "metadata": {},
   "outputs": [
    {
     "data": {
      "text/plain": [
       "0.9145969498910675"
      ]
     },
     "execution_count": 34,
     "metadata": {},
     "output_type": "execute_result"
    }
   ],
   "source": [
    "# Probabilidad de que (65) sobreviva 5 años más\n",
    "lx[70]/lx[65]"
   ]
  },
  {
   "cell_type": "code",
   "execution_count": 35,
   "id": "wireless-march",
   "metadata": {},
   "outputs": [
    {
     "data": {
      "text/plain": [
       "0.9145969498910675"
      ]
     },
     "execution_count": 35,
     "metadata": {},
     "output_type": "execute_result"
    }
   ],
   "source": [
    "p65_5 = (lx[age==70].values/lx[age==65]).item()\n",
    "p65_5"
   ]
  },
  {
   "cell_type": "markdown",
   "id": "rough-resource",
   "metadata": {},
   "source": [
    "### Graficando probabilidades de supervivencia en Python\n",
    "\n",
    "Probabilidad de que **(65)** sobreviva hasta los  **65 años + k**\n"
   ]
  },
  {
   "cell_type": "code",
   "execution_count": 36,
   "id": "destroyed-vintage",
   "metadata": {},
   "outputs": [
    {
     "data": {
      "text/plain": [
       "0      0\n",
       "1      1\n",
       "2      2\n",
       "3      3\n",
       "4      4\n",
       "5      5\n",
       "6      6\n",
       "7      7\n",
       "8      8\n",
       "9      9\n",
       "10    10\n",
       "11    11\n",
       "12    12\n",
       "13    13\n",
       "14    14\n",
       "15    15\n",
       "16    16\n",
       "17    17\n",
       "18    18\n",
       "19    19\n",
       "20    20\n",
       "21    21\n",
       "22    22\n",
       "23    23\n",
       "24    24\n",
       "25    25\n",
       "26    26\n",
       "27    27\n",
       "28    28\n",
       "29    29\n",
       "30    30\n",
       "31    31\n",
       "32    32\n",
       "33    33\n",
       "34    34\n",
       "35    35\n",
       "36    36\n",
       "37    37\n",
       "38    38\n",
       "39    39\n",
       "40    40\n",
       "41    41\n",
       "42    42\n",
       "43    43\n",
       "44    44\n",
       "45    45\n",
       "dtype: int64"
      ]
     },
     "execution_count": 36,
     "metadata": {},
     "output_type": "execute_result"
    }
   ],
   "source": [
    "k = pd.Series(range(0,45+1,1)) \n",
    "k"
   ]
  },
  {
   "cell_type": "code",
   "execution_count": 37,
   "id": "seven-blade",
   "metadata": {},
   "outputs": [
    {
     "data": {
      "text/plain": [
       "65     1.000000\n",
       "66     0.984832\n",
       "67     0.968368\n",
       "68     0.951964\n",
       "69     0.933687\n",
       "70     0.914597\n",
       "71     0.893694\n",
       "72     0.871354\n",
       "73     0.847801\n",
       "74     0.822222\n",
       "75     0.795089\n",
       "76     0.767179\n",
       "77     0.736501\n",
       "78     0.703880\n",
       "79     0.669611\n",
       "80     0.633304\n",
       "81     0.595525\n",
       "82     0.555391\n",
       "83     0.513914\n",
       "84     0.470400\n",
       "85     0.424578\n",
       "86     0.377048\n",
       "87     0.330012\n",
       "88     0.284072\n",
       "89     0.240841\n",
       "90     0.199494\n",
       "91     0.162881\n",
       "92     0.130978\n",
       "93     0.101125\n",
       "94     0.075629\n",
       "95     0.055550\n",
       "96     0.039322\n",
       "97     0.026933\n",
       "98     0.017830\n",
       "99     0.011400\n",
       "100    0.007019\n",
       "101    0.004169\n",
       "102    0.002391\n",
       "103    0.001319\n",
       "104    0.000707\n",
       "105    0.000365\n",
       "106    0.000177\n",
       "107    0.000082\n",
       "108    0.000035\n",
       "109    0.000024\n",
       "110    0.000012\n",
       "Name: lx, dtype: float64"
      ]
     },
     "execution_count": 37,
     "metadata": {},
     "output_type": "execute_result"
    }
   ],
   "source": [
    "lx[65+k]/lx[65]\n"
   ]
  },
  {
   "cell_type": "code",
   "execution_count": 38,
   "id": "contained-queens",
   "metadata": {},
   "outputs": [
    {
     "data": {
      "image/png": "[encoded data removed]",
      "text/plain": [
       "<Figure size 432x288 with 1 Axes>"
      ]
     },
     "metadata": {
      "needs_background": "light"
     },
     "output_type": "display_data"
    }
   ],
   "source": [
    "plt.plot(k,lx[65+k]/lx[65],color = \"darkcyan\")\n",
    "plt.xlabel(\"K\")            \n",
    "plt.ylabel(\"$_{K}q_{65}$\" )\n",
    "plt.title(\"Probability that (65) survives to age 65 + k\")\n",
    "plt.show()"
   ]
  },
  {
   "cell_type": "markdown",
   "id": "fuzzy-catering",
   "metadata": {},
   "source": [
    "#### Caso 01:\n",
    "calcular la probabilidad de que **(0)** alcance la **edad de 100**"
   ]
  },
  {
   "cell_type": "code",
   "execution_count": 39,
   "id": "defined-thread",
   "metadata": {},
   "outputs": [
    {
     "data": {
      "text/plain": [
       "0.00596"
      ]
     },
     "execution_count": 39,
     "metadata": {},
     "output_type": "execute_result"
    }
   ],
   "source": [
    "lx[100]/lx[0]\n"
   ]
  },
  {
   "cell_type": "markdown",
   "id": "noted-rating",
   "metadata": {},
   "source": [
    "#### Caso 02:\n",
    "calcular la probabilidad de que **(18)** alcance la **edad de 100**"
   ]
  },
  {
   "cell_type": "code",
   "execution_count": 40,
   "id": "robust-hindu",
   "metadata": {},
   "outputs": [
    {
     "data": {
      "text/plain": [
       "0.00599808785789765"
      ]
     },
     "execution_count": 40,
     "metadata": {},
     "output_type": "execute_result"
    }
   ],
   "source": [
    "lx[100]/lx[18]"
   ]
  },
  {
   "cell_type": "markdown",
   "id": "utility-vacation",
   "metadata": {},
   "source": [
    "#### Caso 03:\n",
    "Grafique las probabilidades de supervivencia para (18) hasta los 100 años"
   ]
  },
  {
   "cell_type": "code",
   "execution_count": 41,
   "id": "resistant-monster",
   "metadata": {},
   "outputs": [
    {
     "data": {
      "text/plain": [
       "0      0\n",
       "1      1\n",
       "2      2\n",
       "3      3\n",
       "4      4\n",
       "      ..\n",
       "78    78\n",
       "79    79\n",
       "80    80\n",
       "81    81\n",
       "82    82\n",
       "Length: 83, dtype: int64"
      ]
     },
     "execution_count": 41,
     "metadata": {},
     "output_type": "execute_result"
    }
   ],
   "source": [
    "k = pd.Series(range(0,(100-18)+1,1))\n",
    "k"
   ]
  },
  {
   "cell_type": "code",
   "execution_count": 42,
   "id": "attractive-fossil",
   "metadata": {},
   "outputs": [],
   "source": [
    "# Plot the survival probabilties for (18) up to age 100\n"
   ]
  },
  {
   "cell_type": "code",
   "execution_count": 43,
   "id": "piano-spencer",
   "metadata": {},
   "outputs": [
    {
     "data": {
      "text/plain": [
       "18     1.000000\n",
       "19     0.999577\n",
       "20     0.998994\n",
       "21     0.998319\n",
       "22     0.997645\n",
       "         ...   \n",
       "96     0.033603\n",
       "97     0.023016\n",
       "98     0.015237\n",
       "99     0.009742\n",
       "100    0.005998\n",
       "Name: lx, Length: 83, dtype: float64"
      ]
     },
     "execution_count": 43,
     "metadata": {},
     "output_type": "execute_result"
    }
   ],
   "source": [
    "lx[18+k]/lx[18]\n"
   ]
  },
  {
   "cell_type": "code",
   "execution_count": 44,
   "id": "expired-workshop",
   "metadata": {},
   "outputs": [
    {
     "data": {
      "image/png": "[encoded data removed]",
      "text/plain": [
       "<Figure size 432x288 with 1 Axes>"
      ]
     },
     "metadata": {
      "needs_background": "light"
     },
     "output_type": "display_data"
    }
   ],
   "source": [
    "plt.plot(k,lx[18+k]/lx[18],color = \"steelblue\", linestyle = \"--\")\n",
    "plt.xlabel(\"K\")            \n",
    "plt.ylabel(\"$_{K}q_{18}$\" )\n",
    "plt.title(\"Survival probabilities for (18)\")\n",
    "plt.savefig(\"Kq18.png\")\n",
    "plt.show()"
   ]
  },
  {
   "cell_type": "markdown",
   "id": "oriental-chassis",
   "metadata": {},
   "source": [
    "#### Caso 04:\n",
    "Grafique el número de muertes $d_{x}$ por edad"
   ]
  },
  {
   "cell_type": "code",
   "execution_count": 45,
   "id": "excess-australia",
   "metadata": {},
   "outputs": [
    {
     "data": {
      "text/plain": [
       "<AxesSubplot:title={'center':'Número de muertes (Belgica, hombres, 2013)'}, xlabel='age'>"
      ]
     },
     "execution_count": 45,
     "metadata": {},
     "output_type": "execute_result"
    },
    {
     "data": {
      "image/png": "[encoded data removed]",
      "text/plain": [
       "<Figure size 432x288 with 1 Axes>"
      ]
     },
     "metadata": {
      "needs_background": "light"
     },
     "output_type": "display_data"
    }
   ],
   "source": [
    "#metodo por dataframe\n",
    "\n",
    "life_table.plot(x = \"age\", y = \"dx\" , \n",
    "                kind =\"bar\",color = \"blue\",\n",
    "                title = \"Número de muertes (Belgica, hombres, 2013)\" )\n"
   ]
  },
  {
   "cell_type": "code",
   "execution_count": 46,
   "id": "unnecessary-washer",
   "metadata": {},
   "outputs": [
    {
     "data": {
      "image/png": "[encoded data removed]",
      "text/plain": [
       "<Figure size 432x288 with 1 Axes>"
      ]
     },
     "metadata": {
      "needs_background": "light"
     },
     "output_type": "display_data"
    }
   ],
   "source": [
    "#metodo por stemplot\n",
    "\n",
    "plt.stem(age, dx)\n",
    "plt.show()"
   ]
  },
  {
   "cell_type": "code",
   "execution_count": 47,
   "id": "least-satisfaction",
   "metadata": {},
   "outputs": [
    {
     "data": {
      "image/png": "[encoded data removed]",
      "text/plain": [
       "<Figure size 432x288 with 1 Axes>"
      ]
     },
     "metadata": {
      "needs_background": "light"
     },
     "output_type": "display_data"
    }
   ],
   "source": [
    "#metodo por barras\n",
    "\n",
    "fig, ax1 = plt.subplots()\n",
    "ax1.bar(age,dx)\n",
    "plt.xlabel(\"Age X\")            \n",
    "plt.ylabel(\"$d_{X}$\" )\n",
    "plt.title(\"Número de muertes (Belgica, hombres, 2013)\")\n",
    "plt.show()"
   ]
  },
  {
   "cell_type": "code",
   "execution_count": 48,
   "id": "difficult-fellow",
   "metadata": {},
   "outputs": [
    {
     "data": {
      "image/png": "[encoded data removed]",
      "text/plain": [
       "<Figure size 432x288 with 1 Axes>"
      ]
     },
     "metadata": {
      "needs_background": "light"
     },
     "output_type": "display_data"
    }
   ],
   "source": [
    "#metodo por lineas v2\n",
    "fig, ax1 = plt.subplots()\n",
    "ax1.plot(age,dx)\n",
    "plt.xlabel(\"Age X\")            \n",
    "plt.ylabel(\"$d_{X}$\" )\n",
    "plt.title(\"Número de muertes (Belgica, hombres, 2013)\")\n",
    "plt.show()"
   ]
  },
  {
   "cell_type": "markdown",
   "id": "graphic-helen",
   "metadata": {},
   "source": [
    "#### Caso 05:\n",
    "Simular el número de muertes(recien nacidos) usando una distribución binomial"
   ]
  },
  {
   "cell_type": "code",
   "execution_count": 49,
   "id": "synthetic-aberdeen",
   "metadata": {},
   "outputs": [
    {
     "name": "stdout",
     "output_type": "stream",
     "text": [
      "[0 0 0 ... 0 0 0]\n",
      "347\n"
     ]
    }
   ],
   "source": [
    " # Simulate the number of deaths using a binomial distribution\n",
    "# para determinada edad\n",
    "sim0 = binom.rvs(n = 1 , size = lx[0], p = qx[0])\n",
    "print(sim0)\n",
    "\n",
    "print(sum(sim0))"
   ]
  },
  {
   "cell_type": "code",
   "execution_count": 50,
   "id": "honest-fancy",
   "metadata": {},
   "outputs": [
    {
     "data": {
      "image/png": "[encoded data removed]",
      "text/plain": [
       "<Figure size 432x288 with 1 Axes>"
      ]
     },
     "metadata": {
      "needs_background": "light"
     },
     "output_type": "display_data"
    }
   ],
   "source": [
    "# de referencis\n",
    "#vector2 =  pd.Series(range(len(lx)))\n",
    "#vector1 = pd.Series(range(0,len(lx),1))\n",
    "\n",
    "vec_sim = pd.Series([0]*len(lx))  # definimos una serie donde se colocará el resultado\n",
    "\n",
    "for i in range(len(lx)): # or vector1 o 2 \n",
    "    vec_sim[i] = sum(binom.rvs(n = 1 , size = lx[i], p = qx[i]))  #guardamos el resultado de cada edad en su fila respectiva\n",
    "    \n",
    "#grafico de esa simulacion\n",
    "plt.stem(age, vec_sim)\n",
    "plt.show()\n",
    "\n"
   ]
  },
  {
   "cell_type": "markdown",
   "id": "shared-extra",
   "metadata": {},
   "source": [
    "### Probabilidades de supervivencia de un año a varios años\n",
    "![g1](imagenes/fotm1.png)"
   ]
  },
  {
   "cell_type": "markdown",
   "id": "handed-assumption",
   "metadata": {},
   "source": [
    "### La regla de la multiplicación\n",
    "Reescribiendo las probabilidades de supervivencia:\n",
    "- $_{t + u}p_{x} = _{u}p_{x} +  _{t}p_{x+u}$   \n",
    "\n",
    "Con $k$ como entero obtenemos:   \n",
    "\n",
    "-  $_{k}p_{x} = p_{x}*_{k−1}p_{x+1}$\n",
    "-  $_{k}p_{x} = p_{x}*p_{x+1}*_{k−1}p_{x+2}$   \n",
    "-  $_{k}p_{x} = p_{x}*p_{x+1}*...*p_{x+k-1}$   \n",
    "\n",
    "Este último es un producto de las probabilidades de supervivencia a un año."
   ]
  },
  {
   "cell_type": "markdown",
   "id": "acoustic-istanbul",
   "metadata": {},
   "source": [
    "Calcule  $_{5}P_{65} = p_{65}*p_{66}*p_{67}*p_{68}*p_{69}$"
   ]
  },
  {
   "cell_type": "code",
   "execution_count": 51,
   "id": "desperate-particle",
   "metadata": {},
   "outputs": [
    {
     "data": {
      "text/plain": [
       "65    0.98483\n",
       "66    0.98328\n",
       "67    0.98306\n",
       "68    0.98080\n",
       "69    0.97955\n",
       "Name: qx, dtype: float64"
      ]
     },
     "execution_count": 51,
     "metadata": {},
     "output_type": "execute_result"
    }
   ],
   "source": [
    "px[65:69+1]"
   ]
  },
  {
   "cell_type": "code",
   "execution_count": 52,
   "id": "structured-generation",
   "metadata": {},
   "outputs": [
    {
     "data": {
      "text/plain": [
       "0.9145881430551792"
      ]
     },
     "execution_count": 52,
     "metadata": {},
     "output_type": "execute_result"
    }
   ],
   "source": [
    "np.prod(px[65:69+1])"
   ]
  },
  {
   "cell_type": "markdown",
   "id": "quick-advance",
   "metadata": {},
   "source": [
    "Calcule  $_{5}P_{65} = l_{70} /  l_{65}$\n",
    "                                                                        \n",
    "                                                                         "
   ]
  },
  {
   "cell_type": "code",
   "execution_count": 53,
   "id": "successful-bishop",
   "metadata": {},
   "outputs": [
    {
     "data": {
      "text/plain": [
       "0.9145969498910675"
      ]
     },
     "execution_count": 53,
     "metadata": {},
     "output_type": "execute_result"
    }
   ],
   "source": [
    "lx[70]/lx[65]\n"
   ]
  },
  {
   "cell_type": "code",
   "execution_count": 54,
   "id": "infinite-martial",
   "metadata": {},
   "outputs": [
    {
     "data": {
      "text/plain": [
       "65    84915\n",
       "66    83627\n",
       "67    82229\n",
       "68    80836\n",
       "69    79284\n",
       "70    77663\n",
       "Name: lx, dtype: int64"
      ]
     },
     "execution_count": 54,
     "metadata": {},
     "output_type": "execute_result"
    }
   ],
   "source": [
    "lx[65:70+1]"
   ]
  },
  {
   "cell_type": "markdown",
   "id": "endangered-process",
   "metadata": {},
   "source": [
    "Calcule  $_{k}P_{65}$   para $K = 1, 2, 3, 4, 5$"
   ]
  },
  {
   "cell_type": "code",
   "execution_count": 55,
   "id": "corrected-shield",
   "metadata": {},
   "outputs": [
    {
     "data": {
      "text/plain": [
       "65    0.984830\n",
       "66    0.968364\n",
       "67    0.951960\n",
       "68    0.933682\n",
       "69    0.914588\n",
       "Name: qx, dtype: float64"
      ]
     },
     "execution_count": 55,
     "metadata": {},
     "output_type": "execute_result"
    }
   ],
   "source": [
    "np.cumprod(px[65:69+1])"
   ]
  },
  {
   "cell_type": "code",
   "execution_count": 56,
   "id": "pregnant-disclosure",
   "metadata": {},
   "outputs": [
    {
     "data": {
      "text/plain": [
       "array([0.98483   , 0.96836364, 0.95195956, 0.93368194, 0.91458814])"
      ]
     },
     "execution_count": 56,
     "metadata": {},
     "output_type": "execute_result"
    }
   ],
   "source": [
    "np.cumprod(px[65:69+1].values)"
   ]
  },
  {
   "cell_type": "code",
   "execution_count": 57,
   "id": "restricted-wyoming",
   "metadata": {},
   "outputs": [
    {
     "data": {
      "text/plain": [
       "0    1.000000\n",
       "1    0.984830\n",
       "2    0.968364\n",
       "3    0.951960\n",
       "4    0.933682\n",
       "5    0.914588\n",
       "dtype: float64"
      ]
     },
     "execution_count": 57,
     "metadata": {},
     "output_type": "execute_result"
    }
   ],
   "source": [
    "a = pd.Series(1)\n",
    "a = a.append(np.cumprod(px[65:69+1]),ignore_index= True)\n",
    "a\n",
    "pd.concat( [pd.Series(1), np.cumprod(px[65:69+1]) ],ignore_index= True )"
   ]
  },
  {
   "cell_type": "markdown",
   "id": "contemporary-shame",
   "metadata": {},
   "source": [
    "### Una probabilidad de mortalidad diferida\n",
    "![md](imagenes/md.png)\n",
    "\n",
    "$(x)$ sobrevive $k$ años enteros, pero muere antes de llegar a la edad $x + k + 1$:   \n",
    "\n",
    "$_{k}∣q_{x} = _{k}p_{x} * q_{x+k}$."
   ]
  },
  {
   "cell_type": "markdown",
   "id": "verbal-aside",
   "metadata": {},
   "source": [
    "calcule $_{5}∣q_{65} = _{5}p_{65} * q_{70}$."
   ]
  },
  {
   "cell_type": "code",
   "execution_count": 58,
   "id": "distinct-neighbor",
   "metadata": {},
   "outputs": [
    {
     "data": {
      "text/plain": [
       "0.020907484950241396"
      ]
     },
     "execution_count": 58,
     "metadata": {},
     "output_type": "execute_result"
    }
   ],
   "source": [
    "np.prod(px[65:69+1])*qx[70]    # opcion 01"
   ]
  },
  {
   "cell_type": "code",
   "execution_count": 59,
   "id": "stopped-fancy",
   "metadata": {},
   "outputs": [
    {
     "data": {
      "text/plain": [
       "0.020903256197373845"
      ]
     },
     "execution_count": 59,
     "metadata": {},
     "output_type": "execute_result"
    }
   ],
   "source": [
    "lx[70]/lx[65]*dx[70]/lx[70] "
   ]
  },
  {
   "cell_type": "markdown",
   "id": "sacred-wagon",
   "metadata": {},
   "source": [
    "Calcule  $_{5}q_{65} = d_{70} /  l_{65}$"
   ]
  },
  {
   "cell_type": "code",
   "execution_count": 60,
   "id": "fuzzy-senate",
   "metadata": {},
   "outputs": [
    {
     "data": {
      "text/plain": [
       "0.020903256197373845"
      ]
     },
     "execution_count": 60,
     "metadata": {},
     "output_type": "execute_result"
    }
   ],
   "source": [
    " # opcion 02\n",
    "dx[70]/lx[65]  "
   ]
  },
  {
   "cell_type": "markdown",
   "id": "pediatric-athens",
   "metadata": {},
   "source": [
    "calcule $_{k}∣q_{65} = _{k}p_{65} * q_{65+k}$ para $K = 0, 1, 2, 3, 4 ...$"
   ]
  },
  {
   "cell_type": "code",
   "execution_count": 1,
   "id": "confirmed-sequence",
   "metadata": {},
   "outputs": [
    {
     "ename": "NameError",
     "evalue": "name 'px' is not defined",
     "output_type": "error",
     "traceback": [
      "\u001b[1;31m---------------------------------------------------------------------------\u001b[0m",
      "\u001b[1;31mNameError\u001b[0m                                 Traceback (most recent call last)",
      "\u001b[1;32m<ipython-input-1-52618e9b937d>\u001b[0m in \u001b[0;36m<module>\u001b[1;34m\u001b[0m\n\u001b[0;32m      1\u001b[0m \u001b[1;31m# definimos la probabilidad que sobreviva hasta k\u001b[0m\u001b[1;33m\u001b[0m\u001b[1;33m\u001b[0m\u001b[1;33m\u001b[0m\u001b[0m\n\u001b[1;32m----> 2\u001b[1;33m \u001b[0mlen\u001b[0m\u001b[1;33m(\u001b[0m\u001b[0mpx\u001b[0m\u001b[1;33m)\u001b[0m\u001b[1;33m\u001b[0m\u001b[1;33m\u001b[0m\u001b[0m\n\u001b[0m\u001b[0;32m      3\u001b[0m \u001b[0mkpx\u001b[0m \u001b[1;33m=\u001b[0m \u001b[0mpd\u001b[0m\u001b[1;33m.\u001b[0m\u001b[0mconcat\u001b[0m\u001b[1;33m(\u001b[0m \u001b[1;33m[\u001b[0m\u001b[0mpd\u001b[0m\u001b[1;33m.\u001b[0m\u001b[0mSeries\u001b[0m\u001b[1;33m(\u001b[0m\u001b[1;36m1\u001b[0m\u001b[1;33m)\u001b[0m\u001b[1;33m,\u001b[0m \u001b[0mnp\u001b[0m\u001b[1;33m.\u001b[0m\u001b[0mcumprod\u001b[0m\u001b[1;33m(\u001b[0m\u001b[0mpx\u001b[0m\u001b[1;33m[\u001b[0m\u001b[1;36m65\u001b[0m\u001b[1;33m:\u001b[0m\u001b[0mlen\u001b[0m\u001b[1;33m(\u001b[0m\u001b[0mpx\u001b[0m\u001b[1;33m)\u001b[0m\u001b[1;33m-\u001b[0m\u001b[1;36m1\u001b[0m\u001b[1;33m]\u001b[0m\u001b[1;33m)\u001b[0m \u001b[1;33m]\u001b[0m \u001b[1;33m,\u001b[0m\u001b[0mignore_index\u001b[0m\u001b[1;33m=\u001b[0m \u001b[1;32mTrue\u001b[0m \u001b[1;33m)\u001b[0m\u001b[1;33m\u001b[0m\u001b[1;33m\u001b[0m\u001b[0m\n\u001b[0;32m      4\u001b[0m \u001b[0mkpx\u001b[0m\u001b[1;33m\u001b[0m\u001b[1;33m\u001b[0m\u001b[0m\n",
      "\u001b[1;31mNameError\u001b[0m: name 'px' is not defined"
     ]
    }
   ],
   "source": [
    "# definimos la probabilidad que sobreviva hasta k\n",
    "len(px)\n",
    "kpx = pd.concat( [pd.Series(1), np.cumprod(px[65:len(px)-1]) ] ,ignore_index= True )\n",
    "kpx"
   ]
  },
  {
   "cell_type": "code",
   "execution_count": 62,
   "id": "encouraging-recognition",
   "metadata": {},
   "outputs": [
    {
     "name": "stdout",
     "output_type": "stream",
     "text": [
      "0     0.015170\n",
      "1     0.016466\n",
      "2     0.016404\n",
      "3     0.018278\n",
      "4     0.019094\n",
      "5     0.020907\n",
      "6     0.022342\n",
      "7     0.023552\n",
      "8     0.025586\n",
      "9     0.027124\n",
      "10    0.027907\n",
      "11    0.030687\n",
      "12    0.032619\n",
      "13    0.034271\n",
      "14    0.036299\n",
      "15    0.037782\n",
      "16    0.040131\n",
      "17    0.041476\n",
      "18    0.043507\n",
      "19    0.045821\n",
      "20    0.047540\n",
      "21    0.047031\n",
      "22    0.045937\n",
      "23    0.043235\n",
      "24    0.041346\n",
      "25    0.036614\n",
      "26    0.031897\n",
      "27    0.029848\n",
      "28    0.025497\n",
      "29    0.020086\n",
      "30    0.016224\n",
      "31    0.012384\n",
      "32    0.009104\n",
      "33    0.006437\n",
      "34    0.004372\n",
      "35    0.002851\n",
      "36    0.001784\n",
      "37    0.001071\n",
      "38    0.000617\n",
      "39    0.000341\n",
      "40    0.000181\n",
      "41    0.000093\n",
      "42    0.000046\n",
      "43    0.000022\n",
      "44    0.000010\n",
      "45    0.000008\n",
      "dtype: float64\n"
     ]
    },
    {
     "data": {
      "text/plain": [
       "1.0000000000000004"
      ]
     },
     "execution_count": 62,
     "metadata": {},
     "output_type": "execute_result"
    }
   ],
   "source": [
    "# Definimos la mortalidad diferida\n",
    "kqx = kpx*qx[65:len(px)].values\n",
    "print(kqx)\n",
    "\n",
    "sum(kqx)\n"
   ]
  },
  {
   "cell_type": "markdown",
   "id": "canadian-method",
   "metadata": {},
   "source": [
    "### Ejercicios"
   ]
  },
  {
   "cell_type": "markdown",
   "id": "wicked-struggle",
   "metadata": {},
   "source": [
    "1. Calcule la probabilidad de que un joven de **18 años** cumpla **23** usando **prod()**.  $_{5}p_{18}$ \n",
    "2. Calcule las probabilidades de supervivencia de **(18)** hasta **los 100 años**. $_{k}p_{18}$ \n",
    "3. Grafique la probabilidad de que **(18)** alcance la edad de **19, 20, 21, ..., 100**\n",
    "4. Grafique la mortalidad diferida  $_{k}∣q_{18}$ para $k$ , de tal forma que llegue al final de la tabla.\n"
   ]
  },
  {
   "cell_type": "markdown",
   "id": "interim-roads",
   "metadata": {},
   "source": [
    "### Calcular la esperanza de vida\n",
    "\n",
    "$K_{x} = ⌊T_{x} ⌋$, el número de años completos vividos por (x) en el futuro.    \n",
    "$Pr(K_{x} = k) = Pr(k ≤ T_{x} < k + 1)$   \n",
    "$Pr(K_{x} = k) = _{k}p_{x} * q_{x+k}$   \n",
    "$Pr(K_{x} = k) =_{k}p_{x} − _{k+1}p_{x}$  \n"
   ]
  },
  {
   "cell_type": "markdown",
   "id": "empirical-diversity",
   "metadata": {},
   "source": [
    "Calcule   $Pr(K = 5) = _{5}p_{65}*q_{70}= _{5}p_{65} − _{6}p_{65}$"
   ]
  },
  {
   "cell_type": "code",
   "execution_count": 63,
   "id": "single-arnold",
   "metadata": {},
   "outputs": [
    {
     "data": {
      "text/plain": [
       "0.020907484950241396"
      ]
     },
     "execution_count": 63,
     "metadata": {},
     "output_type": "execute_result"
    }
   ],
   "source": [
    "np.prod(px[65:69+1])*qx[70] "
   ]
  },
  {
   "cell_type": "code",
   "execution_count": 64,
   "id": "therapeutic-threshold",
   "metadata": {},
   "outputs": [
    {
     "data": {
      "text/plain": [
       "0.020907484950241417"
      ]
     },
     "execution_count": 64,
     "metadata": {},
     "output_type": "execute_result"
    }
   ],
   "source": [
    "np.prod(px[65:69+1])-np.prod(px[65:70+1])"
   ]
  },
  {
   "cell_type": "markdown",
   "id": "running-myanmar",
   "metadata": {},
   "source": [
    "El valor esperado de $K_{x}$ se denomina reducción esperanza de vida de $x$.\n",
    "![](imagenes/epr.png)\n",
    "### caso 05 :   \n",
    "\n",
    "Mr. X tiene 35 años y vive en Bélgica.   \n",
    "Como trabajador independiente, debe ocuparse de su planificación financiera.   \n",
    "¿Cuál es una buena estimación de su breve vida futura?\n"
   ]
  },
  {
   "cell_type": "code",
   "execution_count": 65,
   "id": "objective-mouse",
   "metadata": {},
   "outputs": [
    {
     "name": "stdout",
     "output_type": "stream",
     "text": [
      "35     0.99884\n",
      "36     0.99896\n",
      "37     0.99902\n",
      "38     0.99879\n",
      "39     0.99886\n",
      "        ...   \n",
      "106    0.47924\n",
      "107    0.46409\n",
      "108    0.45016\n",
      "109    0.43743\n",
      "110    0.00000\n",
      "Name: qx, Length: 76, dtype: float64\n"
     ]
    }
   ],
   "source": [
    "#Compute E[K35] = Sumatoria (kP35)para k  = 0, 1,2, .....\n",
    "\n",
    "# probabilidad de sobrevivir por año\n",
    "print(px[35:len(px)])\n"
   ]
  },
  {
   "cell_type": "code",
   "execution_count": 66,
   "id": "sound-programming",
   "metadata": {},
   "outputs": [
    {
     "data": {
      "text/plain": [
       "35     0.998840\n",
       "36     0.997801\n",
       "37     0.996823\n",
       "38     0.995617\n",
       "39     0.994482\n",
       "         ...   \n",
       "105    0.000154\n",
       "106    0.000074\n",
       "107    0.000034\n",
       "108    0.000015\n",
       "109    0.000007\n",
       "Name: qx, Length: 75, dtype: float64"
      ]
     },
     "execution_count": 66,
     "metadata": {},
     "output_type": "execute_result"
    }
   ],
   "source": [
    "# probabilidades de que (35) sobreviva k años\n",
    "kp35 = np.cumprod(px[35:len(px)-1])\n",
    "kp35"
   ]
  },
  {
   "cell_type": "code",
   "execution_count": 67,
   "id": "relative-terror",
   "metadata": {},
   "outputs": [
    {
     "data": {
      "text/plain": [
       "43.536259604340856"
      ]
     },
     "execution_count": 67,
     "metadata": {},
     "output_type": "execute_result"
    }
   ],
   "source": [
    "# curtate expected future lifetime of (35)\n",
    "sum(kp35)"
   ]
  },
  {
   "cell_type": "markdown",
   "id": "timely-costs",
   "metadata": {},
   "source": [
    "¿Cómo pasar de $E[K_{x}]$ a $E[T_{x}]$?\n",
    "Así: ¿de la recortada a la esperanza de vida completa?   \n",
    "Use:   \n",
    "\n",
    "$E[T_{x}] ≈ E[K_{x}] + 1/2$\n",
    "\n",
    "\n"
   ]
  },
  {
   "cell_type": "code",
   "execution_count": 68,
   "id": "dangerous-steal",
   "metadata": {},
   "outputs": [
    {
     "data": {
      "text/plain": [
       "43.536259604340856"
      ]
     },
     "execution_count": 68,
     "metadata": {},
     "output_type": "execute_result"
    }
   ],
   "source": [
    "sum(kp35)"
   ]
  },
  {
   "cell_type": "code",
   "execution_count": 69,
   "id": "considered-breach",
   "metadata": {},
   "outputs": [
    {
     "data": {
      "text/plain": [
       "44.04"
      ]
     },
     "execution_count": 69,
     "metadata": {},
     "output_type": "execute_result"
    }
   ],
   "source": [
    "ex[35]"
   ]
  },
  {
   "cell_type": "code",
   "execution_count": 70,
   "id": "stuffed-survey",
   "metadata": {},
   "outputs": [
    {
     "data": {
      "text/plain": [
       "0.5037403956591433"
      ]
     },
     "execution_count": 70,
     "metadata": {},
     "output_type": "execute_result"
    }
   ],
   "source": [
    "ex[35]-sum(kp35)"
   ]
  },
  {
   "cell_type": "markdown",
   "id": "other-nylon",
   "metadata": {},
   "source": [
    "### Tablas de mortalidad dínamicas\n",
    "\n",
    "El enfoque de período \n",
    "![](imagenes/periodo.png)\n",
    "El enfoque de cohorte\n",
    "![](imagenes/diagonal.png)"
   ]
  },
  {
   "cell_type": "code",
   "execution_count": 71,
   "id": "international-david",
   "metadata": {},
   "outputs": [
    {
     "data": {
      "text/html": [
       "<div>\n",
       "<style scoped>\n",
       "    .dataframe tbody tr th:only-of-type {\n",
       "        vertical-align: middle;\n",
       "    }\n",
       "\n",
       "    .dataframe tbody tr th {\n",
       "        vertical-align: top;\n",
       "    }\n",
       "\n",
       "    .dataframe thead th {\n",
       "        text-align: right;\n",
       "    }\n",
       "</style>\n",
       "<table border=\"1\" class=\"dataframe\">\n",
       "  <thead>\n",
       "    <tr style=\"text-align: right;\">\n",
       "      <th></th>\n",
       "      <th>Year</th>\n",
       "      <th>Age</th>\n",
       "      <th>mx</th>\n",
       "      <th>qx</th>\n",
       "      <th>ax</th>\n",
       "      <th>lx</th>\n",
       "      <th>dx</th>\n",
       "      <th>Lx</th>\n",
       "      <th>Tx</th>\n",
       "      <th>ex</th>\n",
       "    </tr>\n",
       "  </thead>\n",
       "  <tbody>\n",
       "    <tr>\n",
       "      <th>0</th>\n",
       "      <td>1841</td>\n",
       "      <td>0</td>\n",
       "      <td>0.18652</td>\n",
       "      <td>0.16496</td>\n",
       "      <td>0.30</td>\n",
       "      <td>100000</td>\n",
       "      <td>16496</td>\n",
       "      <td>88439</td>\n",
       "      <td>4031618</td>\n",
       "      <td>40.32</td>\n",
       "    </tr>\n",
       "    <tr>\n",
       "      <th>1</th>\n",
       "      <td>1841</td>\n",
       "      <td>1</td>\n",
       "      <td>0.07413</td>\n",
       "      <td>0.07148</td>\n",
       "      <td>0.50</td>\n",
       "      <td>83504</td>\n",
       "      <td>5969</td>\n",
       "      <td>80520</td>\n",
       "      <td>3943179</td>\n",
       "      <td>47.22</td>\n",
       "    </tr>\n",
       "    <tr>\n",
       "      <th>2</th>\n",
       "      <td>1841</td>\n",
       "      <td>2</td>\n",
       "      <td>0.03983</td>\n",
       "      <td>0.03905</td>\n",
       "      <td>0.50</td>\n",
       "      <td>77536</td>\n",
       "      <td>3028</td>\n",
       "      <td>76022</td>\n",
       "      <td>3862659</td>\n",
       "      <td>49.82</td>\n",
       "    </tr>\n",
       "    <tr>\n",
       "      <th>3</th>\n",
       "      <td>1841</td>\n",
       "      <td>3</td>\n",
       "      <td>0.02333</td>\n",
       "      <td>0.02306</td>\n",
       "      <td>0.50</td>\n",
       "      <td>74508</td>\n",
       "      <td>1718</td>\n",
       "      <td>73648</td>\n",
       "      <td>3786638</td>\n",
       "      <td>50.82</td>\n",
       "    </tr>\n",
       "    <tr>\n",
       "      <th>4</th>\n",
       "      <td>1841</td>\n",
       "      <td>4</td>\n",
       "      <td>0.01707</td>\n",
       "      <td>0.01693</td>\n",
       "      <td>0.50</td>\n",
       "      <td>72789</td>\n",
       "      <td>1232</td>\n",
       "      <td>72173</td>\n",
       "      <td>3712989</td>\n",
       "      <td>51.01</td>\n",
       "    </tr>\n",
       "    <tr>\n",
       "      <th>...</th>\n",
       "      <td>...</td>\n",
       "      <td>...</td>\n",
       "      <td>...</td>\n",
       "      <td>...</td>\n",
       "      <td>...</td>\n",
       "      <td>...</td>\n",
       "      <td>...</td>\n",
       "      <td>...</td>\n",
       "      <td>...</td>\n",
       "      <td>...</td>\n",
       "    </tr>\n",
       "    <tr>\n",
       "      <th>19753</th>\n",
       "      <td>2018</td>\n",
       "      <td>106</td>\n",
       "      <td>0.67756</td>\n",
       "      <td>0.50610</td>\n",
       "      <td>0.50</td>\n",
       "      <td>30</td>\n",
       "      <td>15</td>\n",
       "      <td>22</td>\n",
       "      <td>42</td>\n",
       "      <td>1.43</td>\n",
       "    </tr>\n",
       "    <tr>\n",
       "      <th>19754</th>\n",
       "      <td>2018</td>\n",
       "      <td>107</td>\n",
       "      <td>0.70705</td>\n",
       "      <td>0.52238</td>\n",
       "      <td>0.50</td>\n",
       "      <td>15</td>\n",
       "      <td>8</td>\n",
       "      <td>11</td>\n",
       "      <td>20</td>\n",
       "      <td>1.37</td>\n",
       "    </tr>\n",
       "    <tr>\n",
       "      <th>19755</th>\n",
       "      <td>2018</td>\n",
       "      <td>108</td>\n",
       "      <td>0.73490</td>\n",
       "      <td>0.53742</td>\n",
       "      <td>0.50</td>\n",
       "      <td>7</td>\n",
       "      <td>4</td>\n",
       "      <td>5</td>\n",
       "      <td>9</td>\n",
       "      <td>1.33</td>\n",
       "    </tr>\n",
       "    <tr>\n",
       "      <th>19756</th>\n",
       "      <td>2018</td>\n",
       "      <td>109</td>\n",
       "      <td>0.76099</td>\n",
       "      <td>0.55125</td>\n",
       "      <td>0.50</td>\n",
       "      <td>3</td>\n",
       "      <td>2</td>\n",
       "      <td>2</td>\n",
       "      <td>4</td>\n",
       "      <td>1.30</td>\n",
       "    </tr>\n",
       "    <tr>\n",
       "      <th>19757</th>\n",
       "      <td>2018</td>\n",
       "      <td>110+</td>\n",
       "      <td>0.78527</td>\n",
       "      <td>1.00000</td>\n",
       "      <td>1.27</td>\n",
       "      <td>1</td>\n",
       "      <td>1</td>\n",
       "      <td>2</td>\n",
       "      <td>2</td>\n",
       "      <td>1.27</td>\n",
       "    </tr>\n",
       "  </tbody>\n",
       "</table>\n",
       "<p>19758 rows × 10 columns</p>\n",
       "</div>"
      ],
      "text/plain": [
       "       Year   Age       mx       qx    ax      lx     dx     Lx       Tx  \\\n",
       "0      1841     0  0.18652  0.16496  0.30  100000  16496  88439  4031618   \n",
       "1      1841     1  0.07413  0.07148  0.50   83504   5969  80520  3943179   \n",
       "2      1841     2  0.03983  0.03905  0.50   77536   3028  76022  3862659   \n",
       "3      1841     3  0.02333  0.02306  0.50   74508   1718  73648  3786638   \n",
       "4      1841     4  0.01707  0.01693  0.50   72789   1232  72173  3712989   \n",
       "...     ...   ...      ...      ...   ...     ...    ...    ...      ...   \n",
       "19753  2018   106  0.67756  0.50610  0.50      30     15     22       42   \n",
       "19754  2018   107  0.70705  0.52238  0.50      15      8     11       20   \n",
       "19755  2018   108  0.73490  0.53742  0.50       7      4      5        9   \n",
       "19756  2018   109  0.76099  0.55125  0.50       3      2      2        4   \n",
       "19757  2018  110+  0.78527  1.00000  1.27       1      1      2        2   \n",
       "\n",
       "          ex  \n",
       "0      40.32  \n",
       "1      47.22  \n",
       "2      49.82  \n",
       "3      50.82  \n",
       "4      51.01  \n",
       "...      ...  \n",
       "19753   1.43  \n",
       "19754   1.37  \n",
       "19755   1.33  \n",
       "19756   1.30  \n",
       "19757   1.27  \n",
       "\n",
       "[19758 rows x 10 columns]"
      ]
     },
     "execution_count": 71,
     "metadata": {},
     "output_type": "execute_result"
    }
   ],
   "source": [
    "life_table_m = pd.read_csv(\"mltper_1x1.txt\",header = 1, delimiter= '\\s+') \n",
    "life_table_m\n"
   ]
  },
  {
   "cell_type": "markdown",
   "id": "recovered-gibson",
   "metadata": {},
   "source": [
    "### Caso 07\n",
    "Las probabilidades de supervivencia del período de un famoso belga   \n",
    "Jacques Brel es un cantante belga que nació en 1929 y murió a los 49 años.   \n",
    "¿Cuál es la probabilidad $_{49}∣q_{0,1929}$  de que un recién nacido nacido en 1929 muera a los 49 años?"
   ]
  },
  {
   "cell_type": "code",
   "execution_count": 72,
   "id": "beginning-compensation",
   "metadata": {},
   "outputs": [
    {
     "data": {
      "text/html": [
       "<div>\n",
       "<style scoped>\n",
       "    .dataframe tbody tr th:only-of-type {\n",
       "        vertical-align: middle;\n",
       "    }\n",
       "\n",
       "    .dataframe tbody tr th {\n",
       "        vertical-align: top;\n",
       "    }\n",
       "\n",
       "    .dataframe thead th {\n",
       "        text-align: right;\n",
       "    }\n",
       "</style>\n",
       "<table border=\"1\" class=\"dataframe\">\n",
       "  <thead>\n",
       "    <tr style=\"text-align: right;\">\n",
       "      <th></th>\n",
       "      <th>Year</th>\n",
       "      <th>Age</th>\n",
       "      <th>qx</th>\n",
       "      <th>lx</th>\n",
       "      <th>dx</th>\n",
       "      <th>ex</th>\n",
       "    </tr>\n",
       "  </thead>\n",
       "  <tbody>\n",
       "    <tr>\n",
       "      <th>0</th>\n",
       "      <td>1841</td>\n",
       "      <td>0</td>\n",
       "      <td>0.16496</td>\n",
       "      <td>100000</td>\n",
       "      <td>16496</td>\n",
       "      <td>40.32</td>\n",
       "    </tr>\n",
       "    <tr>\n",
       "      <th>1</th>\n",
       "      <td>1841</td>\n",
       "      <td>1</td>\n",
       "      <td>0.07148</td>\n",
       "      <td>83504</td>\n",
       "      <td>5969</td>\n",
       "      <td>47.22</td>\n",
       "    </tr>\n",
       "    <tr>\n",
       "      <th>2</th>\n",
       "      <td>1841</td>\n",
       "      <td>2</td>\n",
       "      <td>0.03905</td>\n",
       "      <td>77536</td>\n",
       "      <td>3028</td>\n",
       "      <td>49.82</td>\n",
       "    </tr>\n",
       "    <tr>\n",
       "      <th>3</th>\n",
       "      <td>1841</td>\n",
       "      <td>3</td>\n",
       "      <td>0.02306</td>\n",
       "      <td>74508</td>\n",
       "      <td>1718</td>\n",
       "      <td>50.82</td>\n",
       "    </tr>\n",
       "    <tr>\n",
       "      <th>4</th>\n",
       "      <td>1841</td>\n",
       "      <td>4</td>\n",
       "      <td>0.01693</td>\n",
       "      <td>72789</td>\n",
       "      <td>1232</td>\n",
       "      <td>51.01</td>\n",
       "    </tr>\n",
       "    <tr>\n",
       "      <th>...</th>\n",
       "      <td>...</td>\n",
       "      <td>...</td>\n",
       "      <td>...</td>\n",
       "      <td>...</td>\n",
       "      <td>...</td>\n",
       "      <td>...</td>\n",
       "    </tr>\n",
       "    <tr>\n",
       "      <th>19026</th>\n",
       "      <td>2018</td>\n",
       "      <td>106</td>\n",
       "      <td>0.50610</td>\n",
       "      <td>30</td>\n",
       "      <td>15</td>\n",
       "      <td>1.43</td>\n",
       "    </tr>\n",
       "    <tr>\n",
       "      <th>19027</th>\n",
       "      <td>2018</td>\n",
       "      <td>107</td>\n",
       "      <td>0.52238</td>\n",
       "      <td>15</td>\n",
       "      <td>8</td>\n",
       "      <td>1.37</td>\n",
       "    </tr>\n",
       "    <tr>\n",
       "      <th>19028</th>\n",
       "      <td>2018</td>\n",
       "      <td>108</td>\n",
       "      <td>0.53742</td>\n",
       "      <td>7</td>\n",
       "      <td>4</td>\n",
       "      <td>1.33</td>\n",
       "    </tr>\n",
       "    <tr>\n",
       "      <th>19029</th>\n",
       "      <td>2018</td>\n",
       "      <td>109</td>\n",
       "      <td>0.55125</td>\n",
       "      <td>3</td>\n",
       "      <td>2</td>\n",
       "      <td>1.30</td>\n",
       "    </tr>\n",
       "    <tr>\n",
       "      <th>19030</th>\n",
       "      <td>2018</td>\n",
       "      <td>110</td>\n",
       "      <td>1.00000</td>\n",
       "      <td>1</td>\n",
       "      <td>1</td>\n",
       "      <td>1.27</td>\n",
       "    </tr>\n",
       "  </tbody>\n",
       "</table>\n",
       "<p>19031 rows × 6 columns</p>\n",
       "</div>"
      ],
      "text/plain": [
       "       Year  Age       qx      lx     dx     ex\n",
       "0      1841    0  0.16496  100000  16496  40.32\n",
       "1      1841    1  0.07148   83504   5969  47.22\n",
       "2      1841    2  0.03905   77536   3028  49.82\n",
       "3      1841    3  0.02306   74508   1718  50.82\n",
       "4      1841    4  0.01693   72789   1232  51.01\n",
       "...     ...  ...      ...     ...    ...    ...\n",
       "19026  2018  106  0.50610      30     15   1.43\n",
       "19027  2018  107  0.52238      15      8   1.37\n",
       "19028  2018  108  0.53742       7      4   1.33\n",
       "19029  2018  109  0.55125       3      2   1.30\n",
       "19030  2018  110  1.00000       1      1   1.27\n",
       "\n",
       "[19031 rows x 6 columns]"
      ]
     },
     "execution_count": 72,
     "metadata": {},
     "output_type": "execute_result"
    }
   ],
   "source": [
    "# python 3.x\n",
    "life_table_m = pd.read_excel(\"life_table_m.xlsx\",engine='openpyxl') \n",
    "life_table_m"
   ]
  },
  {
   "cell_type": "code",
   "execution_count": 73,
   "id": "metropolitan-possible",
   "metadata": {},
   "outputs": [
    {
     "data": {
      "text/plain": [
       "Index(['Year', 'Age', 'qx', 'lx', 'dx', 'ex'], dtype='object')"
      ]
     },
     "execution_count": 73,
     "metadata": {},
     "output_type": "execute_result"
    }
   ],
   "source": [
    "# Periodo o forma vertical \n",
    "life_table_m.columns"
   ]
  },
  {
   "cell_type": "code",
   "execution_count": 74,
   "id": "median-moses",
   "metadata": {},
   "outputs": [
    {
     "data": {
      "text/plain": [
       "Year      int64\n",
       "Age       int64\n",
       "qx      float64\n",
       "lx        int64\n",
       "dx        int64\n",
       "ex      float64\n",
       "dtype: object"
      ]
     },
     "execution_count": 74,
     "metadata": {},
     "output_type": "execute_result"
    }
   ],
   "source": [
    "life_table_m.dtypes"
   ]
  },
  {
   "cell_type": "code",
   "execution_count": 75,
   "id": "disturbed-mozambique",
   "metadata": {},
   "outputs": [
    {
     "data": {
      "text/plain": [
       "0        40.32\n",
       "1        47.22\n",
       "2        49.82\n",
       "3        50.82\n",
       "4        51.01\n",
       "         ...  \n",
       "19026     1.43\n",
       "19027     1.37\n",
       "19028     1.33\n",
       "19029     1.30\n",
       "19030     1.27\n",
       "Name: ex, Length: 19031, dtype: float64"
      ]
     },
     "execution_count": 75,
     "metadata": {},
     "output_type": "execute_result"
    }
   ],
   "source": [
    "life_table_m.ex"
   ]
  },
  {
   "cell_type": "code",
   "execution_count": 76,
   "id": "legitimate-disclaimer",
   "metadata": {},
   "outputs": [
    {
     "data": {
      "text/plain": [
       "0          0\n",
       "1          1\n",
       "2          2\n",
       "3          3\n",
       "4          4\n",
       "        ... \n",
       "19026    106\n",
       "19027    107\n",
       "19028    108\n",
       "19029    109\n",
       "19030    110\n",
       "Name: Age, Length: 19031, dtype: int64"
      ]
     },
     "execution_count": 76,
     "metadata": {},
     "output_type": "execute_result"
    }
   ],
   "source": [
    "life_table_m.Age"
   ]
  },
  {
   "cell_type": "code",
   "execution_count": 77,
   "id": "quick-conflict",
   "metadata": {},
   "outputs": [],
   "source": [
    "period_life_table = life_table_m[life_table_m.Year == 1929]"
   ]
  },
  {
   "cell_type": "code",
   "execution_count": 78,
   "id": "married-lover",
   "metadata": {
    "scrolled": true
   },
   "outputs": [
    {
     "data": {
      "text/html": [
       "<div>\n",
       "<style scoped>\n",
       "    .dataframe tbody tr th:only-of-type {\n",
       "        vertical-align: middle;\n",
       "    }\n",
       "\n",
       "    .dataframe tbody tr th {\n",
       "        vertical-align: top;\n",
       "    }\n",
       "\n",
       "    .dataframe thead th {\n",
       "        text-align: right;\n",
       "    }\n",
       "</style>\n",
       "<table border=\"1\" class=\"dataframe\">\n",
       "  <thead>\n",
       "    <tr style=\"text-align: right;\">\n",
       "      <th></th>\n",
       "      <th>Year</th>\n",
       "      <th>Age</th>\n",
       "      <th>qx</th>\n",
       "      <th>lx</th>\n",
       "      <th>dx</th>\n",
       "      <th>ex</th>\n",
       "    </tr>\n",
       "  </thead>\n",
       "  <tbody>\n",
       "    <tr>\n",
       "      <th>9130</th>\n",
       "      <td>1929</td>\n",
       "      <td>0</td>\n",
       "      <td>0.12134</td>\n",
       "      <td>100000</td>\n",
       "      <td>12134</td>\n",
       "      <td>53.18</td>\n",
       "    </tr>\n",
       "    <tr>\n",
       "      <th>9131</th>\n",
       "      <td>1929</td>\n",
       "      <td>1</td>\n",
       "      <td>0.02221</td>\n",
       "      <td>87866</td>\n",
       "      <td>1951</td>\n",
       "      <td>59.48</td>\n",
       "    </tr>\n",
       "    <tr>\n",
       "      <th>9132</th>\n",
       "      <td>1929</td>\n",
       "      <td>2</td>\n",
       "      <td>0.00775</td>\n",
       "      <td>85914</td>\n",
       "      <td>666</td>\n",
       "      <td>59.82</td>\n",
       "    </tr>\n",
       "    <tr>\n",
       "      <th>9133</th>\n",
       "      <td>1929</td>\n",
       "      <td>3</td>\n",
       "      <td>0.00511</td>\n",
       "      <td>85248</td>\n",
       "      <td>435</td>\n",
       "      <td>59.28</td>\n",
       "    </tr>\n",
       "    <tr>\n",
       "      <th>9134</th>\n",
       "      <td>1929</td>\n",
       "      <td>4</td>\n",
       "      <td>0.00426</td>\n",
       "      <td>84813</td>\n",
       "      <td>362</td>\n",
       "      <td>58.58</td>\n",
       "    </tr>\n",
       "    <tr>\n",
       "      <th>...</th>\n",
       "      <td>...</td>\n",
       "      <td>...</td>\n",
       "      <td>...</td>\n",
       "      <td>...</td>\n",
       "      <td>...</td>\n",
       "      <td>...</td>\n",
       "    </tr>\n",
       "    <tr>\n",
       "      <th>9235</th>\n",
       "      <td>1929</td>\n",
       "      <td>105</td>\n",
       "      <td>0.58204</td>\n",
       "      <td>0</td>\n",
       "      <td>0</td>\n",
       "      <td>1.20</td>\n",
       "    </tr>\n",
       "    <tr>\n",
       "      <th>9236</th>\n",
       "      <td>1929</td>\n",
       "      <td>106</td>\n",
       "      <td>0.59086</td>\n",
       "      <td>0</td>\n",
       "      <td>0</td>\n",
       "      <td>1.18</td>\n",
       "    </tr>\n",
       "    <tr>\n",
       "      <th>9237</th>\n",
       "      <td>1929</td>\n",
       "      <td>107</td>\n",
       "      <td>0.59886</td>\n",
       "      <td>0</td>\n",
       "      <td>0</td>\n",
       "      <td>1.16</td>\n",
       "    </tr>\n",
       "    <tr>\n",
       "      <th>9238</th>\n",
       "      <td>1929</td>\n",
       "      <td>108</td>\n",
       "      <td>0.60610</td>\n",
       "      <td>0</td>\n",
       "      <td>0</td>\n",
       "      <td>1.14</td>\n",
       "    </tr>\n",
       "    <tr>\n",
       "      <th>9239</th>\n",
       "      <td>1929</td>\n",
       "      <td>109</td>\n",
       "      <td>0.61264</td>\n",
       "      <td>0</td>\n",
       "      <td>0</td>\n",
       "      <td>1.13</td>\n",
       "    </tr>\n",
       "  </tbody>\n",
       "</table>\n",
       "<p>110 rows × 6 columns</p>\n",
       "</div>"
      ],
      "text/plain": [
       "      Year  Age       qx      lx     dx     ex\n",
       "9130  1929    0  0.12134  100000  12134  53.18\n",
       "9131  1929    1  0.02221   87866   1951  59.48\n",
       "9132  1929    2  0.00775   85914    666  59.82\n",
       "9133  1929    3  0.00511   85248    435  59.28\n",
       "9134  1929    4  0.00426   84813    362  58.58\n",
       "...    ...  ...      ...     ...    ...    ...\n",
       "9235  1929  105  0.58204       0      0   1.20\n",
       "9236  1929  106  0.59086       0      0   1.18\n",
       "9237  1929  107  0.59886       0      0   1.16\n",
       "9238  1929  108  0.60610       0      0   1.14\n",
       "9239  1929  109  0.61264       0      0   1.13\n",
       "\n",
       "[110 rows x 6 columns]"
      ]
     },
     "execution_count": 78,
     "metadata": {},
     "output_type": "execute_result"
    }
   ],
   "source": [
    "period_life_table"
   ]
  },
  {
   "cell_type": "code",
   "execution_count": 79,
   "id": "consistent-nightlife",
   "metadata": {},
   "outputs": [
    {
     "data": {
      "text/html": [
       "<div>\n",
       "<style scoped>\n",
       "    .dataframe tbody tr th:only-of-type {\n",
       "        vertical-align: middle;\n",
       "    }\n",
       "\n",
       "    .dataframe tbody tr th {\n",
       "        vertical-align: top;\n",
       "    }\n",
       "\n",
       "    .dataframe thead th {\n",
       "        text-align: right;\n",
       "    }\n",
       "</style>\n",
       "<table border=\"1\" class=\"dataframe\">\n",
       "  <thead>\n",
       "    <tr style=\"text-align: right;\">\n",
       "      <th></th>\n",
       "      <th>Year</th>\n",
       "      <th>qx</th>\n",
       "      <th>lx</th>\n",
       "      <th>dx</th>\n",
       "      <th>ex</th>\n",
       "    </tr>\n",
       "    <tr>\n",
       "      <th>Age</th>\n",
       "      <th></th>\n",
       "      <th></th>\n",
       "      <th></th>\n",
       "      <th></th>\n",
       "      <th></th>\n",
       "    </tr>\n",
       "  </thead>\n",
       "  <tbody>\n",
       "    <tr>\n",
       "      <th>0</th>\n",
       "      <td>1929</td>\n",
       "      <td>0.12134</td>\n",
       "      <td>100000</td>\n",
       "      <td>12134</td>\n",
       "      <td>53.18</td>\n",
       "    </tr>\n",
       "    <tr>\n",
       "      <th>1</th>\n",
       "      <td>1929</td>\n",
       "      <td>0.02221</td>\n",
       "      <td>87866</td>\n",
       "      <td>1951</td>\n",
       "      <td>59.48</td>\n",
       "    </tr>\n",
       "    <tr>\n",
       "      <th>2</th>\n",
       "      <td>1929</td>\n",
       "      <td>0.00775</td>\n",
       "      <td>85914</td>\n",
       "      <td>666</td>\n",
       "      <td>59.82</td>\n",
       "    </tr>\n",
       "    <tr>\n",
       "      <th>3</th>\n",
       "      <td>1929</td>\n",
       "      <td>0.00511</td>\n",
       "      <td>85248</td>\n",
       "      <td>435</td>\n",
       "      <td>59.28</td>\n",
       "    </tr>\n",
       "    <tr>\n",
       "      <th>4</th>\n",
       "      <td>1929</td>\n",
       "      <td>0.00426</td>\n",
       "      <td>84813</td>\n",
       "      <td>362</td>\n",
       "      <td>58.58</td>\n",
       "    </tr>\n",
       "    <tr>\n",
       "      <th>...</th>\n",
       "      <td>...</td>\n",
       "      <td>...</td>\n",
       "      <td>...</td>\n",
       "      <td>...</td>\n",
       "      <td>...</td>\n",
       "    </tr>\n",
       "    <tr>\n",
       "      <th>105</th>\n",
       "      <td>1929</td>\n",
       "      <td>0.58204</td>\n",
       "      <td>0</td>\n",
       "      <td>0</td>\n",
       "      <td>1.20</td>\n",
       "    </tr>\n",
       "    <tr>\n",
       "      <th>106</th>\n",
       "      <td>1929</td>\n",
       "      <td>0.59086</td>\n",
       "      <td>0</td>\n",
       "      <td>0</td>\n",
       "      <td>1.18</td>\n",
       "    </tr>\n",
       "    <tr>\n",
       "      <th>107</th>\n",
       "      <td>1929</td>\n",
       "      <td>0.59886</td>\n",
       "      <td>0</td>\n",
       "      <td>0</td>\n",
       "      <td>1.16</td>\n",
       "    </tr>\n",
       "    <tr>\n",
       "      <th>108</th>\n",
       "      <td>1929</td>\n",
       "      <td>0.60610</td>\n",
       "      <td>0</td>\n",
       "      <td>0</td>\n",
       "      <td>1.14</td>\n",
       "    </tr>\n",
       "    <tr>\n",
       "      <th>109</th>\n",
       "      <td>1929</td>\n",
       "      <td>0.61264</td>\n",
       "      <td>0</td>\n",
       "      <td>0</td>\n",
       "      <td>1.13</td>\n",
       "    </tr>\n",
       "  </tbody>\n",
       "</table>\n",
       "<p>110 rows × 5 columns</p>\n",
       "</div>"
      ],
      "text/plain": [
       "     Year       qx      lx     dx     ex\n",
       "Age                                     \n",
       "0    1929  0.12134  100000  12134  53.18\n",
       "1    1929  0.02221   87866   1951  59.48\n",
       "2    1929  0.00775   85914    666  59.82\n",
       "3    1929  0.00511   85248    435  59.28\n",
       "4    1929  0.00426   84813    362  58.58\n",
       "..    ...      ...     ...    ...    ...\n",
       "105  1929  0.58204       0      0   1.20\n",
       "106  1929  0.59086       0      0   1.18\n",
       "107  1929  0.59886       0      0   1.16\n",
       "108  1929  0.60610       0      0   1.14\n",
       "109  1929  0.61264       0      0   1.13\n",
       "\n",
       "[110 rows x 5 columns]"
      ]
     },
     "execution_count": 79,
     "metadata": {},
     "output_type": "execute_result"
    }
   ],
   "source": [
    "period_life_table = period_life_table.set_index('Age')\n",
    "period_life_table\n"
   ]
  },
  {
   "cell_type": "code",
   "execution_count": 80,
   "id": "abandoned-nylon",
   "metadata": {
    "scrolled": true
   },
   "outputs": [
    {
     "data": {
      "text/plain": [
       "Age\n",
       "0      0.12134\n",
       "1      0.02221\n",
       "2      0.00775\n",
       "3      0.00511\n",
       "4      0.00426\n",
       "        ...   \n",
       "105    0.58204\n",
       "106    0.59086\n",
       "107    0.59886\n",
       "108    0.60610\n",
       "109    0.61264\n",
       "Name: qx, Length: 110, dtype: float64"
      ]
     },
     "execution_count": 80,
     "metadata": {},
     "output_type": "execute_result"
    }
   ],
   "source": [
    "qx = period_life_table.qx\n",
    "qx"
   ]
  },
  {
   "cell_type": "code",
   "execution_count": 81,
   "id": "unnecessary-alloy",
   "metadata": {
    "scrolled": true
   },
   "outputs": [
    {
     "data": {
      "text/plain": [
       "Age\n",
       "0      0.87866\n",
       "1      0.97779\n",
       "2      0.99225\n",
       "3      0.99489\n",
       "4      0.99574\n",
       "        ...   \n",
       "105    0.41796\n",
       "106    0.40914\n",
       "107    0.40114\n",
       "108    0.39390\n",
       "109    0.38736\n",
       "Name: qx, Length: 110, dtype: float64"
      ]
     },
     "execution_count": 81,
     "metadata": {},
     "output_type": "execute_result"
    }
   ],
   "source": [
    "px = 1- qx\n",
    "px"
   ]
  },
  {
   "cell_type": "code",
   "execution_count": 82,
   "id": "considerable-leadership",
   "metadata": {},
   "outputs": [
    {
     "data": {
      "text/plain": [
       "Age\n",
       "0     0.87866\n",
       "1     0.97779\n",
       "2     0.99225\n",
       "3     0.99489\n",
       "4     0.99574\n",
       "5     0.99624\n",
       "6     0.99744\n",
       "7     0.99753\n",
       "8     0.99806\n",
       "9     0.99840\n",
       "10    0.99804\n",
       "11    0.99879\n",
       "12    0.99844\n",
       "13    0.99813\n",
       "14    0.99794\n",
       "15    0.99707\n",
       "16    0.99696\n",
       "17    0.99690\n",
       "18    0.99634\n",
       "19    0.99557\n",
       "20    0.99493\n",
       "21    0.99539\n",
       "22    0.99588\n",
       "23    0.99570\n",
       "24    0.99524\n",
       "25    0.99512\n",
       "26    0.99555\n",
       "27    0.99562\n",
       "28    0.99526\n",
       "29    0.99514\n",
       "30    0.99471\n",
       "31    0.99512\n",
       "32    0.99475\n",
       "33    0.99534\n",
       "34    0.99425\n",
       "35    0.99451\n",
       "36    0.99430\n",
       "37    0.99315\n",
       "38    0.99317\n",
       "39    0.99287\n",
       "40    0.99285\n",
       "41    0.99330\n",
       "42    0.99206\n",
       "43    0.99119\n",
       "44    0.99073\n",
       "45    0.99121\n",
       "46    0.99029\n",
       "47    0.98922\n",
       "48    0.98912\n",
       "Name: qx, dtype: float64"
      ]
     },
     "execution_count": 82,
     "metadata": {},
     "output_type": "execute_result"
    }
   ],
   "source": [
    "px[0:49]"
   ]
  },
  {
   "cell_type": "code",
   "execution_count": 83,
   "id": "bearing-vinyl",
   "metadata": {},
   "outputs": [
    {
     "data": {
      "text/plain": [
       "0.008460916350830402"
      ]
     },
     "execution_count": 83,
     "metadata": {},
     "output_type": "execute_result"
    }
   ],
   "source": [
    "np.prod(px[0:49])*qx[49]"
   ]
  },
  {
   "cell_type": "markdown",
   "id": "formal-brighton",
   "metadata": {},
   "source": [
    "Método Dinámico"
   ]
  },
  {
   "cell_type": "code",
   "execution_count": 84,
   "id": "bridal-iceland",
   "metadata": {},
   "outputs": [
    {
     "data": {
      "text/html": [
       "<div>\n",
       "<style scoped>\n",
       "    .dataframe tbody tr th:only-of-type {\n",
       "        vertical-align: middle;\n",
       "    }\n",
       "\n",
       "    .dataframe tbody tr th {\n",
       "        vertical-align: top;\n",
       "    }\n",
       "\n",
       "    .dataframe thead th {\n",
       "        text-align: right;\n",
       "    }\n",
       "</style>\n",
       "<table border=\"1\" class=\"dataframe\">\n",
       "  <thead>\n",
       "    <tr style=\"text-align: right;\">\n",
       "      <th></th>\n",
       "      <th>Year</th>\n",
       "      <th>Age</th>\n",
       "      <th>qx</th>\n",
       "      <th>lx</th>\n",
       "      <th>dx</th>\n",
       "      <th>ex</th>\n",
       "    </tr>\n",
       "  </thead>\n",
       "  <tbody>\n",
       "    <tr>\n",
       "      <th>9130</th>\n",
       "      <td>1929</td>\n",
       "      <td>0</td>\n",
       "      <td>0.12134</td>\n",
       "      <td>100000</td>\n",
       "      <td>12134</td>\n",
       "      <td>53.18</td>\n",
       "    </tr>\n",
       "    <tr>\n",
       "      <th>9241</th>\n",
       "      <td>1930</td>\n",
       "      <td>1</td>\n",
       "      <td>0.01828</td>\n",
       "      <td>88695</td>\n",
       "      <td>1622</td>\n",
       "      <td>61.05</td>\n",
       "    </tr>\n",
       "    <tr>\n",
       "      <th>9352</th>\n",
       "      <td>1931</td>\n",
       "      <td>2</td>\n",
       "      <td>0.00573</td>\n",
       "      <td>88713</td>\n",
       "      <td>509</td>\n",
       "      <td>61.57</td>\n",
       "    </tr>\n",
       "    <tr>\n",
       "      <th>9463</th>\n",
       "      <td>1932</td>\n",
       "      <td>3</td>\n",
       "      <td>0.00403</td>\n",
       "      <td>87900</td>\n",
       "      <td>354</td>\n",
       "      <td>61.43</td>\n",
       "    </tr>\n",
       "    <tr>\n",
       "      <th>9574</th>\n",
       "      <td>1933</td>\n",
       "      <td>4</td>\n",
       "      <td>0.00380</td>\n",
       "      <td>87803</td>\n",
       "      <td>333</td>\n",
       "      <td>60.59</td>\n",
       "    </tr>\n",
       "    <tr>\n",
       "      <th>...</th>\n",
       "      <td>...</td>\n",
       "      <td>...</td>\n",
       "      <td>...</td>\n",
       "      <td>...</td>\n",
       "      <td>...</td>\n",
       "      <td>...</td>\n",
       "    </tr>\n",
       "    <tr>\n",
       "      <th>18565</th>\n",
       "      <td>2014</td>\n",
       "      <td>85</td>\n",
       "      <td>0.10163</td>\n",
       "      <td>38621</td>\n",
       "      <td>3925</td>\n",
       "      <td>5.69</td>\n",
       "    </tr>\n",
       "    <tr>\n",
       "      <th>18676</th>\n",
       "      <td>2015</td>\n",
       "      <td>86</td>\n",
       "      <td>0.11839</td>\n",
       "      <td>34308</td>\n",
       "      <td>4062</td>\n",
       "      <td>5.16</td>\n",
       "    </tr>\n",
       "    <tr>\n",
       "      <th>18787</th>\n",
       "      <td>2016</td>\n",
       "      <td>87</td>\n",
       "      <td>0.12633</td>\n",
       "      <td>31373</td>\n",
       "      <td>3963</td>\n",
       "      <td>4.92</td>\n",
       "    </tr>\n",
       "    <tr>\n",
       "      <th>18898</th>\n",
       "      <td>2017</td>\n",
       "      <td>88</td>\n",
       "      <td>0.14232</td>\n",
       "      <td>28076</td>\n",
       "      <td>3996</td>\n",
       "      <td>4.48</td>\n",
       "    </tr>\n",
       "    <tr>\n",
       "      <th>19009</th>\n",
       "      <td>2018</td>\n",
       "      <td>89</td>\n",
       "      <td>0.15295</td>\n",
       "      <td>24465</td>\n",
       "      <td>3742</td>\n",
       "      <td>4.27</td>\n",
       "    </tr>\n",
       "  </tbody>\n",
       "</table>\n",
       "<p>90 rows × 6 columns</p>\n",
       "</div>"
      ],
      "text/plain": [
       "       Year  Age       qx      lx     dx     ex\n",
       "9130   1929    0  0.12134  100000  12134  53.18\n",
       "9241   1930    1  0.01828   88695   1622  61.05\n",
       "9352   1931    2  0.00573   88713    509  61.57\n",
       "9463   1932    3  0.00403   87900    354  61.43\n",
       "9574   1933    4  0.00380   87803    333  60.59\n",
       "...     ...  ...      ...     ...    ...    ...\n",
       "18565  2014   85  0.10163   38621   3925   5.69\n",
       "18676  2015   86  0.11839   34308   4062   5.16\n",
       "18787  2016   87  0.12633   31373   3963   4.92\n",
       "18898  2017   88  0.14232   28076   3996   4.48\n",
       "19009  2018   89  0.15295   24465   3742   4.27\n",
       "\n",
       "[90 rows x 6 columns]"
      ]
     },
     "execution_count": 84,
     "metadata": {},
     "output_type": "execute_result"
    }
   ],
   "source": [
    "period_life_table = life_table_m[life_table_m.Year -life_table_m.Age == 1929 ]\n",
    "period_life_table"
   ]
  },
  {
   "cell_type": "code",
   "execution_count": 85,
   "id": "developing-corner",
   "metadata": {},
   "outputs": [
    {
     "data": {
      "text/html": [
       "<div>\n",
       "<style scoped>\n",
       "    .dataframe tbody tr th:only-of-type {\n",
       "        vertical-align: middle;\n",
       "    }\n",
       "\n",
       "    .dataframe tbody tr th {\n",
       "        vertical-align: top;\n",
       "    }\n",
       "\n",
       "    .dataframe thead th {\n",
       "        text-align: right;\n",
       "    }\n",
       "</style>\n",
       "<table border=\"1\" class=\"dataframe\">\n",
       "  <thead>\n",
       "    <tr style=\"text-align: right;\">\n",
       "      <th></th>\n",
       "      <th>Year</th>\n",
       "      <th>qx</th>\n",
       "      <th>lx</th>\n",
       "      <th>dx</th>\n",
       "      <th>ex</th>\n",
       "    </tr>\n",
       "    <tr>\n",
       "      <th>Age</th>\n",
       "      <th></th>\n",
       "      <th></th>\n",
       "      <th></th>\n",
       "      <th></th>\n",
       "      <th></th>\n",
       "    </tr>\n",
       "  </thead>\n",
       "  <tbody>\n",
       "    <tr>\n",
       "      <th>0</th>\n",
       "      <td>1929</td>\n",
       "      <td>0.12134</td>\n",
       "      <td>100000</td>\n",
       "      <td>12134</td>\n",
       "      <td>53.18</td>\n",
       "    </tr>\n",
       "    <tr>\n",
       "      <th>1</th>\n",
       "      <td>1930</td>\n",
       "      <td>0.01828</td>\n",
       "      <td>88695</td>\n",
       "      <td>1622</td>\n",
       "      <td>61.05</td>\n",
       "    </tr>\n",
       "    <tr>\n",
       "      <th>2</th>\n",
       "      <td>1931</td>\n",
       "      <td>0.00573</td>\n",
       "      <td>88713</td>\n",
       "      <td>509</td>\n",
       "      <td>61.57</td>\n",
       "    </tr>\n",
       "    <tr>\n",
       "      <th>3</th>\n",
       "      <td>1932</td>\n",
       "      <td>0.00403</td>\n",
       "      <td>87900</td>\n",
       "      <td>354</td>\n",
       "      <td>61.43</td>\n",
       "    </tr>\n",
       "    <tr>\n",
       "      <th>4</th>\n",
       "      <td>1933</td>\n",
       "      <td>0.00380</td>\n",
       "      <td>87803</td>\n",
       "      <td>333</td>\n",
       "      <td>60.59</td>\n",
       "    </tr>\n",
       "    <tr>\n",
       "      <th>...</th>\n",
       "      <td>...</td>\n",
       "      <td>...</td>\n",
       "      <td>...</td>\n",
       "      <td>...</td>\n",
       "      <td>...</td>\n",
       "    </tr>\n",
       "    <tr>\n",
       "      <th>85</th>\n",
       "      <td>2014</td>\n",
       "      <td>0.10163</td>\n",
       "      <td>38621</td>\n",
       "      <td>3925</td>\n",
       "      <td>5.69</td>\n",
       "    </tr>\n",
       "    <tr>\n",
       "      <th>86</th>\n",
       "      <td>2015</td>\n",
       "      <td>0.11839</td>\n",
       "      <td>34308</td>\n",
       "      <td>4062</td>\n",
       "      <td>5.16</td>\n",
       "    </tr>\n",
       "    <tr>\n",
       "      <th>87</th>\n",
       "      <td>2016</td>\n",
       "      <td>0.12633</td>\n",
       "      <td>31373</td>\n",
       "      <td>3963</td>\n",
       "      <td>4.92</td>\n",
       "    </tr>\n",
       "    <tr>\n",
       "      <th>88</th>\n",
       "      <td>2017</td>\n",
       "      <td>0.14232</td>\n",
       "      <td>28076</td>\n",
       "      <td>3996</td>\n",
       "      <td>4.48</td>\n",
       "    </tr>\n",
       "    <tr>\n",
       "      <th>89</th>\n",
       "      <td>2018</td>\n",
       "      <td>0.15295</td>\n",
       "      <td>24465</td>\n",
       "      <td>3742</td>\n",
       "      <td>4.27</td>\n",
       "    </tr>\n",
       "  </tbody>\n",
       "</table>\n",
       "<p>90 rows × 5 columns</p>\n",
       "</div>"
      ],
      "text/plain": [
       "     Year       qx      lx     dx     ex\n",
       "Age                                     \n",
       "0    1929  0.12134  100000  12134  53.18\n",
       "1    1930  0.01828   88695   1622  61.05\n",
       "2    1931  0.00573   88713    509  61.57\n",
       "3    1932  0.00403   87900    354  61.43\n",
       "4    1933  0.00380   87803    333  60.59\n",
       "..    ...      ...     ...    ...    ...\n",
       "85   2014  0.10163   38621   3925   5.69\n",
       "86   2015  0.11839   34308   4062   5.16\n",
       "87   2016  0.12633   31373   3963   4.92\n",
       "88   2017  0.14232   28076   3996   4.48\n",
       "89   2018  0.15295   24465   3742   4.27\n",
       "\n",
       "[90 rows x 5 columns]"
      ]
     },
     "execution_count": 85,
     "metadata": {},
     "output_type": "execute_result"
    }
   ],
   "source": [
    "period_life_table = period_life_table.set_index('Age')\n",
    "period_life_table\n"
   ]
  },
  {
   "cell_type": "code",
   "execution_count": 86,
   "id": "ranking-wells",
   "metadata": {},
   "outputs": [
    {
     "data": {
      "text/plain": [
       "0.004759279149657724"
      ]
     },
     "execution_count": 86,
     "metadata": {},
     "output_type": "execute_result"
    }
   ],
   "source": [
    "qx = period_life_table.qx\n",
    "px = 1- qx\n",
    "\n",
    "px[0:49]\n",
    "\n",
    "np.prod(px[0:49])*qx[49]"
   ]
  },
  {
   "cell_type": "code",
   "execution_count": 87,
   "id": "white-affairs",
   "metadata": {},
   "outputs": [],
   "source": [
    "#creamos una funcion para calcular distintos casos\n",
    "\n",
    "def calculo(año,edad):\n",
    "    period_life_table = life_table_m[life_table_m.Year -life_table_m.Age == año ]\n",
    "    period_life_table\n",
    "    period_life_table = period_life_table.set_index('Age')\n",
    "    period_life_table\n",
    "    \n",
    "    qx = period_life_table.qx\n",
    "    qx\n",
    "    px = 1- qx\n",
    "    px\n",
    "\n",
    "    px[0:edad]\n",
    "    return np.prod(px[0:edad])*qx[edad]\n",
    "\n",
    "\n",
    "\n",
    "\n",
    "Data =[]\n",
    "for x in range(0,56):\n",
    "        y = calculo(1930,x)\n",
    "        Data.append(y)\n"
   ]
  },
  {
   "cell_type": "code",
   "execution_count": null,
   "id": "fitting-underground",
   "metadata": {},
   "outputs": [],
   "source": []
  },
  {
   "cell_type": "markdown",
   "id": "found-monaco",
   "metadata": {},
   "source": [
    "#### <span style='color:midnightblue'>  Edwin Fernandez - BLID\n",
    "<span style='color:midnightblue'> Python para Actuarios Vida  </span>\n",
    "***"
   ]
  }
 ],
 "metadata": {
  "kernelspec": {
   "display_name": "Python 3",
   "language": "python",
   "name": "python3"
  },
  "language_info": {
   "codemirror_mode": {
    "name": "ipython",
    "version": 3
   },
   "file_extension": ".py",
   "mimetype": "text/x-python",
   "name": "python",
   "nbconvert_exporter": "python",
   "pygments_lexer": "ipython3",
   "version": "3.8.5"
  }
 },
 "nbformat": 4,
 "nbformat_minor": 5
}
