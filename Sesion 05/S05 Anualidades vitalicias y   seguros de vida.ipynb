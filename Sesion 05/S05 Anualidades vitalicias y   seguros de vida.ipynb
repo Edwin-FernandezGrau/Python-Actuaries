{
 "cells": [
  {
   "cell_type": "markdown",
   "id": "spatial-planet",
   "metadata": {},
   "source": [
    "\n",
    "# <span style='color:midnightblue'> Python para Actuarios Vida  </span>\n",
    "\n",
    "![ADRISK](Imagenes/KN.png)\n",
    "\n",
    "\n",
    "## <span style='color:midnightblue'> Sesión 05: Renta vitalicias y   seguros de vida (Parte 02)  </span>"
   ]
  },
  {
   "cell_type": "markdown",
   "id": "numerous-software",
   "metadata": {},
   "source": [
    "###  Un seguro de vida simple \n",
    "- El producto se vende a $(x)$ en el momento 0.\n",
    "![](imagenes/01.png)\n",
    "\n",
    "#### VPE \n",
    "Valor Presente Esperado:\n",
    "![](imagenes/02.png)\n",
    "![](imagenes/03.png)"
   ]
  },
  {
   "cell_type": "markdown",
   "id": "baking-adult",
   "metadata": {},
   "source": [
    "### Caso 01\n",
    "Calcular $_{5∣1}A_{65} = 1*v(6)*_{5∣}q_{65} = 1*v(6)*_{5}p_{65}*q_{70}$ con tasa i = 3%"
   ]
  },
  {
   "cell_type": "code",
   "execution_count": 11,
   "id": "electoral-witness",
   "metadata": {},
   "outputs": [
    {
     "data": {
      "text/html": [
       "<div>\n",
       "<style scoped>\n",
       "    .dataframe tbody tr th:only-of-type {\n",
       "        vertical-align: middle;\n",
       "    }\n",
       "\n",
       "    .dataframe tbody tr th {\n",
       "        vertical-align: top;\n",
       "    }\n",
       "\n",
       "    .dataframe thead th {\n",
       "        text-align: right;\n",
       "    }\n",
       "</style>\n",
       "<table border=\"1\" class=\"dataframe\">\n",
       "  <thead>\n",
       "    <tr style=\"text-align: right;\">\n",
       "      <th></th>\n",
       "      <th>age</th>\n",
       "      <th>qx</th>\n",
       "      <th>lx</th>\n",
       "      <th>ex</th>\n",
       "      <th>dx</th>\n",
       "    </tr>\n",
       "  </thead>\n",
       "  <tbody>\n",
       "    <tr>\n",
       "      <th>0</th>\n",
       "      <td>0</td>\n",
       "      <td>0.00382</td>\n",
       "      <td>100000</td>\n",
       "      <td>77.95</td>\n",
       "      <td>382</td>\n",
       "    </tr>\n",
       "    <tr>\n",
       "      <th>1</th>\n",
       "      <td>1</td>\n",
       "      <td>0.00047</td>\n",
       "      <td>99618</td>\n",
       "      <td>77.25</td>\n",
       "      <td>47</td>\n",
       "    </tr>\n",
       "    <tr>\n",
       "      <th>2</th>\n",
       "      <td>2</td>\n",
       "      <td>0.00019</td>\n",
       "      <td>99572</td>\n",
       "      <td>76.28</td>\n",
       "      <td>19</td>\n",
       "    </tr>\n",
       "    <tr>\n",
       "      <th>3</th>\n",
       "      <td>3</td>\n",
       "      <td>0.00015</td>\n",
       "      <td>99552</td>\n",
       "      <td>75.30</td>\n",
       "      <td>15</td>\n",
       "    </tr>\n",
       "    <tr>\n",
       "      <th>4</th>\n",
       "      <td>4</td>\n",
       "      <td>0.00013</td>\n",
       "      <td>99538</td>\n",
       "      <td>74.31</td>\n",
       "      <td>13</td>\n",
       "    </tr>\n",
       "    <tr>\n",
       "      <th>...</th>\n",
       "      <td>...</td>\n",
       "      <td>...</td>\n",
       "      <td>...</td>\n",
       "      <td>...</td>\n",
       "      <td>...</td>\n",
       "    </tr>\n",
       "    <tr>\n",
       "      <th>106</th>\n",
       "      <td>106</td>\n",
       "      <td>0.52076</td>\n",
       "      <td>15</td>\n",
       "      <td>1.38</td>\n",
       "      <td>8</td>\n",
       "    </tr>\n",
       "    <tr>\n",
       "      <th>107</th>\n",
       "      <td>107</td>\n",
       "      <td>0.53591</td>\n",
       "      <td>7</td>\n",
       "      <td>1.33</td>\n",
       "      <td>4</td>\n",
       "    </tr>\n",
       "    <tr>\n",
       "      <th>108</th>\n",
       "      <td>108</td>\n",
       "      <td>0.54984</td>\n",
       "      <td>3</td>\n",
       "      <td>1.29</td>\n",
       "      <td>2</td>\n",
       "    </tr>\n",
       "    <tr>\n",
       "      <th>109</th>\n",
       "      <td>109</td>\n",
       "      <td>0.56257</td>\n",
       "      <td>2</td>\n",
       "      <td>1.26</td>\n",
       "      <td>1</td>\n",
       "    </tr>\n",
       "    <tr>\n",
       "      <th>110</th>\n",
       "      <td>110</td>\n",
       "      <td>1.00000</td>\n",
       "      <td>1</td>\n",
       "      <td>1.24</td>\n",
       "      <td>1</td>\n",
       "    </tr>\n",
       "  </tbody>\n",
       "</table>\n",
       "<p>111 rows × 5 columns</p>\n",
       "</div>"
      ],
      "text/plain": [
       "     age       qx      lx     ex   dx\n",
       "0      0  0.00382  100000  77.95  382\n",
       "1      1  0.00047   99618  77.25   47\n",
       "2      2  0.00019   99572  76.28   19\n",
       "3      3  0.00015   99552  75.30   15\n",
       "4      4  0.00013   99538  74.31   13\n",
       "..   ...      ...     ...    ...  ...\n",
       "106  106  0.52076      15   1.38    8\n",
       "107  107  0.53591       7   1.33    4\n",
       "108  108  0.54984       3   1.29    2\n",
       "109  109  0.56257       2   1.26    1\n",
       "110  110  1.00000       1   1.24    1\n",
       "\n",
       "[111 rows x 5 columns]"
      ]
     },
     "execution_count": 11,
     "metadata": {},
     "output_type": "execute_result"
    }
   ],
   "source": [
    "import pandas as pd\n",
    "import numpy as np\n",
    "\n",
    "life_table = pd.read_excel(\"life_table.xlsx\",engine='openpyxl') \n",
    "life_table"
   ]
  },
  {
   "cell_type": "code",
   "execution_count": 12,
   "id": "infinite-saying",
   "metadata": {},
   "outputs": [
    {
     "data": {
      "text/plain": [
       "0.9145881430551792"
      ]
     },
     "execution_count": 12,
     "metadata": {},
     "output_type": "execute_result"
    }
   ],
   "source": [
    "qx = life_table.qx\n",
    "px = 1- qx\n",
    "kpx = np.prod(px[65:69+1])            \n",
    "kpx  "
   ]
  },
  {
   "cell_type": "code",
   "execution_count": 13,
   "id": "cardiac-jordan",
   "metadata": {},
   "outputs": [
    {
     "data": {
      "text/plain": [
       "0.020907484950241396"
      ]
     },
     "execution_count": 13,
     "metadata": {},
     "output_type": "execute_result"
    }
   ],
   "source": [
    "kqx = kpx*qx[70]\n",
    "kqx"
   ]
  },
  {
   "cell_type": "code",
   "execution_count": 14,
   "id": "labeled-pittsburgh",
   "metadata": {},
   "outputs": [
    {
     "data": {
      "text/plain": [
       "0.8374842566836542"
      ]
     },
     "execution_count": 14,
     "metadata": {},
     "output_type": "execute_result"
    }
   ],
   "source": [
    "# Discount factor\n",
    "discount_factor = (1 + 0.03) **- 6\n",
    "discount_factor"
   ]
  },
  {
   "cell_type": "code",
   "execution_count": 15,
   "id": "discrete-screw",
   "metadata": {
    "scrolled": true
   },
   "outputs": [
    {
     "data": {
      "text/plain": [
       "0.017509689492677602"
      ]
     },
     "execution_count": 15,
     "metadata": {},
     "output_type": "execute_result"
    }
   ],
   "source": [
    "# EPV of the simple life insurance \n",
    "EPV = 1*discount_factor *kqx\n",
    "EPV\n"
   ]
  },
  {
   "cell_type": "markdown",
   "id": "certified-cholesterol",
   "metadata": {},
   "source": [
    "### Caso 02\n",
    " producto vendido a $(20)$ que paga 10,000 PEN si la muerte ocurre a una edad determinada de 30 \n",
    "           "
   ]
  },
  {
   "cell_type": "code",
   "execution_count": 16,
   "id": "legendary-johnston",
   "metadata": {},
   "outputs": [
    {
     "data": {
      "text/plain": [
       "0.9930617032944541"
      ]
     },
     "execution_count": 16,
     "metadata": {},
     "output_type": "execute_result"
    }
   ],
   "source": [
    "# 10-year survival probability of (20) \n",
    "kpx = np.prod(px[(20):(30)])\n",
    "kpx\n"
   ]
  },
  {
   "cell_type": "code",
   "execution_count": 17,
   "id": "recognized-december",
   "metadata": {},
   "outputs": [
    {
     "data": {
      "text/plain": [
       "6.853806633685155"
      ]
     },
     "execution_count": 17,
     "metadata": {},
     "output_type": "execute_result"
    }
   ],
   "source": [
    "# 10-year deferred mortality probability of (20) \n",
    "kqx = kpx * qx[30]\n",
    "kqx\n",
    "\n",
    "\n",
    "# Discount factor\n",
    "discount_factor = (1 + 0.01)** - 11\n",
    "discount_factor\n",
    "\n",
    "\n",
    "# EPV of the simple life insurance\n",
    "10000 * discount_factor * kqx"
   ]
  },
  {
   "cell_type": "markdown",
   "id": "bulgarian-lending",
   "metadata": {},
   "source": [
    "## Seguro de vida total, temporal y diferida\n",
    "\n",
    "#### Una serie de contratos de un año\n",
    "\n",
    "\n",
    "![](imagenes/02.png)\n",
    "\n",
    "¿Y si?   \n",
    "- ¿El beneficio es $b_{k}$ en lugar de 1 ?\n",
    "- ¿Una serie de contratos de un año en lugar de uno solo?"
   ]
  },
  {
   "cell_type": "markdown",
   "id": "north-workshop",
   "metadata": {},
   "source": [
    "###  Estructura general\n",
    "\n",
    "Una renta vitalicia en $(x)$ con vector de beneficio por muerte:   \n",
    "\n",
    "- $(b_{0}, b_{1},…,b_{k},…)$   \n",
    "\n",
    "Serie de contratos de un año:    \n",
    "- cada una con $b_{k}⋅v(k+1)⋅_{k}p_{x}⋅q_{x+k}$ como valor presente esperado (EPV)   \n",
    "\n",
    "juntos :   \n",
    "\n",
    "-  $\\sum_{k=0}^{\\infty} b_{k}⋅v(k+1)⋅_{k}p_{x}⋅q_{x+k}$ es el EPV.\n",
    "# \n",
    "\n",
    "### Seguro de vida total\n",
    "Seguro de vida entero: de por vida.\n",
    "![](imagenes/04.png)\n",
    "\n",
    "### Seguro de vida temporal\n",
    "Seguro de vida temporal (o: término): máximo n años.\n",
    "![](imagenes/05.png)\n",
    "\n",
    "### Seguro de vida entera diferido\n",
    "Seguro de vida entera diferido: sin pagos en $u$ periodos.\n",
    "![](imagenes/06.png)\n"
   ]
  },
  {
   "cell_type": "markdown",
   "id": "brown-prerequisite",
   "metadata": {},
   "source": [
    "###  Caso 03\n",
    "Calcular $A_{35}$ para una tasa i = 3%"
   ]
  },
  {
   "cell_type": "code",
   "execution_count": 18,
   "id": "lightweight-bicycle",
   "metadata": {},
   "outputs": [
    {
     "data": {
      "text/plain": [
       "0     1.000000\n",
       "1     0.998840\n",
       "2     0.997801\n",
       "3     0.996823\n",
       "4     0.995617\n",
       "        ...   \n",
       "71    0.000154\n",
       "72    0.000074\n",
       "73    0.000034\n",
       "74    0.000015\n",
       "75    0.000007\n",
       "Length: 76, dtype: float64"
      ]
     },
     "execution_count": 18,
     "metadata": {},
     "output_type": "execute_result"
    }
   ],
   "source": [
    "qx = life_table.qx\n",
    "px = 1- qx\n",
    "\n",
    "kpx = pd.concat( [pd.Series(1), np.cumprod(px[35:len(px)-1])  ] ,ignore_index= True )             \n",
    "kpx  \n"
   ]
  },
  {
   "cell_type": "code",
   "execution_count": 19,
   "id": "understood-elimination",
   "metadata": {},
   "outputs": [
    {
     "data": {
      "text/plain": [
       "35     0.00116\n",
       "36     0.00104\n",
       "37     0.00098\n",
       "38     0.00121\n",
       "39     0.00114\n",
       "        ...   \n",
       "106    0.52076\n",
       "107    0.53591\n",
       "108    0.54984\n",
       "109    0.56257\n",
       "110    1.00000\n",
       "Name: qx, Length: 76, dtype: float64"
      ]
     },
     "execution_count": 19,
     "metadata": {},
     "output_type": "execute_result"
    }
   ],
   "source": [
    "qx[(35):len(qx)]"
   ]
  },
  {
   "cell_type": "code",
   "execution_count": 20,
   "id": "native-separate",
   "metadata": {},
   "outputs": [
    {
     "data": {
      "text/plain": [
       "0     0.001160\n",
       "1     0.001039\n",
       "2     0.000978\n",
       "3     0.001206\n",
       "4     0.001135\n",
       "        ...   \n",
       "71    0.000080\n",
       "72    0.000040\n",
       "73    0.000019\n",
       "74    0.000009\n",
       "75    0.000007\n",
       "Length: 76, dtype: float64"
      ]
     },
     "execution_count": 20,
     "metadata": {},
     "output_type": "execute_result"
    }
   ],
   "source": [
    "qxs = (qx[(35):len(qx)])\n",
    "qxs.reset_index(inplace=True,drop = True)\n",
    "qxs\n",
    "\n",
    "\n",
    "kqx = kpx*qxs\n",
    "kqx"
   ]
  },
  {
   "cell_type": "code",
   "execution_count": 21,
   "id": "accurate-arcade",
   "metadata": {},
   "outputs": [
    {
     "data": {
      "text/plain": [
       "0     0.970874\n",
       "1     0.942596\n",
       "2     0.915142\n",
       "3     0.888487\n",
       "4     0.862609\n",
       "        ...   \n",
       "71    0.119047\n",
       "72    0.115580\n",
       "73    0.112214\n",
       "74    0.108945\n",
       "75    0.105772\n",
       "Length: 76, dtype: float64"
      ]
     },
     "execution_count": 21,
     "metadata": {},
     "output_type": "execute_result"
    }
   ],
   "source": [
    "i = 0.03\n",
    "per = len(kpx)\n",
    "exp = pd.Series(range(1,per+1))\n",
    "exp\n",
    "\n",
    "\n",
    "discount_factor =  (1 + i)**-(exp)\n",
    "discount_factor"
   ]
  },
  {
   "cell_type": "code",
   "execution_count": 22,
   "id": "cognitive-cradle",
   "metadata": {},
   "outputs": [
    {
     "data": {
      "text/plain": [
       "0     1\n",
       "1     1\n",
       "2     1\n",
       "3     1\n",
       "4     1\n",
       "     ..\n",
       "71    1\n",
       "72    1\n",
       "73    1\n",
       "74    1\n",
       "75    1\n",
       "Length: 76, dtype: int64"
      ]
     },
     "execution_count": 22,
     "metadata": {},
     "output_type": "execute_result"
    }
   ],
   "source": [
    "benefits =  pd.Series([1]*len(kqx)) \n",
    "benefits"
   ]
  },
  {
   "cell_type": "code",
   "execution_count": 23,
   "id": "contrary-eligibility",
   "metadata": {},
   "outputs": [
    {
     "data": {
      "text/plain": [
       "0.28806455698960287"
      ]
     },
     "execution_count": 23,
     "metadata": {},
     "output_type": "execute_result"
    }
   ],
   "source": [
    "sum(benefits*discount_factor*kqx) "
   ]
  },
  {
   "cell_type": "markdown",
   "id": "protective-thickness",
   "metadata": {},
   "source": [
    "###  Caso 04\n",
    "Calcular $_{20∣}A_{35}$ para una tasa i = 3%"
   ]
  },
  {
   "cell_type": "code",
   "execution_count": 26,
   "id": "owned-trout",
   "metadata": {
    "scrolled": false
   },
   "outputs": [
    {
     "data": {
      "text/plain": [
       "0     1.000000\n",
       "1     0.998840\n",
       "2     0.997801\n",
       "3     0.996823\n",
       "4     0.995617\n",
       "        ...   \n",
       "71    0.000154\n",
       "72    0.000074\n",
       "73    0.000034\n",
       "74    0.000015\n",
       "75    0.000007\n",
       "Length: 76, dtype: float64"
      ]
     },
     "execution_count": 26,
     "metadata": {},
     "output_type": "execute_result"
    }
   ],
   "source": [
    "# Deferred whole-life insurance of (35)\n",
    "qx = life_table.qx\n",
    "px = 1- qx\n",
    "\n",
    "kpx = pd.concat( [pd.Series(1), np.cumprod(px[35:len(px)-1])  ] ,ignore_index= True )             \n",
    "kpx  "
   ]
  },
  {
   "cell_type": "code",
   "execution_count": 27,
   "id": "atomic-thought",
   "metadata": {
    "scrolled": true
   },
   "outputs": [
    {
     "data": {
      "text/plain": [
       "0     0.001160\n",
       "1     0.001039\n",
       "2     0.000978\n",
       "3     0.001206\n",
       "4     0.001135\n",
       "        ...   \n",
       "71    0.000080\n",
       "72    0.000040\n",
       "73    0.000019\n",
       "74    0.000009\n",
       "75    0.000007\n",
       "Length: 76, dtype: float64"
      ]
     },
     "execution_count": 27,
     "metadata": {},
     "output_type": "execute_result"
    }
   ],
   "source": [
    "qxs = (qx[(35):len(qx)])\n",
    "qxs.reset_index(inplace=True,drop = True)\n",
    "qxs\n",
    "kqx = kpx*qxs\n",
    "kqx"
   ]
  },
  {
   "cell_type": "code",
   "execution_count": 28,
   "id": "trying-distribution",
   "metadata": {},
   "outputs": [
    {
     "data": {
      "text/plain": [
       "1.0"
      ]
     },
     "execution_count": 28,
     "metadata": {},
     "output_type": "execute_result"
    }
   ],
   "source": [
    "sum(kqx)"
   ]
  },
  {
   "cell_type": "code",
   "execution_count": 29,
   "id": "weighted-mapping",
   "metadata": {
    "scrolled": true
   },
   "outputs": [
    {
     "data": {
      "text/plain": [
       "0     0.970874\n",
       "1     0.942596\n",
       "2     0.915142\n",
       "3     0.888487\n",
       "4     0.862609\n",
       "        ...   \n",
       "71    0.119047\n",
       "72    0.115580\n",
       "73    0.112214\n",
       "74    0.108945\n",
       "75    0.105772\n",
       "Length: 76, dtype: float64"
      ]
     },
     "execution_count": 29,
     "metadata": {},
     "output_type": "execute_result"
    }
   ],
   "source": [
    "i = 0.03\n",
    "per = len(kpx)\n",
    "exp = pd.Series(range(1,per+1))\n",
    "exp\n",
    "\n",
    "discount_factor =  (1 + i)**-(exp)\n",
    "discount_factor"
   ]
  },
  {
   "cell_type": "code",
   "execution_count": 31,
   "id": "surface-practitioner",
   "metadata": {
    "scrolled": true
   },
   "outputs": [
    {
     "data": {
      "text/plain": [
       "0     0\n",
       "1     0\n",
       "2     0\n",
       "3     0\n",
       "4     0\n",
       "     ..\n",
       "71    1\n",
       "72    1\n",
       "73    1\n",
       "74    1\n",
       "75    1\n",
       "Length: 76, dtype: int64"
      ]
     },
     "execution_count": 31,
     "metadata": {},
     "output_type": "execute_result"
    }
   ],
   "source": [
    "benefits =  pd.Series([0]*20 + [1]*(len(kqx)-20) )\n",
    "benefits"
   ]
  },
  {
   "cell_type": "code",
   "execution_count": 32,
   "id": "right-turkish",
   "metadata": {},
   "outputs": [
    {
     "data": {
      "text/plain": [
       "0.2552853234606238"
      ]
     },
     "execution_count": 32,
     "metadata": {},
     "output_type": "execute_result"
    }
   ],
   "source": [
    "sum(benefits * discount_factor * kqx)"
   ]
  },
  {
   "cell_type": "markdown",
   "id": "existing-valve",
   "metadata": {},
   "source": [
    "###  Caso 05\n",
    "Construya una función que calcule el EPV de un **seguro de vida completo**, tomando como insumos la edad, tasas interes y tabla de mortalidad."
   ]
  },
  {
   "cell_type": "code",
   "execution_count": 34,
   "id": "married-tragedy",
   "metadata": {},
   "outputs": [],
   "source": [
    "def whole_life(age,i,life_table):\n",
    "    \n",
    "    qx = life_table.qx\n",
    "    px = 1- qx\n",
    "    \n",
    "    kpx = pd.concat( [pd.Series(1), np.cumprod(px[age:len(px)-1])  ] ,ignore_index= True ) \n",
    "    \n",
    "    qxs = (qx[(age):len(qx)])\n",
    "    qxs.reset_index(inplace=True,drop = True)\n",
    "    \n",
    "    kqx = kpx*qxs\n",
    "    \n",
    "    per = len(kpx)\n",
    "    exp = pd.Series(range(1,per+1))\n",
    "    discount_factor =  (1 + i)**-(exp)\n",
    "\n",
    "    return sum(discount_factor * kqx)\n",
    "    \n",
    "    "
   ]
  },
  {
   "cell_type": "code",
   "execution_count": 49,
   "id": "small-dayton",
   "metadata": {},
   "outputs": [
    {
     "data": {
      "text/plain": [
       "0.28806455698960287"
      ]
     },
     "execution_count": 49,
     "metadata": {},
     "output_type": "execute_result"
    }
   ],
   "source": [
    "whole_life(35,0.03,life_table)"
   ]
  },
  {
   "cell_type": "markdown",
   "id": "natural-karen",
   "metadata": {},
   "source": [
    "### Grafique la función para una edad de 0 a 100"
   ]
  },
  {
   "cell_type": "code",
   "execution_count": 50,
   "id": "reduced-terry",
   "metadata": {},
   "outputs": [
    {
     "data": {
      "text/plain": [
       "0        0\n",
       "1        1\n",
       "2        2\n",
       "3        3\n",
       "4        4\n",
       "      ... \n",
       "96      96\n",
       "97      97\n",
       "98      98\n",
       "99      99\n",
       "100    100\n",
       "Length: 101, dtype: int64"
      ]
     },
     "execution_count": 50,
     "metadata": {},
     "output_type": "execute_result"
    }
   ],
   "source": [
    "import matplotlib.pyplot as plt\n",
    "\n",
    "age = pd.Series(range(0,100+1,1)) \n",
    "age"
   ]
  },
  {
   "cell_type": "code",
   "execution_count": 53,
   "id": "rocky-russia",
   "metadata": {
    "scrolled": true
   },
   "outputs": [
    {
     "name": "stdout",
     "output_type": "stream",
     "text": [
      "0      0.111399\n",
      "1      0.111346\n",
      "2      0.114270\n",
      "3      0.117531\n",
      "4      0.120925\n",
      "         ...   \n",
      "96     0.920970\n",
      "97     0.924968\n",
      "98     0.928579\n",
      "99     0.931830\n",
      "100    0.934749\n",
      "Length: 101, dtype: float64\n"
     ]
    }
   ],
   "source": [
    "EPV= pd.Series([whole_life(i,0.03,life_table) for i in age])\n",
    "print (EPV)"
   ]
  },
  {
   "cell_type": "code",
   "execution_count": 54,
   "id": "welsh-blues",
   "metadata": {},
   "outputs": [
    {
     "data": {
      "image/png": "[encoded data removed]",
      "text/plain": [
       "<Figure size 432x288 with 1 Axes>"
      ]
     },
     "metadata": {
      "needs_background": "light"
     },
     "output_type": "display_data"
    }
   ],
   "source": [
    "plt.plot(age,EPV,color = \"darkcyan\")\n",
    "plt.xlabel(\"Age X\")            \n",
    "plt.ylabel(\"EPV\" )\n",
    "plt.title(\"Whole life insurance (interest rate i = 3%)\")\n",
    "plt.show()"
   ]
  },
  {
   "cell_type": "markdown",
   "id": "martial-elements",
   "metadata": {},
   "source": [
    "### Grafique la función para una tasa  de 0 a 0.1 con saltos 0.001 y edad 20"
   ]
  },
  {
   "cell_type": "code",
   "execution_count": 55,
   "id": "becoming-juvenile",
   "metadata": {},
   "outputs": [],
   "source": [
    "tasa = pd.Series(range(0,101,1)) /1000\n",
    "tasa\n",
    "age = 20"
   ]
  },
  {
   "cell_type": "code",
   "execution_count": 56,
   "id": "consecutive-welsh",
   "metadata": {},
   "outputs": [
    {
     "name": "stdout",
     "output_type": "stream",
     "text": [
      "0      1.000000\n",
      "1      0.942831\n",
      "2      0.889140\n",
      "3      0.838707\n",
      "4      0.791324\n",
      "         ...   \n",
      "96     0.015000\n",
      "97     0.014624\n",
      "98     0.014262\n",
      "99     0.013915\n",
      "100    0.013581\n",
      "Length: 101, dtype: float64\n"
     ]
    }
   ],
   "source": [
    "EPV= pd.Series([whole_life(age,i,life_table) for i in tasa])\n",
    "print (EPV)"
   ]
  },
  {
   "cell_type": "code",
   "execution_count": 57,
   "id": "effective-little",
   "metadata": {},
   "outputs": [
    {
     "data": {
      "image/png": "[encoded data removed]",
      "text/plain": [
       "<Figure size 432x288 with 1 Axes>"
      ]
     },
     "metadata": {
      "needs_background": "light"
     },
     "output_type": "display_data"
    }
   ],
   "source": [
    "plt.plot(tasa,EPV,color = \"red\")\n",
    "plt.xlabel(\"Interest rate i\")            \n",
    "plt.ylabel(\"EPV\" )\n",
    "plt.title(\"Whole life insurance (age 20)\")\n",
    "plt.show()"
   ]
  },
  {
   "cell_type": "markdown",
   "id": "grateful-module",
   "metadata": {},
   "source": [
    "###  Caso 06\n",
    "Construya una función que calcule el EPV de un **seguro de vida temporal**, tomando como insumos la edad, temporalidad, tasas interes y tabla de mortalidad."
   ]
  },
  {
   "cell_type": "code",
   "execution_count": 58,
   "id": "driven-naples",
   "metadata": {},
   "outputs": [],
   "source": [
    "def temp_life(age,n,i,life_table):\n",
    "    qx = life_table.qx\n",
    "    px = 1- qx\n",
    "    \n",
    "    kpx = pd.concat( [pd.Series(1), np.cumprod(px[age:age+n-1])  ] ,ignore_index= True ) \n",
    "    \n",
    "    qxs = (qx[age:age+n])\n",
    "    qxs.reset_index(inplace=True,drop = True)\n",
    "    \n",
    "    kqx = kpx*qxs\n",
    "    \n",
    "    per = len(kpx)\n",
    "    exp = pd.Series(range(1,per+1))\n",
    "    discount_factor =  (1 + i)**-(exp)\n",
    "\n",
    "    return sum(discount_factor * kqx)"
   ]
  },
  {
   "cell_type": "code",
   "execution_count": 59,
   "id": "abandoned-jonathan",
   "metadata": {
    "scrolled": true
   },
   "outputs": [
    {
     "data": {
      "text/plain": [
       "0.07466834487388643"
      ]
     },
     "execution_count": 59,
     "metadata": {},
     "output_type": "execute_result"
    }
   ],
   "source": [
    " temp_life(20, 45, 0.02, life_table)   "
   ]
  },
  {
   "cell_type": "markdown",
   "id": "acknowledged-disease",
   "metadata": {},
   "source": [
    "###  Caso 07\n",
    "Construya una función que calcule el EPV de un **seguro de vida entera diferido**, tomando como insumos la edad, per diferidos, tasas interes y tabla de mortalidad."
   ]
  },
  {
   "cell_type": "code",
   "execution_count": 60,
   "id": "intimate-tucson",
   "metadata": {},
   "outputs": [],
   "source": [
    "def dif_life(age,u,i,life_table):\n",
    "    qx = life_table.qx\n",
    "    px = 1- qx\n",
    "    \n",
    "    kpx = pd.concat( [pd.Series(1), np.cumprod(px[age:len(px)-1])  ] ,ignore_index= True ) \n",
    "    \n",
    "    qxs = (qx[(age):len(qx)])\n",
    "    qxs.reset_index(inplace=True,drop = True)\n",
    "    \n",
    "    kqx = kpx*qxs\n",
    "    \n",
    "    per = len(kpx)\n",
    "    exp = pd.Series(range(1,per+1))\n",
    "    discount_factor =  (1 + i)**-(exp)\n",
    "\n",
    "    benefits = pd.Series([0]*u + [1]*(len(kpx)-u) )\n",
    "    return sum(benefits*discount_factor * kqx)"
   ]
  },
  {
   "cell_type": "code",
   "execution_count": 61,
   "id": "harmful-corner",
   "metadata": {},
   "outputs": [
    {
     "data": {
      "text/plain": [
       "0.2484093183347561"
      ]
     },
     "execution_count": 61,
     "metadata": {},
     "output_type": "execute_result"
    }
   ],
   "source": [
    "dif_life(20 , 45 , 0.02, life_table) "
   ]
  },
  {
   "cell_type": "markdown",
   "id": "spectacular-exhibit",
   "metadata": {},
   "source": [
    "### Beneficios combinados"
   ]
  },
  {
   "cell_type": "markdown",
   "id": "excessive-shakespeare",
   "metadata": {},
   "source": [
    "### Seguros de capital\n",
    "$A_{x:n}$ se paga al final de la muerte si ocurre entre $0$ y $n$  o si **está vivo** en el momento $n$\n",
    "![](imagenes/07.png)\n"
   ]
  },
  {
   "cell_type": "markdown",
   "id": "civilian-hindu",
   "metadata": {},
   "source": [
    "### Caso 08\n",
    "Sr X tiene 35 años.   \n",
    "Quiere ahorrar dinero para enviar a su bebé a la Facultad. Necesita 75.000 PEN cuando él cumpla 18 años.   \n",
    "Al mismo tiempo, quiere cubrir su vida. La suma asegurada es de 50.000 PEN.\n",
    "**¿Puedes diseñar este tipo de póliza de seguro de vida?**\n",
    "![](imagenes/08.png)"
   ]
  },
  {
   "cell_type": "code",
   "execution_count": 62,
   "id": "emotional-locator",
   "metadata": {},
   "outputs": [
    {
     "data": {
      "text/plain": [
       "0     1.000000\n",
       "1     0.998840\n",
       "2     0.997801\n",
       "3     0.996823\n",
       "4     0.995617\n",
       "5     0.994482\n",
       "6     0.992742\n",
       "7     0.991441\n",
       "8     0.989954\n",
       "9     0.987954\n",
       "10    0.986058\n",
       "11    0.983957\n",
       "12    0.981635\n",
       "13    0.979299\n",
       "14    0.976420\n",
       "15    0.973266\n",
       "16    0.970035\n",
       "17    0.966446\n",
       "dtype: float64"
      ]
     },
     "execution_count": 62,
     "metadata": {},
     "output_type": "execute_result"
    }
   ],
   "source": [
    "# seguro vida x 18 años  y componene de ahorro al final\n",
    "i = 0.03\n",
    "age = 35\n",
    "kpx = pd.concat([pd.Series(1), np.cumprod( px[age:age + 18 -1] ) ] ,ignore_index= True )   \n",
    "kpx"
   ]
  },
  {
   "cell_type": "code",
   "execution_count": 63,
   "id": "comparative-cookbook",
   "metadata": {},
   "outputs": [
    {
     "data": {
      "text/plain": [
       "0     0.001160\n",
       "1     0.001039\n",
       "2     0.000978\n",
       "3     0.001206\n",
       "4     0.001135\n",
       "5     0.001740\n",
       "6     0.001300\n",
       "7     0.001487\n",
       "8     0.002000\n",
       "9     0.001897\n",
       "10    0.002100\n",
       "11    0.002322\n",
       "12    0.002336\n",
       "13    0.002879\n",
       "14    0.003154\n",
       "15    0.003231\n",
       "16    0.003589\n",
       "17    0.004359\n",
       "dtype: float64"
      ]
     },
     "execution_count": 63,
     "metadata": {},
     "output_type": "execute_result"
    }
   ],
   "source": [
    "qxs = (qx[age:age+18])\n",
    "qxs.reset_index(inplace=True,drop = True)\n",
    "    \n",
    "kqx = kpx*qxs\n",
    "kqx"
   ]
  },
  {
   "cell_type": "code",
   "execution_count": 64,
   "id": "packed-iceland",
   "metadata": {},
   "outputs": [
    {
     "data": {
      "text/plain": [
       "0     0.970874\n",
       "1     0.942596\n",
       "2     0.915142\n",
       "3     0.888487\n",
       "4     0.862609\n",
       "5     0.837484\n",
       "6     0.813092\n",
       "7     0.789409\n",
       "8     0.766417\n",
       "9     0.744094\n",
       "10    0.722421\n",
       "11    0.701380\n",
       "12    0.680951\n",
       "13    0.661118\n",
       "14    0.641862\n",
       "15    0.623167\n",
       "16    0.605016\n",
       "17    0.587395\n",
       "dtype: float64"
      ]
     },
     "execution_count": 64,
     "metadata": {},
     "output_type": "execute_result"
    }
   ],
   "source": [
    "per = len(kpx)\n",
    "exp = pd.Series(range(1,per+1))\n",
    "\n",
    "discount_factor =  (1 + i)**-(exp)\n",
    "discount_factor\n"
   ]
  },
  {
   "cell_type": "code",
   "execution_count": 68,
   "id": "hungry-economy",
   "metadata": {},
   "outputs": [
    {
     "data": {
      "text/plain": [
       "0     50000\n",
       "1     50000\n",
       "2     50000\n",
       "3     50000\n",
       "4     50000\n",
       "5     50000\n",
       "6     50000\n",
       "7     50000\n",
       "8     50000\n",
       "9     50000\n",
       "10    50000\n",
       "11    50000\n",
       "12    50000\n",
       "13    50000\n",
       "14    50000\n",
       "15    50000\n",
       "16    50000\n",
       "17    50000\n",
       "dtype: int64"
      ]
     },
     "execution_count": 68,
     "metadata": {},
     "output_type": "execute_result"
    }
   ],
   "source": [
    "benefits = pd.Series([50000]*len(kqx))\n",
    "benefits"
   ]
  },
  {
   "cell_type": "code",
   "execution_count": 69,
   "id": "institutional-acoustic",
   "metadata": {
    "scrolled": true
   },
   "outputs": [
    {
     "data": {
      "text/plain": [
       "1354.6979194563246"
      ]
     },
     "execution_count": 69,
     "metadata": {},
     "output_type": "execute_result"
    }
   ],
   "source": [
    "EPV_death_benefits = sum(benefits*discount_factor*kqx)  \n",
    "EPV_death_benefits"
   ]
  },
  {
   "cell_type": "code",
   "execution_count": 70,
   "id": "advanced-essence",
   "metadata": {},
   "outputs": [
    {
     "data": {
      "text/plain": [
       "42384.34816799867"
      ]
     },
     "execution_count": 70,
     "metadata": {},
     "output_type": "execute_result"
    }
   ],
   "source": [
    "EPV_pure_endowment = 75000*(1+i)**-18 * np.prod(px[age:age + 18])   \n",
    "EPV_pure_endowment"
   ]
  },
  {
   "cell_type": "code",
   "execution_count": 71,
   "id": "forced-debate",
   "metadata": {},
   "outputs": [
    {
     "data": {
      "text/plain": [
       "0     1.000000\n",
       "1     0.970874\n",
       "2     0.942596\n",
       "3     0.915142\n",
       "4     0.888487\n",
       "5     0.862609\n",
       "6     0.837484\n",
       "7     0.813092\n",
       "8     0.789409\n",
       "9     0.766417\n",
       "10    0.744094\n",
       "11    0.722421\n",
       "12    0.701380\n",
       "13    0.680951\n",
       "14    0.661118\n",
       "15    0.641862\n",
       "16    0.623167\n",
       "17    0.605016\n",
       "dtype: float64"
      ]
     },
     "execution_count": 71,
     "metadata": {},
     "output_type": "execute_result"
    }
   ],
   "source": [
    "#premiums patter rho\n",
    "exp = pd.Series(range(per))\n",
    "discount_factor =  (1 + i)**-(exp)\n",
    "discount_factor"
   ]
  },
  {
   "cell_type": "code",
   "execution_count": 72,
   "id": "departmental-bridal",
   "metadata": {
    "scrolled": false
   },
   "outputs": [
    {
     "data": {
      "text/plain": [
       "0     1\n",
       "1     1\n",
       "2     1\n",
       "3     1\n",
       "4     1\n",
       "5     1\n",
       "6     1\n",
       "7     1\n",
       "8     1\n",
       "9     1\n",
       "10    1\n",
       "11    1\n",
       "12    1\n",
       "13    1\n",
       "14    1\n",
       "15    1\n",
       "16    1\n",
       "17    1\n",
       "dtype: int64"
      ]
     },
     "execution_count": 72,
     "metadata": {},
     "output_type": "execute_result"
    }
   ],
   "source": [
    "rho = pd.Series([1]*len(kpx))\n",
    "rho"
   ]
  },
  {
   "cell_type": "code",
   "execution_count": 73,
   "id": "local-peace",
   "metadata": {},
   "outputs": [
    {
     "data": {
      "text/plain": [
       "14.000494711733909"
      ]
     },
     "execution_count": 73,
     "metadata": {},
     "output_type": "execute_result"
    }
   ],
   "source": [
    "EPV_rho  = sum(rho*discount_factor*kpx)                      \n",
    "EPV_rho"
   ]
  },
  {
   "cell_type": "code",
   "execution_count": 74,
   "id": "extreme-bobby",
   "metadata": {
    "scrolled": true
   },
   "outputs": [
    {
     "data": {
      "text/plain": [
       "3124.1071824981304"
      ]
     },
     "execution_count": 74,
     "metadata": {},
     "output_type": "execute_result"
    }
   ],
   "source": [
    "# Actuarial equivalence\n",
    "# premium level\n",
    "result = (EPV_death_benefits+EPV_pure_endowment)/EPV_rho   \n",
    "result"
   ]
  },
  {
   "cell_type": "markdown",
   "id": "negative-idaho",
   "metadata": {},
   "source": [
    "### Caso 09 \n",
    "\n",
    "Una persona de (48) quiere asegurar una prestación de 40.000 PEN por fallecimiento entre los 55 y los 75 años. \n",
    "Adicionalmente 80.000 PEN cuando cumpla 75 años.\n",
    "tasa de interés 5%\n"
   ]
  },
  {
   "cell_type": "code",
   "execution_count": 75,
   "id": "foster-westminster",
   "metadata": {},
   "outputs": [
    {
     "data": {
      "text/plain": [
       "0     1.000000\n",
       "1     0.997060\n",
       "2     0.993839\n",
       "3     0.990540\n",
       "4     0.986875\n",
       "5     0.982424\n",
       "6     0.977826\n",
       "7     0.972077\n",
       "8     0.966128\n",
       "9     0.959819\n",
       "10    0.952447\n",
       "11    0.944628\n",
       "12    0.936523\n",
       "13    0.926708\n",
       "14    0.916514\n",
       "15    0.905901\n",
       "16    0.894985\n",
       "17    0.883046\n",
       "18    0.869650\n",
       "19    0.855110\n",
       "20    0.840624\n",
       "21    0.824484\n",
       "22    0.807623\n",
       "23    0.789161\n",
       "24    0.769432\n",
       "25    0.748634\n",
       "26    0.726041\n",
       "dtype: float64"
      ]
     },
     "execution_count": 75,
     "metadata": {},
     "output_type": "execute_result"
    }
   ],
   "source": [
    "i = 0.05\n",
    "age = 48\n",
    "kpx = pd.concat([pd.Series(1), np.cumprod( px[age:74] ) ] ,ignore_index= True )   \n",
    "kpx"
   ]
  },
  {
   "cell_type": "code",
   "execution_count": 76,
   "id": "removable-registrar",
   "metadata": {},
   "outputs": [
    {
     "data": {
      "text/plain": [
       "0     0.002940\n",
       "1     0.003221\n",
       "2     0.003300\n",
       "3     0.003665\n",
       "4     0.004451\n",
       "5     0.004598\n",
       "6     0.005750\n",
       "7     0.005949\n",
       "8     0.006309\n",
       "9     0.007371\n",
       "10    0.007820\n",
       "11    0.008105\n",
       "12    0.009815\n",
       "13    0.010194\n",
       "14    0.010613\n",
       "15    0.010916\n",
       "16    0.011939\n",
       "17    0.013396\n",
       "18    0.014541\n",
       "19    0.014486\n",
       "20    0.016140\n",
       "21    0.016861\n",
       "22    0.018462\n",
       "23    0.019729\n",
       "24    0.020798\n",
       "25    0.022594\n",
       "26    0.023952\n",
       "dtype: float64"
      ]
     },
     "execution_count": 76,
     "metadata": {},
     "output_type": "execute_result"
    }
   ],
   "source": [
    "qxs = (qx[age:75])\n",
    "qxs.reset_index(inplace=True,drop = True)\n",
    "    \n",
    "kqx = kpx*qxs\n",
    "kqx"
   ]
  },
  {
   "cell_type": "code",
   "execution_count": 77,
   "id": "affiliated-destruction",
   "metadata": {},
   "outputs": [
    {
     "data": {
      "text/plain": [
       "0     0.952381\n",
       "1     0.907029\n",
       "2     0.863838\n",
       "3     0.822702\n",
       "4     0.783526\n",
       "5     0.746215\n",
       "6     0.710681\n",
       "7     0.676839\n",
       "8     0.644609\n",
       "9     0.613913\n",
       "10    0.584679\n",
       "11    0.556837\n",
       "12    0.530321\n",
       "13    0.505068\n",
       "14    0.481017\n",
       "15    0.458112\n",
       "16    0.436297\n",
       "17    0.415521\n",
       "18    0.395734\n",
       "19    0.376889\n",
       "20    0.358942\n",
       "21    0.341850\n",
       "22    0.325571\n",
       "23    0.310068\n",
       "24    0.295303\n",
       "25    0.281241\n",
       "26    0.267848\n",
       "dtype: float64"
      ]
     },
     "execution_count": 77,
     "metadata": {},
     "output_type": "execute_result"
    }
   ],
   "source": [
    "per = len(kpx)\n",
    "exp = pd.Series(range(1,per+1))\n",
    "discount_factor =  (1 + i)**-(exp)\n",
    "discount_factor\n"
   ]
  },
  {
   "cell_type": "code",
   "execution_count": 78,
   "id": "searching-swiss",
   "metadata": {
    "scrolled": true
   },
   "outputs": [
    {
     "data": {
      "text/plain": [
       "0         0\n",
       "1         0\n",
       "2         0\n",
       "3         0\n",
       "4         0\n",
       "5         0\n",
       "6         0\n",
       "7     40000\n",
       "8     40000\n",
       "9     40000\n",
       "10    40000\n",
       "11    40000\n",
       "12    40000\n",
       "13    40000\n",
       "14    40000\n",
       "15    40000\n",
       "16    40000\n",
       "17    40000\n",
       "18    40000\n",
       "19    40000\n",
       "20    40000\n",
       "21    40000\n",
       "22    40000\n",
       "23    40000\n",
       "24    40000\n",
       "25    40000\n",
       "26    40000\n",
       "dtype: int64"
      ]
     },
     "execution_count": 78,
     "metadata": {},
     "output_type": "execute_result"
    }
   ],
   "source": [
    "benefits = pd.Series([0]*7 + [40000]*(len(kqx)-7))\n",
    "benefits"
   ]
  },
  {
   "cell_type": "code",
   "execution_count": 79,
   "id": "lesser-harvest",
   "metadata": {},
   "outputs": [
    {
     "data": {
      "text/plain": [
       "4269.95412925505"
      ]
     },
     "execution_count": 79,
     "metadata": {},
     "output_type": "execute_result"
    }
   ],
   "source": [
    "EPV_death_benefits = sum(benefits*kqx*discount_factor)\n",
    "EPV_death_benefits"
   ]
  },
  {
   "cell_type": "code",
   "execution_count": 80,
   "id": "directed-damages",
   "metadata": {},
   "outputs": [
    {
     "data": {
      "text/plain": [
       "15044.256901118222"
      ]
     },
     "execution_count": 80,
     "metadata": {},
     "output_type": "execute_result"
    }
   ],
   "source": [
    "EPV_pure_endowment = 80000*(1+i)**- 27 * np.prod(px[age:75])   \n",
    "EPV_pure_endowment"
   ]
  },
  {
   "cell_type": "code",
   "execution_count": 81,
   "id": "billion-arlington",
   "metadata": {},
   "outputs": [
    {
     "data": {
      "text/plain": [
       "0     1.000000\n",
       "1     0.952381\n",
       "2     0.907029\n",
       "3     0.863838\n",
       "4     0.822702\n",
       "5     0.783526\n",
       "6     0.746215\n",
       "7     0.710681\n",
       "8     0.676839\n",
       "9     0.644609\n",
       "10    0.613913\n",
       "11    0.584679\n",
       "12    0.556837\n",
       "13    0.530321\n",
       "14    0.505068\n",
       "15    0.481017\n",
       "16    0.458112\n",
       "17    0.436297\n",
       "18    0.415521\n",
       "19    0.395734\n",
       "20    0.376889\n",
       "21    0.358942\n",
       "22    0.341850\n",
       "23    0.325571\n",
       "24    0.310068\n",
       "25    0.295303\n",
       "26    0.281241\n",
       "dtype: float64"
      ]
     },
     "execution_count": 81,
     "metadata": {},
     "output_type": "execute_result"
    }
   ],
   "source": [
    "# Premium pattern\n",
    "#premiums patter rho\n",
    "\n",
    "exp = pd.Series(range(per))\n",
    "discount_factor =  (1 + i)**-(exp)\n",
    "discount_factor"
   ]
  },
  {
   "cell_type": "code",
   "execution_count": 84,
   "id": "thousand-cathedral",
   "metadata": {},
   "outputs": [
    {
     "name": "stdout",
     "output_type": "stream",
     "text": [
      "0     1\n",
      "1     1\n",
      "2     1\n",
      "3     1\n",
      "4     1\n",
      "5     1\n",
      "6     1\n",
      "7     1\n",
      "8     1\n",
      "9     1\n",
      "10    1\n",
      "11    1\n",
      "12    1\n",
      "13    1\n",
      "14    1\n",
      "15    1\n",
      "16    1\n",
      "17    1\n",
      "18    1\n",
      "19    1\n",
      "20    1\n",
      "21    1\n",
      "22    1\n",
      "23    1\n",
      "24    1\n",
      "25    1\n",
      "26    1\n",
      "dtype: int64\n"
     ]
    },
    {
     "data": {
      "text/plain": [
       "14.33474678677672"
      ]
     },
     "execution_count": 84,
     "metadata": {},
     "output_type": "execute_result"
    }
   ],
   "source": [
    "rho = pd.Series([1]*len(kpx))\n",
    "print(rho)\n",
    "EPV_rho  = sum(rho*discount_factor*kpx)                      \n",
    "EPV_rho"
   ]
  },
  {
   "cell_type": "code",
   "execution_count": 85,
   "id": "manual-repeat",
   "metadata": {
    "scrolled": true
   },
   "outputs": [
    {
     "data": {
      "text/plain": [
       "1347.3702268804586"
      ]
     },
     "execution_count": 85,
     "metadata": {},
     "output_type": "execute_result"
    }
   ],
   "source": [
    "# Premium level\n",
    "resultado = (EPV_pure_endowment+ EPV_death_benefits) /EPV_rho\n",
    "resultado"
   ]
  },
  {
   "cell_type": "markdown",
   "id": "found-monaco",
   "metadata": {},
   "source": [
    "#### <span style='color:midnightblue'>  Edwin Fernandez - BLID\n",
    "<span style='color:midnightblue'> Python para Actuarios Vida  </span>\n",
    "***"
   ]
  }
 ],
 "metadata": {
  "kernelspec": {
   "display_name": "Python 3",
   "language": "python",
   "name": "python3"
  },
  "language_info": {
   "codemirror_mode": {
    "name": "ipython",
    "version": 3
   },
   "file_extension": ".py",
   "mimetype": "text/x-python",
   "name": "python",
   "nbconvert_exporter": "python",
   "pygments_lexer": "ipython3",
   "version": "3.8.5"
  }
 },
 "nbformat": 4,
 "nbformat_minor": 5
}
