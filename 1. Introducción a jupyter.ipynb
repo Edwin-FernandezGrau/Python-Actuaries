{
 "cells": [
  {
   "cell_type": "markdown",
   "metadata": {},
   "source": [
    "# Python para Actuarios Vida \n",
    "# 1.Introducción al uso del Jupyter\n",
    "\n",
    "El Jupyter Notebook (Cuaderno Jupyter) en adelante Jupyter, es un entorno de trabajo interactivo que permite desarrollar código en Python (por defecto, aunque incluye otros lenguajes) de manera dinámica, a la vez que integrar en un mismo documento tanto bloques de código como texto, gráficas o imágenes. Es utilizado ampliamente en análisis numérico, estadística y machine learning, entre otros campos de la informática y las matemáticas.\n",
    "\n",
    "\n",
    "Hay varias formas distintas de utilizar el Jupyter Notebook.En todo los casos se accede a través de un navegador. Para ello, tras ejecutar el programa (que puede instalarse en Linux, Windows o MacOS) se cargará un servidor con el cual nos podremos comunicar accediendo a la dirección http://localhost:8888"
   ]
  },
  {
   "cell_type": "markdown",
   "metadata": {},
   "source": [
    "## Navegador\n",
    "\n",
    "La primera pantalla a la que se accede es un navegador de archivos que muestra el directorio de ejecución del programa. En la parte superior de la siguiente imagen se puede ver la ruta hacia el directorio actual.Aquí se pueden crear carpetas y nuevos notebooks, ver cuáles están en ejecución, mover archivos a otras ubicaciones, renombrarlos, etc\n",
    "![N](imagenes/1.Naveg.png)\n",
    "Cada notebook es un archivo con extensión .ipynb. Se puede ver el directorio donde está corriendo este mismo notebook (Introducción a jupyter.ipynb) y pueden apreciar la diferencia con otro notebook inactivo (Notebook inactivo.ipynb)."
   ]
  },
  {
   "cell_type": "markdown",
   "metadata": {},
   "source": [
    "## Notebook\n",
    "Al crear un nuevo notebook (desde el botón New de la imagen anterior) se abrirá una nueva pestaña en el navegador con un contenido semejante al de la imagen siguiente:\n",
    "![notebook](imagenes/2.New.png)\n",
    "En la parte superior pueden ver el menú y una barra con botones de acceso rápido. Debajo aparece la primera celda vacía, que empieza con el texto **In [ ]:**.\n",
    "\n",
    "Los notebooks funcionan con celdas. Las celdas pueden ser del tipo **Code** para ingresar código ejecutable de Python, o **Markdown**, que sirven para ingresar texto enriquecido. En la imagen anterior la celda se encuentra en modo Code.\n",
    "\n",
    "Las celdas de tipo **Markdown** no muestran la leyenda **In [ ]:**. Se puede cambiar el modo de la celda activa con el menú desplegable de la barra de botones de acceso rápido, que en la imagen anterior muestra el texto Code (aunque esto es tedioso y es preferible utilizar un atajo de teclado, ver más adelante)."
   ]
  },
  {
   "cell_type": "markdown",
   "metadata": {},
   "source": [
    "## Ejemplos\n",
    "Esta es una celda Markdown (no tiene la referencia In [_] al principio, y está seleccionado Markdown en el panel de botones).\n"
   ]
  },
  {
   "cell_type": "code",
   "execution_count": null,
   "metadata": {},
   "outputs": [],
   "source": [
    "Esta pretende ser una celda **Markdown**, pero olvidamos avisarle al intérprete,\n",
    "así que la considera código en Python y nos muestra un error al ejecutarla."
   ]
  },
  {
   "cell_type": "code",
   "execution_count": 7,
   "metadata": {
    "scrolled": false
   },
   "outputs": [
    {
     "name": "stdout",
     "output_type": "stream",
     "text": [
      "¡ Python para actuarios!\n"
     ]
    }
   ],
   "source": [
    "# Esta es una celda Code (intrepreta lenguaje Python)\n",
    "# el código se puede comentar utilizando el símbolo numeral\n",
    "\n",
    "print(\"¡ Python para actuarios!\")"
   ]
  },
  {
   "cell_type": "markdown",
   "metadata": {},
   "source": [
    "## Modos de Edición y Comando\n",
    "Al seleccionar una celda, ésta puede colocarse en **modo de edición** (el borde izquierdo que indica la celda activa será de color verde, y el mismo color para el resto del recuadro, tal como se ve la única celda de la imagen anterior) o en **modo de comando** (el color del borde izquierdo será celeste y el resto del recuadro gris). Para pasar entre un modo u otro se puede usar el teclado (Esc y Return) o el mouse (pulsando el puntero dentro de la celda o sobre el espacio vacío de la izquierda)."
   ]
  },
  {
   "cell_type": "markdown",
   "metadata": {},
   "source": [
    "## Atajos de teclado\n",
    "Hay un enorme conjunto de atajos de teclado que facilitan el uso del entorno, pueden ver la lista a través del menú **help/Keyboard Shortcuts**. También se pueden editar y agregar combinaciones de teclas mediante el menú **Help/Edit Keyboard Shortcuts**, por ejemplo es muy util definir un keybinding para mover las celdas hacia arriba y otro para moverlas hacia abajo. A través del menú Help también se accede a un tour educativo por las diferentes partes del entorno, ¡aprovéchenlo!\n",
    "\n",
    "Principales combinaciones útiles (funcionan cuando la celda está en modo **Comando**):\n",
    "\n",
    "|Teclas | Función |\n",
    "| :---: | :---: |\n",
    "| Shift+Enter | ejecuta la celda actual |\n",
    "| a (de \"above\") | inserta una celda por encima de la actual |\n",
    "| b (de \"below\") | inserta una celda debajo de la celda actual |\n",
    "| ddd | borra la celda actual |\n",
    "| y | convierte la celda a **Code** |\n",
    "| m | convierte la celda a **Markdown** |"
   ]
  },
  {
   "cell_type": "markdown",
   "metadata": {},
   "source": [
    "## Ejecución de celdas\n",
    "\n",
    "Cada celda se puede ejecutar con Shift+Enter o con el botón **Run**. El navegador envía el contenido de la celda al servidor, quien procesa el código Python o Markdown y devuelve el resultado, que se imprime a continuación.\n",
    "\n",
    "Al ejecutar una celda **Markdown** se procesan los códigos que identifican el texto enriquecido (negrita, listas, tablas, etc) y se muestra el texto con el formato correcto. \n",
    "Si se ejecuta una celda **Code** se procesa el código Python y, de no mediar errores, se muestra el resultado.\n",
    "\n",
    "A continuación se puede ver un cálculo sencillo, como ejemplo de que puede intercalarse código ejecutable en un notebook, lo que en conjunto permite documentar la resolución de un ejercicio. El código ejecutable se muestra con la sintaxis adecuadamente resaltada.\n"
   ]
  },
  {
   "cell_type": "code",
   "execution_count": 13,
   "metadata": {},
   "outputs": [
    {
     "name": "stdout",
     "output_type": "stream",
     "text": [
      "500\n",
      "500\n"
     ]
    }
   ],
   "source": [
    "# realizamos una suma\n",
    "x = 200\n",
    "y = 300\n",
    "print(x+y)\n",
    "\n",
    "#o importamos libreria y lo hacemos mediante función\n",
    "import numpy as np  # para nosotros: numpy (numerical python) \n",
    "print(np.add(x,y))"
   ]
  },
  {
   "cell_type": "markdown",
   "metadata": {},
   "source": [
    "#### Edwin Fernandez - BLID\n",
    "Python para Actuarios Vida"
   ]
  }
 ],
 "metadata": {
  "kernelspec": {
   "display_name": "Python 3",
   "language": "python",
   "name": "python3"
  },
  "language_info": {
   "codemirror_mode": {
    "name": "ipython",
    "version": 3
   },
   "file_extension": ".py",
   "mimetype": "text/x-python",
   "name": "python",
   "nbconvert_exporter": "python",
   "pygments_lexer": "ipython3",
   "version": "3.8.5"
  }
 },
 "nbformat": 4,
 "nbformat_minor": 4
}
