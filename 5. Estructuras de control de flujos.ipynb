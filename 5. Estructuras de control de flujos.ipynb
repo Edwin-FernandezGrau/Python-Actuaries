{
 "cells": [
  {
   "cell_type": "markdown",
   "id": "structured-warner",
   "metadata": {},
   "source": [
    "# 5. Estructuras de control de flujos\n",
    "\n",
    "Una estructura de control, es un bloque de código que permite agrupar instrucciones de manera controlada.  \n",
    "Podemos clasificarlas en dos:\n",
    "\n",
    "- **Estructuras de control condicionales**\n",
    "- **Estructuras de control iterativas**\n",
    "\n",
    "Para hablar de estructuras de control de flujo en Python, es imprescindible primero, hablar de identación.\n",
    "\n",
    "## 5.1. Identación\n",
    "**¿Qué es la identación?** En un lenguaje de programación, **la identación es lo que la sangría al lenguaje humano escrito**. Así como para el lenguaje formal, cuando uno redacta una carta, debe respetar ciertas sangrías, los lenguajes informáticos, requieren una **identación**.\n",
    "\n",
    "No todos los lenguajes de programación, necesitan de una identación, aunque sí, se estila implementarla, a fin de otorgar mayor legibilidad al código fuente. Pero **en el caso de Python, la identación es obligatoria**, ya que de ella, dependerá su estructura.\n",
    "\n",
    "\"*Una identación de 4 (cuatro) espacios en blanco, indicará que las instrucciones identadas, forman parte de una misma estructura de control*\"\n",
    "    \n",
    "    \n",
    "## 5.2. Encoding\n",
    "El encoding (o codificación) es otro de los elementos del lenguaje que no puede omitirse a la hora de hablar de estructuras de control.\n",
    "\n",
    "El **encoding** no es más que una directiva que se coloca al inicio de un archivo Python, a fin de indicar al sistema, la codificación de caracteres utilizada en el archivo.\n",
    "\n",
    "\"# -*- coding: utf-8 -*-\"\n",
    "\n",
    "\n",
    "## 5.3. Asignación múltiple\n",
    "Otra de las ventajas que Python nos provee, es la de poder asignar en una sola instrucción, múltiples variables:\n",
    "En una sola instrucción, podemos declarar tres variables: a, b y c y asignándoles un valor concreto a cada una:\n",
    "\n"
   ]
  },
  {
   "cell_type": "code",
   "execution_count": 1,
   "id": "visible-provincial",
   "metadata": {},
   "outputs": [
    {
     "name": "stdout",
     "output_type": "stream",
     "text": [
      "string\n",
      "15\n",
      "True\n"
     ]
    }
   ],
   "source": [
    "a, b, c = 'string', 15, True\n",
    "print(a )\n",
    "print(b)\n",
    "print(c) \n"
   ]
  },
  {
   "cell_type": "markdown",
   "id": "endless-declaration",
   "metadata": {},
   "source": [
    "La asignación múltiple de variables, también puede darse utilizando como valores, el contenido de una tupla.\n",
    "O también, de una lista:"
   ]
  },
  {
   "cell_type": "code",
   "execution_count": 2,
   "id": "finite-trade",
   "metadata": {},
   "outputs": [
    {
     "name": "stdout",
     "output_type": "stream",
     "text": [
      "Actuarios vida\n",
      "2021\n",
      "ADRISK\n",
      "2021\n"
     ]
    }
   ],
   "source": [
    "mi_tupla = ('Actuarios vida', 2021) \n",
    "programa, año = mi_tupla \n",
    "print (programa)\n",
    "print (año)\n",
    "\"-------------------------\"\n",
    "\n",
    "mi_lista = ['ADRISK', '2021'] \n",
    "ars, año = mi_lista \n",
    "print(ars)\n",
    "print(año)"
   ]
  },
  {
   "cell_type": "markdown",
   "id": "completed-nickel",
   "metadata": {},
   "source": [
    "## 5.3. Estructuras de control de flujo condicionales\n",
    "\n",
    "\"[...] Los condicionales nos permiten comprobar condiciones y hacer que nuestro programa se comporte de una forma u otra, que ejecute un fragmento de código u otro, dependiendo de esta condición [...]\"\n",
    "\n",
    "En la vida diaria, actuamos de acuerdo a la **evaluación de condiciones**, de manera mucho más frecuente de lo que en realidad creemos: Si el semáforo está en verde, cruzar la calle. Si no, esperar a que el semáforo se ponga en verde. A veces, también **evaluamos más de una condición para ejecutar una determinada acción**: Si llega la factura de la luz y tengo dinero, pagar la boleta.\n"
   ]
  },
  {
   "cell_type": "code",
   "execution_count": 4,
   "id": "supposed-morrison",
   "metadata": {},
   "outputs": [
    {
     "name": "stdout",
     "output_type": "stream",
     "text": [
      "Esperar\n"
     ]
    }
   ],
   "source": [
    "semaforo = \"rojo\"\n",
    "\n",
    "if semaforo == \"verde\": \n",
    "    print (\"Cruzar la calle\")  ### identación de 4 espacios\n",
    "else: \n",
    "    print (\"Esperar\")\n",
    "       "
   ]
  },
  {
   "cell_type": "markdown",
   "id": "optional-harassment",
   "metadata": {},
   "source": [
    "## 5.4. Estructuras de control iterativas\n",
    "\n",
    "A diferencia de las estructuras de control condicionales, las iterativas (también llamadas cíclicas o bucles), nos permiten ejecutar un mismo código, de manera repetida, mientras se cumpla una condición.\n",
    "\n",
    "En Python se dispone de dos estructuras cíclicas:\n",
    "\n",
    "- El bucle **while**\n",
    "- El bucle **for**"
   ]
  },
  {
   "cell_type": "markdown",
   "id": "considered-nature",
   "metadata": {},
   "source": [
    "#### 5.4.1. Bucle while\n",
    "\n",
    "Este bucle, se encarga de ejecutar una misma acción **\"mientras que\"** una determinada condición se cumpla.  \n",
    "Ejemplo: Mientras que año sea menor o igual a 2019, imprimir la frase \"Periodo sin COVID\".\n"
   ]
  },
  {
   "cell_type": "code",
   "execution_count": 10,
   "id": "sharing-percentage",
   "metadata": {
    "scrolled": true
   },
   "outputs": [
    {
     "name": "stdout",
     "output_type": "stream",
     "text": [
      "Periodo 2015 sin COVID\n",
      "Periodo 2016 sin COVID\n",
      "Periodo 2017 sin COVID\n",
      "Periodo 2018 sin COVID\n",
      "Periodo 2019 sin COVID\n"
     ]
    }
   ],
   "source": [
    "año = 2015\n",
    "while año <= 2019: \n",
    "    print (\"Periodo \" +  str(año) + \" sin COVID\")\n",
    "    año += 1 # sino incluimos esta condición el bucle es infinito\n"
   ]
  },
  {
   "cell_type": "markdown",
   "id": "crucial-arctic",
   "metadata": {},
   "source": [
    "#### 5.4.1. Bucle for\n",
    "\n",
    "El bucle for, en Python, es aquel que nos permitirá iterar sobre una variable compleja, del tipo lista o tupla:  \n",
    "\n",
    "    1) Por cada nombre en mi_lista, imprimir nombre: \n",
    "    2) Por cada producto en mi_tupla, imprimir producto:\n",
    "\n"
   ]
  },
  {
   "cell_type": "code",
   "execution_count": 8,
   "id": "educated-ottawa",
   "metadata": {},
   "outputs": [
    {
     "name": "stdout",
     "output_type": "stream",
     "text": [
      "siniestro 01\n",
      "siniestro 02\n",
      "siniestro 03\n",
      "siniestro 04\n"
     ]
    }
   ],
   "source": [
    "mi_lista = ['siniestro 01', 'siniestro 02', 'siniestro 03', 'siniestro 04'] \n",
    "for siniestro in mi_lista: \n",
    "    print(siniestro)"
   ]
  },
  {
   "cell_type": "code",
   "execution_count": 9,
   "id": "extended-prague",
   "metadata": {},
   "outputs": [
    {
     "name": "stdout",
     "output_type": "stream",
     "text": [
      "Desgrav\n",
      "soat\n",
      "rentas\n",
      "incendio\n"
     ]
    }
   ],
   "source": [
    "mi_tupla = ('Desgrav', 'soat', 'rentas', 'incendio') \n",
    "for producto in mi_tupla: \n",
    "    print (producto)"
   ]
  },
  {
   "cell_type": "markdown",
   "id": "everyday-pension",
   "metadata": {},
   "source": [
    "En los ejemplos anteriores, siniestro y producto, son dos variables declaradas en tiempo de ejecución (es decir, se declaran dinámicamente durante el bucle), asumiendo como valor, el de cada elemento de la lista (o tupla) en cada iteración.\n",
    "\n",
    "Otra forma de iterar con el bucle for, puede emular a while:\n",
    "\n",
    "    3) Por cada año en el rango 2015 a 2019, imprimir la frase \"Periodo sin COVID\":"
   ]
  },
  {
   "cell_type": "code",
   "execution_count": 11,
   "id": "higher-master",
   "metadata": {},
   "outputs": [
    {
     "name": "stdout",
     "output_type": "stream",
     "text": [
      "Periodo 2015 sin COVID\n",
      "Periodo 2016 sin COVID\n",
      "Periodo 2017 sin COVID\n",
      "Periodo 2018 sin COVID\n",
      "Periodo 2019 sin COVID\n"
     ]
    }
   ],
   "source": [
    "for año in range(2015, 2020): \n",
    "    print (\"Periodo \" +  str(año) + \" sin COVID\")"
   ]
  },
  {
   "cell_type": "markdown",
   "id": "certain-quantity",
   "metadata": {},
   "source": [
    "#### Edwin Fernandez - BLID\n",
    "Python para Actuarios Vida"
   ]
  },
  {
   "cell_type": "code",
   "execution_count": null,
   "id": "english-nirvana",
   "metadata": {},
   "outputs": [],
   "source": []
  }
 ],
 "metadata": {
  "kernelspec": {
   "display_name": "Python 3",
   "language": "python",
   "name": "python3"
  },
  "language_info": {
   "codemirror_mode": {
    "name": "ipython",
    "version": 3
   },
   "file_extension": ".py",
   "mimetype": "text/x-python",
   "name": "python",
   "nbconvert_exporter": "python",
   "pygments_lexer": "ipython3",
   "version": "3.8.5"
  }
 },
 "nbformat": 4,
 "nbformat_minor": 5
}
