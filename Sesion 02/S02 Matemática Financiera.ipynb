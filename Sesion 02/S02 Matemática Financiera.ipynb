{
 "cells": [
  {
   "cell_type": "markdown",
   "id": "spatial-planet",
   "metadata": {},
   "source": [
    "\n",
    "# <span style='color:midnightblue'> Python para Actuarios Vida   </span>\n",
    "\n",
    "![ADRISK](Imagenes/KN.png)\n",
    "\n",
    "\n",
    "## <span style='color:midnightblue'> Sesión 02 : Matemática Financiera  </span>"
   ]
  },
  {
   "cell_type": "markdown",
   "id": "naughty-tunnel",
   "metadata": {},
   "source": [
    "Se desarrolla los conceptos básicos de los vectores de flujo de efectivo y su valoración con factores de descuento. Luego, evaluará los flujos en función de su valor actual neto y creará su propia calculadora financiera. Finalmente, aprenderá acerca de las tasas de interés fijas y variables; y equivalencia de tasas en diferentes periodos."
   ]
  },
  {
   "cell_type": "markdown",
   "id": "classical-infrastructure",
   "metadata": {},
   "source": [
    "### 1. Flujo de efectivo"
   ]
  },
  {
   "cell_type": "markdown",
   "id": "dental-gabriel",
   "metadata": {},
   "source": [
    "Fije una unidad de capital y una unidad de tiempo:   \n",
    "- **0** es el momento presente;\n",
    "- ***k*** es *k* unidades de tiempo en el futuro (por ejemplo, años, meses, trimestres). \n",
    "\n",
    "Cantidad de dinero recibido o pagado en el momento ***k***:  \n",
    "\n",
    "\n",
    "- $C_{k}$\n",
    "- el flujo de caja en el momento ***k***"
   ]
  },
  {
   "cell_type": "markdown",
   "id": "cellular-africa",
   "metadata": {},
   "source": [
    "En general: para un vector de flujo de caja ($C_{0}$, $C_{1}$, $C_{2}$, $C_{3}$, $C_{4}$, ... , $C_{N-1}$, $C_{N}$):\n",
    "\n",
    "\n",
    "\n",
    "<table style=\"width:40%\">\n",
    "<tr>\n",
    "<th> Periodo </th>\n",
    "<th> 0 </th>\n",
    "<th> 1 </th>\n",
    "<th> 2 </th>\n",
    "<th> 3 </th>\n",
    "<th> 4 </th>\n",
    "<th> ... </th>      \n",
    "<th> N-1 </th>\n",
    "<th> N </th>     \n",
    "</tr>\n",
    "\n",
    "<tr>\n",
    "<td> Flujo </td>\n",
    "<td> $C_{0}$ </td>    \n",
    "<td> $C_{1}$ </td>    \n",
    "<td> $C_{2}$ </td>    \n",
    "<td> $C_{3}$ </td>\n",
    "<td> $C_{4}$ </td>    \n",
    "<td> ... </td>  \n",
    "<td>  $C_{ N-1 }$  </td>      \n",
    "<td>  $C_{ N }$  </td>\n",
    "</tr>\n",
    "</table>    \n"
   ]
  },
  {
   "cell_type": "markdown",
   "id": "choice-thursday",
   "metadata": {},
   "source": [
    "####  Ejercicio 01 \n",
    "Defina el siguiente flujo :\n",
    "\n",
    "| Periodo | 0 | 1 | 2 | 3 | 4 | 5 | 6 | 7 |\n",
    "| :---: | :---: | :---: | :---: | :---: | :---: | :---: | :---: | :---: |\n",
    "| Flujo | 500 | 400 | 300 | 200 | 200 | 200 | 200 | 200 |"
   ]
  },
  {
   "cell_type": "code",
   "execution_count": 1,
   "id": "allied-antigua",
   "metadata": {},
   "outputs": [],
   "source": [
    "#importamos libreria de operaciones con números\n",
    "import numpy as np                # permite hacer operaciones mediante funciones númericas\n",
    "import pandas as pd               # ofrece estructuras de datos y operaciones para manipular tablas numéricas y series de tiempo\n"
   ]
  },
  {
   "cell_type": "code",
   "execution_count": 4,
   "id": "concrete-threat",
   "metadata": {},
   "outputs": [
    {
     "name": "stdout",
     "output_type": "stream",
     "text": [
      "[200. 200. 200. 200. 200. 200. 200. 200.]\n",
      "[500. 400. 300. 200. 200. 200. 200. 200.]\n"
     ]
    }
   ],
   "source": [
    "# opción 1 : creación de matriz\n",
    "flujo_m = 200*np.ones(8)\n",
    "print(flujo_m)\n",
    "\n",
    "# modificar valores\n",
    "flujo_m[0] = 500\n",
    "flujo_m[1] = 400\n",
    "flujo_m[2] = 300\n",
    "print(flujo_m)\n"
   ]
  },
  {
   "cell_type": "code",
   "execution_count": 5,
   "id": "educational-assets",
   "metadata": {},
   "outputs": [
    {
     "name": "stdout",
     "output_type": "stream",
     "text": [
      "0    500.0\n",
      "1    400.0\n",
      "2    300.0\n",
      "3    200.0\n",
      "4    200.0\n",
      "5    200.0\n",
      "6    200.0\n",
      "7    200.0\n",
      "dtype: float64\n"
     ]
    }
   ],
   "source": [
    "# opción1.1 : lo convertimos la matriz en serie\n",
    "flujo_s1 = pd.Series(flujo_m)\n",
    "print(flujo_s1)"
   ]
  },
  {
   "cell_type": "code",
   "execution_count": 6,
   "id": "purple-mobility",
   "metadata": {},
   "outputs": [
    {
     "name": "stdout",
     "output_type": "stream",
     "text": [
      "0    500\n",
      "1    400\n",
      "2    300\n",
      "3    200\n",
      "4    200\n",
      "5    200\n",
      "6    200\n",
      "7    200\n",
      "dtype: int64\n"
     ]
    }
   ],
   "source": [
    "# opción2: creamos una serie inicial y cambiamos montos\n",
    "flujo_s2 = pd.Series([200]*8)\n",
    "flujo_s2\n",
    "# modificar valores\n",
    "flujo_s2[0] = 500\n",
    "flujo_s2[1] = 400\n",
    "flujo_s2[2] = 300\n",
    "print(flujo_s2)"
   ]
  },
  {
   "cell_type": "code",
   "execution_count": 7,
   "id": "instant-nicaragua",
   "metadata": {},
   "outputs": [
    {
     "name": "stdout",
     "output_type": "stream",
     "text": [
      "0    500\n",
      "1    400\n",
      "2    300\n",
      "3    200\n",
      "4    200\n",
      "5    200\n",
      "6    200\n",
      "7    200\n",
      "dtype: int64\n"
     ]
    }
   ],
   "source": [
    "# opción3 : creamos el flujo de forma directa (serie)\n",
    "flujo_s3 = pd.Series([500] + [400]+ [300] + [200]*5)\n",
    "print(flujo_s3)"
   ]
  },
  {
   "cell_type": "code",
   "execution_count": 15,
   "id": "enormous-switzerland",
   "metadata": {},
   "outputs": [
    {
     "name": "stdout",
     "output_type": "stream",
     "text": [
      "[500, 400, 300, 200, 200, 200, 200, 200]\n"
     ]
    }
   ],
   "source": [
    "# opción4 : creamos el flujo de forma directa (lista)\n",
    "flujos_l = [500,400,300] + [200]*5\n",
    "\n",
    "print(flujos_l)"
   ]
  },
  {
   "cell_type": "markdown",
   "id": "historical-aaron",
   "metadata": {},
   "source": [
    "####  Ejercicio 02\n",
    "Defina el siguiente flujo :\n",
    "\n",
    "| Periodo | 0 | 1 | 2 | 3 | 4 | 5 | 6 | 7 |\n",
    "| :---: | :---: | :---: | :---: | :---: | :---: | :---: | :---: | :---: |\n",
    "| Flujo | 100 | 200 | 300 | 400 | 500 | 600 | 700 | 800 |"
   ]
  },
  {
   "cell_type": "code",
   "execution_count": 8,
   "id": "aware-turkish",
   "metadata": {},
   "outputs": [
    {
     "name": "stdout",
     "output_type": "stream",
     "text": [
      "0    100\n",
      "1    100\n",
      "2    100\n",
      "3    100\n",
      "4    100\n",
      "5    100\n",
      "6    100\n",
      "7    100\n",
      "dtype: int64\n",
      "0    100\n",
      "1    200\n",
      "2    300\n",
      "3    400\n",
      "4    500\n",
      "5    600\n",
      "6    700\n",
      "7    800\n",
      "dtype: int64\n"
     ]
    }
   ],
   "source": [
    "#  creamos el flujo de forma directa (serie)\n",
    "\n",
    "flujo_e2 = pd.Series([100]*8)\n",
    "print(flujo_e2)\n",
    "\n",
    "for x in range(8):\n",
    "    flujo_e2[x] = 100 + x*100\n",
    "    \n",
    "print(flujo_e2)    "
   ]
  },
  {
   "cell_type": "markdown",
   "id": "balanced-engagement",
   "metadata": {},
   "source": [
    "### 2. Tasa de interés\n",
    "Hechos cruciales:\n",
    "- **¡El momento del flujo de caja importa!** ---    ---  ¡timing of cash flow matter!\n",
    "- **¡El valor temporal del dinero importa!** ---    ---   ¡time value of money matter!  \n",
    "\n",
    "La **tasa de interés** determina el crecimiento del dinero."
   ]
  },
  {
   "cell_type": "markdown",
   "id": "agreed-frequency",
   "metadata": {},
   "source": [
    "#### Acumulación\n",
    "**i** es la tasa de interés constante.\n",
    "\n",
    " | 0 |  | 1 | \n",
    "| :---: | :---:  | :---: | \n",
    " |100 PEN |$\\Rightarrow$ |  **¿x?**  |"
   ]
  },
  {
   "cell_type": "code",
   "execution_count": 9,
   "id": "sexual-disclaimer",
   "metadata": {},
   "outputs": [
    {
     "name": "stdout",
     "output_type": "stream",
     "text": [
      "103.0\n"
     ]
    }
   ],
   "source": [
    "i = 0.03\n",
    "x = 100*(1+i)\n",
    "print(x)"
   ]
  },
  {
   "cell_type": "markdown",
   "id": "compact-signature",
   "metadata": {},
   "source": [
    "#### Descuento\n",
    "El factor de descuento es $v = \\frac{1}{1+i} $ .\n",
    "\n",
    "| 0 |  | 1 |\n",
    "| :---: | :---:  | :---: | \n",
    "| **¿y?** |$\\Leftarrow$ | 100 PEN |"
   ]
  },
  {
   "cell_type": "code",
   "execution_count": 10,
   "id": "tough-basketball",
   "metadata": {},
   "outputs": [
    {
     "name": "stdout",
     "output_type": "stream",
     "text": [
      "97.0873786407767\n"
     ]
    }
   ],
   "source": [
    "v = 1/(1+i)\n",
    "y = 100*v\n",
    "print(y)"
   ]
  },
  {
   "cell_type": "markdown",
   "id": "dedicated-density",
   "metadata": {},
   "source": [
    "### De un período de tiempo a ***k*** períodos de tiempo\n",
    "-  #### Acumulación\n",
    "\n",
    "      - El valor en el  ***momento k*** de **100 PEN** pagado en el ***momento 0***\n",
    "   \n",
    "      - $= (1+i)^K = v^{-K} $\n",
    "      \n",
    "| 0 |  | ***k*** | \n",
    "| :---: | :---:  | :---: | \n",
    " |100 PEN |$\\Rightarrow$ |  **¿x?**  |\n",
    "\n",
    "-  #### Descuento\n",
    "\n",
    "      - El valor en el  ***momento 0*** de **100 PEN** pagado en el ***momento k***\n",
    "   \n",
    "      - $= (1+i)^{-K} = v^{K} $\n",
    " \n",
    " \n",
    "| 0 |  | ***k*** |\n",
    "| :---: | :---:  | :---: | \n",
    "| **¿y?** |$\\Leftarrow$ | 100 PEN |\n"
   ]
  },
  {
   "cell_type": "code",
   "execution_count": 11,
   "id": "played-paradise",
   "metadata": {},
   "outputs": [
    {
     "name": "stdout",
     "output_type": "stream",
     "text": [
      "106.08999999999999\n",
      "106.08999999999999\n"
     ]
    }
   ],
   "source": [
    "# Acumulación\n",
    "k=2\n",
    "x1 =100*(1+i)**k\n",
    "x2 = 100*v**-k\n",
    "\n",
    "print(x1)\n",
    "print(x2)"
   ]
  },
  {
   "cell_type": "code",
   "execution_count": 12,
   "id": "downtown-toyota",
   "metadata": {
    "scrolled": true
   },
   "outputs": [
    {
     "name": "stdout",
     "output_type": "stream",
     "text": [
      "94.25959091337543\n",
      "94.25959091337543\n"
     ]
    }
   ],
   "source": [
    "# Descuento\n",
    "k=2\n",
    "y1 =100*(1+i)**-k\n",
    "y2 = 100*v**k\n",
    "\n",
    "print(y1)\n",
    "print(y2)"
   ]
  },
  {
   "cell_type": "markdown",
   "id": "twelve-mystery",
   "metadata": {},
   "source": [
    "### 3. El valor presente de un vector de flujo de efectivo\n",
    "¿Cuál es el valor en k = 0 del  flujo de caja definido en el ejercicio 1?"
   ]
  },
  {
   "cell_type": "code",
   "execution_count": 13,
   "id": "after-regulation",
   "metadata": {},
   "outputs": [
    {
     "name": "stdout",
     "output_type": "stream",
     "text": [
      "0    500\n",
      "1    400\n",
      "2    300\n",
      "3    200\n",
      "4    200\n",
      "5    200\n",
      "6    200\n",
      "7    200\n",
      "dtype: int64\n",
      "cantidad de periodos\n",
      "8\n",
      "-----------\n",
      "necesita definir el vector de exponentes\n",
      "0    0\n",
      "1    1\n",
      "2    2\n",
      "3    3\n",
      "4    4\n",
      "5    5\n",
      "6    6\n",
      "7    7\n",
      "dtype: int64\n",
      "-----------\n",
      "flujos en valor presente\n",
      "0    500.000000\n",
      "1    388.349515\n",
      "2    282.778773\n",
      "3    183.028332\n",
      "4    177.697410\n",
      "5    172.521757\n",
      "6    167.496851\n",
      "7    162.618302\n",
      "dtype: float64\n",
      "valor presente\n"
     ]
    },
    {
     "data": {
      "text/plain": [
       "2034.4909392392376"
      ]
     },
     "execution_count": 13,
     "metadata": {},
     "output_type": "execute_result"
    }
   ],
   "source": [
    "# en el ejercicio 1 el vector se creo con cualquiera de los nombres : flujo_m  flujo_s1 flujo_s2 flujo_s3 flujo_l\n",
    "print(flujo_s3)\n",
    "print(\"cantidad de periodos\")\n",
    "\n",
    "per = len(flujo_s3)\n",
    "print(per)\n",
    "\n",
    "print(\"-----------\")\n",
    "\n",
    "print(\"necesita definir el vector de exponentes\")\n",
    "exp = pd.Series(range(per))  #exp = pd.Series(range(0,8,1))   # exp = pd.Series(range(8))\n",
    "print(exp)\n",
    "\n",
    "print(\"-----------\")\n",
    "\n",
    "\n",
    "print(\"flujos en valor presente\")\n",
    "\n",
    "va_pre = flujo_s3*1/(1+i)**exp\n",
    "print(va_pre)\n",
    "\n",
    "print(\"valor presente\")\n",
    "sum(va_pre)\n",
    "\n",
    "\n"
   ]
  },
  {
   "cell_type": "markdown",
   "id": "pregnant-export",
   "metadata": {},
   "source": [
    "Flujo de efectivo\n",
    "\n",
    "| Periodo | 0 | 1 | 2 | 3 | 4 | 5 | 6 | 7 |\n",
    "| :---: | :---: | :---: | :---: | :---: | :---: | :---: | :---: | :---: |\n",
    "| Flujo | 500 | 400 | 300 | 200 | 200 | 200 | 200 | 200 |\n",
    "| **Descuento**|$v^0$  |$v^1$  |$v^2$ |$v^3$ |$v^4$  | $v^5$ | $v^6$ | $v^7$ |\n",
    "| **En el momento 0** | 500 | 388.34 | 282.77 | 183.02 | 177.69 | 172.52 | 167.49 | 162.61 |\n",
    "| **Valor Presente**| 2034.49 |  | | |  |  |  |  |\n"
   ]
  },
  {
   "cell_type": "code",
   "execution_count": 14,
   "id": "suspected-beads",
   "metadata": {},
   "outputs": [
    {
     "name": "stdout",
     "output_type": "stream",
     "text": [
      "   Flujo  year  discont fac  flujo descon\n",
      "0    500     0     1.000000    500.000000\n",
      "1    400     1     0.970874    388.349515\n",
      "2    300     2     0.942596    282.778773\n",
      "3    200     3     0.915142    183.028332\n",
      "4    200     4     0.888487    177.697410\n",
      "5    200     5     0.862609    172.521757\n",
      "6    200     6     0.837484    167.496851\n",
      "7    200     7     0.813092    162.618302\n"
     ]
    }
   ],
   "source": [
    "# opción 2 : como Dataframe\n",
    "\n",
    "cash_flow2 = pd.DataFrame({\"Flujo\":flujo_s3}) # creamos una columna llamada flujo con los valores de la serie\n",
    "\n",
    "cash_flow2[\"year\"] = range(len(flujo_s3))\n",
    "\n",
    "cash_flow2[\"discont fac\"] = 1/(1+i)**cash_flow2[\"year\"] # or cash_flow2[\"discontfac\"] = 1/(1+i)**cash_flow2.index\n",
    "\n",
    "cash_flow2[\"flujo descon\"] = cash_flow2[\"Flujo\"]*cash_flow2[\"discont fac\"]\n",
    "\n",
    "sum(cash_flow2[\"flujo descon\"])\n",
    "print(cash_flow2)"
   ]
  },
  {
   "cell_type": "markdown",
   "id": "approved-promise",
   "metadata": {},
   "source": [
    "### 4. Valuación: ¿acumulación o descuento?\n",
    "Denote: $v(s, t)$ el valor en el **momento s** de **1 PEN** pagado en el **momento t**.   \n",
    "\n",
    "   - $s<t$: un factor de descuento\n",
    "| $s$ |  | $t$ |\n",
    "| :---: | :---:  | :---: | \n",
    "| **¿y?** |$\\Leftarrow$ | 1 PEN |\n",
    "   - $s>t$: un factor de acumulación\n",
    "| $t$ |  | $s$ | \n",
    "| :---: | :---:  | :---: | \n",
    " |100 PEN |$\\Rightarrow$ |  **¿x?**  |   "
   ]
  },
  {
   "cell_type": "markdown",
   "id": "boxed-speaking",
   "metadata": {},
   "source": [
    "**Determine**: $v (2, 4)$   \n",
    "valor en el **momento 2** de **1 PEN** pagado en el **momento 4**"
   ]
  },
  {
   "cell_type": "code",
   "execution_count": 15,
   "id": "orange-allen",
   "metadata": {},
   "outputs": [
    {
     "name": "stdout",
     "output_type": "stream",
     "text": [
      "0.9425959091337544\n",
      "0.9425959091337544\n"
     ]
    }
   ],
   "source": [
    "i = 0.03\n",
    "v = 1 / ( 1 + i)\n",
    "\n",
    "s = 2 \n",
    "t = 4\n",
    "\n",
    "res1 = v**(t-s)\n",
    "res2 = (1 + i) **-(t-s)\n",
    "\n",
    "print(res1)\n",
    "print(res2)"
   ]
  },
  {
   "cell_type": "markdown",
   "id": "alive-impact",
   "metadata": {},
   "source": [
    "**Determine**:  𝑣(6,3)    \n",
    "valor en el **momento 6** de **1 PEN** pagado en el **momento 3**"
   ]
  },
  {
   "cell_type": "code",
   "execution_count": 16,
   "id": "racial-endorsement",
   "metadata": {},
   "outputs": [
    {
     "name": "stdout",
     "output_type": "stream",
     "text": [
      "1.092727\n",
      "1.092727\n"
     ]
    }
   ],
   "source": [
    "s = 6 \n",
    "t = 3\n",
    " \n",
    "res3 = v**(t-s)\n",
    "res4 = (1 + i) **-(t-s)\n",
    "\n",
    "print(res3)\n",
    "print(res4)"
   ]
  },
  {
   "cell_type": "markdown",
   "id": "featured-paraguay",
   "metadata": {},
   "source": [
    "### 5. Valoración de un vector de flujo de efectivo\n",
    "\n",
    "<table style=\"width:40%\">\n",
    "<tr>\n",
    "<th> Periodo </th>\n",
    "<th> 0 </th>\n",
    "<th> 1 </th>\n",
    "<th> 2 </th>\n",
    "<th> 3 </th>\n",
    "<th> 4 </th>\n",
    "<th> ... </th>      \n",
    "<th> N-1 </th>\n",
    "<th> N </th>     \n",
    "</tr>\n",
    "\n",
    "<tr>\n",
    "<td> Flujo </td>\n",
    "<td> $C_{0}$ </td>    \n",
    "<td> $C_{1}$ </td>    \n",
    "<td> $C_{2}$ </td>    \n",
    "<td> $C_{3}$ </td>\n",
    "<td> $C_{4}$ </td>    \n",
    "<td> ... </td>  \n",
    "<td>  $C_{ N-1 }$  </td>      \n",
    "<td>  $C_{ N }$  </td>\n",
    "</tr>\n",
    "</table>    "
   ]
  },
  {
   "cell_type": "markdown",
   "id": "major-kinase",
   "metadata": {},
   "source": [
    "- El valor en el periodo $n$ :\n",
    "\n",
    "     $\\sum \\limits _{k=0} ^{N} C_{k}.v(n,k) $\n",
    "     \n",
    "     con $0 ≤ n ≤ N$.\n",
    "     \n",
    "     \n",
    "     \n",
    "- Valor presente $(n=0)$ y valor acumulado $(n=N)$.     "
   ]
  },
  {
   "cell_type": "markdown",
   "id": "opponent-bandwidth",
   "metadata": {},
   "source": [
    "####  Ejercicio 03 \n",
    "Defina el valor del siguiente flujo en el momento 03 :\n",
    "\n",
    "| Periodo | 0 | 1 | 2 | 3 | 4 | 5 | 6 | 7 |\n",
    "| :---: | :---: | :---: | :---: | :---: | :---: | :---: | :---: | :---: |\n",
    "| Flujo | 500 | 0 | 300 | 0 | 0 | 0 | 0 | 200 |"
   ]
  },
  {
   "cell_type": "code",
   "execution_count": 17,
   "id": "thick-sugar",
   "metadata": {},
   "outputs": [
    {
     "name": "stdout",
     "output_type": "stream",
     "text": [
      "0.9425959091337544\n",
      "1.092727\n"
     ]
    }
   ],
   "source": [
    "# como funcion / creación de funciones\n",
    "def discount(s,t,i):\n",
    "     return (1+i)**(s-t) #  (1+i)**-(t-s) =  v**(t-s) // v = (1+i)**-1\n",
    " \n",
    "    \n",
    "print(discount(2,4,i=0.03) ) \n",
    "print(discount(6,3,i=0.03) )  "
   ]
  },
  {
   "cell_type": "code",
   "execution_count": 18,
   "id": "ranking-industry",
   "metadata": {},
   "outputs": [
    {
     "data": {
      "text/plain": [
       "1033.0609095831378"
      ]
     },
     "execution_count": 18,
     "metadata": {},
     "output_type": "execute_result"
    }
   ],
   "source": [
    "# OPCION 01: MEDIANTE LA SUMA DE VALORES\n",
    "## valor en periodo 3 de 500 en 0 , 300 en 2, y 200 en 7\n",
    "momento = 3\n",
    "\n",
    "valor3 = 500*discount(momento,0,0.03)+ 300*discount(momento,2,0.03) + 200*discount(momento,7,0.03)\n",
    "valor3"
   ]
  },
  {
   "cell_type": "code",
   "execution_count": 19,
   "id": "built-score",
   "metadata": {},
   "outputs": [
    {
     "data": {
      "text/plain": [
       "1033.0609095831378"
      ]
     },
     "execution_count": 19,
     "metadata": {},
     "output_type": "execute_result"
    }
   ],
   "source": [
    "# OPCION 02: MEDIANTE LA CREACION DE UNA SERIE\n",
    "momento =3\n",
    "valor3s = pd.Series([500,0,300,0,0,0,0,200])* discount(momento,pd.Series(range(0,8,1)), 0.03)\n",
    "sum(valor3s)"
   ]
  },
  {
   "cell_type": "code",
   "execution_count": 20,
   "id": "surprising-mentor",
   "metadata": {
    "scrolled": true
   },
   "outputs": [
    {
     "name": "stdout",
     "output_type": "stream",
     "text": [
      "   Flujo  year\n",
      "0    500     0\n",
      "1    300     2\n",
      "2    200     7\n",
      "   Flujo  year  valor per 3\n",
      "0    500     0    546.36350\n",
      "1    300     2    309.00000\n",
      "2    200     7    177.69741\n",
      "1033.0609095831378\n",
      ".......................\n",
      "Filtrar filas\n",
      "Flujo          500.0000\n",
      "year             0.0000\n",
      "valor per 3    546.3635\n",
      "Name: 0, dtype: float64\n",
      "..........\n",
      "   Flujo  year  valor per 3\n",
      "0    500     0     546.3635\n"
     ]
    }
   ],
   "source": [
    "# OPCION 03: MEDIANTE DATAFRAME\n",
    "momento =3\n",
    "\n",
    "flujo_e3 =pd.DataFrame({\"Flujo\":[500,300,200],\"year\":[0,2,7]})\n",
    "\n",
    "print(flujo_e3)\n",
    "\n",
    "flujo_e3[\"valor per 3\"] = flujo_e3[\"Flujo\"]*discount(momento,flujo_e3[\"year\"],0.03)\n",
    "res_e3 = sum(flujo_e3[\"valor per 3\"])\n",
    "\n",
    "print(flujo_e3)\n",
    "print(res_e3)\n",
    "\n",
    "\n",
    "print('.......................')\n",
    "print('Filtrar filas')\n",
    "\n",
    "print(flujo_e3.loc[0])\n",
    "print('..........')\n",
    "\n",
    "print(flujo_e3[flujo_e3[\"year\"]== 0])"
   ]
  },
  {
   "cell_type": "code",
   "execution_count": 21,
   "id": "agreed-nicholas",
   "metadata": {
    "scrolled": true
   },
   "outputs": [
    {
     "name": "stdout",
     "output_type": "stream",
     "text": [
      "   Flujo\n",
      "0    500\n",
      "2    300\n",
      "7    200\n",
      "   Flujo  valor per 3\n",
      "0    500    546.36350\n",
      "2    300    309.00000\n",
      "7    200    177.69741\n",
      "1033.0609095831378\n"
     ]
    },
    {
     "data": {
      "text/plain": [
       "Flujo          200.00000\n",
       "valor per 3    177.69741\n",
       "Name: 7, dtype: float64"
      ]
     },
     "execution_count": 21,
     "metadata": {},
     "output_type": "execute_result"
    }
   ],
   "source": [
    "# OPCION 03.1: MEDIANTE DATAFRAME - convertimos el año en indice\n",
    "\n",
    "momento =3\n",
    "\n",
    "flujo_e3a =pd.DataFrame({\"Flujo\":[500,300,200]}, index = [0,2,7])\n",
    "print(flujo_e3a)\n",
    "\n",
    "flujo_e3a[\"valor per 3\"] = flujo_e3a[\"Flujo\"]*discount(momento,flujo_e3a.index,0.03)\n",
    "res_e3a = sum(flujo_e3[\"valor per 3\"])\n",
    "\n",
    "print(flujo_e3a)\n",
    "print(res_e3a)\n",
    "\n",
    "\n",
    "flujo_e3a.loc[7]   # al colocar el periodo como index me facilita el filtrado"
   ]
  },
  {
   "cell_type": "markdown",
   "id": "sweet-yemen",
   "metadata": {},
   "source": [
    "### 5. Cambios en la  estructura de períodos y tasas\n",
    "\n",
    "Dos preguntas:\n",
    "1. ¿Cómo lidiar con las tasas de interés cuando se aplica un cambio de período (por ejemplo, de años a meses)?\n",
    "2. ¿Cómo pasar de una tasa de interés constante a una tasa que cambia con el tiempo?\n",
    "\n",
    "**De tipos de interés anual a mensual**   \n",
    "\n",
    "   ¿Cómo derivar  la tasa  $i^*_{m}$ aplicable al período de un mes del año?\n",
    "   ![m](imagenes/m-y.png)\n",
    "   Entonces :\n",
    "   \n",
    "   -    $1 + i = (1 + i^*_{m})^m ⇔ i = (1 + i)^{1/m} − 1.$"
   ]
  },
  {
   "cell_type": "code",
   "execution_count": 22,
   "id": "alpine-horizontal",
   "metadata": {},
   "outputs": [
    {
     "name": "stdout",
     "output_type": "stream",
     "text": [
      "0.0024662697723036864\n"
     ]
    }
   ],
   "source": [
    "# interés anual \n",
    "i = 0.03\n",
    "# calcule interés mensual\n",
    "m_i = (1 + i)**(1/12)-1\n",
    "print(m_i)\n"
   ]
  },
  {
   "cell_type": "code",
   "execution_count": 23,
   "id": "unlimited-australia",
   "metadata": {},
   "outputs": [
    {
     "data": {
      "text/plain": [
       "0.030000000000001137"
      ]
     },
     "execution_count": 23,
     "metadata": {},
     "output_type": "execute_result"
    }
   ],
   "source": [
    "# De interés mensual a anual\n",
    "(1+m_i)**12 -1 "
   ]
  },
  {
   "cell_type": "markdown",
   "id": "romantic-senate",
   "metadata": {},
   "source": [
    "**Tasas de interés no constantes**\n",
    "\n",
    "Observaciones:\n",
    "- las tasas de interés no son necesariamente constantes;\n",
    "- la estructura temporal de las tasas de interés o la curva de rendimiento.   \n",
    "\n",
    "¡Incorporemos esto en nuestra notación!\n",
    "![n-i](imagenes/n_i.png)\n",
    "\n",
    "**Ejercicio 04**   \n",
    "\n",
    "Defina el siguiente vector de tasas:\n",
    "![n-i](imagenes/e4.png)"
   ]
  },
  {
   "cell_type": "code",
   "execution_count": 24,
   "id": "collect-detective",
   "metadata": {},
   "outputs": [
    {
     "data": {
      "text/plain": [
       "0    0.00\n",
       "1    0.04\n",
       "2    0.03\n",
       "3    0.02\n",
       "4    0.01\n",
       "dtype: float64"
      ]
     },
     "execution_count": 24,
     "metadata": {},
     "output_type": "execute_result"
    }
   ],
   "source": [
    "interest = pd.Series([0,0.04,0.03,0.02,0.01])\n",
    "interest"
   ]
  },
  {
   "cell_type": "code",
   "execution_count": 50,
   "id": "peripheral-revision",
   "metadata": {},
   "outputs": [
    {
     "data": {
      "text/plain": [
       "0    1.000000\n",
       "1    0.961538\n",
       "2    0.970874\n",
       "3    0.980392\n",
       "4    0.990099\n",
       "dtype: float64"
      ]
     },
     "execution_count": 50,
     "metadata": {},
     "output_type": "execute_result"
    }
   ],
   "source": [
    "# Defina el vector que contiene el inverso de 1 más la tasa de interés\n",
    "yearly_discount_factors=(1+interest)**-1\n",
    "yearly_discount_factors\n"
   ]
  },
  {
   "cell_type": "code",
   "execution_count": 51,
   "id": "designed-brook",
   "metadata": {},
   "outputs": [
    {
     "data": {
      "text/plain": [
       "0    1.000000\n",
       "1    0.961538\n",
       "2    0.933532\n",
       "3    0.915228\n",
       "4    0.906166\n",
       "dtype: float64"
      ]
     },
     "execution_count": 51,
     "metadata": {},
     "output_type": "execute_result"
    }
   ],
   "source": [
    "# Defina los factores de descuento al tiempo 0 usando cumprod()\n",
    "discount_factors = np.cumprod(yearly_discount_factors)\n",
    "discount_factors"
   ]
  },
  {
   "cell_type": "markdown",
   "id": "proper-rochester",
   "metadata": {},
   "source": [
    "### 6. Funciones / Librerias financieras"
   ]
  },
  {
   "cell_type": "markdown",
   "id": "sitting-absorption",
   "metadata": {},
   "source": [
    "**6.1 Cashflows**\n",
    "\n",
    "Las funciones de este módulo se utilizan para ciertos cálculos de interés compuesto para un flujo de efectivo bajo las siguientes restricciones:\n",
    "\n",
    "- Los períodos de pago coinciden con los períodos de capitalización.  \n",
    "- Los pagos se realizan a intervalos regulares.   \n",
    "- Los pagos son una cantidad constante.   \n",
    "- La tasa de interés es la misma durante todo el período de análisis"
   ]
  },
  {
   "cell_type": "code",
   "execution_count": 25,
   "id": "cross-pregnancy",
   "metadata": {},
   "outputs": [],
   "source": [
    "import cashflows"
   ]
  },
  {
   "cell_type": "markdown",
   "id": "contemporary-terminology",
   "metadata": {},
   "source": [
    "**pvfv**: \n",
    "calcula el valor faltante en la ecuación $fval = pval*(1 + nrate)^{nper}$"
   ]
  },
  {
   "cell_type": "code",
   "execution_count": 27,
   "id": "ruled-eight",
   "metadata": {},
   "outputs": [
    {
     "name": "stdout",
     "output_type": "stream",
     "text": [
      "-110.00000010000001\n",
      "-100.00000009090908\n"
     ]
    }
   ],
   "source": [
    "print(cashflows.pvfv(pval=100,nper=1,nrate=10))\n",
    "print(cashflows.pvfv(fval=110,nper=1,nrate=10))"
   ]
  },
  {
   "cell_type": "markdown",
   "id": "human-course",
   "metadata": {},
   "source": [
    "**pvpmt**: calcula el valor faltante $(pmt, pval, nper, nrate)$ en un modelo que relaciona un valor presente y una secuencia finita de pagos realizados al final del período (pagos atrasados o anualidades ordinarias)"
   ]
  },
  {
   "cell_type": "code",
   "execution_count": 28,
   "id": "superior-framework",
   "metadata": {},
   "outputs": [
    {
     "name": "stdout",
     "output_type": "stream",
     "text": [
      "-21.835457140057592\n",
      "100.0\n"
     ]
    }
   ],
   "source": [
    "z = cashflows.pvpmt(𝑝𝑣𝑎𝑙=100,𝑛𝑝𝑒𝑟=5,𝑛𝑟𝑎𝑡𝑒=3)\n",
    "print(z)\n",
    "\n",
    "a = cashflows.pvpmt(pmt=z,𝑛𝑝𝑒𝑟=5,𝑛𝑟𝑎𝑡𝑒=3)\n",
    "print(a)"
   ]
  },
  {
   "cell_type": "markdown",
   "id": "magnetic-regard",
   "metadata": {},
   "source": [
    "**amortize**  calcula y devuelve las columnas de un programa de amortización de un préstamo.  \n",
    "La función devuelve el pago de intereses, el reembolso del principal, el pago periódico y el saldo al final de cada período."
   ]
  },
  {
   "cell_type": "code",
   "execution_count": 29,
   "id": "practical-divide",
   "metadata": {
    "scrolled": false
   },
   "outputs": [
    {
     "name": "stdout",
     "output_type": "stream",
     "text": [
      "   Beg_Balance  Payment  Interest  Principal  Final_Balance\n",
      "0       100.00     0.00      0.00       0.00         100.00\n",
      "1       100.00   -26.38     10.00     -16.38          83.62\n",
      "2        83.62   -26.38      8.36     -18.02          65.60\n",
      "3        65.60   -26.38      6.56     -19.82          45.78\n",
      "4        45.78   -26.38      4.58     -21.80          23.98\n",
      "5        23.98   -26.38      2.40     -23.98           0.00\n"
     ]
    }
   ],
   "source": [
    "x = cashflows.amortize(pval=100, nrate=10, nper=5, fval=0) \n",
    "print(x)\n"
   ]
  },
  {
   "cell_type": "code",
   "execution_count": 29,
   "id": "objective-sodium",
   "metadata": {},
   "outputs": [
    {
     "name": "stdout",
     "output_type": "stream",
     "text": [
      "-100.0\n"
     ]
    }
   ],
   "source": [
    "print(sum(x['Principal']))"
   ]
  },
  {
   "cell_type": "markdown",
   "id": "advanced-seventh",
   "metadata": {},
   "source": [
    "**6.2 Numpy financial**\n",
    "\n",
    "El paquete numpy-financial es una colección de funciones financieras elementales:   \n",
    " -    **fv**(rate, nper, pmt, pv[, when])  $\\Rightarrow$        $\\Rightarrow$    Determina el valor futuro  \n",
    " - \n",
    " - **ipmt**(rate, per, nper, pv[, fv, when]) $\\Rightarrow$  Determina los intereses de un pago\n",
    " - \n",
    " - **irr**(values) $\\Rightarrow$  Devuelve la Tasa Interna de Retorno (TIR).   \n",
    " - \n",
    " - **mirr**(values, finance_rate, reinvest_rate)   $\\Rightarrow$ Devuelve la Tasa Interna de Retorno Modificada   \n",
    " - \n",
    " - **nper**(rate, pmt, pv[, fv, when])  $\\Rightarrow$ Calcula la cantidad de pagos periódicos.  \n",
    " - \n",
    " - **npv**(rate, values) $\\Rightarrow$ Devuelve el VAN (valor actual neto) de una serie de flujos de efectivo \n",
    " - \n",
    " - **pmt**(rate, nper, pv[, fv, when]) $\\Rightarrow$ Calcula el pago contra el capital del préstamo más los intereses  \n",
    " - \n",
    " - **ppmt**(rate, per, nper, pv[, fv, when]) $\\Rightarrow$ Calcula el pago contra el capital del préstamo.   \n",
    " - \n",
    " - **pv**(rate, nper, pmt[, fv, when]) $\\Rightarrow$ Calcule el valor presente.  \n",
    " - \n",
    " - **rate**(nper, pmt, pv, fv[, when, guess, tol, …]) $\\Rightarrow$ Calcule la tasa de interés por período  \n"
   ]
  },
  {
   "cell_type": "code",
   "execution_count": 31,
   "id": "liked-mission",
   "metadata": {},
   "outputs": [],
   "source": [
    "import numpy_financial as npf"
   ]
  },
  {
   "cell_type": "code",
   "execution_count": 33,
   "id": "timely-nicholas",
   "metadata": {
    "scrolled": true
   },
   "outputs": [],
   "source": [
    "interest_rate = 0.05/12\n",
    "n_periods = 10*12\n",
    "payment_per_month = -200\n",
    "present_value = -200"
   ]
  },
  {
   "cell_type": "code",
   "execution_count": 34,
   "id": "lovely-lunch",
   "metadata": {},
   "outputs": [
    {
     "name": "stdout",
     "output_type": "stream",
     "text": [
      "31386\n"
     ]
    }
   ],
   "source": [
    "future_value = npf.fv(interest_rate, n_periods, payment_per_month, present_value)\n",
    "print(round(future_value))"
   ]
  },
  {
   "cell_type": "code",
   "execution_count": 36,
   "id": "stunning-theology",
   "metadata": {
    "scrolled": true
   },
   "outputs": [
    {
     "name": "stdout",
     "output_type": "stream",
     "text": [
      "-31386\n"
     ]
    }
   ],
   "source": [
    "# importa el orden de los argumento, se recomienda usar la asignaciones\n",
    "future_value2 = npf.fv(pv = 200,pmt=200,nper=120,rate=0.05/12)\n",
    "print(round(future_value2))"
   ]
  },
  {
   "cell_type": "markdown",
   "id": "found-monaco",
   "metadata": {},
   "source": [
    "#### <span style='color:midnightblue'>  Edwin Fernandez - ADRISK\n",
    "<span style='color:midnightblue'> Programa de Especialización Ejecutiva - Python para Actuarios Vida  </span>\n",
    "***"
   ]
  }
 ],
 "metadata": {
  "kernelspec": {
   "display_name": "Python 3",
   "language": "python",
   "name": "python3"
  },
  "language_info": {
   "codemirror_mode": {
    "name": "ipython",
    "version": 3
   },
   "file_extension": ".py",
   "mimetype": "text/x-python",
   "name": "python",
   "nbconvert_exporter": "python",
   "pygments_lexer": "ipython3",
   "version": "3.8.5"
  }
 },
 "nbformat": 4,
 "nbformat_minor": 5
}
