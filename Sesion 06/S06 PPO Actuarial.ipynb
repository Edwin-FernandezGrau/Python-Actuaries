{
 "cells": [
  {
   "cell_type": "markdown",
   "id": "spatial-planet",
   "metadata": {},
   "source": [
    "\n",
    "# <span style='color:midnightblue'> Python para Actuarios Vida   </span>\n",
    "\n",
    "![ADRISK](Imagenes/KN.png)\n",
    "\n",
    "\n",
    "## <span style='color:midnightblue'> Sesión 06: Módulos propios y POO Actuarial  </span>"
   ]
  },
  {
   "cell_type": "markdown",
   "id": "executive-sucking",
   "metadata": {},
   "source": [
    "## Creación e importación de módulos propios"
   ]
  },
  {
   "cell_type": "code",
   "execution_count": 1,
   "id": "random-roads",
   "metadata": {},
   "outputs": [],
   "source": [
    "# importar un módulo de funciones creado por usted mismo\n",
    "import Funact as fa\n",
    "import pandas as pd\n",
    "life_table = pd.read_excel(\"life_table.xlsx\",engine='openpyxl')\n",
    "temporales = pd.read_excel(\"temporales.xlsx\",engine='openpyxl')"
   ]
  },
  {
   "cell_type": "code",
   "execution_count": 2,
   "id": "close-healthcare",
   "metadata": {
    "scrolled": true
   },
   "outputs": [
    {
     "name": "stdout",
     "output_type": "stream",
     "text": [
      "    nro_cliente  age   n      i  benefit\n",
      "0             1   47  12  0.064     3098\n",
      "1             2   29   8  0.067     3999\n",
      "2             3   45   6  0.058     2397\n",
      "3             4   35  14  0.032     1502\n",
      "4             5   52   9  0.064     4524\n",
      "5             6   33  15  0.058     8074\n",
      "6             7   44   6  0.079     7188\n",
      "7             8   45   6  0.054     5855\n",
      "8             9   52   6  0.056     7135\n",
      "9            10   34  11  0.065     4568\n",
      "10           11   27   9  0.046     8783\n",
      "11           12   29  10  0.072     9634\n",
      "12           13   32  11  0.070     5155\n",
      "13           14   30   8  0.073     8082\n",
      "14           15   38  11  0.038     9647\n",
      "15           16   47  15  0.045     5642\n",
      "16           17   39   7  0.056     7174\n",
      "17           18   51  15  0.071     1801\n",
      "18           19   27   8  0.060     1652\n",
      "19           20   39   5  0.052     6528\n"
     ]
    }
   ],
   "source": [
    "print(temporales)"
   ]
  },
  {
   "cell_type": "code",
   "execution_count": 4,
   "id": "tired-understanding",
   "metadata": {
    "scrolled": true
   },
   "outputs": [
    {
     "data": {
      "text/plain": [
       "['__builtins__',\n",
       " '__cached__',\n",
       " '__doc__',\n",
       " '__file__',\n",
       " '__loader__',\n",
       " '__name__',\n",
       " '__package__',\n",
       " '__spec__',\n",
       " 'dif_life',\n",
       " 'life_table',\n",
       " 'np',\n",
       " 'pd',\n",
       " 'temp_life',\n",
       " 'whole_life']"
      ]
     },
     "execution_count": 4,
     "metadata": {},
     "output_type": "execute_result"
    }
   ],
   "source": [
    "# qué funciones tiene\n",
    "dir(fa)"
   ]
  },
  {
   "cell_type": "code",
   "execution_count": 6,
   "id": "adaptive-parameter",
   "metadata": {
    "scrolled": true
   },
   "outputs": [
    {
     "name": "stdout",
     "output_type": "stream",
     "text": [
      "Help on function temp_life in module Funact:\n",
      "\n",
      "temp_life(age, n, i, life_table)\n",
      "    Construya un seguro de vida temporal, tomando como insumos la edad, temporalidad, tasas interes y tabla de mortalidad\n",
      "\n"
     ]
    }
   ],
   "source": [
    "# qué hace cada función\n",
    "help(fa.temp_life)\n"
   ]
  },
  {
   "cell_type": "code",
   "execution_count": 7,
   "id": "sealed-klein",
   "metadata": {},
   "outputs": [
    {
     "name": "stdout",
     "output_type": "stream",
     "text": [
      "Help on function whole_life in module Funact:\n",
      "\n",
      "whole_life(age, i, life_table)\n",
      "    Construya un seguro de vida completo, tomando como insumos la edad, tasas interes y tabla de mortalidad\n",
      "\n"
     ]
    }
   ],
   "source": [
    "help(fa.whole_life)"
   ]
  },
  {
   "cell_type": "code",
   "execution_count": 8,
   "id": "separate-bones",
   "metadata": {},
   "outputs": [
    {
     "data": {
      "text/plain": [
       "0.21920686109887003"
      ]
     },
     "execution_count": 8,
     "metadata": {},
     "output_type": "execute_result"
    }
   ],
   "source": [
    "#aplicamos una\n",
    "fa.whole_life(25,0.03,life_table)"
   ]
  },
  {
   "cell_type": "code",
   "execution_count": 14,
   "id": "empty-local",
   "metadata": {
    "scrolled": false
   },
   "outputs": [
    {
     "name": "stdout",
     "output_type": "stream",
     "text": [
      "Help on function dif_life in module Funact:\n",
      "\n",
      "dif_life(age, u, i, life_table)\n",
      "    Construya una función que calcule el EPV de un seguro de vida entera diferido, tomando como insumos la edad, per diferidos, tasas interes y tabla de mortalidad.\n",
      "\n"
     ]
    }
   ],
   "source": [
    "help(fa.dif_life)"
   ]
  },
  {
   "cell_type": "code",
   "execution_count": 9,
   "id": "sealed-richardson",
   "metadata": {},
   "outputs": [
    {
     "data": {
      "text/plain": [
       "112.98492641581267"
      ]
     },
     "execution_count": 9,
     "metadata": {},
     "output_type": "execute_result"
    }
   ],
   "source": [
    "fa.temp_life(47,12,0.064,life_table)*3098"
   ]
  },
  {
   "cell_type": "code",
   "execution_count": 16,
   "id": "cleared-tackle",
   "metadata": {},
   "outputs": [],
   "source": [
    "# aplicamos la función para todos los clientes\n",
    " temporales[\"prima\"]=  [fa.temp_life(temporales.age[x] ,temporales.n[x],temporales.i[x],life_table)*temporales.benefit[x] for x in range(len(temporales))]\n",
    "\n"
   ]
  },
  {
   "cell_type": "code",
   "execution_count": 15,
   "id": "naughty-lobby",
   "metadata": {},
   "outputs": [
    {
     "name": "stdout",
     "output_type": "stream",
     "text": [
      "    nro_cliente  age   n      i  benefit       prima       prueba\n",
      "0             1   47  12  0.064     3098  112.984926  3210.984926\n",
      "1             2   29   8  0.067     3999   20.787406  4019.787406\n",
      "2             3   45   6  0.058     2397   31.633709  2428.633709\n",
      "3             4   35  14  0.032     1502   27.084684  1529.084684\n",
      "4             5   52   9  0.064     4524  197.033207  4721.033207\n",
      "5             6   33  15  0.058     8074  109.371231  8183.371231\n",
      "6             7   44   6  0.079     7188   80.768750  7268.768750\n",
      "7             8   45   6  0.054     5855   78.334800  5933.334800\n",
      "8             9   52   6  0.056     7135  203.337010  7338.337010\n",
      "9            10   34  11  0.065     4568   45.145147  4613.145147\n",
      "10           11   27   9  0.046     8783   51.249968  8834.249968\n",
      "11           12   29  10  0.072     9634   59.857348  9693.857348\n",
      "12           13   32  11  0.070     5155   41.491303  5196.491303\n",
      "13           14   30   8  0.073     8082   40.912239  8122.912239\n",
      "14           15   38  11  0.038     9647  154.103424  9801.103424\n",
      "15           16   47  15  0.045     5642  319.160959  5961.160959\n",
      "16           17   39   7  0.056     7174   66.729164  7240.729164\n",
      "17           18   51  15  0.071     1801  119.084285  1920.084285\n",
      "18           19   27   8  0.060     1652    7.902364  1659.902364\n",
      "19           20   39   5  0.052     6528   42.846088  6570.846088\n"
     ]
    }
   ],
   "source": [
    "print(temporales)"
   ]
  },
  {
   "cell_type": "markdown",
   "id": "korean-press",
   "metadata": {},
   "source": [
    "##  Programación Orientada a Objetos\n",
    "\n",
    "Python es un lenguaje de programación orientado a objetos. Eso significa que proporciona funciones que admiten la **programación orientada a objetos (OOP)**.\n",
    "\n",
    "Hasta ahora, los programas que hemos estado escribiendo utilizan un paradigma de programación procedimental. En la programación de procedimientos, el enfoque está en escribir funciones o procedimientos que operan sobre datos.    \n",
    "En la programación orientada a objetos, el foco está en la **creación de objetos que contienen tanto datos como funcionalidad juntos**. Por lo general, **cada definición de objeto corresponde a algún objeto o concepto en el mundo real** y las funciones que operan en ese objeto corresponden a las formas en que interactúan los objetos del mundo real."
   ]
  },
  {
   "cell_type": "markdown",
   "id": "patent-swaziland",
   "metadata": {},
   "source": [
    "En Python, **cada valor es en realidad un objeto**. Ya sea un diccionario, una lista o incluso un número entero, todos son objetos. Los programas manipulan esos objetos realizando cálculos con ellos o pidiéndoles que realicen métodos. Para ser más específicos, decimos que un objeto tiene un **estado** y una **colección de métodos** que puede realizar. *El estado de un objeto representa aquellas cosas que el objeto sabe sobre sí mismo*. El estado se almacena en variables de instancia. \n",
    "\n",
    "![](imagenes/p00.png)"
   ]
  },
  {
   "cell_type": "markdown",
   "id": "pleased-hammer",
   "metadata": {},
   "source": [
    "### Definición de Clases\n",
    "\n",
    "Hemos visto clases como **str, int, float y list**. Estos fueron definidos por Python y están disponibles para que los usemos. Sin embargo, en muchos casos, cuando estamos resolviendo problemas, necesitamos crear objetos de datos que estén relacionados con el problema que estamos tratando de resolver. **Necesitamos crear nuestras propias clases**.\n",
    "\n",
    "Considere el concepto de punto matemático.    \n",
    "En dos dimensiones, un punto son dos números (coordenadas) que se tratan colectivamente como un solo objeto. Los puntos a menudo se escriben entre paréntesis con una coma que separa las coordenadas. Por ejemplo, **(0, 0) representa el origen** y **(x, y)** representa el punto **x unidades a la derecha** e **y unidades hacia arriba desde el origen**. Este (x, y) es el estado del punto.\n",
    "\n",
    "Pensando en nuestro diagrama anterior, podríamos dibujar un objeto puntual como se muestra aquí.\n",
    "![](imagenes/p01.png)"
   ]
  },
  {
   "cell_type": "code",
   "execution_count": 18,
   "id": "julian-portuguese",
   "metadata": {},
   "outputs": [],
   "source": [
    "class Point:\n",
    "    \"\"\" Point class for representing and manipulating x,y coordinates. \"\"\"\n",
    "\n",
    "    def __init__(self):\n",
    "        \"\"\" Create a new point at the origin \"\"\"\n",
    "        self.x = 0\n",
    "        self.y = 0"
   ]
  },
  {
   "cell_type": "code",
   "execution_count": 23,
   "id": "extensive-tokyo",
   "metadata": {},
   "outputs": [
    {
     "name": "stdout",
     "output_type": "stream",
     "text": [
      "Nothing seems to have happened with the points\n"
     ]
    }
   ],
   "source": [
    "p = Point()         # Instantiate an object of type Point\n",
    "q = Point()         # and make a second point\n",
    "\n",
    "print(\"Nothing seems to have happened with the points\")\n"
   ]
  },
  {
   "cell_type": "code",
   "execution_count": 24,
   "id": "israeli-macintosh",
   "metadata": {},
   "outputs": [
    {
     "name": "stdout",
     "output_type": "stream",
     "text": [
      "<__main__.Point object at 0x000002C48742BF10>\n",
      "<__main__.Point object at 0x000002C484A8E1F0>\n",
      "False\n"
     ]
    }
   ],
   "source": [
    "print(p)\n",
    "print(q)\n",
    "\n",
    "print(p is q)\n"
   ]
  },
  {
   "cell_type": "markdown",
   "id": "utility-sample",
   "metadata": {},
   "source": [
    "Podemos hacer que nuestro constructor de clases se pueda usar de manera más general poniendo parámetros adicionales en el método __init__, como se muestra en este ejemplo."
   ]
  },
  {
   "cell_type": "code",
   "execution_count": 25,
   "id": "promising-bradley",
   "metadata": {},
   "outputs": [],
   "source": [
    "class Point:\n",
    "    \"\"\" Point class for representing and manipulating x,y coordinates. \"\"\"\n",
    "\n",
    "    def __init__(self, initX, initY):\n",
    "\n",
    "        self.x = initX\n",
    "        self.y = initY\n",
    "\n",
    "p = Point(7,6)"
   ]
  },
  {
   "cell_type": "code",
   "execution_count": 27,
   "id": "massive-membership",
   "metadata": {
    "scrolled": true
   },
   "outputs": [
    {
     "data": {
      "text/plain": [
       "7"
      ]
     },
     "execution_count": 27,
     "metadata": {},
     "output_type": "execute_result"
    }
   ],
   "source": [
    "p.x"
   ]
  },
  {
   "cell_type": "code",
   "execution_count": 28,
   "id": "saving-treasurer",
   "metadata": {},
   "outputs": [],
   "source": [
    "punto2 = Point(4,2)"
   ]
  },
  {
   "cell_type": "code",
   "execution_count": 30,
   "id": "interracial-virus",
   "metadata": {},
   "outputs": [
    {
     "data": {
      "text/plain": [
       "2"
      ]
     },
     "execution_count": 30,
     "metadata": {},
     "output_type": "execute_result"
    }
   ],
   "source": [
    "punto2.y"
   ]
  },
  {
   "cell_type": "markdown",
   "id": "equal-consumption",
   "metadata": {},
   "source": [
    "La ventaja clave de usar una clase como Point en lugar de algo como una simple tupla (7, 6) ahora se hace evidente. Podemos agregar métodos a la clase Point que sean operaciones sensibles para puntos. Si hubiéramos elegido usar una tupla para representar el punto, no tendríamos esta capacidad.\n",
    "\n",
    "Algunas de las operaciones típicas que se asocian con puntos podrían ser pedirle al punto su coordenada x, **getX**, o pedirle su coordenada y, **getY**. Querría que estos tipos de funciones estuvieran disponibles para evitar cambios accidentales en estas variables de instancia, ya que hacerlo le permitiría ver los valores sin acceder a ellos directamente.\n",
    "\n",
    "Agreguemos dos métodos simples para permitir que un punto nos brinde información sobre su estado\n",
    "\n",
    "La implementación de este método es sencilla, ya que sabemos cómo escribir funciones que devuelven valores. Una cosa a tener en cuenta es que aunque el método **getX** no necesita ninguna otra información de parámetro para hacer su trabajo, todavía hay un parámetro formal, **self**. Todos los métodos definidos en una clase que operan en objetos de esa clase tendrán **self** como su primer parámetro. Una vez más, esto sirve como referencia al objeto en sí, que a su vez da acceso a los datos de estado dentro del objeto."
   ]
  },
  {
   "cell_type": "code",
   "execution_count": 31,
   "id": "documented-language",
   "metadata": {},
   "outputs": [
    {
     "name": "stdout",
     "output_type": "stream",
     "text": [
      "7\n",
      "6\n"
     ]
    }
   ],
   "source": [
    "class Point:\n",
    "    \"\"\" Point class for representing and manipulating x,y coordinates. \"\"\"\n",
    "\n",
    "    def __init__(self, initX, initY):\n",
    "\n",
    "        self.x = initX\n",
    "        self.y = initY\n",
    "\n",
    "    def getX(self):\n",
    "        return self.x\n",
    "\n",
    "    def getY(self):\n",
    "        return self.y\n",
    "\n",
    "\n",
    "p = Point(7,6)\n",
    "\n",
    "print(p.getX())\n",
    "print(p.getY())\n"
   ]
  },
  {
   "cell_type": "code",
   "execution_count": 32,
   "id": "forward-shoulder",
   "metadata": {},
   "outputs": [],
   "source": [
    "p2 = Point(4,3)"
   ]
  },
  {
   "cell_type": "code",
   "execution_count": 43,
   "id": "swedish-brunswick",
   "metadata": {},
   "outputs": [
    {
     "name": "stdout",
     "output_type": "stream",
     "text": [
      "4\n"
     ]
    }
   ],
   "source": [
    "print(p2.getX())"
   ]
  },
  {
   "cell_type": "markdown",
   "id": "capable-curtis",
   "metadata": {},
   "source": [
    "Agreguemos otro método, **distanceFromOrigin**, para ver mejor cómo funcionan los métodos. Este método nuevamente no necesitará ninguna información adicional para hacer su trabajo, más allá de los datos almacenados en las variables de instancia. Realizará una tarea más compleja."
   ]
  },
  {
   "cell_type": "code",
   "execution_count": 44,
   "id": "extensive-funeral",
   "metadata": {},
   "outputs": [],
   "source": [
    "class Point:\n",
    "    \"\"\" Point class for representing and manipulating x,y coordinates. \"\"\"\n",
    "\n",
    "    def __init__(self, initX, initY):\n",
    "\n",
    "        self.x = initX\n",
    "        self.y = initY\n",
    "\n",
    "    def getX(self):\n",
    "        return self.x\n",
    "\n",
    "    def getY(self):\n",
    "        return self.y\n",
    "\n",
    "    def distanceFromOrigin(self):\n",
    "        return ((self.x ** 2) + (self.y ** 2)) ** 0.5\n",
    "\n",
    "\n"
   ]
  },
  {
   "cell_type": "code",
   "execution_count": 47,
   "id": "tamil-gibraltar",
   "metadata": {},
   "outputs": [
    {
     "data": {
      "text/plain": [
       "5.0"
      ]
     },
     "execution_count": 47,
     "metadata": {},
     "output_type": "execute_result"
    }
   ],
   "source": [
    "p = Point(4,3)\n",
    "p.distanceFromOrigin()"
   ]
  },
  {
   "cell_type": "markdown",
   "id": "decreased-classics",
   "metadata": {},
   "source": [
    "### Objetos como argumentos y parámetros\n",
    "\n",
    "Puede pasar un objeto como argumento a una función, de la forma habitual.\n",
    "\n",
    "Aquí hay una función simple llamada **distancia** que involucra nuestros nuevos objetos **Point**. El trabajo de esta función es calcular la distancia entre dos puntos."
   ]
  },
  {
   "cell_type": "code",
   "execution_count": 49,
   "id": "optional-rainbow",
   "metadata": {},
   "outputs": [],
   "source": [
    "import math\n",
    "\n",
    "def distance(point1, point2):\n",
    "    \n",
    "    xdiff = point2.getX()-point1.getX()\n",
    "    ydiff = point2.getY()-point1.getY()\n",
    "    dist = math.sqrt(xdiff**2 + ydiff**2)\n",
    "    return dist\n",
    "\n"
   ]
  },
  {
   "cell_type": "code",
   "execution_count": 51,
   "id": "governmental-mobility",
   "metadata": {},
   "outputs": [
    {
     "name": "stdout",
     "output_type": "stream",
     "text": [
      "3.605551275463989\n"
     ]
    }
   ],
   "source": [
    "p = Point(4,3)\n",
    "q = Point(1,1)\n",
    "\n",
    "\n",
    "print(distance(p,q))"
   ]
  },
  {
   "cell_type": "markdown",
   "id": "expired-russian",
   "metadata": {},
   "source": [
    "Podríamos haber hecho que la distancia fuera un método de la clase Point. Entonces, habríamos llamado al primer parámetro self, y lo habríamos invocado usando la notación de puntos, como en el siguiente código. La forma de implementarlo es una cuestión de estilo de codificación. Ambos funcionan correctamente. En este caso, debido a que la distancia es realmente una propiedad de un par de puntos y es simétrica (la distancia de a a b es la misma que la de b a a), tiene más sentido que sea una función independiente y no un método."
   ]
  },
  {
   "cell_type": "code",
   "execution_count": 53,
   "id": "alive-prerequisite",
   "metadata": {
    "scrolled": true
   },
   "outputs": [
    {
     "name": "stdout",
     "output_type": "stream",
     "text": [
      "3.605551275463989\n",
      "3.605551275463989\n"
     ]
    }
   ],
   "source": [
    "import math\n",
    "\n",
    "class Point:\n",
    "    \"\"\" Point class for representing and manipulating x,y coordinates. \"\"\"\n",
    "\n",
    "    def __init__(self, initX, initY):\n",
    "\n",
    "        self.x = initX\n",
    "        self.y = initY\n",
    "\n",
    "    def getX(self):\n",
    "        return self.x\n",
    "\n",
    "    def getY(self):\n",
    "        return self.y\n",
    "\n",
    "    def distanceFromOrigin(self):\n",
    "        return ((self.x ** 2) + (self.y ** 2)) ** 0.5\n",
    "\n",
    "    def distance(self, point2):\n",
    "        xdiff = point2.getX()-self.getX()\n",
    "        ydiff = point2.getY()-self.getY()\n",
    "\n",
    "        dist = math.sqrt(xdiff**2 + ydiff**2)\n",
    "        return dist\n",
    "\n",
    "    \n"
   ]
  },
  {
   "cell_type": "code",
   "execution_count": null,
   "id": "foreign-narrative",
   "metadata": {},
   "outputs": [],
   "source": [
    "p = Point(4,3)\n",
    "q = Point(1,1)\n",
    "\n",
    "print(p.distance(q))\n",
    "print(q.distance(p))\n"
   ]
  },
  {
   "cell_type": "code",
   "execution_count": 55,
   "id": "incorrect-cleaners",
   "metadata": {},
   "outputs": [
    {
     "name": "stdout",
     "output_type": "stream",
     "text": [
      "<__main__.Point object at 0x000002C487670640>\n"
     ]
    }
   ],
   "source": [
    "class Point:\n",
    "    \"\"\" Point class for representing and manipulating x,y coordinates. \"\"\"\n",
    "\n",
    "    def __init__(self, initX, initY):\n",
    "\n",
    "        self.x = initX\n",
    "        self.y = initY\n",
    "\n",
    "    def getX(self):\n",
    "        return self.x\n",
    "\n",
    "    def getY(self):\n",
    "        return self.y\n",
    "\n",
    "    def distanceFromOrigin(self):\n",
    "        return ((self.x ** 2) + (self.y ** 2)) ** 0.5\n",
    "\n",
    "\n",
    "p = Point(7,6)\n",
    "print(p)\n"
   ]
  },
  {
   "cell_type": "markdown",
   "id": "fixed-cradle",
   "metadata": {},
   "source": [
    "### Convertir un objeto en String\n",
    "Al trabajar con clases y objetos, a menudo es necesario imprimir el estado de un objeto.\n",
    "\n",
    "La función de **print** que se muestra arriba produce una representación de cadena del Punto p. La funcionalidad predeterminada proporcionada por Python le dice que p es un objeto de tipo Point. Sin embargo, no dice nada sobre el estado específico del punto.\n",
    "\n",
    "Podemos mejorar esta representación si incluimos un método especial llamado __str__. Observe que este método usa la misma convención de nomenclatura que el constructor, es decir, dos guiones bajos antes y después del nombre. Es común que Python use esta técnica de nomenclatura para métodos especiales.\n",
    "\n",
    "El método __str__ es responsable de devolver una representación de cadena según lo definido por el creador de la clase. En otras palabras, **usted puede elegir cómo debe verse un punto cuando se imprime**. En este caso, hemos decidido que la representación de la cadena incluirá los valores de x e y, así como algún texto de identificación. Se requiere que el método __str__ cree y devuelva una cadena.\n",
    "\n",
    "Cualquiera que sea la cadena que devuelva el método __str__ para una clase, esa es la cadena que se imprimirá cuando coloque cualquier instancia de esa clase en una declaración de impresión. Por esa razón, la cadena que devuelve el método __str__ de una clase generalmente debe incluir valores de variables de instancia. Si un punto tiene un valor x 3 y un valor y 4, pero otro punto tiene un valor x 5 y un valor y 9, esos dos objetos Point probablemente deberían verse diferentes cuando los imprima.\n"
   ]
  },
  {
   "cell_type": "code",
   "execution_count": 59,
   "id": "excessive-delta",
   "metadata": {},
   "outputs": [
    {
     "name": "stdout",
     "output_type": "stream",
     "text": [
      "x es 7, y es 6\n"
     ]
    }
   ],
   "source": [
    "class Point:\n",
    "    \"\"\" Point class for representing and manipulating x,y coordinates. \"\"\"\n",
    "\n",
    "    def __init__(self, initX, initY):\n",
    "\n",
    "        self.x = initX\n",
    "        self.y = initY\n",
    "\n",
    "    def getX(self):\n",
    "        return self.x\n",
    "\n",
    "    def getY(self):\n",
    "        return self.y\n",
    "\n",
    "    def distanceFromOrigin(self):\n",
    "        return ((self.x ** 2) + (self.y ** 2)) ** 0.5\n",
    "    \n",
    "\n",
    "    def __str__(self):\n",
    "        return \"x es {}, y es {}\".format(self.x, self.y)\n",
    "    \n",
    "    \n",
    "\n",
    "p = Point(7,6)\n",
    "print(p)\n"
   ]
  },
  {
   "cell_type": "code",
   "execution_count": 57,
   "id": "raising-warehouse",
   "metadata": {},
   "outputs": [],
   "source": [
    "q = Point(4,5)"
   ]
  },
  {
   "cell_type": "markdown",
   "id": "scenic-latino",
   "metadata": {},
   "source": [
    "### Instancias como valores devueltos\n",
    "\n",
    "Suponga que tiene un objeto puntual y desea encontrar el **punto medio** a medio camino entre él y algún otro punto objetivo. Nos gustaría escribir un método, llamémoslo **halfway**, que toma otro Punto como parámetro y devuelve el Punto que está a medio camino entre el punto y el punto de destino que acepta como entrada."
   ]
  },
  {
   "cell_type": "code",
   "execution_count": 62,
   "id": "mighty-germany",
   "metadata": {},
   "outputs": [],
   "source": [
    "class Point:\n",
    "\n",
    "    def __init__(self, initX, initY):\n",
    "        self.x = initX\n",
    "        self.y = initY\n",
    "\n",
    "    def getX(self):\n",
    "        return self.x\n",
    "\n",
    "    def getY(self):\n",
    "        return self.y\n",
    "\n",
    "    def distanceFromOrigin(self):\n",
    "        return ((self.x ** 2) + (self.y ** 2)) ** 0.5\n",
    "\n",
    "    def __str__(self):\n",
    "        return \"x = {}, y = {}\".format(self.x, self.y)\n",
    "\n",
    "    def halfway(self, target):\n",
    "        mx = (self.x + target.x)/2\n",
    "        my = (self.y + target.y)/2\n",
    "        return Point(mx, my)\n",
    "    \n"
   ]
  },
  {
   "cell_type": "code",
   "execution_count": 63,
   "id": "advisory-overall",
   "metadata": {},
   "outputs": [],
   "source": [
    "p = Point(3,4)\n",
    "q = Point(5,12)\n",
    "\n",
    "mid = p.halfway(q)\n",
    "\n",
    "\n",
    "# note that you would have exactly the same result if you instead wrote\n",
    "# mid = q.halfway(p)\n",
    "# because they are both Point objects, and the middle is the same no matter what\n",
    "\n",
    "\n"
   ]
  },
  {
   "cell_type": "code",
   "execution_count": 64,
   "id": "intense-knitting",
   "metadata": {},
   "outputs": [
    {
     "name": "stdout",
     "output_type": "stream",
     "text": [
      "x = 4.0, y = 8.0\n",
      "4.0\n",
      "8.0\n"
     ]
    }
   ],
   "source": [
    "print(mid)\n",
    "print(mid.getX())\n",
    "print(mid.getY())"
   ]
  },
  {
   "cell_type": "markdown",
   "id": "conservative-rabbit",
   "metadata": {},
   "source": [
    "### Otros ejemplos"
   ]
  },
  {
   "cell_type": "code",
   "execution_count": 65,
   "id": "confident-biography",
   "metadata": {},
   "outputs": [],
   "source": [
    "class Animal:\n",
    "\n",
    "    def __init__(self, arms, legs):\n",
    "\n",
    "        self.arms = arms\n",
    "        self.legs = legs\n",
    "        self.limbs = arms + legs\n",
    "\n"
   ]
  },
  {
   "cell_type": "code",
   "execution_count": 66,
   "id": "korean-baseball",
   "metadata": {},
   "outputs": [],
   "source": [
    "spider =   Animal(4,4)"
   ]
  },
  {
   "cell_type": "code",
   "execution_count": 67,
   "id": "rocky-verification",
   "metadata": {},
   "outputs": [
    {
     "data": {
      "text/plain": [
       "8"
      ]
     },
     "execution_count": 67,
     "metadata": {},
     "output_type": "execute_result"
    }
   ],
   "source": [
    "spider.limbs"
   ]
  },
  {
   "cell_type": "code",
   "execution_count": 68,
   "id": "caring-value",
   "metadata": {},
   "outputs": [],
   "source": [
    "class Cereal:\n",
    "\n",
    "    def __init__(self,name,brand,fiber):\n",
    "\n",
    "        self.name = name\n",
    "        self.brand = brand\n",
    "        self.fiber = fiber\n",
    "   \n",
    "\n",
    "    def __str__(self):\n",
    "        return \"{} cereal is produced by {} and has {} grams of fiber in every serving!\".format(self.name, self.brand,self.fiber)\n",
    "\n",
    "    "
   ]
  },
  {
   "cell_type": "code",
   "execution_count": 69,
   "id": "improved-return",
   "metadata": {},
   "outputs": [
    {
     "name": "stdout",
     "output_type": "stream",
     "text": [
      "Corn Flakes cereal is produced by Kellogg's and has 2 grams of fiber in every serving!\n",
      "Honey Nut Cheerios cereal is produced by General Mills and has 3 grams of fiber in every serving!\n"
     ]
    }
   ],
   "source": [
    "\n",
    "c1 = Cereal(\"Corn Flakes\",\"Kellogg's\",2)   \n",
    "c2 = Cereal(\"Honey Nut Cheerios\",\"General Mills\",3)  \n",
    "print(c1)\n",
    "print(c2)"
   ]
  },
  {
   "cell_type": "markdown",
   "id": "recorded-camcorder",
   "metadata": {},
   "source": [
    "### Ejercicio\n",
    "Defina una clase llamada BankAccount que acepte el nombre que desea asociar con su cuenta bancaria en una cadena y un número entero que represente la cantidad de dinero en la cuenta. El constructor debe inicializar dos variables de instancia a partir de esas entradas: nombre y amt. Agregue un método de cadena para que cuando imprima una instancia de BankAccount, vea \"Su cuenta, *el nombre va aquí*, tiene *start_amt va aquí* soles\". Cree una instancia de esta clase con \"Bob\" como nombre y 100 como cantidad. Guarde esto en la variable t1."
   ]
  },
  {
   "cell_type": "code",
   "execution_count": 70,
   "id": "sensitive-manhattan",
   "metadata": {},
   "outputs": [],
   "source": [
    "class BankAccount:\n",
    "\n",
    "    def __init__(self,name,amt):\n",
    "\n",
    "        self.name = name\n",
    "        self.amt = amt\n",
    "    \n",
    "   \n",
    "\n",
    "    def __str__(self):\n",
    "        return \"Su cuenta, {}, tiene {} soles\".format(self.name, self.amt)\n",
    "\n"
   ]
  },
  {
   "cell_type": "code",
   "execution_count": 71,
   "id": "finnish-evidence",
   "metadata": {},
   "outputs": [],
   "source": [
    "t1 = BankAccount(\"Bob\",100)   \n"
   ]
  },
  {
   "cell_type": "code",
   "execution_count": 72,
   "id": "southern-wesley",
   "metadata": {
    "scrolled": true
   },
   "outputs": [
    {
     "name": "stdout",
     "output_type": "stream",
     "text": [
      "Su cuenta, Bob, tiene 100 soles\n"
     ]
    }
   ],
   "source": [
    "print(t1)"
   ]
  },
  {
   "cell_type": "code",
   "execution_count": 73,
   "id": "powered-leisure",
   "metadata": {
    "scrolled": true
   },
   "outputs": [
    {
     "data": {
      "text/plain": [
       "'Bob'"
      ]
     },
     "execution_count": 73,
     "metadata": {},
     "output_type": "execute_result"
    }
   ],
   "source": [
    "t1.name"
   ]
  },
  {
   "cell_type": "code",
   "execution_count": 75,
   "id": "statewide-hardwood",
   "metadata": {},
   "outputs": [
    {
     "data": {
      "text/plain": [
       "100"
      ]
     },
     "execution_count": 75,
     "metadata": {},
     "output_type": "execute_result"
    }
   ],
   "source": [
    "t1.amt"
   ]
  },
  {
   "cell_type": "markdown",
   "id": "turned-compatibility",
   "metadata": {},
   "source": [
    "### Resumen \n",
    "\n",
    "\n",
    "Ahora puede imaginarse algunas razones por las que puede querer definir una clase. Ha visto ejemplos de creación de tipos que son más complicados o específicos que los integrados en Python (como listas o cadenas). \n",
    "\n",
    "Antes de decidir definir una nueva clase, hay algunas cosas que a tener en cuenta y algunas preguntas que debe hacerse:\n",
    "\n",
    "**¿Cuáles son los datos con los que quiere tratar?** (¿Datos sobre un montón de canciones,tweets, **polizas**? ¿Datos sobre un montón de tweets de Twitter? ¿Datos sobre un montón de búsquedas de hashtags en Twitter? ¿Dos números que representan las coordenadas de un punto en un plano bidimensional?)\n",
    "\n",
    "**¿Qué representará una instancia de tu clase?** En otras palabras, ¿qué tipo de cosa nueva en su programa debería tener una funcionalidad elegante? ¿Una canción? ¿Un hashtag? ¿Un tweet? ¿Un punto? **¿Una poliza?** La respuesta a esta pregunta debería ayudarlo a decidir cómo llamar a la clase que defina.\n",
    "\n",
    "**¿Qué información debería tener cada instancia como variables de instancia?**  Si puede convertirlo en una oración. \"Cada instancia representa una *canción* y cada *canción* tiene un *artista* y un *título* como variables de instancia\". O, \"Cada instancia representa un *Tweet* y cada *Tweet* tiene un *usuario (que lo publicó)* y *una cadena de contenido del mensaje* como variables de instancia\".\n",
    "\n",
    "**¿Qué métodos de instancia debe tener cada instancia?** ¿Qué debería poder hacer cada instancia? Para continuar usando los mismos ejemplos: Quizás cada canción tiene un método para obtener una cadena larga de sus letras. Quizás cada canción tiene un método que devuelve una cadena del nombre de su artista. O para un tweet, tal vez cada tweet tenga un método que devuelva la longitud del mensaje del tweet.\n",
    "\n",
    "**¿Cómo debería ser la versión impresa de una instancia?** (Esta pregunta te ayudará a determinar cómo escribir el método __str__). Tal vez, \"Cada canción impresa mostrará el título de la canción y el nombre del artista\". o \"Cada Tweet impreso mostrará el nombre de usuario de la persona que lo publicó y el contenido del mensaje del tweet\". **¿Y cada poliza?**\n",
    "\n",
    "Después de considerar esas preguntas y tomar decisiones sobre cómo comenzar con una definición de clase, puede comenzar a definir su clase.\n",
    " "
   ]
  },
  {
   "cell_type": "markdown",
   "id": "acute-iraqi",
   "metadata": {},
   "source": [
    "## Creamos clases de poliza"
   ]
  },
  {
   "cell_type": "code",
   "execution_count": 77,
   "id": "noble-banking",
   "metadata": {},
   "outputs": [],
   "source": [
    "class poltemp:\n",
    "\n",
    "    def __init__(self,nro,age,n,i,benefit):\n",
    "        self.nro = nro\n",
    "        self.age = age\n",
    "        self.n = n\n",
    "        self.i = i\n",
    "        self.benefit = benefit\n",
    "        self.prima = fa.temp_life(self.age,self.n,self.i,life_table)*self.benefit\n",
    "        \n",
    "\n",
    "    def __str__(self):\n",
    "        return \"La poliza {} corresponde a un seguro de vida para una persona de {} años con temporalidad {} ,tasa de {} y un beneficio de {}.La prima es {}\".format(self.nro, self.age, self.n, self.i, self.benefit,self.prima)\n",
    "\n"
   ]
  },
  {
   "cell_type": "code",
   "execution_count": 78,
   "id": "sacred-swimming",
   "metadata": {},
   "outputs": [],
   "source": [
    "t1 = poltemp(13,47,12,0.064,3098)   \n"
   ]
  },
  {
   "cell_type": "code",
   "execution_count": 79,
   "id": "intellectual-apple",
   "metadata": {
    "scrolled": true
   },
   "outputs": [
    {
     "name": "stdout",
     "output_type": "stream",
     "text": [
      "La poliza 13 corresponde a un seguro de vida para una persona de 47 años con temporalidad 12 ,tasa de 0.064 y un beneficio de 3098.La prima es 112.98492641581267\n"
     ]
    }
   ],
   "source": [
    "print(t1)"
   ]
  },
  {
   "cell_type": "code",
   "execution_count": 80,
   "id": "universal-banner",
   "metadata": {
    "scrolled": true
   },
   "outputs": [
    {
     "data": {
      "text/plain": [
       "112.98492641581267"
      ]
     },
     "execution_count": 80,
     "metadata": {},
     "output_type": "execute_result"
    }
   ],
   "source": [
    "t1.prima"
   ]
  },
  {
   "cell_type": "code",
   "execution_count": 81,
   "id": "greatest-morning",
   "metadata": {},
   "outputs": [
    {
     "data": {
      "text/plain": [
       "13"
      ]
     },
     "execution_count": 81,
     "metadata": {},
     "output_type": "execute_result"
    }
   ],
   "source": [
    "t1.nro"
   ]
  },
  {
   "cell_type": "code",
   "execution_count": 82,
   "id": "foster-casino",
   "metadata": {},
   "outputs": [
    {
     "data": {
      "text/plain": [
       "47"
      ]
     },
     "execution_count": 82,
     "metadata": {},
     "output_type": "execute_result"
    }
   ],
   "source": [
    "t1.age"
   ]
  },
  {
   "cell_type": "code",
   "execution_count": 85,
   "id": "handmade-selection",
   "metadata": {},
   "outputs": [],
   "source": [
    "p2 = poltemp(130,50,12,0.06,5000) "
   ]
  },
  {
   "cell_type": "code",
   "execution_count": 86,
   "id": "nutritional-dayton",
   "metadata": {},
   "outputs": [
    {
     "data": {
      "text/plain": [
       "253.83803350406532"
      ]
     },
     "execution_count": 86,
     "metadata": {},
     "output_type": "execute_result"
    }
   ],
   "source": [
    "p2.prima"
   ]
  },
  {
   "cell_type": "code",
   "execution_count": 87,
   "id": "equivalent-optimization",
   "metadata": {},
   "outputs": [],
   "source": [
    "d = {}\n",
    "\n",
    "for x in range(len(temporales)):\n",
    "    \n",
    "   d[\"poliza{}\".format(temporales.nro_cliente[x])] = poltemp(temporales.nro_cliente[x],temporales.age[x],temporales.n[x],temporales.i[x],temporales.benefit[x])\n",
    "               \n",
    "               \n"
   ]
  },
  {
   "cell_type": "code",
   "execution_count": 88,
   "id": "satisfied-sunset",
   "metadata": {},
   "outputs": [
    {
     "name": "stdout",
     "output_type": "stream",
     "text": [
      "La poliza 1 corresponde a un seguro de vida para una persona de 47 años con temporalidad 12 ,tasa de 0.064 y un beneficio de 3098.La prima es 112.98492641581267\n"
     ]
    }
   ],
   "source": [
    "print(d[\"poliza1\"])  "
   ]
  },
  {
   "cell_type": "code",
   "execution_count": 90,
   "id": "strong-underwear",
   "metadata": {},
   "outputs": [
    {
     "name": "stdout",
     "output_type": "stream",
     "text": [
      "20.787406382959418\n"
     ]
    }
   ],
   "source": [
    "print(d[\"poliza2\"].prima)  "
   ]
  },
  {
   "cell_type": "code",
   "execution_count": 91,
   "id": "optical-madness",
   "metadata": {},
   "outputs": [
    {
     "data": {
      "text/plain": [
       "20.787406382959418"
      ]
     },
     "execution_count": 91,
     "metadata": {},
     "output_type": "execute_result"
    }
   ],
   "source": [
    "d[\"poliza2\"].prima"
   ]
  },
  {
   "cell_type": "code",
   "execution_count": null,
   "id": "contemporary-footwear",
   "metadata": {},
   "outputs": [],
   "source": []
  }
 ],
 "metadata": {
  "kernelspec": {
   "display_name": "Python 3",
   "language": "python",
   "name": "python3"
  },
  "language_info": {
   "codemirror_mode": {
    "name": "ipython",
    "version": 3
   },
   "file_extension": ".py",
   "mimetype": "text/x-python",
   "name": "python",
   "nbconvert_exporter": "python",
   "pygments_lexer": "ipython3",
   "version": "3.8.5"
  }
 },
 "nbformat": 4,
 "nbformat_minor": 5
}
