{
 "cells": [
  {
   "cell_type": "markdown",
   "id": "understood-review",
   "metadata": {},
   "source": [
    "# 4. Métodos y Funciones\n",
    "\n",
    "## 4.1. Métodos en Python\n",
    "\n",
    "\n",
    "Python es un lenguaje multiparadigma, que soporta programación orientada a objetos (POO), siendo las clases y los objetos sus principales bloques de desarrollo. Las clases son los modelos sobre los cuáles se construirán nuestros objetos, mientras que los objetos son instancias de esa clase.\n",
    "\n",
    "Los **métodos son acciones o funciones que puede realizar un objeto**. Python pone a nuestra disposición un conjunto de métodos ya creados. Estos métodos dependen del tipo de objeto con el que estemos trabajando.\n",
    "\n",
    "Los objetos en Python pueden ser de distintos tipos:\n",
    "- cadena de caracteres (string)\n",
    "- booleanos (booleans)\n",
    "- números enteros (integer)\n",
    "- números decimales (float)\n",
    "- listas (list)\n",
    "\n",
    "\n",
    "Por ejemplo, para los objetos tipo cadena de caracteres, tenemos métodos como:  \n",
    "**str.capitalize()**, que convierte en mayúscula la primera letra de la cadena  \n",
    "**str.index()**, que busca determinado carácter en la cadena y devuelve su posición  \n",
    "**str.split()**, que divide la cadena según el separador que indiquemos y la convierte en un lista  \n",
    "**str.title()**, que convierte el primer carácter de cada palabra en mayúsculas, etc"
   ]
  },
  {
   "cell_type": "code",
   "execution_count": 1,
   "id": "primary-funeral",
   "metadata": {
    "scrolled": true
   },
   "outputs": [
    {
     "name": "stdout",
     "output_type": "stream",
     "text": [
      "Cursos\n",
      "3\n",
      "['actuarios', ' vida']\n",
      "Actuarios, Vida\n",
      "3\n"
     ]
    }
   ],
   "source": [
    "x = 'actuarios, vida'\n",
    "y = \"cursos\"\n",
    "print(y.capitalize())\n",
    "print(y.index('s'))\n",
    "print(x.split(','))\n",
    "print(x.title())\n",
    "print(x.count('a'))"
   ]
  },
  {
   "cell_type": "markdown",
   "id": "associate-discovery",
   "metadata": {},
   "source": [
    "Por ejemplo, para los objetos tipo **float**, tenemos métodos como:   \n",
    "**float.is_integer()**, devuelve True si la instancia flotante es finita con valor integral y False en caso contrario\n"
   ]
  },
  {
   "cell_type": "code",
   "execution_count": 5,
   "id": "pleased-basin",
   "metadata": {},
   "outputs": [
    {
     "name": "stdout",
     "output_type": "stream",
     "text": [
      "True\n",
      "False\n"
     ]
    }
   ],
   "source": [
    "print ( (-2.0).is_integer() )\n",
    "print( (3.2).is_integer() )\n"
   ]
  },
  {
   "cell_type": "markdown",
   "id": "wooden-scotland",
   "metadata": {},
   "source": [
    "Hasta aquí, todo muy claro. Pasamos a introducir el segundo concepto. Veremos que una función, es algo parecido a un metodo , una porción de código que realiza determinada tarea, pero no es exactamente lo mismo.\n",
    "\n",
    "## 4.2. Funciones en Python\n",
    "\n",
    "Una función no es más que una porción o bloque de código reutilizable que se encarga de realizar una determinada tarea.  \n",
    "Resulta muy cómodo trabajar con funciones, porque no es necesario reescribir ese código cada vez que nos enfrentamos a dicha tarea. Tan solo, llamar a la función.\n",
    "\n",
    "###  4.2.1. Funciones integradas\n",
    "En Python hay funciones ya creadas (built-in functions), que pueden requerir o no parámetros, como por ejemplo, la función **help()**, que ofrece la ayuda del sistema sobre determinado comando, la función **abs()**, que devuelve el valor absoluto de un número etc…"
   ]
  },
  {
   "cell_type": "markdown",
   "id": "standing-spank",
   "metadata": {},
   "source": [
    "La función **range()** devuelve una progresión aritmética de enteros.  \n",
    "La función **list()** se usa crear una lista mediante un iterable.  \n",
    "La función **tuple()** se usa crear una tupla mediante un iterable.  \n",
    "- Por ejemplo, una lista podría crearse mediante la función range(10):\n",
    "- Por ejemplo, una tupla podría crearse mediante la función range(20):"
   ]
  },
  {
   "cell_type": "code",
   "execution_count": 3,
   "id": "smoking-alarm",
   "metadata": {
    "scrolled": true
   },
   "outputs": [
    {
     "name": "stdout",
     "output_type": "stream",
     "text": [
      "[0, 1, 2, 3, 4, 5, 6, 7, 8, 9]\n",
      "[3, 4, 5, 6, 7, 8]\n",
      "(0, 4, 8, 12, 16, 20)\n",
      "(3, 5, 7)\n"
     ]
    }
   ],
   "source": [
    "print(list(range(10))) \n",
    "print(list(range(3,9))) \n",
    "\n",
    "print(tuple(range(0,21,4)))    #salto de 4\n",
    "print(tuple(range(3,9,2)))     #salto de 2\n"
   ]
  },
  {
   "cell_type": "markdown",
   "id": "composed-evening",
   "metadata": {},
   "source": [
    "La función **sorted()** siempre devuelve una lista, aunque reciba como argumento una cadena de caracteres."
   ]
  },
  {
   "cell_type": "code",
   "execution_count": 4,
   "id": "unsigned-opportunity",
   "metadata": {
    "scrolled": true
   },
   "outputs": [
    {
     "name": "stdout",
     "output_type": "stream",
     "text": [
      "[7, 13, 23, 37]\n",
      "['a', 'b', 'j', 'k', 'z']\n"
     ]
    }
   ],
   "source": [
    "lista = [23, 13, 7, 37]\n",
    "print(sorted(lista))\n",
    "\n",
    "cadena = \"zkbja\"\n",
    "print(sorted(cadena))"
   ]
  },
  {
   "cell_type": "markdown",
   "id": "prerequisite-darwin",
   "metadata": {},
   "source": [
    "La función **zip()** devuelve una grupo de tuplas, donde cada tupla contiene el elemento i-th desde cada una de los tipos de secuencias de argumento. El grupo devuelto es truncada en longitud a la longitud de la secuencia de argumentos más corta."
   ]
  },
  {
   "cell_type": "code",
   "execution_count": 6,
   "id": "numerous-recognition",
   "metadata": {},
   "outputs": [
    {
     "name": "stdout",
     "output_type": "stream",
     "text": [
      "(('python', 2.7), ('zope', 2.13), ('plone', 5.1))\n",
      "[('python', 2.7), ('zope', 2.13), ('plone', 5.1)]\n"
     ]
    }
   ],
   "source": [
    "x= tuple(zip(['python', 'zope', 'plone'], [2.7, 2.13, 5.1]))\n",
    "print(x)\n",
    "y= list(zip(['python', 'zope', 'plone'], [2.7, 2.13, 5.1]))\n",
    "print(y)\n",
    "\n"
   ]
  },
  {
   "cell_type": "markdown",
   "id": "supposed-romania",
   "metadata": {},
   "source": [
    "####  4.2.1.1. Funciones de númericas"
   ]
  },
  {
   "cell_type": "markdown",
   "id": "conceptual-graphics",
   "metadata": {},
   "source": [
    "La función **max()** Si recibe más de un argumento, devuelve el mayor de ellos."
   ]
  },
  {
   "cell_type": "code",
   "execution_count": 20,
   "id": "built-hello",
   "metadata": {},
   "outputs": [
    {
     "name": "stdout",
     "output_type": "stream",
     "text": [
      "145\n",
      "<class 'int'>\n",
      "---------------\n",
      "<class 'str'>\n",
      "---------------\n",
      "p\n",
      "<class 'str'>\n"
     ]
    }
   ],
   "source": [
    "x = max(23, 12, 145, 88)\n",
    "print(x)\n",
    "print(type(x))\n",
    "\n",
    "print(\"---------------\")\n",
    "b = max(\"a\", \"Z\")\n",
    "print(type(b))\n",
    "\n",
    "print(\"---------------\")\n",
    "d = max(\"hola, plone\")\n",
    "print(d)\n",
    "print(type(d))"
   ]
  },
  {
   "cell_type": "markdown",
   "id": "equipped-trust",
   "metadata": {},
   "source": [
    "La función **pow()** si recibe dos (02) argumentos, eleva el primero argumento a la potencia del segundo argumento."
   ]
  },
  {
   "cell_type": "code",
   "execution_count": 7,
   "id": "worth-projection",
   "metadata": {
    "scrolled": false
   },
   "outputs": [
    {
     "name": "stdout",
     "output_type": "stream",
     "text": [
      "8\n",
      "100\n",
      "0.01\n"
     ]
    }
   ],
   "source": [
    "print(pow(2, 3))\n",
    "print(pow(10, 2))\n",
    "print(pow(10, -2))"
   ]
  },
  {
   "cell_type": "markdown",
   "id": "developmental-luther",
   "metadata": {},
   "source": [
    "La función **round()** redondea un número flotante a una precisión dada en dígitos decimal (por defecto 0 dígitos)"
   ]
  },
  {
   "cell_type": "code",
   "execution_count": 22,
   "id": "addressed-monitor",
   "metadata": {},
   "outputs": [
    {
     "name": "stdout",
     "output_type": "stream",
     "text": [
      "6\n",
      "5\n",
      "5.5\n"
     ]
    }
   ],
   "source": [
    "print(round(5.5))\n",
    "print(round(5.49))\n",
    "print(round(5.51,1))"
   ]
  },
  {
   "cell_type": "markdown",
   "id": "neutral-technology",
   "metadata": {},
   "source": [
    "####  4.2.1.2. Funciones de booleanos\n",
    "La función bool(), es un constructor, el cual crea un tipo de datos booleanos, devuelve un tipo booleano **True** cuando el argumento dado es **True**, de lo contrario **False**."
   ]
  },
  {
   "cell_type": "code",
   "execution_count": 28,
   "id": "distributed-jungle",
   "metadata": {},
   "outputs": [
    {
     "name": "stdout",
     "output_type": "stream",
     "text": [
      "False\n",
      "True\n",
      "------------------------\n",
      "Convertir desde un tipo entero a tipo booleano:\n",
      "False\n",
      "True\n",
      "True\n"
     ]
    }
   ],
   "source": [
    "print(bool())\n",
    "print(bool(True))\n",
    "print(\"------------------------\")\n",
    "print(\"Convertir desde un tipo entero a tipo booleano:\")\n",
    "print(bool(0)) \n",
    "print(bool(1))\n",
    "print(bool(2))"
   ]
  },
  {
   "cell_type": "markdown",
   "id": "empty-duncan",
   "metadata": {},
   "source": [
    "####  4.2.1.4. Funciones de entrada\n"
   ]
  },
  {
   "cell_type": "code",
   "execution_count": 29,
   "id": "valid-israeli",
   "metadata": {},
   "outputs": [
    {
     "name": "stdout",
     "output_type": "stream",
     "text": [
      "Por favor, ingresa un dato:  Febrero\n"
     ]
    },
    {
     "data": {
      "text/plain": [
       "' Febrero'"
      ]
     },
     "execution_count": 29,
     "metadata": {},
     "output_type": "execute_result"
    }
   ],
   "source": [
    "dato = input(\"Por favor, ingresa un dato: \")\n",
    "dato\n"
   ]
  },
  {
   "cell_type": "markdown",
   "id": "moderate-custom",
   "metadata": {},
   "source": [
    "### 4.2.2. Crear funciones en Python\n",
    "Si no existe ya la función que necesitamos, resulta muy sencillo crearla en Python. Primero la declaramos con **def (nombre función)**, y luego definimos su contenido (código indentado dentro de la función).\n",
    "\n",
    "Por ejemplo, podemos crear una función que sume dos números. Después, hacemos una llamada a la función, facilitándole los valores de los dos parámetros:"
   ]
  },
  {
   "cell_type": "code",
   "execution_count": 30,
   "id": "younger-allowance",
   "metadata": {},
   "outputs": [
    {
     "name": "stdout",
     "output_type": "stream",
     "text": [
      "The sum is 11\n"
     ]
    }
   ],
   "source": [
    "def sumar(x,y):\n",
    "   sum = x + y\n",
    "   return sum\n",
    "\n",
    "num1 = 5\n",
    "num2 = 6\n",
    "\n",
    "print(\"The sum is\", sumar(num1, num2))"
   ]
  },
  {
   "cell_type": "code",
   "execution_count": 20,
   "id": "brilliant-limit",
   "metadata": {},
   "outputs": [
    {
     "name": "stdout",
     "output_type": "stream",
     "text": [
      "El valor futuro es 1102.5\n"
     ]
    }
   ],
   "source": [
    "def v_futuro(inicial,periodo,tasa):\n",
    "    return inicial*((1+tasa)**(periodo))\n",
    "\n",
    "valor_i = 1000\n",
    "tasa_x = 0.05\n",
    "per = 2\n",
    "\n",
    "print(\"El valor futuro es\", v_futuro(valor_i,per, tasa_x))"
   ]
  },
  {
   "cell_type": "code",
   "execution_count": 31,
   "id": "restricted-endorsement",
   "metadata": {},
   "outputs": [
    {
     "data": {
      "text/plain": [
       "1102.5"
      ]
     },
     "execution_count": 31,
     "metadata": {},
     "output_type": "execute_result"
    }
   ],
   "source": [
    "1000*((1.05)**2)"
   ]
  },
  {
   "cell_type": "markdown",
   "id": "short-appeal",
   "metadata": {},
   "source": [
    "## 4.3. Métodos vs funciones\n",
    "\n",
    "**¿Cuál es entonces la diferencia entre métodos y funciones?**. La principal diferencia es que un **método es parte de una clase, es decir, es parte de la funcionalidad que le damos a un objeto**. Por tanto, siempre va a estar asociado a un objeto. Sin embargo, **las funciones** en Python, están definidas por si mismas y **no pertenecen a ninguna clase**.\n",
    "\n",
    "Al ser intrínsecos al objeto en sí, cada objeto tiene sus propios métodos. Incluso aunque se llamen igual, pueden tener un significado distinto. Por ejemplo, el método index está disponible para los objetos string y list. Sobre una cadena de caracteres, da el índice de la letra en esa palabra, sobre una lista, da la posición de un elemento en una lista."
   ]
  },
  {
   "cell_type": "code",
   "execution_count": 9,
   "id": "minute-comment",
   "metadata": {},
   "outputs": [
    {
     "name": "stdout",
     "output_type": "stream",
     "text": [
      "<class 'str'>\n",
      "2\n",
      "<class 'list'>\n",
      "1\n"
     ]
    }
   ],
   "source": [
    "x = \"actuarios\"\n",
    "print(type(x))\n",
    "print(x.index('t'))\n",
    "\n",
    "y = [1,2,3]\n",
    "print(type(y))\n",
    "print(y.index(2))\n",
    "\n"
   ]
  },
  {
   "cell_type": "markdown",
   "id": "corresponding-electric",
   "metadata": {},
   "source": [
    "#### Edwin Fernandez - BLID\n",
    "Python para Actuarios Vida"
   ]
  }
 ],
 "metadata": {
  "kernelspec": {
   "display_name": "Python 3",
   "language": "python",
   "name": "python3"
  },
  "language_info": {
   "codemirror_mode": {
    "name": "ipython",
    "version": 3
   },
   "file_extension": ".py",
   "mimetype": "text/x-python",
   "name": "python",
   "nbconvert_exporter": "python",
   "pygments_lexer": "ipython3",
   "version": "3.8.5"
  }
 },
 "nbformat": 4,
 "nbformat_minor": 5
}
