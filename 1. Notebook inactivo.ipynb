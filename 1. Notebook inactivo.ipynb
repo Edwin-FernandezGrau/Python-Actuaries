{
 "cells": [
  {
   "cell_type": "markdown",
   "metadata": {},
   "source": [
    "#                                      (Python para Actuarios Vida)\n",
    "# Introducción al uso del Jupyter\n",
    "\n",
    "El Jupyter Notebook (Cuaderno Jupyter) en adelante Jupyter, es un entorno de trabajo interactivo que permite desarrollar código en Python (por defecto, aunque incluye otros lenguajes) de manera dinámica, a la vez que integrar en un mismo documento tanto bloques de código como texto, gráficas o imágenes. Es utilizado ampliamente en análisis numérico, estadística y machine learning, entre otros campos de la informática y las matemáticas.\n",
    "\n",
    "Hay varias formas distintas de utilizar el Jupyter Notebook.En todo los casos se accede a través de un navegador. Para ello, tras ejecutar el programa (que puede instalarse en Linux, Windows o MacOS) se cargará un servidor con el cual nos podremos comunicar accediendo a la dirección http://localhost:8888"
   ]
  },
  {
   "cell_type": "markdown",
   "metadata": {},
   "source": [
    "## Navegador\n",
    "\n",
    "La primera pantalla a la que se accede es un navegador de archivos que muestra el directorio de ejecución del programa. En la parte superior de la siguiente imagen se puede ver la ruta hacia el directorio actual.Aquí se pueden crear carpetas y nuevos notebooks, ver cuáles están en ejecución, mover archivos a otras ubicaciones, renombrarlos, etc\n",
    "![Navegador](imagenes/Navegador.png)"
   ]
  },
  {
   "cell_type": "code",
   "execution_count": null,
   "metadata": {},
   "outputs": [],
   "source": []
  }
 ],
 "metadata": {
  "kernelspec": {
   "display_name": "Python 3",
   "language": "python",
   "name": "python3"
  },
  "language_info": {
   "codemirror_mode": {
    "name": "ipython",
    "version": 3
   },
   "file_extension": ".py",
   "mimetype": "text/x-python",
   "name": "python",
   "nbconvert_exporter": "python",
   "pygments_lexer": "ipython3",
   "version": "3.8.5"
  }
 },
 "nbformat": 4,
 "nbformat_minor": 4
}
