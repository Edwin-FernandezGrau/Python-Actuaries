{
 "cells": [
  {
   "cell_type": "markdown",
   "id": "systematic-bikini",
   "metadata": {},
   "source": [
    "# 2. Estructura de Datos\n",
    "\n",
    "Conozca las estructuras de datos de Python: obtenga más información sobre los tipos de datos y las estructuras de datos primitivas y no primitivas, como **string, list**, etc.\n",
    "\n",
    "Las estructuras de datos son una forma de organizar y almacenar datos para que se pueda acceder a ellos y trabajar de manera eficiente. Definen la relación entre los datos y las operaciones que se pueden realizar con los mismos. Hay muchos tipos de estructuras de datos definidas que permiten concentrarse en la resolución de problemas en lugar de perderse en los detalles de la descripción y el acceso a los datos.\n",
    "\n",
    "![valores](imagenes/3.ArbolData.png)\n",
    "\n",
    "Las estructuras de datos se pueden dividir en dos categorías: estructuras de datos primitivas y no primitivas.\n",
    "Las primeras son las formas más simples de representar datos, mientras que las segundas son más avanzadas: contienen las estructuras de datos primitivas dentro de estructuras de datos más complejas para propósitos especiales."
   ]
  },
  {
   "cell_type": "markdown",
   "id": "southeast-ability",
   "metadata": {},
   "source": [
    "## 2.1. Estructuras de datos primitivas\n",
    "\n",
    "Estas son las estructuras de datos más primitivas o básicas. Son los componentes básicos para la manipulación de datos y contienen valores puros y simples de datos. Python tiene cuatro tipos de variables primitivas:\n",
    "\n",
    "\n",
    "- **Integers**\n",
    "- **Float**\n",
    "- **Strings**\n",
    "- **Boolean**"
   ]
  },
  {
   "cell_type": "markdown",
   "id": "continuing-democrat",
   "metadata": {},
   "source": [
    "### Integers\n",
    "Representa datos numéricos y, más específicamente, **números enteros** desde infinito negativo hasta infinito, como **-4**, **0** o **4**."
   ]
  },
  {
   "cell_type": "markdown",
   "id": "selective-theta",
   "metadata": {},
   "source": [
    "### Float\n",
    "Puede usarlo para números racionales, que generalmente terminan con una **cifra decimal**, como **1,11** o **3,14**.\n",
    "\n",
    " *En la siguiente celda se muestran algunas operaciones con números enteros y flotantes!*"
   ]
  },
  {
   "cell_type": "code",
   "execution_count": 4,
   "id": "endless-elite",
   "metadata": {},
   "outputs": [
    {
     "name": "stdout",
     "output_type": "stream",
     "text": [
      "<class 'float'>\n",
      "<class 'int'>\n",
      "16.1\n",
      "1.9\n",
      "40.0\n",
      "1.9047619047619047\n",
      "1.9\n",
      "4.0\n",
      "1048576.0\n"
     ]
    }
   ],
   "source": [
    "# Floats\n",
    "x = 4.0 \n",
    "y = 2.1\n",
    "print(type(x))\n",
    "\n",
    "#Integer\n",
    "z = 10\n",
    "print(type(z))\n",
    "\n",
    "print(x + y + z)    # Addition\n",
    "print(x - y)        # Subtraction\n",
    "print(x * z)      # Multiplication\n",
    "print(x / y)        # Returns the quotient (cociente)\n",
    "print(x % y)        # Returns the remainder(resto)\n",
    "print(abs(x))       # Absolute value\n",
    "print(x ** z)       # x to the power y"
   ]
  },
  {
   "cell_type": "markdown",
   "id": "indonesian-distance",
   "metadata": {},
   "source": [
    "### String\n",
    "Son colecciones de alfabetos, palabras u otros caracteres. En Python, puede crear cadenas encerrando una secuencia de caracteres entre un par de comillas simples o dobles. Por ejemplo: **'Adrisk', \"Actuarios\"**, etc.\n",
    "\n",
    "También puede aplicar las operaciones + en dos o más cadenas para concatenarlas, como en el siguiente ejemplo:"
   ]
  },
  {
   "cell_type": "code",
   "execution_count": 8,
   "id": "loose-footage",
   "metadata": {
    "scrolled": false
   },
   "outputs": [
    {
     "data": {
      "text/plain": [
       "'Actuarios Vida'"
      ]
     },
     "execution_count": 8,
     "metadata": {},
     "output_type": "execute_result"
    }
   ],
   "source": [
    "x = 'Actuarios'\n",
    "y = 'Vida'\n",
    "x + ' ' + y"
   ]
  },
  {
   "cell_type": "code",
   "execution_count": 22,
   "id": "removable-priest",
   "metadata": {},
   "outputs": [
    {
     "data": {
      "text/plain": [
       "'ActuariosActuarios'"
      ]
     },
     "execution_count": 22,
     "metadata": {},
     "output_type": "execute_result"
    }
   ],
   "source": [
    "# Repeat\n",
    "x * 2"
   ]
  },
  {
   "cell_type": "markdown",
   "id": "conscious-machinery",
   "metadata": {},
   "source": [
    "#### También puede dividir cadenas, lo que significa que selecciona partes del string:"
   ]
  },
  {
   "cell_type": "code",
   "execution_count": 15,
   "id": "intellectual-basket",
   "metadata": {},
   "outputs": [],
   "source": [
    "palabra = \"productos\""
   ]
  },
  {
   "cell_type": "code",
   "execution_count": 26,
   "id": "proper-twist",
   "metadata": {},
   "outputs": [
    {
     "name": "stdout",
     "output_type": "stream",
     "text": [
      "ductos\n"
     ]
    }
   ],
   "source": [
    "abc = palabra[3:]      # elem 0 y elem 1\n",
    "print(abc)"
   ]
  },
  {
   "cell_type": "code",
   "execution_count": 30,
   "id": "marine-monaco",
   "metadata": {
    "scrolled": true
   },
   "outputs": [
    {
     "name": "stdout",
     "output_type": "stream",
     "text": [
      "Actuar\n",
      "Vi\n"
     ]
    }
   ],
   "source": [
    "# Range Slicing\n",
    "z1 = x[:6] \n",
    "\n",
    "print(z1)\n",
    "\n",
    "# Slicing\n",
    "z2 = y[0] + y[1] \n",
    "\n",
    "print(z2)\n"
   ]
  },
  {
   "cell_type": "markdown",
   "id": "charged-teacher",
   "metadata": {},
   "source": [
    "Tenga en cuenta que las cadenas también pueden ser caracteres alfanuméricos, pero que la operación **+** \n",
    "también se usa para concatenar strings."
   ]
  },
  {
   "cell_type": "code",
   "execution_count": 31,
   "id": "above-embassy",
   "metadata": {
    "scrolled": true
   },
   "outputs": [
    {
     "name": "stdout",
     "output_type": "stream",
     "text": [
      "42\n",
      "<class 'str'>\n"
     ]
    }
   ],
   "source": [
    "x = '4'\n",
    "y = '2'\n",
    "\n",
    "print(x + y)\n",
    "print(type(x+y))"
   ]
  },
  {
   "cell_type": "code",
   "execution_count": 32,
   "id": "golden-bumper",
   "metadata": {},
   "outputs": [
    {
     "name": "stdout",
     "output_type": "stream",
     "text": [
      "6\n",
      "<class 'int'>\n"
     ]
    }
   ],
   "source": [
    "x = 4\n",
    "y = 2\n",
    "\n",
    "print(x + y)\n",
    "print(type(x+y))"
   ]
  },
  {
   "cell_type": "markdown",
   "id": "legislative-sailing",
   "metadata": {},
   "source": [
    "Python tiene muchos métodos integrados o funciones auxiliares para manipular strings. Reemplazar una subcadena, poner en mayúscula ciertas palabras en un párrafo, encontrar la posición de una cadena dentro de otra cadena son algunas de las manipulaciones comunes de cadenas. Mira algunos de estos:\n",
    "- ### mayúsculas"
   ]
  },
  {
   "cell_type": "code",
   "execution_count": 33,
   "id": "plastic-dealing",
   "metadata": {},
   "outputs": [
    {
     "data": {
      "text/plain": [
       "'Programa'"
      ]
     },
     "execution_count": 33,
     "metadata": {},
     "output_type": "execute_result"
    }
   ],
   "source": [
    "str.capitalize('programa')\n"
   ]
  },
  {
   "cell_type": "markdown",
   "id": "interior-forest",
   "metadata": {},
   "source": [
    "- ### len\n",
    "Recupera la longitud de una cadena en caracteres.  \n",
    "Tenga en cuenta que los espacios también cuentan para el resultado final:"
   ]
  },
  {
   "cell_type": "code",
   "execution_count": 49,
   "id": "possible-creature",
   "metadata": {
    "scrolled": true
   },
   "outputs": [
    {
     "name": "stdout",
     "output_type": "stream",
     "text": [
      "['202102']\n"
     ]
    }
   ],
   "source": [
    "str1 = \"Especialización 1_2\"\n",
    "str2 = \" 202102 \"\n",
    "len(str2)\n",
    "str3 = str2.split()\n",
    "print(str3)\n",
    "str3 = str3[0]"
   ]
  },
  {
   "cell_type": "markdown",
   "id": "saved-hamilton",
   "metadata": {},
   "source": [
    "- Compruebe si una cadena consta solo de dígitos"
   ]
  },
  {
   "cell_type": "code",
   "execution_count": 50,
   "id": "higher-error",
   "metadata": {
    "scrolled": true
   },
   "outputs": [
    {
     "data": {
      "text/plain": [
       "True"
      ]
     },
     "execution_count": 50,
     "metadata": {},
     "output_type": "execute_result"
    }
   ],
   "source": [
    "str3.isdigit() "
   ]
  },
  {
   "cell_type": "markdown",
   "id": "extended-liverpool",
   "metadata": {},
   "source": [
    "- Reemplazar partes de un string con otro"
   ]
  },
  {
   "cell_type": "code",
   "execution_count": 51,
   "id": "authentic-thong",
   "metadata": {},
   "outputs": [
    {
     "data": {
      "text/plain": [
       "'Especialización  202102 '"
      ]
     },
     "execution_count": 51,
     "metadata": {},
     "output_type": "execute_result"
    }
   ],
   "source": [
    "str1.replace('1_2', str2)"
   ]
  },
  {
   "cell_type": "markdown",
   "id": "mature-marking",
   "metadata": {},
   "source": [
    "### Boolean\n",
    "Este tipo de datos incorporado que puede tomar los valores: **Verdadero** y **Falso**, lo que a menudo los hace intercambiables con los enteros 1 y 0. Los booleanos son útiles en expresiones condicionales y de comparación, al igual que en los siguientes ejemplos:"
   ]
  },
  {
   "cell_type": "code",
   "execution_count": 54,
   "id": "tribal-holly",
   "metadata": {},
   "outputs": [
    {
     "data": {
      "text/plain": [
       "False"
      ]
     },
     "execution_count": 54,
     "metadata": {},
     "output_type": "execute_result"
    }
   ],
   "source": [
    "x = 4\n",
    "y = 7\n",
    "x == y"
   ]
  },
  {
   "cell_type": "code",
   "execution_count": 55,
   "id": "regulation-fifteen",
   "metadata": {},
   "outputs": [
    {
     "data": {
      "text/plain": [
       "True"
      ]
     },
     "execution_count": 55,
     "metadata": {},
     "output_type": "execute_result"
    }
   ],
   "source": [
    "y > x"
   ]
  },
  {
   "cell_type": "code",
   "execution_count": 66,
   "id": "annual-internship",
   "metadata": {},
   "outputs": [
    {
     "name": "stdout",
     "output_type": "stream",
     "text": [
      "son diferentes\n",
      "<class 'bool'>\n"
     ]
    }
   ],
   "source": [
    "x = 4\n",
    "y = 3\n",
    "z = (x==y) # Comparison expression (Evaluates to false)\n",
    "\n",
    "if  z == True : # Conditional on truth/false value of 'z'\n",
    "    print(\" x es igual a y\")\n",
    "else: print(\"son diferentes\")\n",
    "    \n",
    "print(type(z))    "
   ]
  },
  {
   "cell_type": "markdown",
   "id": "interesting-italic",
   "metadata": {},
   "source": [
    "## 2.1.1. Data Type Conversion\n",
    "A veces, se encontrará trabajando en el código de otra persona y deberá convertir un número entero en un flotante o viceversa. O tal vez descubra que ha estado usando un número entero cuando lo que realmente necesita es un flotante. En tales casos, puede convertir el tipo de datos de las variables.\n",
    "\n",
    "Para verificar el tipo de un objeto en Python, use la función incorporada **type()**, como en las líneas de código a continuación:\n"
   ]
  },
  {
   "cell_type": "code",
   "execution_count": 76,
   "id": "incorporate-authorization",
   "metadata": {},
   "outputs": [
    {
     "name": "stdout",
     "output_type": "stream",
     "text": [
      "18\n"
     ]
    }
   ],
   "source": [
    "i = 9.0\n",
    "i = int(i*2)\n",
    "type(i)\n",
    "print(i)"
   ]
  },
  {
   "cell_type": "markdown",
   "id": "extra-spectrum",
   "metadata": {},
   "source": [
    "Puede haber dos tipos posibles de conversión de datos: **implícita** denominada coerción y **explícita**, a menudo denominada conversión.  \n",
    "#### Conversión de tipo de datos implícita\n",
    "Se trata de una **conversión automática** de datos y el compilador se encarga de ello. Eche un vistazo a los siguientes ejemplos:"
   ]
  },
  {
   "cell_type": "code",
   "execution_count": 70,
   "id": "greenhouse-china",
   "metadata": {},
   "outputs": [
    {
     "data": {
      "text/plain": [
       "float"
      ]
     },
     "execution_count": 70,
     "metadata": {},
     "output_type": "execute_result"
    }
   ],
   "source": [
    "\n",
    "x = 9.0  # A float\n",
    "y = 2  # An integer\n",
    "\n",
    "z = x/y \n",
    "\n",
    "# Check the type of `z`\n",
    "type(z)"
   ]
  },
  {
   "cell_type": "markdown",
   "id": "answering-karen",
   "metadata": {},
   "source": [
    "En el ejemplo anterior, no tenía que cambiar explícitamente el tipo de datos de **y** para realizar la división de valor flotante. El compilador hizo esto implícitamente por usted."
   ]
  },
  {
   "cell_type": "markdown",
   "id": "asian-recall",
   "metadata": {},
   "source": [
    "#### Conversión explícita de tipos de datos\n",
    "Este tipo de conversión de tipo de datos lo define el usuario, lo que significa que debe informar explícitamente al compilador que cambie el tipo de datos de cierto objeto. Considere el fragmento de código a continuación para comprender completamente esto:"
   ]
  },
  {
   "cell_type": "code",
   "execution_count": 78,
   "id": "greenhouse-moses",
   "metadata": {
    "scrolled": false
   },
   "outputs": [
    {
     "ename": "TypeError",
     "evalue": "can only concatenate str (not \"int\") to str",
     "output_type": "error",
     "traceback": [
      "\u001b[1;31m---------------------------------------------------------------------------\u001b[0m",
      "\u001b[1;31mTypeError\u001b[0m                                 Traceback (most recent call last)",
      "\u001b[1;32m<ipython-input-78-a0056356b3ec>\u001b[0m in \u001b[0;36m<module>\u001b[1;34m\u001b[0m\n\u001b[0;32m      1\u001b[0m \u001b[0mx\u001b[0m \u001b[1;33m=\u001b[0m \u001b[1;36m202102\u001b[0m\u001b[1;33m\u001b[0m\u001b[1;33m\u001b[0m\u001b[0m\n\u001b[0;32m      2\u001b[0m \u001b[0my\u001b[0m \u001b[1;33m=\u001b[0m \u001b[1;34m\"Python para actuarios vida : \"\u001b[0m\u001b[1;33m\u001b[0m\u001b[1;33m\u001b[0m\u001b[0m\n\u001b[1;32m----> 3\u001b[1;33m \u001b[0mtexto\u001b[0m \u001b[1;33m=\u001b[0m \u001b[0my\u001b[0m \u001b[1;33m+\u001b[0m \u001b[0mx\u001b[0m\u001b[1;33m\u001b[0m\u001b[1;33m\u001b[0m\u001b[0m\n\u001b[0m",
      "\u001b[1;31mTypeError\u001b[0m: can only concatenate str (not \"int\") to str"
     ]
    }
   ],
   "source": [
    "x = 202102\n",
    "y = \"Python para actuarios vida : \"\n",
    "texto = y + x"
   ]
  },
  {
   "cell_type": "markdown",
   "id": "occasional-nelson",
   "metadata": {},
   "source": [
    "El ejemplo anterior le dio un error porque el compilador no entiende que está intentando realizar una concatenación o una suma, debido a los tipos de datos mixtos. Tienes un número entero y una cadena que estás intentando sumar.  \n",
    "Hay un desajuste obvio.\n",
    "Para resolver esto, primero **deberá convertir el int en un string** para luego poder realizar la concatenación."
   ]
  },
  {
   "cell_type": "code",
   "execution_count": 81,
   "id": "distant-terrorist",
   "metadata": {},
   "outputs": [
    {
     "name": "stdout",
     "output_type": "stream",
     "text": [
      "Python para actuarios vida : 202102\n"
     ]
    }
   ],
   "source": [
    "x = 202102\n",
    "y = \"Python para actuarios vida : \"\n",
    "texto = y + str(x)\n",
    "print(texto)"
   ]
  },
  {
   "cell_type": "markdown",
   "id": "cooperative-percentage",
   "metadata": {},
   "source": [
    "## 2.2. Estructuras de datos no primitivas\n",
    "\n",
    "Los tipos no primitivos son los miembros sofisticados de la familia de estructuras de datos. No solo almacenan un valor, sino una colección de valores en varios formatos.\n",
    "\n",
    "Las estructuras de datos no primitivas se dividen en:\n",
    "\n",
    "\n",
    "- **Array**\n",
    "- **List**\n",
    "- **Tuple**\n",
    "- **Dictionary**\n",
    "- **File**"
   ]
  },
  {
   "cell_type": "markdown",
   "id": "forward-stake",
   "metadata": {},
   "source": [
    "### Array\n",
    "En Python, las matrices son compatibles con el ** módulo  array** y deben **importarse** antes de comenzar a iniciarlas y usarlas. Los elementos almacenados en una matriz están restringidos en su tipo de datos. El tipo de datos se especifica durante la creación de la matriz y se especifica mediante un código de tipo, que es un carácter único como el que ve en el ejemplo siguiente:"
   ]
  },
  {
   "cell_type": "code",
   "execution_count": 82,
   "id": "local-guarantee",
   "metadata": {},
   "outputs": [
    {
     "name": "stdout",
     "output_type": "stream",
     "text": [
      "<class 'array.array'>\n",
      "array('I', [3, 6, 9])\n"
     ]
    }
   ],
   "source": [
    "import array as arr\n",
    "a = arr.array(\"I\",[3,6,9])\n",
    "print(type(a))\n",
    "print(a)"
   ]
  },
  {
   "cell_type": "markdown",
   "id": "encouraging-worship",
   "metadata": {},
   "source": [
    "Aquí hay un código para comenzar con NumPy Array:"
   ]
  },
  {
   "cell_type": "code",
   "execution_count": 84,
   "id": "automatic-shannon",
   "metadata": {},
   "outputs": [
    {
     "name": "stdout",
     "output_type": "stream",
     "text": [
      "[1. 2. 3.]\n",
      "[1. 1. 1. 1.]\n",
      "[[1. 1. 1. 1.]\n",
      " [1. 1. 1. 1.]\n",
      " [1. 1. 1. 1.]]\n"
     ]
    }
   ],
   "source": [
    "import numpy as np\n",
    "\n",
    "arr_a = np.array([3, 6, 9])\n",
    "arr_b = arr_a/3 # Performing vectorized (element-wise) operations \n",
    "print(arr_b)\n",
    "\n",
    "\n",
    "arr_ones = np.ones(4)\n",
    "print(arr_ones)\n",
    "\n",
    "multi_arr_ones = np.ones((3,4)) # Creating 2D array with 3 rows and 4 columns\n",
    "print(multi_arr_ones)\n"
   ]
  },
  {
   "cell_type": "markdown",
   "id": "timely-priest",
   "metadata": {},
   "source": [
    "### List\n",
    "Las listas se utilizan para almacenar una colección de elementos heterogéneos. Estos son mutables, lo que significa que puede cambiar su contenido sin cambiar su identidad. Puede reconocer las listas por sus corchetes **[x,y,x]** que contienen elementos, separados por una coma,. Las listas están integradas en Python: no es necesario invocarlas por separado."
   ]
  },
  {
   "cell_type": "code",
   "execution_count": 86,
   "id": "medium-athletics",
   "metadata": {
    "scrolled": true
   },
   "outputs": [
    {
     "name": "stdout",
     "output_type": "stream",
     "text": [
      "<class 'list'>\n",
      "<class 'list'>\n",
      "apple\n",
      "[1, 'orange', 3]\n"
     ]
    }
   ],
   "source": [
    "x = [] # Empty list\n",
    "print(type(x))\n",
    "\n",
    "x1 = [1,2,3]\n",
    "print(type(x1))\n",
    "type(x1)\n",
    "\n",
    "x2 = list([1,'apple',3])\n",
    "print(x2[1])\n",
    "\n",
    "x2[1] = 'orange'  # cambiamos el segundo elemento\n",
    "print(x2)\n"
   ]
  },
  {
   "cell_type": "markdown",
   "id": "forbidden-consensus",
   "metadata": {},
   "source": [
    "Python proporciona muchos métodos para manipular y trabajar con listas. Agregar nuevos elementos a una lista, eliminar algunos elementos de una lista, ordenar o invertir una lista son manipulaciones comunes de listas. Veamos algunos de ellos en acción:"
   ]
  },
  {
   "cell_type": "code",
   "execution_count": 87,
   "id": "superior-hebrew",
   "metadata": {},
   "outputs": [
    {
     "name": "stdout",
     "output_type": "stream",
     "text": [
      "[1, 2, 45, 6, 7, 2, 90, 23, 435, 11]\n",
      "[12, 1, 2, 45, 6, 7, 2, 90, 23, 435, 11]\n",
      "['c', 'o', 'k', 'i', 'e']\n",
      "['c', 'o', 'k', 'e']\n",
      "i\n",
      "[1, 2, 2, 6, 7, 11, 12, 23, 45, 90, 435]\n",
      "[435, 90, 45, 23, 12, 11, 7, 6, 2, 2, 1]\n"
     ]
    }
   ],
   "source": [
    "list_num = [1,2,45,6,7,2,90,23,435]\n",
    "list_char = ['c','o','o','k','i','e']\n",
    "\n",
    "list_num.append(11) # Add 11 to the list, by default adds to the last position\n",
    "print(list_num)\n",
    "\n",
    "\n",
    "list_num.insert(0, 12) #  insert 11 at index or position 0 \n",
    "print(list_num)\n",
    "\n",
    "list_char.remove('o') \n",
    "print(list_char)\n",
    "\n",
    "re = list_char.pop(-2) # Removes the item at the specified position\n",
    "print(list_char)\n",
    "print(re)\n",
    "\n",
    "list_num.sort() # In-place sorting\n",
    "print(list_num)\n",
    "\n",
    "list.reverse(list_num)\n",
    "print(list_num)"
   ]
  },
  {
   "cell_type": "markdown",
   "id": "coupled-wednesday",
   "metadata": {},
   "source": [
    "### Tuples\n",
    "Las tuplas son otro tipo de datos de secuencia estándar. La diferencia entre tuplas y lista es que las tuplas son inmutables, lo que significa que una vez definidas no puede eliminar, agregar o editar ningún valor dentro de ellas. Esto puede ser útil en situaciones en las que podría pasar el control a otra persona pero no desea que manipulen los datos de su colección.\n",
    "\n",
    "Veamos cómo se implementan las tuplas:"
   ]
  },
  {
   "cell_type": "code",
   "execution_count": 88,
   "id": "regulation-publication",
   "metadata": {},
   "outputs": [
    {
     "data": {
      "text/plain": [
       "1"
      ]
     },
     "execution_count": 88,
     "metadata": {},
     "output_type": "execute_result"
    }
   ],
   "source": [
    "x_tuple = 1,2,3,4,5\n",
    "y_tuple = ('c','a','k','e')\n",
    "\n",
    "x_tuple[0]"
   ]
  },
  {
   "cell_type": "code",
   "execution_count": 89,
   "id": "breeding-efficiency",
   "metadata": {
    "scrolled": true
   },
   "outputs": [
    {
     "ename": "TypeError",
     "evalue": "'tuple' object does not support item assignment",
     "output_type": "error",
     "traceback": [
      "\u001b[1;31m---------------------------------------------------------------------------\u001b[0m",
      "\u001b[1;31mTypeError\u001b[0m                                 Traceback (most recent call last)",
      "\u001b[1;32m<ipython-input-89-64983a53f169>\u001b[0m in \u001b[0;36m<module>\u001b[1;34m\u001b[0m\n\u001b[0;32m      1\u001b[0m \u001b[0my_tuple\u001b[0m\u001b[1;33m[\u001b[0m\u001b[1;36m3\u001b[0m\u001b[1;33m]\u001b[0m\u001b[1;33m\u001b[0m\u001b[1;33m\u001b[0m\u001b[0m\n\u001b[1;32m----> 2\u001b[1;33m \u001b[0mx_tuple\u001b[0m\u001b[1;33m[\u001b[0m\u001b[1;36m0\u001b[0m\u001b[1;33m]\u001b[0m \u001b[1;33m=\u001b[0m \u001b[1;36m0\u001b[0m \u001b[1;31m# Cannot change values inside a tuple\u001b[0m\u001b[1;33m\u001b[0m\u001b[1;33m\u001b[0m\u001b[0m\n\u001b[0m",
      "\u001b[1;31mTypeError\u001b[0m: 'tuple' object does not support item assignment"
     ]
    }
   ],
   "source": [
    "y_tuple[3]\n",
    "x_tuple[0] = 0 # Cannot change values inside a tuple"
   ]
  },
  {
   "cell_type": "markdown",
   "id": "upset-tyler",
   "metadata": {},
   "source": [
    "### Dictionary\n",
    "\n",
    "Los diccionarios son exactamente lo que necesita si desea implementar algo similar a una guía telefónica. Ninguna de las estructuras de datos que ha visto antes es adecuada para una guía telefónica.\n",
    "\n",
    "Aquí es cuando un diccionario puede resultar útil. Los diccionarios se componen de pares clave-valor. La clave se utiliza para identificar el artículo y el valor se mantiene como sugiere el nombre, el valor del artículo."
   ]
  },
  {
   "cell_type": "code",
   "execution_count": 90,
   "id": "weighted-accreditation",
   "metadata": {},
   "outputs": [
    {
     "data": {
      "text/plain": [
       "{'Company 01': 1, 'Company 02': 5, 'Company 04': 6}"
      ]
     },
     "execution_count": 90,
     "metadata": {},
     "output_type": "execute_result"
    }
   ],
   "source": [
    "x_dict = {'Company 01':1, 'Company 02':5, 'Company 03':4, 'Company 04':6}\n",
    "\n",
    "del x_dict['Company 03']\n",
    "\n",
    "x_dict"
   ]
  },
  {
   "cell_type": "code",
   "execution_count": 91,
   "id": "small-amendment",
   "metadata": {},
   "outputs": [
    {
     "data": {
      "text/plain": [
       "5"
      ]
     },
     "execution_count": 91,
     "metadata": {},
     "output_type": "execute_result"
    }
   ],
   "source": [
    "x_dict['Company 02'] # Prints the value stored with the key Company 02."
   ]
  },
  {
   "cell_type": "code",
   "execution_count": 94,
   "id": "environmental-vintage",
   "metadata": {},
   "outputs": [
    {
     "name": "stdout",
     "output_type": "stream",
     "text": [
      "3\n",
      "dict_keys(['Company 01', 'Company 02', 'Company 04'])\n"
     ]
    },
    {
     "data": {
      "text/plain": [
       "dict_values([1, 5, 6])"
      ]
     },
     "execution_count": 94,
     "metadata": {},
     "output_type": "execute_result"
    }
   ],
   "source": [
    "print(len(x_dict))\n",
    "print(x_dict.keys())\n",
    "x_dict.values()"
   ]
  },
  {
   "cell_type": "markdown",
   "id": "personalized-secretary",
   "metadata": {},
   "source": [
    "### Files\n",
    "\n",
    "Los archivos son tradicionalmente parte de las estructuras de datos. Un lenguaje de programación sin la capacidad de almacenar y recuperar información previamente almacenada difícilmente sería útil. \n",
    "La sintaxis para leer y escribir archivos en Python es similar a la de otros lenguajes de programación, pero mucho más fácil de manejar. Estas son algunas de las funciones básicas que lo ayudarán a trabajar con archivos usando Python:"
   ]
  },
  {
   "cell_type": "code",
   "execution_count": 92,
   "id": "robust-peninsula",
   "metadata": {},
   "outputs": [],
   "source": [
    "# File modes (2nd argument): 'r'(read), 'w'(write), 'a'(appending), 'r+'(both reading and writing)\n",
    "f = open('file_name', 'w')\n",
    "\n",
    "# Reads entire file\n",
    "#f.read() \n",
    "\n",
    "# Reads one line at a time\n",
    "#f.readline() \n",
    "\n",
    "# Writes the string to the file, returning the number of char written\n",
    "f.write('Add this line.') \n",
    "\n",
    "f.close()"
   ]
  },
  {
   "cell_type": "markdown",
   "id": "opposed-equality",
   "metadata": {},
   "source": [
    "#### Edwin Fernandez - BLID\n",
    "Python para Actuarios Vida"
   ]
  }
 ],
 "metadata": {
  "kernelspec": {
   "display_name": "Python 3",
   "language": "python",
   "name": "python3"
  },
  "language_info": {
   "codemirror_mode": {
    "name": "ipython",
    "version": 3
   },
   "file_extension": ".py",
   "mimetype": "text/x-python",
   "name": "python",
   "nbconvert_exporter": "python",
   "pygments_lexer": "ipython3",
   "version": "3.8.5"
  }
 },
 "nbformat": 4,
 "nbformat_minor": 5
}
