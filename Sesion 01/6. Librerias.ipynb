{
 "cells": [
  {
   "cell_type": "markdown",
   "id": "convertible-constraint",
   "metadata": {},
   "source": [
    "# 6. Librerias\n",
    "\n",
    "\n",
    "## 6.1. Módulos y paquetes\n",
    "En Python, cada uno de nuestros archivos **.py** se denominan **módulos**. Estos **módulos**, a la vez, pueden formar parte de **paquetes**. Un paquete, es una carpeta que contiene archivos **.py**\n",
    "\n",
    "El contenido de cada **módulo**, podrá ser utilizado a la vez, por otros **módulos**. Para ello, es necesario importar los **módulos** que se quieran utilizar. Para importar un **módulo**, se utiliza la instrucción **import**, seguida del **nombre del paquete** (si aplica) más el **nombre del módulo** (sin el .py) que se desee importar.\n",
    "\n",
    "        import modulo                             # importar un módulo que no pertenece a un paquete   \n",
    "        import paquete.modulo1                    # importar un módulo que está dentro de un paquete  \n",
    "        import paquete.subpaquete.modulo1\n",
    "        \n",
    "**Nota**:\n",
    "Python tiene sus propios módulos, los cuales forman parte de su librería de módulos estándar, que también pueden ser importados.        "
   ]
  },
  {
   "cell_type": "markdown",
   "id": "stopped-mouth",
   "metadata": {},
   "source": [
    "### 6.1.1 Namespaces\n",
    "\n",
    "Para acceder (desde el módulo donde se realizó la importación), a cualquier elemento del módulo importado, se realiza mediante **el namespace**, seguido de un punto (.) y el nombre del elemento que se desee obtener.   \n",
    "En Python, **un namespace**, es el nombre que se ha indicado luego de la palabra import, es decir l**a ruta (namespace) del módulo**:\n",
    "\n",
    "\n",
    "#### 6.1.1.1.  Alias\n",
    "\n",
    "Es posible también,**abreviar los namespace**s mediante un alias. Para ello, durante la importación, se asigna la palabra clave **as** seguida del alias con el cuál nos referiremos en el futuro a ese namespace importado:\n",
    "\n",
    "        import modulo as m  \n",
    "        import paquete.modulo1 as pm  \n",
    "        import paquete.subpaquete.modulo1 as psm  \n",
    "        \n",
    "**NOTA** : La función integrada **dir()** se usa para encontrar qué nombres define un módulo. Retorna una lista ordenada de cadenas:    \n",
    "\n",
    "        dir(modulo1)\n",
    "        dir()              #Sin argumentos,lista los nombres que tienes actualmente definidos:\n",
    "  \n",
    "    \n",
    "    \n",
    "..  \n",
    "\n",
    "Importamos el módulo Math. Este es un módulo estándar de Python. Usemoslo un poco para ver cómo se utiliza un módulo. Una vez importado vamos a utilizar en este caso una función del módulo para calcular la raíz cuadrada de un número."
   ]
  },
  {
   "cell_type": "code",
   "execution_count": 2,
   "id": "changed-watts",
   "metadata": {},
   "outputs": [
    {
     "data": {
      "text/plain": [
       "['__doc__',\n",
       " '__loader__',\n",
       " '__name__',\n",
       " '__package__',\n",
       " '__spec__',\n",
       " 'acos',\n",
       " 'acosh',\n",
       " 'asin',\n",
       " 'asinh',\n",
       " 'atan',\n",
       " 'atan2',\n",
       " 'atanh',\n",
       " 'ceil',\n",
       " 'comb',\n",
       " 'copysign',\n",
       " 'cos',\n",
       " 'cosh',\n",
       " 'degrees',\n",
       " 'dist',\n",
       " 'e',\n",
       " 'erf',\n",
       " 'erfc',\n",
       " 'exp',\n",
       " 'expm1',\n",
       " 'fabs',\n",
       " 'factorial',\n",
       " 'floor',\n",
       " 'fmod',\n",
       " 'frexp',\n",
       " 'fsum',\n",
       " 'gamma',\n",
       " 'gcd',\n",
       " 'hypot',\n",
       " 'inf',\n",
       " 'isclose',\n",
       " 'isfinite',\n",
       " 'isinf',\n",
       " 'isnan',\n",
       " 'isqrt',\n",
       " 'ldexp',\n",
       " 'lgamma',\n",
       " 'log',\n",
       " 'log10',\n",
       " 'log1p',\n",
       " 'log2',\n",
       " 'modf',\n",
       " 'nan',\n",
       " 'perm',\n",
       " 'pi',\n",
       " 'pow',\n",
       " 'prod',\n",
       " 'radians',\n",
       " 'remainder',\n",
       " 'sin',\n",
       " 'sinh',\n",
       " 'sqrt',\n",
       " 'tan',\n",
       " 'tanh',\n",
       " 'tau',\n",
       " 'trunc']"
      ]
     },
     "execution_count": 2,
     "metadata": {},
     "output_type": "execute_result"
    }
   ],
   "source": [
    "import math\n",
    "dir(math)\n",
    "#dir()"
   ]
  },
  {
   "cell_type": "code",
   "execution_count": 3,
   "id": "alpha-claim",
   "metadata": {},
   "outputs": [
    {
     "name": "stdout",
     "output_type": "stream",
     "text": [
      "5.0\n"
     ]
    }
   ],
   "source": [
    "x = 25\n",
    "y = math.sqrt(x)\n",
    "print(y)"
   ]
  },
  {
   "cell_type": "markdown",
   "id": "experimental-rocket",
   "metadata": {},
   "source": [
    "### 6.1.2. Búsqueda de un módulo por Python\n",
    "SE escribe el nombre del módulo sin extensión o ruta completa y Python se encargará del resto.\n",
    "Entonces, **¿en dónde Python hace la búsqueda de los módulos?**\n",
    "\n",
    "- El directorio de inicio de tu programa.\n",
    "- El directorio de variables de entorno PATH.\n",
    "- Directorios de biblioteca estándar.\n",
    "- Cualquier archivo .\n",
    "\n",
    "La combinación de estos elementos se convierte en la lista sys.path.\n",
    "\n",
    "En realidad, **sys.path** es la ruta donde Python busca módulos.\n",
    "Puedes obtener la ruta de la siguiente forma:"
   ]
  },
  {
   "cell_type": "code",
   "execution_count": 4,
   "id": "german-smell",
   "metadata": {
    "scrolled": true
   },
   "outputs": [
    {
     "name": "stdout",
     "output_type": "stream",
     "text": [
      "['C:\\\\Users\\\\DELL\\\\Desktop\\\\Python\\\\1. Python Actuarial Vida\\\\Sesion 01', 'C:\\\\ProgramData\\\\Anaconda3\\\\python38.zip', 'C:\\\\ProgramData\\\\Anaconda3\\\\DLLs', 'C:\\\\ProgramData\\\\Anaconda3\\\\lib', 'C:\\\\ProgramData\\\\Anaconda3', '', 'C:\\\\ProgramData\\\\Anaconda3\\\\lib\\\\site-packages', 'C:\\\\ProgramData\\\\Anaconda3\\\\lib\\\\site-packages\\\\locket-0.2.1-py3.8.egg', 'C:\\\\ProgramData\\\\Anaconda3\\\\lib\\\\site-packages\\\\win32', 'C:\\\\ProgramData\\\\Anaconda3\\\\lib\\\\site-packages\\\\win32\\\\lib', 'C:\\\\ProgramData\\\\Anaconda3\\\\lib\\\\site-packages\\\\Pythonwin', 'C:\\\\ProgramData\\\\Anaconda3\\\\lib\\\\site-packages\\\\IPython\\\\extensions', 'C:\\\\Users\\\\DELL\\\\.ipython']\n"
     ]
    }
   ],
   "source": [
    "import sys\n",
    "print(sys.path)"
   ]
  },
  {
   "cell_type": "markdown",
   "id": "convinced-variance",
   "metadata": {},
   "source": [
    "## 6.2. Librerias recomendadas\n",
    "\n",
    "**Librerías de Python para Cálculo Numérico y Análisis de Datos**\n",
    "- NumPy\n",
    "- SciPy\n",
    "- Pandas\n",
    "- Numb\n",
    "- Math\n",
    "- Datatime\n",
    "\n",
    "**Librerías de Python para Visualización**\n",
    "- Matplotlib\n",
    "- Seaborn\n",
    "- Bokeh\n"
   ]
  },
  {
   "cell_type": "markdown",
   "id": "developed-indianapolis",
   "metadata": {},
   "source": [
    "####  a) Datatime \n",
    "La librería estándar de Python incluye varios módulos para tratar y manipular fechas, tiempo e intervalos, una vez importado el módulo se define un objeto específico que permite hacer operaciones con fechas y tiempo. El módulo principal es **datetime**, que permite trabajar con fechas y tiempo mientras que el módulo time, ofrece métodos avanzados para tiempo, ignorando la fecha."
   ]
  },
  {
   "cell_type": "code",
   "execution_count": 2,
   "id": "indonesian-audio",
   "metadata": {},
   "outputs": [],
   "source": [
    "import datetime"
   ]
  },
  {
   "cell_type": "code",
   "execution_count": 3,
   "id": "modified-drilling",
   "metadata": {},
   "outputs": [
    {
     "name": "stdout",
     "output_type": "stream",
     "text": [
      "La fecha y hora actuales:  2021-02-28 10:22:24.534053\n"
     ]
    }
   ],
   "source": [
    "print(\"La fecha y hora actuales: \" , datetime.datetime.now()  )# Devuelve un objeto datetime"
   ]
  },
  {
   "cell_type": "code",
   "execution_count": 5,
   "id": "loaded-alabama",
   "metadata": {
    "scrolled": false
   },
   "outputs": [
    {
     "name": "stdout",
     "output_type": "stream",
     "text": [
      "Fecha y hora en string con formato:  2021-02-28 10:24\n",
      "Año actual:  2021\n",
      "Mes del año:  February\n",
      "Semana del año:  08\n",
      "Número de día de la semana:  0\n",
      "Día del año:  059\n",
      "Día del mes:  28\n",
      "Día día de la semana:  Sunday\n"
     ]
    }
   ],
   "source": [
    "print(\"Fecha y hora en string con formato: \" , datetime.datetime.now().strftime(\"%Y-%m-%d %H:%M\"))\n",
    "\n",
    "print(\"Año actual: \", datetime.date.today().strftime(\"%Y\"))\n",
    "print(\"Mes del año: \", datetime.date.today().strftime(\"%B\"))\n",
    "print(\"Semana del año: \", datetime.date.today().strftime(\"%W\"))\n",
    "print(\"Número de día de la semana: \", datetime.date.today().strftime(\"%w\"))\n",
    "print(\"Día del año: \", datetime.date.today().strftime(\"%j\"))\n",
    "print(\"Día del mes: \", datetime.date.today().strftime(\"%d\"))\n",
    "print(\"Día día de la semana: \", datetime.date.today().strftime(\"%A\"))\n",
    "\n",
    "\n",
    "\n"
   ]
  },
  {
   "cell_type": "code",
   "execution_count": 6,
   "id": "independent-worry",
   "metadata": {},
   "outputs": [
    {
     "name": "stdout",
     "output_type": "stream",
     "text": [
      "Segundos desde inicio de época: 1614525858.8629942\n",
      "Tuesday\n",
      "Oct 08 2019 00:00:00\n"
     ]
    }
   ],
   "source": [
    "import time\n",
    "\n",
    "print(\"Segundos desde inicio de época: %s\" %time.time())\n",
    "\n",
    "# Para una fecha específica\n",
    "fecha = datetime.date(2019, 10, 8)  #year, month, day\n",
    "print(fecha.strftime(\"%A\"))\n",
    "print(fecha.strftime(\"%b %d %Y %H:%M:%S\"))"
   ]
  },
  {
   "cell_type": "code",
   "execution_count": 7,
   "id": "comic-crash",
   "metadata": {},
   "outputs": [],
   "source": [
    "import numpy as np\n",
    "\n",
    "fecha_calculo = datetime.date(2021, 2, 28) \n",
    "fecha_calculo1 = datetime.date(2019, 5, 28) \n"
   ]
  },
  {
   "cell_type": "code",
   "execution_count": 8,
   "id": "adapted-hanging",
   "metadata": {},
   "outputs": [
    {
     "data": {
      "text/plain": [
       "datetime.timedelta(days=642)"
      ]
     },
     "execution_count": 8,
     "metadata": {},
     "output_type": "execute_result"
    }
   ],
   "source": [
    "(fecha_calculo - fecha_calculo1)"
   ]
  },
  {
   "cell_type": "code",
   "execution_count": 11,
   "id": "worth-weight",
   "metadata": {},
   "outputs": [
    {
     "data": {
      "text/plain": [
       "1.7589041095890412"
      ]
     },
     "execution_count": 11,
     "metadata": {},
     "output_type": "execute_result"
    }
   ],
   "source": [
    "(fecha_calculo - fecha_calculo1).days/365\n"
   ]
  },
  {
   "cell_type": "markdown",
   "id": "billion-terrorist",
   "metadata": {},
   "source": [
    "### 6.2.1. Instalación de módulos / paquetes\n",
    "\n",
    "En caso no de no tener el paquete instalado en python, lo podemos instalar mediante:\n",
    "\n",
    "buscamos en nuestro explorador de archivos : **Ananconda prompt**\n",
    "\n",
    "y escribimos el codigo **conda install ...**  según cada libreria \n",
    "![Conda install](imagenes/4.Conda.png)\n",
    "\n",
    "**Numerical Python:**\n",
    "\n",
    "      conda install NumPy\n",
    "\n",
    "**Python Data Analysis Library:**\n",
    "\n",
    "        conda install pandas\n",
    "        conda update pandas\n",
    "\n",
    "**Matplotlib : Python 2D plotting library** \n",
    "\n",
    "        conda install matplotlib\n",
    "\n",
    "\n",
    "### 6.2.2. Ejemplos / Numpy  - Pandas\n",
    "\n",
    "Crear matrices de 3 filas, 5 columnas  \n",
    "Crear matrices de valor 0 : 4 filas, 3 columnas  \n",
    "Sumar los valores de la matriz (a)"
   ]
  },
  {
   "cell_type": "code",
   "execution_count": 14,
   "id": "burning-sustainability",
   "metadata": {},
   "outputs": [
    {
     "data": {
      "text/plain": [
       "array([[ 0,  1,  2,  3,  4],\n",
       "       [ 5,  6,  7,  8,  9],\n",
       "       [10, 11, 12, 13, 14]])"
      ]
     },
     "execution_count": 14,
     "metadata": {},
     "output_type": "execute_result"
    }
   ],
   "source": [
    "import numpy as np\n",
    "\n",
    "a = np.arange(15).reshape(3, 5)\n",
    "a"
   ]
  },
  {
   "cell_type": "code",
   "execution_count": 15,
   "id": "monthly-blogger",
   "metadata": {},
   "outputs": [
    {
     "data": {
      "text/plain": [
       "array([[0., 0., 0., 0.],\n",
       "       [0., 0., 0., 0.],\n",
       "       [0., 0., 0., 0.]])"
      ]
     },
     "execution_count": 15,
     "metadata": {},
     "output_type": "execute_result"
    }
   ],
   "source": [
    "np.zeros((3, 4))"
   ]
  },
  {
   "cell_type": "code",
   "execution_count": 16,
   "id": "surprising-gregory",
   "metadata": {},
   "outputs": [
    {
     "name": "stdout",
     "output_type": "stream",
     "text": [
      "105\n"
     ]
    }
   ],
   "source": [
    "print(np.sum(a))"
   ]
  },
  {
   "cell_type": "markdown",
   "id": "european-grass",
   "metadata": {},
   "source": [
    "Crear una serie usando numpy y pandas"
   ]
  },
  {
   "cell_type": "code",
   "execution_count": 17,
   "id": "beautiful-sleeve",
   "metadata": {},
   "outputs": [
    {
     "data": {
      "text/plain": [
       "0    1.0\n",
       "1    3.0\n",
       "2    5.0\n",
       "3    NaN\n",
       "4    6.0\n",
       "5    8.0\n",
       "dtype: float64"
      ]
     },
     "execution_count": 17,
     "metadata": {},
     "output_type": "execute_result"
    }
   ],
   "source": [
    "import pandas as pd\n",
    "\n",
    "s = pd.Series([1, 3, 5, np.nan, 6, 8])\n",
    "s"
   ]
  },
  {
   "cell_type": "markdown",
   "id": "legal-playlist",
   "metadata": {},
   "source": [
    "Crear un DataFrame con fehcas como index"
   ]
  },
  {
   "cell_type": "code",
   "execution_count": 18,
   "id": "hazardous-parish",
   "metadata": {
    "scrolled": true
   },
   "outputs": [
    {
     "data": {
      "text/plain": [
       "DatetimeIndex(['2021-02-01', '2021-02-02', '2021-02-03', '2021-02-04',\n",
       "               '2021-02-05', '2021-02-06'],\n",
       "              dtype='datetime64[ns]', freq='D')"
      ]
     },
     "execution_count": 18,
     "metadata": {},
     "output_type": "execute_result"
    }
   ],
   "source": [
    "dates = pd.date_range(\"20210201\", periods=6)\n",
    "dates"
   ]
  },
  {
   "cell_type": "code",
   "execution_count": 21,
   "id": "valued-austin",
   "metadata": {},
   "outputs": [
    {
     "data": {
      "text/html": [
       "<div>\n",
       "<style scoped>\n",
       "    .dataframe tbody tr th:only-of-type {\n",
       "        vertical-align: middle;\n",
       "    }\n",
       "\n",
       "    .dataframe tbody tr th {\n",
       "        vertical-align: top;\n",
       "    }\n",
       "\n",
       "    .dataframe thead th {\n",
       "        text-align: right;\n",
       "    }\n",
       "</style>\n",
       "<table border=\"1\" class=\"dataframe\">\n",
       "  <thead>\n",
       "    <tr style=\"text-align: right;\">\n",
       "      <th></th>\n",
       "      <th>A</th>\n",
       "      <th>B</th>\n",
       "      <th>C</th>\n",
       "      <th>D</th>\n",
       "    </tr>\n",
       "  </thead>\n",
       "  <tbody>\n",
       "    <tr>\n",
       "      <th>2021-02-01</th>\n",
       "      <td>0.613251</td>\n",
       "      <td>-0.354587</td>\n",
       "      <td>2.294852</td>\n",
       "      <td>-0.231039</td>\n",
       "    </tr>\n",
       "    <tr>\n",
       "      <th>2021-02-02</th>\n",
       "      <td>-1.904790</td>\n",
       "      <td>2.053089</td>\n",
       "      <td>-0.301828</td>\n",
       "      <td>0.311835</td>\n",
       "    </tr>\n",
       "    <tr>\n",
       "      <th>2021-02-03</th>\n",
       "      <td>-0.905262</td>\n",
       "      <td>2.018636</td>\n",
       "      <td>-0.434886</td>\n",
       "      <td>0.597882</td>\n",
       "    </tr>\n",
       "    <tr>\n",
       "      <th>2021-02-04</th>\n",
       "      <td>0.417447</td>\n",
       "      <td>0.059644</td>\n",
       "      <td>2.422074</td>\n",
       "      <td>0.061048</td>\n",
       "    </tr>\n",
       "    <tr>\n",
       "      <th>2021-02-05</th>\n",
       "      <td>-0.882578</td>\n",
       "      <td>-1.282335</td>\n",
       "      <td>-0.791383</td>\n",
       "      <td>-0.482920</td>\n",
       "    </tr>\n",
       "    <tr>\n",
       "      <th>2021-02-06</th>\n",
       "      <td>-0.769054</td>\n",
       "      <td>0.520959</td>\n",
       "      <td>1.578344</td>\n",
       "      <td>0.427402</td>\n",
       "    </tr>\n",
       "  </tbody>\n",
       "</table>\n",
       "</div>"
      ],
      "text/plain": [
       "                   A         B         C         D\n",
       "2021-02-01  0.613251 -0.354587  2.294852 -0.231039\n",
       "2021-02-02 -1.904790  2.053089 -0.301828  0.311835\n",
       "2021-02-03 -0.905262  2.018636 -0.434886  0.597882\n",
       "2021-02-04  0.417447  0.059644  2.422074  0.061048\n",
       "2021-02-05 -0.882578 -1.282335 -0.791383 -0.482920\n",
       "2021-02-06 -0.769054  0.520959  1.578344  0.427402"
      ]
     },
     "execution_count": 21,
     "metadata": {},
     "output_type": "execute_result"
    }
   ],
   "source": [
    "df = pd.DataFrame(np.random.randn(6, 4), index=dates, columns=list(\"ABCD\"))\n",
    "df"
   ]
  },
  {
   "cell_type": "markdown",
   "id": "juvenile-footwear",
   "metadata": {},
   "source": [
    "Creando un DataFrame pasando un dict de objetos que se pueden convertir a series."
   ]
  },
  {
   "cell_type": "code",
   "execution_count": 22,
   "id": "binary-utilization",
   "metadata": {},
   "outputs": [
    {
     "data": {
      "text/html": [
       "<div>\n",
       "<style scoped>\n",
       "    .dataframe tbody tr th:only-of-type {\n",
       "        vertical-align: middle;\n",
       "    }\n",
       "\n",
       "    .dataframe tbody tr th {\n",
       "        vertical-align: top;\n",
       "    }\n",
       "\n",
       "    .dataframe thead th {\n",
       "        text-align: right;\n",
       "    }\n",
       "</style>\n",
       "<table border=\"1\" class=\"dataframe\">\n",
       "  <thead>\n",
       "    <tr style=\"text-align: right;\">\n",
       "      <th></th>\n",
       "      <th>A</th>\n",
       "      <th>B</th>\n",
       "      <th>C</th>\n",
       "      <th>D</th>\n",
       "      <th>E</th>\n",
       "      <th>F</th>\n",
       "    </tr>\n",
       "  </thead>\n",
       "  <tbody>\n",
       "    <tr>\n",
       "      <th>0</th>\n",
       "      <td>1.0</td>\n",
       "      <td>2013-01-02</td>\n",
       "      <td>1.0</td>\n",
       "      <td>3</td>\n",
       "      <td>test</td>\n",
       "      <td>foo</td>\n",
       "    </tr>\n",
       "    <tr>\n",
       "      <th>1</th>\n",
       "      <td>1.0</td>\n",
       "      <td>2013-01-02</td>\n",
       "      <td>1.0</td>\n",
       "      <td>3</td>\n",
       "      <td>train</td>\n",
       "      <td>foo</td>\n",
       "    </tr>\n",
       "    <tr>\n",
       "      <th>2</th>\n",
       "      <td>1.0</td>\n",
       "      <td>2013-01-02</td>\n",
       "      <td>1.0</td>\n",
       "      <td>3</td>\n",
       "      <td>test</td>\n",
       "      <td>foo</td>\n",
       "    </tr>\n",
       "    <tr>\n",
       "      <th>3</th>\n",
       "      <td>1.0</td>\n",
       "      <td>2013-01-02</td>\n",
       "      <td>1.0</td>\n",
       "      <td>3</td>\n",
       "      <td>train</td>\n",
       "      <td>foo</td>\n",
       "    </tr>\n",
       "  </tbody>\n",
       "</table>\n",
       "</div>"
      ],
      "text/plain": [
       "     A          B    C  D      E    F\n",
       "0  1.0 2013-01-02  1.0  3   test  foo\n",
       "1  1.0 2013-01-02  1.0  3  train  foo\n",
       "2  1.0 2013-01-02  1.0  3   test  foo\n",
       "3  1.0 2013-01-02  1.0  3  train  foo"
      ]
     },
     "execution_count": 22,
     "metadata": {},
     "output_type": "execute_result"
    }
   ],
   "source": [
    "\n",
    "df2 = pd.DataFrame({\n",
    "   \"A\": 1.0,\n",
    "   \"B\": pd.Timestamp(\"20130102\"),\n",
    "   \"C\": pd.Series(1, index=list(range(4)), dtype=\"float32\"),\n",
    "   \"D\": np.array([3] * 4, dtype=\"int32\"),\n",
    "   \"E\": pd.Categorical([\"test\", \"train\", \"test\", \"train\"]),\n",
    "   \"F\": \"foo\",\n",
    "   })\n",
    "\n",
    "df2\n"
   ]
  },
  {
   "cell_type": "code",
   "execution_count": 23,
   "id": "operational-turtle",
   "metadata": {},
   "outputs": [
    {
     "data": {
      "text/plain": [
       "A           float64\n",
       "B    datetime64[ns]\n",
       "C           float32\n",
       "D             int32\n",
       "E          category\n",
       "F            object\n",
       "dtype: object"
      ]
     },
     "execution_count": 23,
     "metadata": {},
     "output_type": "execute_result"
    }
   ],
   "source": [
    "df2.dtypes"
   ]
  },
  {
   "cell_type": "code",
   "execution_count": 24,
   "id": "regional-laptop",
   "metadata": {},
   "outputs": [
    {
     "data": {
      "text/plain": [
       "['BooleanDtype',\n",
       " 'Categorical',\n",
       " 'CategoricalDtype',\n",
       " 'CategoricalIndex',\n",
       " 'DataFrame',\n",
       " 'DateOffset',\n",
       " 'DatetimeIndex',\n",
       " 'DatetimeTZDtype',\n",
       " 'ExcelFile',\n",
       " 'ExcelWriter',\n",
       " 'Flags',\n",
       " 'Float32Dtype',\n",
       " 'Float64Dtype',\n",
       " 'Float64Index',\n",
       " 'Grouper',\n",
       " 'HDFStore',\n",
       " 'Index',\n",
       " 'IndexSlice',\n",
       " 'Int16Dtype',\n",
       " 'Int32Dtype',\n",
       " 'Int64Dtype',\n",
       " 'Int64Index',\n",
       " 'Int8Dtype',\n",
       " 'Interval',\n",
       " 'IntervalDtype',\n",
       " 'IntervalIndex',\n",
       " 'MultiIndex',\n",
       " 'NA',\n",
       " 'NaT',\n",
       " 'NamedAgg',\n",
       " 'Period',\n",
       " 'PeriodDtype',\n",
       " 'PeriodIndex',\n",
       " 'RangeIndex',\n",
       " 'Series',\n",
       " 'SparseDtype',\n",
       " 'StringDtype',\n",
       " 'Timedelta',\n",
       " 'TimedeltaIndex',\n",
       " 'Timestamp',\n",
       " 'UInt16Dtype',\n",
       " 'UInt32Dtype',\n",
       " 'UInt64Dtype',\n",
       " 'UInt64Index',\n",
       " 'UInt8Dtype',\n",
       " '__builtins__',\n",
       " '__cached__',\n",
       " '__doc__',\n",
       " '__docformat__',\n",
       " '__file__',\n",
       " '__getattr__',\n",
       " '__git_version__',\n",
       " '__loader__',\n",
       " '__name__',\n",
       " '__package__',\n",
       " '__path__',\n",
       " '__spec__',\n",
       " '__version__',\n",
       " '_config',\n",
       " '_hashtable',\n",
       " '_is_numpy_dev',\n",
       " '_lib',\n",
       " '_libs',\n",
       " '_np_version_under1p17',\n",
       " '_np_version_under1p18',\n",
       " '_testing',\n",
       " '_tslib',\n",
       " '_typing',\n",
       " '_version',\n",
       " 'api',\n",
       " 'array',\n",
       " 'arrays',\n",
       " 'bdate_range',\n",
       " 'compat',\n",
       " 'concat',\n",
       " 'core',\n",
       " 'crosstab',\n",
       " 'cut',\n",
       " 'date_range',\n",
       " 'describe_option',\n",
       " 'errors',\n",
       " 'eval',\n",
       " 'factorize',\n",
       " 'get_dummies',\n",
       " 'get_option',\n",
       " 'infer_freq',\n",
       " 'interval_range',\n",
       " 'io',\n",
       " 'isna',\n",
       " 'isnull',\n",
       " 'json_normalize',\n",
       " 'lreshape',\n",
       " 'melt',\n",
       " 'merge',\n",
       " 'merge_asof',\n",
       " 'merge_ordered',\n",
       " 'notna',\n",
       " 'notnull',\n",
       " 'offsets',\n",
       " 'option_context',\n",
       " 'options',\n",
       " 'pandas',\n",
       " 'period_range',\n",
       " 'pivot',\n",
       " 'pivot_table',\n",
       " 'plotting',\n",
       " 'qcut',\n",
       " 'read_clipboard',\n",
       " 'read_csv',\n",
       " 'read_excel',\n",
       " 'read_feather',\n",
       " 'read_fwf',\n",
       " 'read_gbq',\n",
       " 'read_hdf',\n",
       " 'read_html',\n",
       " 'read_json',\n",
       " 'read_orc',\n",
       " 'read_parquet',\n",
       " 'read_pickle',\n",
       " 'read_sas',\n",
       " 'read_spss',\n",
       " 'read_sql',\n",
       " 'read_sql_query',\n",
       " 'read_sql_table',\n",
       " 'read_stata',\n",
       " 'read_table',\n",
       " 'reset_option',\n",
       " 'set_eng_float_format',\n",
       " 'set_option',\n",
       " 'show_versions',\n",
       " 'test',\n",
       " 'testing',\n",
       " 'timedelta_range',\n",
       " 'to_datetime',\n",
       " 'to_numeric',\n",
       " 'to_pickle',\n",
       " 'to_timedelta',\n",
       " 'tseries',\n",
       " 'unique',\n",
       " 'util',\n",
       " 'value_counts',\n",
       " 'wide_to_long']"
      ]
     },
     "execution_count": 24,
     "metadata": {},
     "output_type": "execute_result"
    }
   ],
   "source": [
    "dir(pd) # lista de operaciones disponibles que se pueden hacer con pandas"
   ]
  },
  {
   "cell_type": "markdown",
   "id": "controlled-ireland",
   "metadata": {},
   "source": [
    "###  6.2.3. Operación de pandas para importar archivos, serán de mucha utilidad\n",
    "\n",
    "Txt : **pd_read_table()**  \n",
    "\n",
    "CSV : **pd.read_csv()**   \n",
    "\n",
    "Excel : **pd.read_excel()**   \n",
    "\n",
    "Stata : **pd.read_stata(** filepath_or_buffer , convert_dates =True, convert_categoricals =True, index_col None ,\n",
    "convert_missing =False, preserve_dtypes =True, columns None , order_categoricals =True,...**)**    \n",
    "\n",
    "SPSS: **pd.read_spss(** path: Union[ str , pathlib.Path ], usecols : Union[ str ], NoneType ]=None,\n",
    "convert_categoricals : bool=True **)**  \n",
    "\n",
    "Sas : **pd.read_sas(** filepath_or_buffer , format=None, index=None, encoding=None, chunksize =None,\n",
    "iterator=False **)**  \n",
    "\n",
    "SQL: **pd.read_sql(** sql, con, index_col=None, coerce_float=True, params=None, parse_dates=None,\n",
    "columns=None, chunksize=None **)** // **pd.read_sql_query ()** // **pd.read_sql_table()**"
   ]
  },
  {
   "cell_type": "code",
   "execution_count": 25,
   "id": "hazardous-exploration",
   "metadata": {},
   "outputs": [],
   "source": [
    "import pandas as pd\n",
    "da = pd.read_excel(\"life_table.xlsx\")  #importamos una tabla de mortalidad ( está en la misma ruta que este notebook)"
   ]
  },
  {
   "cell_type": "markdown",
   "id": "olive-citizen",
   "metadata": {},
   "source": [
    "#### Edwin Fernandez - BLID\n",
    "Python para Actuarios Vida"
   ]
  },
  {
   "cell_type": "code",
   "execution_count": 26,
   "id": "constitutional-texas",
   "metadata": {},
   "outputs": [
    {
     "data": {
      "text/html": [
       "<div>\n",
       "<style scoped>\n",
       "    .dataframe tbody tr th:only-of-type {\n",
       "        vertical-align: middle;\n",
       "    }\n",
       "\n",
       "    .dataframe tbody tr th {\n",
       "        vertical-align: top;\n",
       "    }\n",
       "\n",
       "    .dataframe thead th {\n",
       "        text-align: right;\n",
       "    }\n",
       "</style>\n",
       "<table border=\"1\" class=\"dataframe\">\n",
       "  <thead>\n",
       "    <tr style=\"text-align: right;\">\n",
       "      <th></th>\n",
       "      <th>age</th>\n",
       "      <th>qx</th>\n",
       "      <th>lx</th>\n",
       "      <th>ex</th>\n",
       "      <th>dx</th>\n",
       "    </tr>\n",
       "  </thead>\n",
       "  <tbody>\n",
       "    <tr>\n",
       "      <th>0</th>\n",
       "      <td>0</td>\n",
       "      <td>0.00382</td>\n",
       "      <td>100000</td>\n",
       "      <td>77.95</td>\n",
       "      <td>382</td>\n",
       "    </tr>\n",
       "    <tr>\n",
       "      <th>1</th>\n",
       "      <td>1</td>\n",
       "      <td>0.00047</td>\n",
       "      <td>99618</td>\n",
       "      <td>77.25</td>\n",
       "      <td>47</td>\n",
       "    </tr>\n",
       "    <tr>\n",
       "      <th>2</th>\n",
       "      <td>2</td>\n",
       "      <td>0.00019</td>\n",
       "      <td>99572</td>\n",
       "      <td>76.28</td>\n",
       "      <td>19</td>\n",
       "    </tr>\n",
       "    <tr>\n",
       "      <th>3</th>\n",
       "      <td>3</td>\n",
       "      <td>0.00015</td>\n",
       "      <td>99552</td>\n",
       "      <td>75.30</td>\n",
       "      <td>15</td>\n",
       "    </tr>\n",
       "    <tr>\n",
       "      <th>4</th>\n",
       "      <td>4</td>\n",
       "      <td>0.00013</td>\n",
       "      <td>99538</td>\n",
       "      <td>74.31</td>\n",
       "      <td>13</td>\n",
       "    </tr>\n",
       "    <tr>\n",
       "      <th>...</th>\n",
       "      <td>...</td>\n",
       "      <td>...</td>\n",
       "      <td>...</td>\n",
       "      <td>...</td>\n",
       "      <td>...</td>\n",
       "    </tr>\n",
       "    <tr>\n",
       "      <th>106</th>\n",
       "      <td>106</td>\n",
       "      <td>0.52076</td>\n",
       "      <td>15</td>\n",
       "      <td>1.38</td>\n",
       "      <td>8</td>\n",
       "    </tr>\n",
       "    <tr>\n",
       "      <th>107</th>\n",
       "      <td>107</td>\n",
       "      <td>0.53591</td>\n",
       "      <td>7</td>\n",
       "      <td>1.33</td>\n",
       "      <td>4</td>\n",
       "    </tr>\n",
       "    <tr>\n",
       "      <th>108</th>\n",
       "      <td>108</td>\n",
       "      <td>0.54984</td>\n",
       "      <td>3</td>\n",
       "      <td>1.29</td>\n",
       "      <td>2</td>\n",
       "    </tr>\n",
       "    <tr>\n",
       "      <th>109</th>\n",
       "      <td>109</td>\n",
       "      <td>0.56257</td>\n",
       "      <td>2</td>\n",
       "      <td>1.26</td>\n",
       "      <td>1</td>\n",
       "    </tr>\n",
       "    <tr>\n",
       "      <th>110</th>\n",
       "      <td>110</td>\n",
       "      <td>1.00000</td>\n",
       "      <td>1</td>\n",
       "      <td>1.24</td>\n",
       "      <td>1</td>\n",
       "    </tr>\n",
       "  </tbody>\n",
       "</table>\n",
       "<p>111 rows × 5 columns</p>\n",
       "</div>"
      ],
      "text/plain": [
       "     age       qx      lx     ex   dx\n",
       "0      0  0.00382  100000  77.95  382\n",
       "1      1  0.00047   99618  77.25   47\n",
       "2      2  0.00019   99572  76.28   19\n",
       "3      3  0.00015   99552  75.30   15\n",
       "4      4  0.00013   99538  74.31   13\n",
       "..   ...      ...     ...    ...  ...\n",
       "106  106  0.52076      15   1.38    8\n",
       "107  107  0.53591       7   1.33    4\n",
       "108  108  0.54984       3   1.29    2\n",
       "109  109  0.56257       2   1.26    1\n",
       "110  110  1.00000       1   1.24    1\n",
       "\n",
       "[111 rows x 5 columns]"
      ]
     },
     "execution_count": 26,
     "metadata": {},
     "output_type": "execute_result"
    }
   ],
   "source": [
    "da"
   ]
  },
  {
   "cell_type": "code",
   "execution_count": null,
   "id": "falling-software",
   "metadata": {},
   "outputs": [],
   "source": []
  }
 ],
 "metadata": {
  "kernelspec": {
   "display_name": "Python 3",
   "language": "python",
   "name": "python3"
  },
  "language_info": {
   "codemirror_mode": {
    "name": "ipython",
    "version": 3
   },
   "file_extension": ".py",
   "mimetype": "text/x-python",
   "name": "python",
   "nbconvert_exporter": "python",
   "pygments_lexer": "ipython3",
   "version": "3.8.5"
  }
 },
 "nbformat": 4,
 "nbformat_minor": 5
}
