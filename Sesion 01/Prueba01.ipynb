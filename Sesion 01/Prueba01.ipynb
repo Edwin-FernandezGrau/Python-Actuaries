{
 "cells": [
  {
   "cell_type": "markdown",
   "id": "weird-colorado",
   "metadata": {},
   "source": [
    "# Prueba01\n",
    "\n",
    " Clase 01"
   ]
  },
  {
   "cell_type": "code",
   "execution_count": 1,
   "id": "least-reaction",
   "metadata": {},
   "outputs": [
    {
     "data": {
      "text/plain": [
       "4"
      ]
     },
     "execution_count": 1,
     "metadata": {},
     "output_type": "execute_result"
    }
   ],
   "source": [
    " 2+2"
   ]
  },
  {
   "cell_type": "code",
   "execution_count": null,
   "id": "adolescent-thought",
   "metadata": {},
   "outputs": [],
   "source": []
  }
 ],
 "metadata": {
  "kernelspec": {
   "display_name": "Python 3",
   "language": "python",
   "name": "python3"
  },
  "language_info": {
   "codemirror_mode": {
    "name": "ipython",
    "version": 3
   },
   "file_extension": ".py",
   "mimetype": "text/x-python",
   "name": "python",
   "nbconvert_exporter": "python",
   "pygments_lexer": "ipython3",
   "version": "3.8.5"
  }
 },
 "nbformat": 4,
 "nbformat_minor": 5
}
