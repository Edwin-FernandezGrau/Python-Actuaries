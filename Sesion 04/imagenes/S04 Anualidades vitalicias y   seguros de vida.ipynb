{
 "cells": [
  {
   "cell_type": "markdown",
   "id": "spatial-planet",
   "metadata": {},
   "source": [
    "\n",
    "# <span style='color:midnightblue'> Python para Actuarios Vida </span>\n",
    "\n",
    "![ADRISK](Imagenes/KN.png)\n",
    "\n",
    "\n",
    "## <span style='color:midnightblue'> Sesión 04 :Renta vitalicias y   seguros de vida (Parte 01)  </span>"
   ]
  },
  {
   "cell_type": "markdown",
   "id": "classical-infrastructure",
   "metadata": {},
   "source": [
    "## Anualidad versus renta vitalicia: ¡tenga en cuenta la diferencia!\n",
    "\n",
    "- Una anualidad cierta es el préstamo de un automóvil\n",
    "- Una renta vitalicia es un plan de retiro\n",
    "\n",
    "**La anualidad (cierta)** ofrece una serie de pagos garantizados.   \n",
    "![](imagenes/cierto.png)\n",
    "**La renta vitalicia** depende de la **supervivencia** del receptor.\n",
    "![](imagenes/renta1.png)"
   ]
  },
  {
   "cell_type": "markdown",
   "id": "valued-millennium",
   "metadata": {},
   "source": [
    "## Dotación pura\n",
    "\n",
    "El producto se vende a **(x)** en el momento 0. \n",
    "![](imagenes/dp1.png)\n",
    "\n",
    "#### VPE de una dotación pura\n",
    "Valor Presente Esperado:\n",
    "![](imagenes/dp2.png)\n",
    "\n",
    "El VPE es : \n",
    "- $_{k}E_{x}=1*v(k)*_{k}p_{x}$\n",
    "\n",
    "Con una **anualidad cierta**,  el beneficio de 1 en el momento k está garantizado   \n",
    "el VP es :\n",
    "- $v(k)$"
   ]
  },
  {
   "cell_type": "code",
   "execution_count": 1,
   "id": "ready-weekly",
   "metadata": {},
   "outputs": [
    {
     "data": {
      "text/plain": [
       "0.8626087843841639"
      ]
     },
     "execution_count": 1,
     "metadata": {},
     "output_type": "execute_result"
    }
   ],
   "source": [
    "i = 0.03\n",
    "k = 5\n",
    "discount_factor = (1+i)**-k\n",
    "pv = 1*discount_factor\n",
    "pv"
   ]
  },
  {
   "cell_type": "code",
   "execution_count": 2,
   "id": "mechanical-compression",
   "metadata": {},
   "outputs": [
    {
     "data": {
      "text/html": [
       "<div>\n",
       "<style scoped>\n",
       "    .dataframe tbody tr th:only-of-type {\n",
       "        vertical-align: middle;\n",
       "    }\n",
       "\n",
       "    .dataframe tbody tr th {\n",
       "        vertical-align: top;\n",
       "    }\n",
       "\n",
       "    .dataframe thead th {\n",
       "        text-align: right;\n",
       "    }\n",
       "</style>\n",
       "<table border=\"1\" class=\"dataframe\">\n",
       "  <thead>\n",
       "    <tr style=\"text-align: right;\">\n",
       "      <th></th>\n",
       "      <th>age</th>\n",
       "      <th>qx</th>\n",
       "      <th>lx</th>\n",
       "      <th>ex</th>\n",
       "      <th>dx</th>\n",
       "    </tr>\n",
       "  </thead>\n",
       "  <tbody>\n",
       "    <tr>\n",
       "      <th>0</th>\n",
       "      <td>0</td>\n",
       "      <td>0.00382</td>\n",
       "      <td>100000</td>\n",
       "      <td>77.95</td>\n",
       "      <td>382</td>\n",
       "    </tr>\n",
       "    <tr>\n",
       "      <th>1</th>\n",
       "      <td>1</td>\n",
       "      <td>0.00047</td>\n",
       "      <td>99618</td>\n",
       "      <td>77.25</td>\n",
       "      <td>47</td>\n",
       "    </tr>\n",
       "    <tr>\n",
       "      <th>2</th>\n",
       "      <td>2</td>\n",
       "      <td>0.00019</td>\n",
       "      <td>99572</td>\n",
       "      <td>76.28</td>\n",
       "      <td>19</td>\n",
       "    </tr>\n",
       "    <tr>\n",
       "      <th>3</th>\n",
       "      <td>3</td>\n",
       "      <td>0.00015</td>\n",
       "      <td>99552</td>\n",
       "      <td>75.30</td>\n",
       "      <td>15</td>\n",
       "    </tr>\n",
       "    <tr>\n",
       "      <th>4</th>\n",
       "      <td>4</td>\n",
       "      <td>0.00013</td>\n",
       "      <td>99538</td>\n",
       "      <td>74.31</td>\n",
       "      <td>13</td>\n",
       "    </tr>\n",
       "    <tr>\n",
       "      <th>...</th>\n",
       "      <td>...</td>\n",
       "      <td>...</td>\n",
       "      <td>...</td>\n",
       "      <td>...</td>\n",
       "      <td>...</td>\n",
       "    </tr>\n",
       "    <tr>\n",
       "      <th>106</th>\n",
       "      <td>106</td>\n",
       "      <td>0.52076</td>\n",
       "      <td>15</td>\n",
       "      <td>1.38</td>\n",
       "      <td>8</td>\n",
       "    </tr>\n",
       "    <tr>\n",
       "      <th>107</th>\n",
       "      <td>107</td>\n",
       "      <td>0.53591</td>\n",
       "      <td>7</td>\n",
       "      <td>1.33</td>\n",
       "      <td>4</td>\n",
       "    </tr>\n",
       "    <tr>\n",
       "      <th>108</th>\n",
       "      <td>108</td>\n",
       "      <td>0.54984</td>\n",
       "      <td>3</td>\n",
       "      <td>1.29</td>\n",
       "      <td>2</td>\n",
       "    </tr>\n",
       "    <tr>\n",
       "      <th>109</th>\n",
       "      <td>109</td>\n",
       "      <td>0.56257</td>\n",
       "      <td>2</td>\n",
       "      <td>1.26</td>\n",
       "      <td>1</td>\n",
       "    </tr>\n",
       "    <tr>\n",
       "      <th>110</th>\n",
       "      <td>110</td>\n",
       "      <td>1.00000</td>\n",
       "      <td>1</td>\n",
       "      <td>1.24</td>\n",
       "      <td>1</td>\n",
       "    </tr>\n",
       "  </tbody>\n",
       "</table>\n",
       "<p>111 rows × 5 columns</p>\n",
       "</div>"
      ],
      "text/plain": [
       "     age       qx      lx     ex   dx\n",
       "0      0  0.00382  100000  77.95  382\n",
       "1      1  0.00047   99618  77.25   47\n",
       "2      2  0.00019   99572  76.28   19\n",
       "3      3  0.00015   99552  75.30   15\n",
       "4      4  0.00013   99538  74.31   13\n",
       "..   ...      ...     ...    ...  ...\n",
       "106  106  0.52076      15   1.38    8\n",
       "107  107  0.53591       7   1.33    4\n",
       "108  108  0.54984       3   1.29    2\n",
       "109  109  0.56257       2   1.26    1\n",
       "110  110  1.00000       1   1.24    1\n",
       "\n",
       "[111 rows x 5 columns]"
      ]
     },
     "execution_count": 2,
     "metadata": {},
     "output_type": "execute_result"
    }
   ],
   "source": [
    "import pandas as pd\n",
    "import numpy as np\n",
    "life_table = pd.read_excel(\"life_table.xlsx\",engine='openpyxl') \n",
    "life_table"
   ]
  },
  {
   "cell_type": "markdown",
   "id": "collaborative-albania",
   "metadata": {},
   "source": [
    "Con **dotación pura**, el beneficio de 1 EUR en el momento K no está garantizado"
   ]
  },
  {
   "cell_type": "code",
   "execution_count": 3,
   "id": "specified-graduation",
   "metadata": {},
   "outputs": [
    {
     "data": {
      "text/plain": [
       "0.9145881430551792"
      ]
     },
     "execution_count": 3,
     "metadata": {},
     "output_type": "execute_result"
    }
   ],
   "source": [
    "qx = life_table.qx\n",
    "px = 1- qx\n",
    "\n",
    "kpx = np.prod(px[65:69+1])            \n",
    "kpx         \n"
   ]
  },
  {
   "cell_type": "code",
   "execution_count": 4,
   "id": "false-board",
   "metadata": {},
   "outputs": [
    {
     "data": {
      "text/plain": [
       "0.7889317662929979"
      ]
     },
     "execution_count": 4,
     "metadata": {},
     "output_type": "execute_result"
    }
   ],
   "source": [
    "1*discount_factor*kpx"
   ]
  },
  {
   "cell_type": "markdown",
   "id": "according-treaty",
   "metadata": {},
   "source": [
    "####  Caso 01 :\n",
    "- PV de pago garantizado de 10,000 en 5 años\n",
    "- EPV de dotación pura de 10,000 en 5 años para (20)\n"
   ]
  },
  {
   "cell_type": "code",
   "execution_count": 5,
   "id": "flush-robertson",
   "metadata": {},
   "outputs": [
    {
     "data": {
      "text/plain": [
       "9057.308098299158"
      ]
     },
     "execution_count": 5,
     "metadata": {},
     "output_type": "execute_result"
    }
   ],
   "source": [
    "# pago garantizado\n",
    "k = 5\n",
    "i = 0.02\n",
    "b = 10000\n",
    "PV =  b * (1+i)**-k\n",
    "PV"
   ]
  },
  {
   "cell_type": "code",
   "execution_count": 13,
   "id": "previous-seventh",
   "metadata": {},
   "outputs": [
    {
     "data": {
      "text/plain": [
       "0.9968539604119112"
      ]
     },
     "execution_count": 13,
     "metadata": {},
     "output_type": "execute_result"
    }
   ],
   "source": [
    "# Probabilidad de supervivencia a 5 años de (20)\n",
    "kpx = np.prod(px[20:25])            \n",
    "kpx    "
   ]
  },
  {
   "cell_type": "code",
   "execution_count": 7,
   "id": "productive-sauce",
   "metadata": {},
   "outputs": [
    {
     "data": {
      "text/plain": [
       "9028.81344846039"
      ]
     },
     "execution_count": 7,
     "metadata": {},
     "output_type": "execute_result"
    }
   ],
   "source": [
    "# EPV de dotación pura de 10,000 en 5 años para (20)\n",
    "PV*kpx"
   ]
  },
  {
   "cell_type": "markdown",
   "id": "public-remains",
   "metadata": {},
   "source": [
    "####  Caso 02 :\n",
    "\n",
    "- PV de pagos garantizados de 10,000 en 5, 10 y 30 años\n",
    "- EPV de dotaciones puras de 10,000 en 5, 10 y 30 años para (20)"
   ]
  },
  {
   "cell_type": "code",
   "execution_count": 8,
   "id": "meaningful-rider",
   "metadata": {},
   "outputs": [
    {
     "data": {
      "text/plain": [
       "0    9057.308098\n",
       "1    8203.482999\n",
       "2    5520.708890\n",
       "dtype: float64"
      ]
     },
     "execution_count": 8,
     "metadata": {},
     "output_type": "execute_result"
    }
   ],
   "source": [
    "# pago garantizado\n",
    "k = pd.Series([5,10,30])\n",
    "i = 0.02\n",
    "b = 10000\n",
    "PV =  b * (1+i)**-k\n",
    "PV"
   ]
  },
  {
   "cell_type": "code",
   "execution_count": 26,
   "id": "stopped-karaoke",
   "metadata": {
    "scrolled": true
   },
   "outputs": [
    {
     "data": {
      "text/plain": [
       "20    0.999320\n",
       "21    0.998650\n",
       "22    0.997991\n",
       "23    0.997422\n",
       "24    0.996854\n",
       "Name: qx, dtype: float64"
      ]
     },
     "execution_count": 26,
     "metadata": {},
     "output_type": "execute_result"
    }
   ],
   "source": [
    "# Probabilidades de supervivencia de (20) \n",
    "kpx = np.cumprod(px[20:len(px)-1])             \n",
    "kpx.head()"
   ]
  },
  {
   "cell_type": "code",
   "execution_count": 27,
   "id": "false-india",
   "metadata": {},
   "outputs": [
    {
     "data": {
      "text/plain": [
       "0     0.999320\n",
       "1     0.998650\n",
       "2     0.997991\n",
       "3     0.997422\n",
       "4     0.996854\n",
       "        ...   \n",
       "85    0.000153\n",
       "86    0.000073\n",
       "87    0.000034\n",
       "88    0.000015\n",
       "89    0.000007\n",
       "Name: qx, Length: 90, dtype: float64"
      ]
     },
     "execution_count": 27,
     "metadata": {},
     "output_type": "execute_result"
    }
   ],
   "source": [
    "# eliminamos el indice para facililar el filtro\n",
    "kpx.reset_index(inplace=True,drop = True)\n",
    "kpx"
   ]
  },
  {
   "cell_type": "code",
   "execution_count": 28,
   "id": "auburn-banner",
   "metadata": {},
   "outputs": [
    {
     "data": {
      "text/plain": [
       "4     0.996854\n",
       "9     0.993062\n",
       "29    0.962788\n",
       "Name: qx, dtype: float64"
      ]
     },
     "execution_count": 28,
     "metadata": {},
     "output_type": "execute_result"
    }
   ],
   "source": [
    "kpx[[4,9,29]]\n"
   ]
  },
  {
   "cell_type": "code",
   "execution_count": 29,
   "id": "potential-spell",
   "metadata": {},
   "outputs": [
    {
     "data": {
      "text/plain": [
       "0    9028.813448\n",
       "1    8146.564800\n",
       "2    5315.272884\n",
       "dtype: float64"
      ]
     },
     "execution_count": 29,
     "metadata": {},
     "output_type": "execute_result"
    }
   ],
   "source": [
    "PV*kpx[[4,9,29]].values\n"
   ]
  },
  {
   "cell_type": "code",
   "execution_count": 32,
   "id": "educational-democracy",
   "metadata": {},
   "outputs": [
    {
     "data": {
      "text/plain": [
       "0    9028.813448\n",
       "1    8146.564800\n",
       "2    5315.272884\n",
       "dtype: float64"
      ]
     },
     "execution_count": 32,
     "metadata": {},
     "output_type": "execute_result"
    }
   ],
   "source": [
    "# Dado que los peridos están definidos en la serie k , los usamos para hacer un filtro más rapido\n",
    "b*(1+i)**-k*kpx[k-1].values\n"
   ]
  },
  {
   "cell_type": "code",
   "execution_count": 34,
   "id": "refined-friendly",
   "metadata": {},
   "outputs": [
    {
     "data": {
      "text/plain": [
       "0    9028.813448\n",
       "1    8146.564800\n",
       "2    5315.272884\n",
       "dtype: float64"
      ]
     },
     "execution_count": 34,
     "metadata": {},
     "output_type": "execute_result"
    }
   ],
   "source": [
    "# En caso de no resetear el index :\n",
    "# Probabilidades de supervivencia de (20) \n",
    "kpx = np.cumprod(px[20:len(px)-1])             \n",
    "kpx\n",
    "#agregamos la edad al filtro de probabildiades de sobrevivencia\n",
    "PV*kpx[ 20 + k-1].values"
   ]
  },
  {
   "cell_type": "markdown",
   "id": "tested-brighton",
   "metadata": {},
   "source": [
    "## La renta vitalicia total, temporal y diferida\n",
    "\n",
    "#### Una serie de beneficios\n",
    "\n",
    "\n",
    "![](imagenes/dp2.png)\n",
    "\n",
    "¿Y si?   \n",
    "- ¿El beneficio es $c_{k}$ en lugar de 1 ?\n",
    "- ¿Una serie de dotaciones puras en lugar de solo una?"
   ]
  },
  {
   "cell_type": "markdown",
   "id": "healthy-knife",
   "metadata": {},
   "source": [
    "###  Estructura general\n",
    "\n",
    "Una renta vitalicia en $(x)$ con vector de beneficios:   \n",
    "\n",
    "- $(c_{0}, c_{1},…,c_{k},…)$   \n",
    "\n",
    "Secuencia de dotaciones puras:    \n",
    "- cada una con $c_{k}⋅v(k)⋅_{k}p_{x}$ como valor presente esperado (EPV)   \n",
    "\n",
    "juntos :   \n",
    "\n",
    "-  $\\sum_{k=0}^{\\infty} c_{k}⋅v(k)⋅_{k}p_{x}$ es el EPV."
   ]
  },
  {
   "cell_type": "markdown",
   "id": "recreational-trinidad",
   "metadata": {},
   "source": [
    "### Rentas vitalicias en Python\n",
    "![](imagenes/rv1.png)"
   ]
  },
  {
   "cell_type": "code",
   "execution_count": 35,
   "id": "hazardous-twenty",
   "metadata": {},
   "outputs": [
    {
     "data": {
      "text/plain": [
       "0    500\n",
       "1    400\n",
       "2    300\n",
       "3    200\n",
       "4    200\n",
       "5    200\n",
       "6    200\n",
       "7    200\n",
       "dtype: int64"
      ]
     },
     "execution_count": 35,
     "metadata": {},
     "output_type": "execute_result"
    }
   ],
   "source": [
    "i = 0.03\n",
    "benefits = pd.Series([500,400,300]+ [200]*5)\n",
    "benefits\n"
   ]
  },
  {
   "cell_type": "code",
   "execution_count": 38,
   "id": "fossil-motel",
   "metadata": {},
   "outputs": [
    {
     "data": {
      "text/plain": [
       "0    0\n",
       "1    1\n",
       "2    2\n",
       "3    3\n",
       "4    4\n",
       "5    5\n",
       "6    6\n",
       "7    7\n",
       "dtype: int64"
      ]
     },
     "execution_count": 38,
     "metadata": {},
     "output_type": "execute_result"
    }
   ],
   "source": [
    "per = len(benefits)\n",
    "per\n",
    "exp = pd.Series(range(per))  #range(8) 0 hasta 7 , range(0,8), range(0,8,2)\n",
    "exp"
   ]
  },
  {
   "cell_type": "code",
   "execution_count": 39,
   "id": "sustained-coordinator",
   "metadata": {},
   "outputs": [
    {
     "data": {
      "text/plain": [
       "0    1.000000\n",
       "1    0.970874\n",
       "2    0.942596\n",
       "3    0.915142\n",
       "4    0.888487\n",
       "5    0.862609\n",
       "6    0.837484\n",
       "7    0.813092\n",
       "dtype: float64"
      ]
     },
     "execution_count": 39,
     "metadata": {},
     "output_type": "execute_result"
    }
   ],
   "source": [
    "discount_factor =(1+i)**-exp\n",
    "discount_factor"
   ]
  },
  {
   "cell_type": "code",
   "execution_count": 40,
   "id": "inclusive-prayer",
   "metadata": {
    "scrolled": true
   },
   "outputs": [
    {
     "data": {
      "text/plain": [
       "65    0.984830\n",
       "66    0.968364\n",
       "67    0.951960\n",
       "68    0.933682\n",
       "69    0.914588\n",
       "70    0.893681\n",
       "71    0.871339\n",
       "Name: qx, dtype: float64"
      ]
     },
     "execution_count": 40,
     "metadata": {},
     "output_type": "execute_result"
    }
   ],
   "source": [
    "kpx = np.cumprod(px[65:72])             \n",
    "kpx"
   ]
  },
  {
   "cell_type": "code",
   "execution_count": 41,
   "id": "emotional-radar",
   "metadata": {},
   "outputs": [
    {
     "data": {
      "text/plain": [
       "0    1.000000\n",
       "1    0.984830\n",
       "2    0.968364\n",
       "3    0.951960\n",
       "4    0.933682\n",
       "5    0.914588\n",
       "6    0.893681\n",
       "7    0.871339\n",
       "dtype: float64"
      ]
     },
     "execution_count": 41,
     "metadata": {},
     "output_type": "execute_result"
    }
   ],
   "source": [
    "# ignore_index= True para resetear le indice al concatenar\n",
    "kpx = pd.concat( [pd.Series(1), np.cumprod(px[65:72])  ] ,ignore_index= True )\n",
    "kpx"
   ]
  },
  {
   "cell_type": "code",
   "execution_count": 44,
   "id": "alpha-robertson",
   "metadata": {},
   "outputs": [
    {
     "data": {
      "text/plain": [
       "0    500.000000\n",
       "1    382.458252\n",
       "2    273.832682\n",
       "3    174.235571\n",
       "4    165.912862\n",
       "5    157.786353\n",
       "6    149.688696\n",
       "7    141.695611\n",
       "dtype: float64"
      ]
     },
     "execution_count": 44,
     "metadata": {},
     "output_type": "execute_result"
    }
   ],
   "source": [
    "benefits *discount_factor*kpx.values\n",
    "# en caso no resetee el indice :\n",
    "# usar la siguiente formula : benefits * discount_factor**kpx.values"
   ]
  },
  {
   "cell_type": "code",
   "execution_count": 45,
   "id": "cleared-connection",
   "metadata": {},
   "outputs": [
    {
     "data": {
      "text/plain": [
       "1945.6100275670124"
      ]
     },
     "execution_count": 45,
     "metadata": {},
     "output_type": "execute_result"
    }
   ],
   "source": [
    "sum(benefits *discount_factor*kpx.values)"
   ]
  },
  {
   "cell_type": "markdown",
   "id": "proud-momentum",
   "metadata": {},
   "source": [
    "### Renta vitalicia adelantada (Annuity Due)\n",
    "\n",
    "Rentas vitalicia **adelantada**: paga $c_{k}$ al comienzo del año $(k + 1)$.\n",
    "![](imagenes/rv2.png)\n",
    "### Renta vitalicia vencida (Annuity Immediate)\n",
    "Renta vitalicia **inmediata**: paga $c_{k}$ al final del año $(k + 1)$.\n",
    "![](imagenes/rv3.png)"
   ]
  },
  {
   "cell_type": "markdown",
   "id": "still-framing",
   "metadata": {},
   "source": [
    "### Caso 03:\n",
    "Calcular $ä_{35}$ (adelantada) para una tasa de interés constante i = 3%\n"
   ]
  },
  {
   "cell_type": "code",
   "execution_count": 47,
   "id": "committed-bottle",
   "metadata": {},
   "outputs": [
    {
     "data": {
      "text/plain": [
       "0     1.000000\n",
       "1     0.998840\n",
       "2     0.997801\n",
       "3     0.996823\n",
       "4     0.995617\n",
       "        ...   \n",
       "72    0.000074\n",
       "73    0.000034\n",
       "74    0.000015\n",
       "75    0.000007\n",
       "76    0.000000\n",
       "Length: 77, dtype: float64"
      ]
     },
     "execution_count": 47,
     "metadata": {},
     "output_type": "execute_result"
    }
   ],
   "source": [
    "#renta vitalicia adelantada de (35)\n",
    "\n",
    "kpx = pd.concat( [pd.Series(1), np.cumprod(px[35: ])] ,ignore_index= True )\n",
    "# alternativa : kpx = pd.concat( [pd.Series(1), np.cumprod(px[35:len(px) ])] ,ignore_index= True )\n",
    "kpx"
   ]
  },
  {
   "cell_type": "code",
   "execution_count": 49,
   "id": "greatest-japan",
   "metadata": {
    "scrolled": true
   },
   "outputs": [
    {
     "data": {
      "text/plain": [
       "0     1.000000\n",
       "1     0.970874\n",
       "2     0.942596\n",
       "3     0.915142\n",
       "4     0.888487\n",
       "        ...   \n",
       "72    0.119047\n",
       "73    0.115580\n",
       "74    0.112214\n",
       "75    0.108945\n",
       "76    0.105772\n",
       "Length: 77, dtype: float64"
      ]
     },
     "execution_count": 49,
     "metadata": {},
     "output_type": "execute_result"
    }
   ],
   "source": [
    "i = 0.03\n",
    "per = len(kpx)\n",
    "exp = pd.Series(range(per))\n",
    "exp\n",
    "\n",
    "discount_factor =  (1 + i)**-(exp)\n",
    "discount_factor"
   ]
  },
  {
   "cell_type": "code",
   "execution_count": 57,
   "id": "three-lease",
   "metadata": {},
   "outputs": [
    {
     "data": {
      "text/plain": [
       "0     1\n",
       "1     1\n",
       "2     1\n",
       "3     1\n",
       "4     1\n",
       "     ..\n",
       "72    1\n",
       "73    1\n",
       "74    1\n",
       "75    1\n",
       "76    1\n",
       "Length: 77, dtype: int64"
      ]
     },
     "execution_count": 57,
     "metadata": {},
     "output_type": "execute_result"
    }
   ],
   "source": [
    "benefits= pd.Series([1]*per)\n",
    "benefits"
   ]
  },
  {
   "cell_type": "code",
   "execution_count": 58,
   "id": "complicated-treasury",
   "metadata": {},
   "outputs": [
    {
     "data": {
      "text/plain": [
       "0     1.000000e+00\n",
       "1     9.697476e-01\n",
       "2     9.405233e-01\n",
       "3     9.122346e-01\n",
       "4     8.845930e-01\n",
       "          ...     \n",
       "72    8.795915e-06\n",
       "73    3.963200e-06\n",
       "74    1.732111e-06\n",
       "75    7.356090e-07\n",
       "76    0.000000e+00\n",
       "Length: 77, dtype: float64"
      ]
     },
     "execution_count": 58,
     "metadata": {},
     "output_type": "execute_result"
    }
   ],
   "source": [
    "benefits*discount_factor*kpx"
   ]
  },
  {
   "cell_type": "code",
   "execution_count": 59,
   "id": "billion-leisure",
   "metadata": {},
   "outputs": [
    {
     "data": {
      "text/plain": [
       "24.443116876690283"
      ]
     },
     "execution_count": 59,
     "metadata": {},
     "output_type": "execute_result"
    }
   ],
   "source": [
    "sum(benefits*discount_factor*kpx) "
   ]
  },
  {
   "cell_type": "markdown",
   "id": "extensive-engineering",
   "metadata": {},
   "source": [
    "### Caso 04:\n",
    "Calcular $a_{35}$ (inmediata) para una tasa de interés constante i = 3%"
   ]
  },
  {
   "cell_type": "code",
   "execution_count": 60,
   "id": "dirty-morocco",
   "metadata": {},
   "outputs": [
    {
     "data": {
      "text/plain": [
       "0     0.998840\n",
       "1     0.997801\n",
       "2     0.996823\n",
       "3     0.995617\n",
       "4     0.994482\n",
       "        ...   \n",
       "71    0.000074\n",
       "72    0.000034\n",
       "73    0.000015\n",
       "74    0.000007\n",
       "75    0.000000\n",
       "Name: qx, Length: 76, dtype: float64"
      ]
     },
     "execution_count": 60,
     "metadata": {},
     "output_type": "execute_result"
    }
   ],
   "source": [
    "kpx = np.cumprod(px[35: ])\n",
    "kpx.reset_index(inplace=True,drop = True)\n",
    "kpx"
   ]
  },
  {
   "cell_type": "code",
   "execution_count": 62,
   "id": "ranging-force",
   "metadata": {},
   "outputs": [
    {
     "data": {
      "text/plain": [
       "0     0.970874\n",
       "1     0.942596\n",
       "2     0.915142\n",
       "3     0.888487\n",
       "4     0.862609\n",
       "        ...   \n",
       "71    0.119047\n",
       "72    0.115580\n",
       "73    0.112214\n",
       "74    0.108945\n",
       "75    0.105772\n",
       "Length: 76, dtype: float64"
      ]
     },
     "execution_count": 62,
     "metadata": {},
     "output_type": "execute_result"
    }
   ],
   "source": [
    "i = 0.03\n",
    "per = len(kpx)\n",
    "exp = pd.Series(range(1,per+1))\n",
    "exp\n",
    "\n",
    "discount_factor =  (1 + i)**-(exp)\n",
    "discount_factor"
   ]
  },
  {
   "cell_type": "code",
   "execution_count": 63,
   "id": "fourth-station",
   "metadata": {},
   "outputs": [
    {
     "data": {
      "text/plain": [
       "0     1\n",
       "1     1\n",
       "2     1\n",
       "3     1\n",
       "4     1\n",
       "     ..\n",
       "71    1\n",
       "72    1\n",
       "73    1\n",
       "74    1\n",
       "75    1\n",
       "Length: 76, dtype: int64"
      ]
     },
     "execution_count": 63,
     "metadata": {},
     "output_type": "execute_result"
    }
   ],
   "source": [
    "benefits= pd.Series([1]*per)\n",
    "benefits"
   ]
  },
  {
   "cell_type": "code",
   "execution_count": 64,
   "id": "familiar-transaction",
   "metadata": {},
   "outputs": [
    {
     "data": {
      "text/plain": [
       "0     9.697476e-01\n",
       "1     9.405233e-01\n",
       "2     9.122346e-01\n",
       "3     8.845930e-01\n",
       "4     8.578491e-01\n",
       "          ...     \n",
       "71    8.795915e-06\n",
       "72    3.963200e-06\n",
       "73    1.732111e-06\n",
       "74    7.356090e-07\n",
       "75    0.000000e+00\n",
       "Length: 76, dtype: float64"
      ]
     },
     "execution_count": 64,
     "metadata": {},
     "output_type": "execute_result"
    }
   ],
   "source": [
    " benefits*discount_factor*kpx"
   ]
  },
  {
   "cell_type": "code",
   "execution_count": 65,
   "id": "spoken-genre",
   "metadata": {},
   "outputs": [
    {
     "data": {
      "text/plain": [
       "23.443116876690286"
      ]
     },
     "execution_count": 65,
     "metadata": {},
     "output_type": "execute_result"
    }
   ],
   "source": [
    "sum(benefits*discount_factor*kpx) "
   ]
  },
  {
   "cell_type": "markdown",
   "id": "specified-committee",
   "metadata": {},
   "source": [
    "### Renta temporal adelantada\n",
    "\n",
    "Anualidad **adelantada** temporar: máximo de $n$ años, en el momento 0 hasta $n - 1$.   \n",
    "![](imagenes/temp.png)\n"
   ]
  },
  {
   "cell_type": "markdown",
   "id": "described-spencer",
   "metadata": {},
   "source": [
    "### Rentas vitalicias diferidas vencidas\n",
    "\n",
    "Anualidad **diferida**: apartir del momento  $u$.   \n",
    "![](imagenes/difer.png)\n"
   ]
  },
  {
   "cell_type": "markdown",
   "id": "dried-scope",
   "metadata": {},
   "source": [
    "###  Caso 05:\n",
    "\n",
    "Construya una función para calcular el EPV de una renta vitalicia  adelantada para una determinada **edad**, **i** y **tabla de mortalidad** \n",
    "- EPV de una renta vitalicia completa adelantada de (20) a i = 2% usando life_table\n",
    "- EPV de una renta vitalicia completa adelantada de (20) a i = 5% usando life_table\n",
    "- EPV de una renta vitalicia completa adelantada de (65) a i = 2% usando life_table"
   ]
  },
  {
   "cell_type": "code",
   "execution_count": 67,
   "id": "interstate-empire",
   "metadata": {},
   "outputs": [],
   "source": [
    "def life_annuity_due(age,i,life_table):\n",
    "    \n",
    "    px = 1- life_table.qx\n",
    "    \n",
    "    kpx = pd.concat( [pd.Series(1), np.cumprod(px[age:  ])] ,ignore_index= True )\n",
    "    per = len(kpx)\n",
    "    exp = pd.Series(range(per))\n",
    "    discount_factors =  (1 + i)**-(exp)\n",
    "    return sum(discount_factors * kpx)    "
   ]
  },
  {
   "cell_type": "code",
   "execution_count": 68,
   "id": "artificial-chick",
   "metadata": {},
   "outputs": [
    {
     "data": {
      "text/plain": [
       "34.52303917635918"
      ]
     },
     "execution_count": 68,
     "metadata": {},
     "output_type": "execute_result"
    }
   ],
   "source": [
    "#- EPV de una renta vitalicia completa adelantada de (20) a i = 2% usando life_table\n",
    "life_annuity_due(20, 0.02 , life_table)"
   ]
  },
  {
   "cell_type": "code",
   "execution_count": 69,
   "id": "rising-paraguay",
   "metadata": {},
   "outputs": [
    {
     "data": {
      "text/plain": [
       "19.444789837497627"
      ]
     },
     "execution_count": 69,
     "metadata": {},
     "output_type": "execute_result"
    }
   ],
   "source": [
    "# - EPV de una renta vitalicia completa adelantada de (20) a i = 5% usando life_table\n",
    "life_annuity_due(20, 0.05 , life_table)"
   ]
  },
  {
   "cell_type": "code",
   "execution_count": 70,
   "id": "silent-british",
   "metadata": {},
   "outputs": [
    {
     "data": {
      "text/plain": [
       "14.896607058095476"
      ]
     },
     "execution_count": 70,
     "metadata": {},
     "output_type": "execute_result"
    }
   ],
   "source": [
    "# EPV de una renta vitalicia completa adelantada de (65) a i = 2% usando life_table\n",
    "life_annuity_due(65, 0.02 , life_table)"
   ]
  },
  {
   "cell_type": "markdown",
   "id": "utility-ballet",
   "metadata": {},
   "source": [
    "###  Caso 06:\n",
    "\n",
    "Construya una función para calcular el EPV de una renta vitalicia inmediata para una determinada **edad**, **i** y **tabla de mortalidad** \n",
    "- EPV de una renta vitalicia completa inmediata de (20) a i = 2% usando life_table\n",
    "- EPV de una renta vitalicia completa inmediata de (20) a i = 5% usando life_table\n",
    "- EPV de una renta vitalicia completa inmediata de (65) a i = 2% usando life_table"
   ]
  },
  {
   "cell_type": "code",
   "execution_count": 71,
   "id": "developmental-desperate",
   "metadata": {},
   "outputs": [],
   "source": [
    "def life_inmediate(age,i,life_table):\n",
    "    px = 1- life_table.qx\n",
    "    kpx = np.cumprod(px[age:  ])\n",
    "    kpx.reset_index(inplace=True,drop = True)\n",
    "    per = len(kpx)\n",
    "    exp = pd.Series(range(1,per+1))\n",
    "    discount_factors =  (1 + i)**-(exp)\n",
    "    return sum(discount_factors * kpx)    "
   ]
  },
  {
   "cell_type": "code",
   "execution_count": 72,
   "id": "arctic-george",
   "metadata": {},
   "outputs": [
    {
     "data": {
      "text/plain": [
       "33.52303917635917"
      ]
     },
     "execution_count": 72,
     "metadata": {},
     "output_type": "execute_result"
    }
   ],
   "source": [
    "life_inmediate(20, 0.02 , life_table)"
   ]
  },
  {
   "cell_type": "code",
   "execution_count": 73,
   "id": "protecting-cream",
   "metadata": {},
   "outputs": [
    {
     "data": {
      "text/plain": [
       "18.444789837497627"
      ]
     },
     "execution_count": 73,
     "metadata": {},
     "output_type": "execute_result"
    }
   ],
   "source": [
    "life_inmediate(20, 0.05 , life_table)"
   ]
  },
  {
   "cell_type": "code",
   "execution_count": 74,
   "id": "beautiful-suspect",
   "metadata": {},
   "outputs": [
    {
     "data": {
      "text/plain": [
       "13.896607058095478"
      ]
     },
     "execution_count": 74,
     "metadata": {},
     "output_type": "execute_result"
    }
   ],
   "source": [
    "life_inmediate(65, 0.02 , life_table)"
   ]
  },
  {
   "cell_type": "code",
   "execution_count": 75,
   "id": "defensive-wichita",
   "metadata": {},
   "outputs": [
    {
     "data": {
      "text/plain": [
       "1.000000000000007"
      ]
     },
     "execution_count": 75,
     "metadata": {},
     "output_type": "execute_result"
    }
   ],
   "source": [
    "life_annuity_due(20, 0.02 , life_table)- life_inmediate(20, 0.02 , life_table)"
   ]
  },
  {
   "cell_type": "code",
   "execution_count": 76,
   "id": "identical-richardson",
   "metadata": {},
   "outputs": [
    {
     "data": {
      "text/plain": [
       "1.0"
      ]
     },
     "execution_count": 76,
     "metadata": {},
     "output_type": "execute_result"
    }
   ],
   "source": [
    "life_annuity_due(20, 0.05 , life_table)-life_inmediate(20, 0.05 , life_table)"
   ]
  },
  {
   "cell_type": "code",
   "execution_count": 77,
   "id": "fixed-starter",
   "metadata": {
    "scrolled": false
   },
   "outputs": [
    {
     "data": {
      "text/plain": [
       "0.9999999999999982"
      ]
     },
     "execution_count": 77,
     "metadata": {},
     "output_type": "execute_result"
    }
   ],
   "source": [
    "life_annuity_due(65, 0.02 , life_table)-life_inmediate(65, 0.02 , life_table)"
   ]
  },
  {
   "cell_type": "markdown",
   "id": "technical-steps",
   "metadata": {},
   "source": [
    "###  Caso 07:\n",
    "\n",
    "Construya una función para calcular el EPV de una renta temporal adelantada para una determinada **edad**, periodo **n** años , **i** y **tabla de mortalidad** \n",
    "- EPV de una renta renta temporal adelantada de (20) a i = 2% , n = 10 , usando life_table\n",
    "- EPV de una renta renta temporal adelantada de (20) a i = 5%, n = 5, usando life_table\n",
    "- EPV de una renta  renta temporal adelantada de (65) a i = 2%, n = 10,usando life_table"
   ]
  },
  {
   "cell_type": "code",
   "execution_count": 82,
   "id": "confirmed-somerset",
   "metadata": {},
   "outputs": [],
   "source": [
    "def temporary_life(age,i,n,life_table):\n",
    "    px = 1- life_table.qx\n",
    "    kpx = pd.concat([pd.Series(1), np.cumprod(px[age:age+n-1])] ,ignore_index= True )\n",
    "    per = len(kpx)\n",
    "    exp = pd.Series(range(0, per))\n",
    "    discount_factors =  (1 + i)**-(exp)\n",
    "    return sum(discount_factors * kpx)    "
   ]
  },
  {
   "cell_type": "code",
   "execution_count": 83,
   "id": "mighty-growth",
   "metadata": {},
   "outputs": [
    {
     "data": {
      "text/plain": [
       "9.136235726105037"
      ]
     },
     "execution_count": 83,
     "metadata": {},
     "output_type": "execute_result"
    }
   ],
   "source": [
    "temporary_life(20,0.02,10, life_table)  "
   ]
  },
  {
   "cell_type": "code",
   "execution_count": 84,
   "id": "underlying-municipality",
   "metadata": {},
   "outputs": [
    {
     "data": {
      "text/plain": [
       "4.54022313513006"
      ]
     },
     "execution_count": 84,
     "metadata": {},
     "output_type": "execute_result"
    }
   ],
   "source": [
    "temporary_life(20,0.05,5, life_table)  "
   ]
  },
  {
   "cell_type": "code",
   "execution_count": 86,
   "id": "engaged-blank",
   "metadata": {},
   "outputs": [
    {
     "data": {
      "text/plain": [
       "8.447955099490208"
      ]
     },
     "execution_count": 86,
     "metadata": {},
     "output_type": "execute_result"
    }
   ],
   "source": [
    "temporary_life(65,0.02,10, life_table)  "
   ]
  },
  {
   "cell_type": "code",
   "execution_count": 87,
   "id": "minimal-peeing",
   "metadata": {},
   "outputs": [],
   "source": [
    "def temporary_life_in(age,i,n,life_table):\n",
    "    px = 1- life_table.qx\n",
    "    kpx = np.cumprod(px[age:age+n])\n",
    "    kpx.reset_index(inplace=True,drop = True)\n",
    "    per = len(kpx)\n",
    "    exp = pd.Series(range(1, per+1))\n",
    "    discount_factors =  (1 + i)**-(exp)\n",
    "    return sum(discount_factors * kpx)   "
   ]
  },
  {
   "cell_type": "code",
   "execution_count": 88,
   "id": "excellent-spending",
   "metadata": {},
   "outputs": [
    {
     "data": {
      "text/plain": [
       "8.100194165859358"
      ]
     },
     "execution_count": 88,
     "metadata": {},
     "output_type": "execute_result"
    }
   ],
   "source": [
    "temporary_life_in(65,0.02,10, life_table)"
   ]
  },
  {
   "cell_type": "code",
   "execution_count": 89,
   "id": "polished-public",
   "metadata": {
    "scrolled": true
   },
   "outputs": [
    {
     "data": {
      "text/plain": [
       "0.34776093363085003"
      ]
     },
     "execution_count": 89,
     "metadata": {},
     "output_type": "execute_result"
    }
   ],
   "source": [
    "temporary_life(65,0.02,10, life_table)  - temporary_life_in(65,0.02,10, life_table)"
   ]
  },
  {
   "cell_type": "code",
   "execution_count": 90,
   "id": "bright-mainstream",
   "metadata": {},
   "outputs": [
    {
     "data": {
      "text/plain": [
       "0.34776093363085114"
      ]
     },
     "execution_count": 90,
     "metadata": {},
     "output_type": "execute_result"
    }
   ],
   "source": [
    "# la difencia es el 1 - el ultimo pago(en valor presente) de la renta inmediate\n",
    "1- np.prod(px[65:65+10])*(1+0.02)**-10"
   ]
  },
  {
   "cell_type": "markdown",
   "id": "expressed-water",
   "metadata": {},
   "source": [
    "### Renta Garantizada\n",
    "\n",
    "Flexibilidad adicional: rentas vitalicias con plazo garantizado.\n",
    "Un contrato típico:\n",
    "- **Inicialmente:**   \n",
    "    -  los beneficios se pagan independientemente de si el beneficiario está vivo o no.\n",
    "- **Después:**   \n",
    "    -  beneficios se pagan condicionados a la supervivencia."
   ]
  },
  {
   "cell_type": "markdown",
   "id": "affecting-portrait",
   "metadata": {},
   "source": [
    "###  Caso 08:\n",
    "\n",
    "Mr. X tiene 35 años.\n",
    "La aseguradora \"XYZ\" le ha regalado un premio especial: una renta vitalicia de 10.000 PEN\n",
    "cada año de por vida!\n",
    "El primer pago comienza al inicio del primer año,\n",
    "Además, **los primeros 10 pagos están garantizados.**\n",
    "\n",
    "¿Puedes calcular el valor de su premio?\n",
    "![](imagenes/gua.png)"
   ]
  },
  {
   "cell_type": "code",
   "execution_count": 107,
   "id": "placed-planner",
   "metadata": {},
   "outputs": [
    {
     "data": {
      "text/plain": [
       "0     1.000000\n",
       "1     0.998840\n",
       "2     0.997801\n",
       "3     0.996823\n",
       "4     0.995617\n",
       "        ...   \n",
       "72    0.000074\n",
       "73    0.000034\n",
       "74    0.000015\n",
       "75    0.000007\n",
       "76    0.000000\n",
       "Length: 77, dtype: float64"
      ]
     },
     "execution_count": 107,
     "metadata": {},
     "output_type": "execute_result"
    }
   ],
   "source": [
    "# Survival probabilities of (35)\n",
    "age = 35\n",
    "kpx = pd.concat([pd.Series(1), np.cumprod(px[age:])] ,ignore_index= True )\n",
    "kpx"
   ]
  },
  {
   "cell_type": "code",
   "execution_count": 108,
   "id": "solved-motion",
   "metadata": {},
   "outputs": [
    {
     "data": {
      "text/plain": [
       "0     1.000000\n",
       "1     0.970874\n",
       "2     0.942596\n",
       "3     0.915142\n",
       "4     0.888487\n",
       "        ...   \n",
       "72    0.119047\n",
       "73    0.115580\n",
       "74    0.112214\n",
       "75    0.108945\n",
       "76    0.105772\n",
       "Length: 77, dtype: float64"
      ]
     },
     "execution_count": 108,
     "metadata": {},
     "output_type": "execute_result"
    }
   ],
   "source": [
    "# Discount factors\n",
    "i = 0.03\n",
    "per = len(kpx)\n",
    "exp = pd.Series(range(per))\n",
    "discount_factor =  (1 + i)**-(exp)\n",
    "discount_factor "
   ]
  },
  {
   "cell_type": "code",
   "execution_count": 109,
   "id": "major-length",
   "metadata": {},
   "outputs": [],
   "source": [
    "benefits_guaranteed = pd.Series([0] +[10000]*10 + [0]*(len(kpx)-11))\n",
    "benefits_nonguaranteed = pd.Series([0] + [0]*10   + [10000]*(len(kpx)-11))                                \n"
   ]
  },
  {
   "cell_type": "code",
   "execution_count": 110,
   "id": "subjective-prague",
   "metadata": {},
   "outputs": [
    {
     "data": {
      "text/plain": [
       "85302.02836775829"
      ]
     },
     "execution_count": 110,
     "metadata": {},
     "output_type": "execute_result"
    }
   ],
   "source": [
    " #PV of the guaranteed annuity\n",
    "sum(benefits_guaranteed*discount_factor) "
   ]
  },
  {
   "cell_type": "code",
   "execution_count": 111,
   "id": "plastic-tsunami",
   "metadata": {},
   "outputs": [
    {
     "data": {
      "text/plain": [
       "149682.4775080444"
      ]
     },
     "execution_count": 111,
     "metadata": {},
     "output_type": "execute_result"
    }
   ],
   "source": [
    "#EPV of the guaranteed annuity              \n",
    "sum(benefits_nonguaranteed*discount_factor*kpx)"
   ]
  },
  {
   "cell_type": "code",
   "execution_count": 112,
   "id": "leading-chest",
   "metadata": {},
   "outputs": [
    {
     "data": {
      "text/plain": [
       "234984.5058758027"
      ]
     },
     "execution_count": 112,
     "metadata": {},
     "output_type": "execute_result"
    }
   ],
   "source": [
    " #PV of the guaranteed annuity   +  #EPV of the guaranteed annuity          \n",
    "sum(benefits_guaranteed*discount_factor) + sum(benefits_nonguaranteed*discount_factor*kpx)     "
   ]
  },
  {
   "cell_type": "markdown",
   "id": "selected-intranet",
   "metadata": {},
   "source": [
    "### Cálculo de primas y planes de retiro\n",
    "#### El pago primas\n",
    "\n",
    "- Objetivo del cálculo de la prima:\n",
    "     * Las primas + los ingresos por intereses deben coincidir con los beneficios\n",
    "- Solución:\n",
    "    * Establecer la equivalencia actuarial entre el vector premium y los beneficios\n",
    "    * Trate los pagos de primas como una renta vitalicia en $(x)$."
   ]
  },
  {
   "cell_type": "markdown",
   "id": "available-lighter",
   "metadata": {},
   "source": [
    "### Caso 09: \n",
    "Mrs. X tiene 35 años.\n",
    "Quiere comprar una **renta vitalicia** que proporcione 12.000 PEN  anuales de por vida, a partir de los 65 años.   \n",
    "El financiará este producto con una prima anual pagadera a 30 años a partir de la edad 35.    \n",
    "Las primas se reducen a la mitad después de 15 años.  \n",
    "**¿Cuál es su prima inicial?**\n",
    "![](imagenes/planr.png)"
   ]
  },
  {
   "cell_type": "code",
   "execution_count": 113,
   "id": "trying-invite",
   "metadata": {},
   "outputs": [
    {
     "data": {
      "text/plain": [
       "0     1.000000\n",
       "1     0.998840\n",
       "2     0.997801\n",
       "3     0.996823\n",
       "4     0.995617\n",
       "        ...   \n",
       "72    0.000074\n",
       "73    0.000034\n",
       "74    0.000015\n",
       "75    0.000007\n",
       "76    0.000000\n",
       "Length: 77, dtype: float64"
      ]
     },
     "execution_count": 113,
     "metadata": {},
     "output_type": "execute_result"
    }
   ],
   "source": [
    "# Survival probabilities of (35)\n",
    "age = 35\n",
    "kpx = pd.concat([pd.Series(1), np.cumprod(px[age:])] ,ignore_index= True )\n",
    "kpx"
   ]
  },
  {
   "cell_type": "code",
   "execution_count": 114,
   "id": "seventh-swimming",
   "metadata": {},
   "outputs": [
    {
     "data": {
      "text/plain": [
       "0     1.000000\n",
       "1     0.970874\n",
       "2     0.942596\n",
       "3     0.915142\n",
       "4     0.888487\n",
       "        ...   \n",
       "72    0.119047\n",
       "73    0.115580\n",
       "74    0.112214\n",
       "75    0.108945\n",
       "76    0.105772\n",
       "Length: 77, dtype: float64"
      ]
     },
     "execution_count": 114,
     "metadata": {},
     "output_type": "execute_result"
    }
   ],
   "source": [
    "# Discount factors\n",
    "i = 0.03\n",
    "per = len(kpx)\n",
    "exp = pd.Series(range(per))\n",
    "discount_factors =  (1 + i)**-(exp)\n",
    "discount_factors "
   ]
  },
  {
   "cell_type": "code",
   "execution_count": 115,
   "id": "demonstrated-pressing",
   "metadata": {},
   "outputs": [
    {
     "data": {
      "text/plain": [
       "58259.06521761427"
      ]
     },
     "execution_count": 115,
     "metadata": {},
     "output_type": "execute_result"
    }
   ],
   "source": [
    "benefits = pd.Series([0]*30 +[12000]*(len(kpx)-30))\n",
    "sum(benefits*discount_factors*kpx)"
   ]
  },
  {
   "cell_type": "code",
   "execution_count": 116,
   "id": "velvet-scene",
   "metadata": {},
   "outputs": [
    {
     "data": {
      "text/plain": [
       "15.887389072699465"
      ]
     },
     "execution_count": 116,
     "metadata": {},
     "output_type": "execute_result"
    }
   ],
   "source": [
    "# Patrón de primas\n",
    "rho = pd.Series([1]*15 +[0.5]*15+[0]*(len(kpx)-30))\n",
    "sum(rho*discount_factors*kpx)   "
   ]
  },
  {
   "cell_type": "code",
   "execution_count": 117,
   "id": "julian-sally",
   "metadata": {},
   "outputs": [
    {
     "data": {
      "text/plain": [
       "3667.0005972048198"
      ]
     },
     "execution_count": 117,
     "metadata": {},
     "output_type": "execute_result"
    }
   ],
   "source": [
    "# Entonces. la prima es  EPV(benefits)/EPV(rho)\n",
    "\n",
    "\n",
    "premium_payments = sum(benefits*discount_factors*kpx) /sum(rho*discount_factors*kpx)   \n",
    "premium_payments"
   ]
  },
  {
   "cell_type": "markdown",
   "id": "powered-attraction",
   "metadata": {},
   "source": [
    "### Equivalencia Actuarial\n",
    "\n",
    "$P = \\frac{EPV(benefits)}{EPV(rho)}$    \n",
    "    \n",
    "    \n",
    "$P*{EPV(rho)} = {EPV(benefits)}$"
   ]
  },
  {
   "cell_type": "markdown",
   "id": "deluxe-eight",
   "metadata": {},
   "source": [
    "### Caso 10: \n",
    "Mrs. X tiene 40 años.\n",
    "Quiere comprar una **renta vitalicia** que proporcione 18.000 PEN  anuales de por vida, a partir de los 65 años.      \n",
    "Las prima se empieza a pagar desde hoy  se reducen a la mitad después de 15 años.  \n",
    "**¿Cuál es su prima inicial?**    \n",
    "**De ser prima unica, ¿Cuál es el monto?**   \n",
    "**¿Cuál es su esperanza de vida reducida?**   \n",
    "**¿Calcule el EPV de los beneficios si vive hasta los 75?**   \n",
    "**¿Calcule el EPV de los beneficios si vive hasta los 95?**\n",
    "\n"
   ]
  },
  {
   "cell_type": "code",
   "execution_count": 118,
   "id": "japanese-recycling",
   "metadata": {},
   "outputs": [
    {
     "data": {
      "text/plain": [
       "0     1.000000\n",
       "1     0.998250\n",
       "2     0.996942\n",
       "3     0.995447\n",
       "4     0.993436\n",
       "        ...   \n",
       "67    0.000074\n",
       "68    0.000034\n",
       "69    0.000016\n",
       "70    0.000007\n",
       "71    0.000000\n",
       "Length: 72, dtype: float64"
      ]
     },
     "execution_count": 118,
     "metadata": {},
     "output_type": "execute_result"
    }
   ],
   "source": [
    "age = 40\n",
    "kpx = pd.concat([pd.Series(1),np.cumprod(px[age:])], ignore_index = True)\n",
    "kpx"
   ]
  },
  {
   "cell_type": "code",
   "execution_count": 119,
   "id": "stock-approval",
   "metadata": {},
   "outputs": [],
   "source": [
    "i = 0.03\n",
    "per = len(kpx)\n",
    "exp =pd.Series(range(per))\n",
    "discount_factors = (1+i)**-exp"
   ]
  },
  {
   "cell_type": "code",
   "execution_count": 120,
   "id": "enclosed-ending",
   "metadata": {},
   "outputs": [
    {
     "data": {
      "text/plain": [
       "0         0\n",
       "1         0\n",
       "2         0\n",
       "3         0\n",
       "4         0\n",
       "      ...  \n",
       "67    18000\n",
       "68    18000\n",
       "69    18000\n",
       "70    18000\n",
       "71    18000\n",
       "Length: 72, dtype: int64"
      ]
     },
     "execution_count": 120,
     "metadata": {},
     "output_type": "execute_result"
    }
   ],
   "source": [
    "benefits = pd.Series([0]*25 + [18000]*(len(kpx)-25))\n",
    "benefits"
   ]
  },
  {
   "cell_type": "code",
   "execution_count": 121,
   "id": "corporate-convergence",
   "metadata": {},
   "outputs": [
    {
     "data": {
      "text/plain": [
       "101869.43085899291"
      ]
     },
     "execution_count": 121,
     "metadata": {},
     "output_type": "execute_result"
    }
   ],
   "source": [
    "# prima unica\n",
    "prima_unica = sum(benefits*discount_factors*kpx)\n",
    "prima_unica"
   ]
  },
  {
   "cell_type": "code",
   "execution_count": 122,
   "id": "arabic-blogger",
   "metadata": {},
   "outputs": [
    {
     "data": {
      "text/plain": [
       "0     1.0\n",
       "1     1.0\n",
       "2     1.0\n",
       "3     1.0\n",
       "4     1.0\n",
       "     ... \n",
       "67    0.0\n",
       "68    0.0\n",
       "69    0.0\n",
       "70    0.0\n",
       "71    0.0\n",
       "Length: 72, dtype: float64"
      ]
     },
     "execution_count": 122,
     "metadata": {},
     "output_type": "execute_result"
    }
   ],
   "source": [
    "#patron de primas\n",
    "rho = pd.Series([1]*15 + [0.5]*10 + [0]*(len(kpx)-25))\n",
    "rho"
   ]
  },
  {
   "cell_type": "code",
   "execution_count": 134,
   "id": "strategic-drove",
   "metadata": {},
   "outputs": [
    {
     "data": {
      "text/plain": [
       "6912.092531175566"
      ]
     },
     "execution_count": 134,
     "metadata": {},
     "output_type": "execute_result"
    }
   ],
   "source": [
    "# la formula de euivalencia actuarial\n",
    "\n",
    "prima_inicial = prima_unica/ sum(rho*discount_factors*kpx)\n",
    "prima_inicial\n"
   ]
  },
  {
   "cell_type": "code",
   "execution_count": 135,
   "id": "criminal-afghanistan",
   "metadata": {},
   "outputs": [
    {
     "data": {
      "text/plain": [
       "6912.092531175566"
      ]
     },
     "execution_count": 135,
     "metadata": {},
     "output_type": "execute_result"
    }
   ],
   "source": [
    "prima_inicial2 = sum(benefits*discount_factors*kpx)/(sum(rho*discount_factors*kpx))\n",
    "prima_inicial2 "
   ]
  },
  {
   "cell_type": "code",
   "execution_count": 136,
   "id": "future-priority",
   "metadata": {},
   "outputs": [
    {
     "data": {
      "text/plain": [
       "0     6912.092531\n",
       "1     6912.092531\n",
       "2     6912.092531\n",
       "3     6912.092531\n",
       "4     6912.092531\n",
       "         ...     \n",
       "67       0.000000\n",
       "68       0.000000\n",
       "69       0.000000\n",
       "70       0.000000\n",
       "71       0.000000\n",
       "Length: 72, dtype: float64"
      ]
     },
     "execution_count": 136,
     "metadata": {},
     "output_type": "execute_result"
    }
   ],
   "source": [
    "# The annual premiums \n",
    "prima_inicial * rho"
   ]
  },
  {
   "cell_type": "code",
   "execution_count": 126,
   "id": "committed-cleanup",
   "metadata": {},
   "outputs": [
    {
     "data": {
      "text/plain": [
       "38.76660193475971"
      ]
     },
     "execution_count": 126,
     "metadata": {},
     "output_type": "execute_result"
    }
   ],
   "source": [
    " # Esperanza de vida reducida de (40)\n",
    "sum(kpx)-1"
   ]
  },
  {
   "cell_type": "code",
   "execution_count": 127,
   "id": "postal-mount",
   "metadata": {},
   "outputs": [
    {
     "data": {
      "text/plain": [
       "81930.20311867318"
      ]
     },
     "execution_count": 127,
     "metadata": {},
     "output_type": "execute_result"
    }
   ],
   "source": [
    "# EPV de los beneficios si vive hasta los 75\n",
    "sum(benefits[:36]*discount_factors[:36])"
   ]
  },
  {
   "cell_type": "code",
   "execution_count": 133,
   "id": "matched-church",
   "metadata": {},
   "outputs": [
    {
     "data": {
      "text/plain": [
       "177099.9393195888"
      ]
     },
     "execution_count": 133,
     "metadata": {},
     "output_type": "execute_result"
    }
   ],
   "source": [
    "# EPV de los beneficios si vive hasta los 95\n",
    "sum(benefits[:56]*discount_factors[:56])"
   ]
  },
  {
   "cell_type": "markdown",
   "id": "found-monaco",
   "metadata": {},
   "source": [
    "#### <span style='color:midnightblue'>  Edwin Fernandez - BLID\n",
    "<span style='color:midnightblue'> Python para Actuarios Vida  </span>\n",
    "***"
   ]
  }
 ],
 "metadata": {
  "kernelspec": {
   "display_name": "Python 3",
   "language": "python",
   "name": "python3"
  },
  "language_info": {
   "codemirror_mode": {
    "name": "ipython",
    "version": 3
   },
   "file_extension": ".py",
   "mimetype": "text/x-python",
   "name": "python",
   "nbconvert_exporter": "python",
   "pygments_lexer": "ipython3",
   "version": "3.8.5"
  }
 },
 "nbformat": 4,
 "nbformat_minor": 5
}
