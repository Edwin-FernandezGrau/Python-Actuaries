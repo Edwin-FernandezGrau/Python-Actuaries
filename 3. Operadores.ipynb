{
 "cells": [
  {
   "cell_type": "markdown",
   "id": "prepared-ethnic",
   "metadata": {},
   "source": [
    "# 3. Operadores\n",
    "Los operadores son símbolos reservados por el propio lenguaje que se utilizan para llevar a cabo operaciones sobre uno, dos o más elementos.\n",
    "\n",
    "Entraremos más en detalle sobre los distintos tipos de operadores disponibles en Python:\n",
    "\n",
    "- **3.1. Operadores aritméticos**\n",
    "- **3.2. Operadores lógicos o booleanos**\n",
    "- **3.3. Operadores de comparación**\n",
    "- **3.4. Operadores de asignación**\n",
    "- **3.5. Operadores de pertenencia**\n",
    "- **3.6. Operadores de identidad**\n",
    "\n",
    "\n"
   ]
  },
  {
   "cell_type": "markdown",
   "id": "growing-series",
   "metadata": {},
   "source": [
    "### 3.1. Operadores aritméticos\n",
    "\n",
    "Permiten realizar las diferentes operaciones aritméticas del álgebra: suma, resta, producto, división… Estos operadores Python son de los más utilizados. El listado completo de operaciones es el siguiente:"
   ]
  },
  {
   "cell_type": "code",
   "execution_count": 2,
   "id": "bacterial-senegal",
   "metadata": {},
   "outputs": [
    {
     "name": "stdout",
     "output_type": "stream",
     "text": [
      "9\n",
      "5\n",
      "14\n",
      "3.5\n",
      "1\n",
      "3\n"
     ]
    },
    {
     "data": {
      "text/plain": [
       "49"
      ]
     },
     "execution_count": 2,
     "metadata": {},
     "output_type": "execute_result"
    }
   ],
   "source": [
    "x = 7\n",
    "y = 2\n",
    "\n",
    "\n",
    "print(x + y)  # Suma\n",
    "print(x - y)  # Resta\n",
    "print(x * y)  # Producto\n",
    "print(x / y)  # División\n",
    "print(x % y)  # Resto\n",
    "print(x // y)  # Cociente\n",
    "x ** y  # Potencia\n"
   ]
  },
  {
   "cell_type": "markdown",
   "id": "filled-technician",
   "metadata": {},
   "source": [
    "Podemos incluir el operador de concatenación de cadenas de caracteres:\n",
    "Una de las operaciones más básicas cuando se trabaja con cadenas de caracteres es la concatenación.  \n",
    "Esto consiste en unir dos cadenas en una sola, siendo el resultado un nuevo string.\n",
    "\n",
    "La forma más simple de concatenar dos cadenas en Python es utilizando el operador de concatenación **+** :"
   ]
  },
  {
   "cell_type": "code",
   "execution_count": 3,
   "id": "painful-millennium",
   "metadata": {},
   "outputs": [
    {
     "name": "stdout",
     "output_type": "stream",
     "text": [
      "Clase de Operadores\n"
     ]
    }
   ],
   "source": [
    "var1 = 'Clase de'\n",
    "var2 = 'Operadores'\n",
    "var_total = var1  + ' ' + var2  # concatenamos 3 strings\n",
    "print(var_total)\n"
   ]
  },
  {
   "cell_type": "markdown",
   "id": "dried-lincoln",
   "metadata": {},
   "source": [
    "### 3.2. Operadores lógicos o booleanos\n",
    "\n",
    "A la hora de operar con valores booleanos, tenemos a nuestra disposición los operadores **and**, **or** y **not**.  \n",
    "\n",
    "**IMPORTANTE**:Las operaciones **and**, **or** y **not** realmente no devuelven **True** o **False**, sino que devuelven **uno de los operandos** como veremos en el cuadro de abajo.\n",
    "\n",
    "|Operación | Resultado | Descripción |\n",
    "| :---: | :---: | :---: |\n",
    "| **a** or **b** | Si **a** se evalúa falso, entonces devuelve **b**, si no devuelve **a** | Solo se evalúa el segundo operando si el primero es falso |\n",
    "| **a** and **b** | Si a se evalúa falso, entonces devuelve **a**, si no devuelve **b** | Solo se evalúa el segundo operando si el primero es verdadero |\n",
    "| not **a** | Si **a** se evalúa falso, entonces devuelve **True**, si no devuelve **False** | Tiene menos prioridad que otros operadores no booleanos |\n"
   ]
  },
  {
   "cell_type": "code",
   "execution_count": 19,
   "id": "accompanied-conflict",
   "metadata": {
    "scrolled": true
   },
   "outputs": [
    {
     "name": "stdout",
     "output_type": "stream",
     "text": [
      "True\n",
      "False\n",
      "False\n",
      "------------\n",
      "4\n",
      "10\n",
      "False\n",
      "True\n"
     ]
    }
   ],
   "source": [
    "x = True\n",
    "y = False\n",
    "\n",
    "print(x or y)\n",
    "print(x and y)\n",
    "print(not x)\n",
    "print(\"------------\")\n",
    "\n",
    "x = 4  # cero equivale a False\n",
    "y = 10\n",
    "\n",
    "print(x or y)\n",
    "print(x and y)\n",
    "\n",
    "print(not x)\n",
    "print(not(not x))"
   ]
  },
  {
   "cell_type": "markdown",
   "id": "understood-pottery",
   "metadata": {},
   "source": [
    "### 3.3. Operadores de comparación\n",
    "\n",
    "Los operadores de comparación se utilizan, como su nombre indica, para comparar dos o más valores. El resultado de estos operadores siempre es **True** o **False**.\n",
    "\n",
    "|Operación | Descripción |\n",
    "| :---: | :---: |\n",
    "| > | **Mayor que**. True si el operando de la izquierda es estrictamente mayor que el de la derecha; False en caso contrario.| \n",
    "| >= | **Mayor o igual que**. True si el operando de la izquierda es mayor o igual que el de la derecha; False en caso contrario. | \n",
    "| < | **Menor que**. True si el operando de la izquierda es estrictamente menor que el de la derecha; False en caso contrario. | \n",
    "| <= | \t**Menor o igual que**. True si el operando de la izquierda es menor o igual que el de la derecha; False en caso contrario. | \n",
    "| == | \t**Igual**. True si el operando de la izquierda es igual que el de la derecha; False en caso contrario. | \n",
    "| != | \t**Distinto**. True si los operandos son distintos; False en caso contrario. | "
   ]
  },
  {
   "cell_type": "code",
   "execution_count": 4,
   "id": "young-participation",
   "metadata": {},
   "outputs": [
    {
     "name": "stdout",
     "output_type": "stream",
     "text": [
      "False\n",
      "True\n",
      "False\n",
      "True\n"
     ]
    }
   ],
   "source": [
    "x = 90\n",
    "y = 15\n",
    "print(x < y)\n",
    "print(x > y)\n",
    "print(x == y)\n",
    "print(x != y)\n"
   ]
  },
  {
   "cell_type": "markdown",
   "id": "affecting-rocket",
   "metadata": {},
   "source": [
    "Los operadores de comparación se pueden concatenar. Ejemplo:"
   ]
  },
  {
   "cell_type": "code",
   "execution_count": 5,
   "id": "later-configuration",
   "metadata": {},
   "outputs": [
    {
     "name": "stdout",
     "output_type": "stream",
     "text": [
      "True\n",
      "True\n"
     ]
    }
   ],
   "source": [
    "# Las comparaciones siguientes son idénticas\n",
    "x = 9\n",
    "\n",
    "print(1 < x and x < 20)\n",
    "print(1 < x < 20)\n"
   ]
  },
  {
   "cell_type": "markdown",
   "id": "relevant-laundry",
   "metadata": {},
   "source": [
    "### 3.4. Operadores  de asignación\n",
    "\n",
    "El operador de asignación se utiliza para asignar un valor a una variable, este operador es el signo **=**.\n",
    "\n",
    "Además del operador de asignación, existen otros **operadores de asignación compuestos** que realizan una operación básica sobre la variable a la que se le asigna el valor.\n",
    "\n",
    "Por ejemplo,**x += 1 es lo mismo que x = x + 1**. Los operadores compuestos realizan la operación que hay antes del signo igual, tomando como operandos la propia variable y el valor a la derecha del signo igual.\n",
    "\n",
    "A continuación, aparece la lista de todos los operadores de asignación compuestos:\n",
    "\n",
    "|Operación | Ejemplo | Equivalencia |\n",
    "| :---: | :---: | :---: |\n",
    "| += | x += 3 | x = x + 3  | \n",
    "| -= | x -= 3 | x = x - 3  |\n",
    "|  * = | x * = 3 | x = x * 3  |\n",
    "|  /= | \tx /= 2 | \tx = x / 2 | \n",
    "| %= | \tx %= 2 |\tx = x % 2 |\n",
    "| //= |\tx //= 2 |\tx = x // 2 |\n",
    "| ** =\t| x ** = 2 |\tx = x ** 2 |\n"
   ]
  },
  {
   "cell_type": "code",
   "execution_count": 52,
   "id": "comprehensive-shoulder",
   "metadata": {},
   "outputs": [
    {
     "name": "stdout",
     "output_type": "stream",
     "text": [
      "5\n",
      "-1\n",
      "6\n",
      "8\n",
      "2.3333333333333335\n",
      "2\n",
      "1\n"
     ]
    }
   ],
   "source": [
    "x = 2\n",
    "x += 3  \n",
    "print(x)\n",
    "\n",
    "x = 2\n",
    "x -= 3\n",
    "print(x)\n",
    "\n",
    "x = 2\n",
    "x *= 3\n",
    "print(x)\n",
    "\n",
    "x = 2\n",
    "x **=  3\n",
    "print(x)\n",
    "\n",
    "\n",
    "x = 7\n",
    "x /= 3\n",
    "print(x)\n",
    "\n",
    "x = 7\n",
    "x //= 3\n",
    "print(x)\n",
    "\n",
    "x = 7\n",
    "x %= 3\n",
    "print(x)"
   ]
  },
  {
   "cell_type": "markdown",
   "id": "civil-interstate",
   "metadata": {},
   "source": [
    "### 3.4. Operadores  de permanencia\n",
    "\n",
    "Los operadores de pertenencia se utilizan para comprobar si un valor o variable se encuentran en una secuencia (list, tuple, dict, set o str), son operadores muy utilizados\n",
    "\n",
    "|Operación | Descripción |\n",
    "| :---: | :---: | \n",
    "| in | Devuelve **True** si el valor se encuentra en una secuencia; **False** en caso contrario. | \n",
    "| not in | Devuelve **True** si el valor no se encuentra en una secuencia; **False** en caso contrario. | \n",
    "\n"
   ]
  },
  {
   "cell_type": "code",
   "execution_count": 55,
   "id": "affected-antique",
   "metadata": {},
   "outputs": [
    {
     "name": "stdout",
     "output_type": "stream",
     "text": [
      "False\n",
      "True\n",
      "True\n"
     ]
    }
   ],
   "source": [
    "lista = [1, 3, 2, 7, 9, 8, 6]\n",
    "\n",
    "print(4 in lista)\n",
    "print(3 in lista)\n",
    "print(4 not in lista)\n"
   ]
  },
  {
   "cell_type": "markdown",
   "id": "successful-internet",
   "metadata": {},
   "source": [
    "### 3.4. Operadores  de identidad\n",
    "\n",
    "Por último, los operadores de identidad se utilizan para comprobar si dos variables son, o no, el mismo **objeto**.\n",
    "\n",
    "|Operación | Descripción |\n",
    "| :---: | :---: | \n",
    "| is | Devuelve **True** si ambos operandos hacen referencia al mismo objeto; **False** en caso contrario | \n",
    "| is not | Devuelve **True** si ambos operandos no hacen referencia al mismo objeto; **False** en caso contrario. | \n",
    "\n",
    "\n",
    "\t.\n",
    "\t\n"
   ]
  },
  {
   "cell_type": "code",
   "execution_count": 67,
   "id": "executed-consumer",
   "metadata": {},
   "outputs": [
    {
     "name": "stdout",
     "output_type": "stream",
     "text": [
      "False\n",
      "False\n",
      "----------------\n",
      "False\n",
      "False\n",
      "----------------\n",
      "True\n"
     ]
    },
    {
     "name": "stderr",
     "output_type": "stream",
     "text": [
      "<>:9: SyntaxWarning: \"is\" with a literal. Did you mean \"==\"?\n",
      "<>:9: SyntaxWarning: \"is\" with a literal. Did you mean \"==\"?\n",
      "<ipython-input-67-f18d0af9e2d2>:9: SyntaxWarning: \"is\" with a literal. Did you mean \"==\"?\n",
      "  print(x is 5) ## sugiere utilizar ==\n"
     ]
    }
   ],
   "source": [
    "x = 3\n",
    "y = 2\n",
    "z = 3\n",
    "lista = [1, 5]\n",
    "\n",
    "print(x is lista)\n",
    "print(x is y)\n",
    "print(\"----------------\")\n",
    "print(x is 5) ## sugiere utilizar ==\n",
    "print(x == 5)\n",
    "print(\"----------------\")\n",
    "print(x is z)"
   ]
  },
  {
   "cell_type": "markdown",
   "id": "complicated-international",
   "metadata": {},
   "source": [
    "Al igual que ocurre en las matemáticas, los operadores en Python tienen un orden de prioridad.  \n",
    "Este orden es el siguiente, de menos prioritario a más prioritario: asignación; operadores booleanos; operadores de comparación, identidad y pertenencia; finalmente los aritméticos (con el mismo orden de prioridad que en las matemáticas).\n",
    "\n",
    "Este orden de prioridad se puede alterar con el uso de los paréntesis ():"
   ]
  },
  {
   "cell_type": "code",
   "execution_count": 68,
   "id": "solar-logging",
   "metadata": {},
   "outputs": [
    {
     "name": "stdout",
     "output_type": "stream",
     "text": [
      "11\n",
      "16\n"
     ]
    }
   ],
   "source": [
    "x = 5\n",
    "y = 2\n",
    "z = x + 3 * y  # El producto tiene prioridad sobre la suma\n",
    "print(z)\n",
    "z = (x + 3) * y  # Los paréntesis tienen prioridad\n",
    "print(z)\n"
   ]
  },
  {
   "cell_type": "markdown",
   "id": "settled-uganda",
   "metadata": {},
   "source": [
    "#### Edwin Fernandez - BLID\n",
    "Python para Actuarios Vida"
   ]
  }
 ],
 "metadata": {
  "kernelspec": {
   "display_name": "Python 3",
   "language": "python",
   "name": "python3"
  },
  "language_info": {
   "codemirror_mode": {
    "name": "ipython",
    "version": 3
   },
   "file_extension": ".py",
   "mimetype": "text/x-python",
   "name": "python",
   "nbconvert_exporter": "python",
   "pygments_lexer": "ipython3",
   "version": "3.8.5"
  }
 },
 "nbformat": 4,
 "nbformat_minor": 5
}
